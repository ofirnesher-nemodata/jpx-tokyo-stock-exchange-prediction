{
 "cells": [
  {
   "cell_type": "markdown",
   "metadata": {
    "pycharm": {
     "name": "#%% md\n"
    }
   },
   "source": [
    "# Details"
   ]
  },
  {
   "cell_type": "markdown",
   "metadata": {
    "pycharm": {
     "name": "#%% md\n"
    },
    "tags": []
   },
   "source": [
    "## Folders"
   ]
  },
  {
   "cell_type": "markdown",
   "metadata": {},
   "source": [
    "**data_specifications/**: Definitions for individual columns.\n",
    "\n",
    "**jpx_tokyo_market_prediction/**: Files that enable the API. Expect the API to deliver all rows in under five minutes and to reserve less than 0.5 GB of memory.\n",
    "\n",
    "Copies of data files exist in multiple folders that cover different time windows and serve different purposes.\n",
    "\n",
    "**train_files/**: Data folder covering the main training period. There are 5 csv data in train_files\n",
    "\n",
    "**supplemental_files/**: Data folder containing a dynamic window of supplemental training data. This will be updated with new data during the main phase of the competition in early May, early June, and roughly a week before the submissions are locked.\n",
    "\n",
    "**example_test_files/**: Data folder covering the public test period. Intended to facilitate offline testing. Includes the same columns delivered by the API (ie no Target column). You can calculate the Target column from the Close column; it's the return from buying a stock the next day and selling the day after that. This folder also includes an example of the sample submission file that will be delivered by the API."
   ]
  },
  {
   "cell_type": "markdown",
   "metadata": {
    "pycharm": {
     "name": "#%% md\n"
    },
    "tags": []
   },
   "source": [
    "## Files"
   ]
  },
  {
   "cell_type": "markdown",
   "metadata": {},
   "source": [
    "**stock_prices.csv**: The core file of interest. Includes the daily closing price for each stock and the target column.\n",
    "- RowId: Unique ID of price records, the combination of Date and SecuritiesCode.\n",
    "- Date: Trade date.\n",
    "- SecuritiesCode: Local securities code.\n",
    "- Open: First traded price on a day.\n",
    "- High: Highest traded price on a day.\n",
    "- Low: Lowest traded price on a day.\n",
    "- Close: Last traded price on a day.\n",
    "- Volume: Number of traded stocks on a day.\n",
    "- AdjustmentFactor: Used to calculate theoretical price/volume when split/reverse-split happens (NOT including dividend/allotment of shares).\n",
    "- ExpectedDividend: Expected dividend value for ex-right date. This value is recorded 2 business days before ex-dividend date.\n",
    "- SupervisionFlag: Flag of securities under supervision and securities to be delisted, for more information, please see here.\n",
    "- Target: Change ratio of adjusted closing price between t+2 and t+1 where t+0 is trade date.\n",
    "\n",
    "**secondary_stock_prices.csv**: The core dataset contains on the 2,000 most commonly traded equities but many less liquid securities are also traded on the Tokyo market. This file contains data for those securities, which aren't scored but may be of interest for assessing the market as a whole.\n",
    "\n",
    "**options.csv**: Data on the status of a variety of options based on the broader market. Many options include implicit predictions of the future price of the stock market and so may be of interest even though the options are not scored directly.\n",
    "\n",
    "**trades.csv**: Aggregated summary of trading volumes from the previous business week.\n",
    "\n",
    "**financials.csv**: Results from quarterly earnings reports.\n",
    "\n",
    "**stock_list.csv**: Mapping between the SecuritiesCode and company names, plus general information about which industry the company is in."
   ]
  },
  {
   "cell_type": "markdown",
   "metadata": {
    "jp-MarkdownHeadingCollapsed": true,
    "pycharm": {
     "name": "#%% md\n"
    },
    "tags": []
   },
   "source": [
    "# Imports"
   ]
  },
  {
   "cell_type": "code",
   "execution_count": 1,
   "metadata": {
    "collapsed": false,
    "jupyter": {
     "outputs_hidden": false
    },
    "pycharm": {
     "name": "#%%\n"
    }
   },
   "outputs": [],
   "source": [
    "import pandas as pd\n",
    "import numpy as np\n",
    "import matplotlib.pyplot as plt\n",
    "import seaborn as sns\n",
    "import plotly.express as px\n",
    "\n",
    "# local file\n",
    "import functions"
   ]
  },
  {
   "cell_type": "markdown",
   "metadata": {
    "pycharm": {
     "name": "#%% md\n"
    },
    "tags": []
   },
   "source": [
    "# Load data"
   ]
  },
  {
   "cell_type": "markdown",
   "metadata": {
    "pycharm": {
     "name": "#%% md\n"
    }
   },
   "source": [
    "Let's start with sample_submission to see what to expect in the competition"
   ]
  },
  {
   "cell_type": "code",
   "execution_count": 2,
   "metadata": {
    "collapsed": true,
    "jupyter": {
     "outputs_hidden": true
    },
    "pycharm": {
     "name": "#%%\n"
    },
    "tags": []
   },
   "outputs": [
    {
     "data": {
      "text/html": [
       "<div>\n",
       "<style scoped>\n",
       "    .dataframe tbody tr th:only-of-type {\n",
       "        vertical-align: middle;\n",
       "    }\n",
       "\n",
       "    .dataframe tbody tr th {\n",
       "        vertical-align: top;\n",
       "    }\n",
       "\n",
       "    .dataframe thead th {\n",
       "        text-align: right;\n",
       "    }\n",
       "</style>\n",
       "<table border=\"1\" class=\"dataframe\">\n",
       "  <thead>\n",
       "    <tr style=\"text-align: right;\">\n",
       "      <th></th>\n",
       "      <th>Date</th>\n",
       "      <th>SecuritiesCode</th>\n",
       "      <th>Rank</th>\n",
       "    </tr>\n",
       "  </thead>\n",
       "  <tbody>\n",
       "    <tr>\n",
       "      <th>0</th>\n",
       "      <td>2021-12-06</td>\n",
       "      <td>1301</td>\n",
       "      <td>0</td>\n",
       "    </tr>\n",
       "    <tr>\n",
       "      <th>1</th>\n",
       "      <td>2021-12-06</td>\n",
       "      <td>1332</td>\n",
       "      <td>1</td>\n",
       "    </tr>\n",
       "    <tr>\n",
       "      <th>2</th>\n",
       "      <td>2021-12-06</td>\n",
       "      <td>1333</td>\n",
       "      <td>2</td>\n",
       "    </tr>\n",
       "    <tr>\n",
       "      <th>3</th>\n",
       "      <td>2021-12-06</td>\n",
       "      <td>1375</td>\n",
       "      <td>3</td>\n",
       "    </tr>\n",
       "    <tr>\n",
       "      <th>4</th>\n",
       "      <td>2021-12-06</td>\n",
       "      <td>1376</td>\n",
       "      <td>4</td>\n",
       "    </tr>\n",
       "    <tr>\n",
       "      <th>...</th>\n",
       "      <td>...</td>\n",
       "      <td>...</td>\n",
       "      <td>...</td>\n",
       "    </tr>\n",
       "    <tr>\n",
       "      <th>111995</th>\n",
       "      <td>2022-02-28</td>\n",
       "      <td>9990</td>\n",
       "      <td>1995</td>\n",
       "    </tr>\n",
       "    <tr>\n",
       "      <th>111996</th>\n",
       "      <td>2022-02-28</td>\n",
       "      <td>9991</td>\n",
       "      <td>1996</td>\n",
       "    </tr>\n",
       "    <tr>\n",
       "      <th>111997</th>\n",
       "      <td>2022-02-28</td>\n",
       "      <td>9993</td>\n",
       "      <td>1997</td>\n",
       "    </tr>\n",
       "    <tr>\n",
       "      <th>111998</th>\n",
       "      <td>2022-02-28</td>\n",
       "      <td>9994</td>\n",
       "      <td>1998</td>\n",
       "    </tr>\n",
       "    <tr>\n",
       "      <th>111999</th>\n",
       "      <td>2022-02-28</td>\n",
       "      <td>9997</td>\n",
       "      <td>1999</td>\n",
       "    </tr>\n",
       "  </tbody>\n",
       "</table>\n",
       "<p>112000 rows × 3 columns</p>\n",
       "</div>"
      ],
      "text/plain": [
       "              Date  SecuritiesCode  Rank\n",
       "0       2021-12-06            1301     0\n",
       "1       2021-12-06            1332     1\n",
       "2       2021-12-06            1333     2\n",
       "3       2021-12-06            1375     3\n",
       "4       2021-12-06            1376     4\n",
       "...            ...             ...   ...\n",
       "111995  2022-02-28            9990  1995\n",
       "111996  2022-02-28            9991  1996\n",
       "111997  2022-02-28            9993  1997\n",
       "111998  2022-02-28            9994  1998\n",
       "111999  2022-02-28            9997  1999\n",
       "\n",
       "[112000 rows x 3 columns]"
      ]
     },
     "execution_count": 2,
     "metadata": {},
     "output_type": "execute_result"
    }
   ],
   "source": [
    "sample = pd.read_csv(\"jpx_tokyo_market_prediction/example_test_files/sample_submission.csv\")\n",
    "sample"
   ]
  },
  {
   "cell_type": "code",
   "execution_count": 3,
   "metadata": {
    "collapsed": true,
    "jupyter": {
     "outputs_hidden": true
    },
    "pycharm": {
     "name": "#%%\n"
    },
    "tags": []
   },
   "outputs": [
    {
     "data": {
      "text/plain": [
       "2021-12-06    2000\n",
       "2021-12-07    2000\n",
       "2022-01-20    2000\n",
       "2022-01-21    2000\n",
       "2022-01-24    2000\n",
       "2022-01-25    2000\n",
       "2022-01-26    2000\n",
       "2022-01-27    2000\n",
       "2022-01-28    2000\n",
       "2022-01-31    2000\n",
       "2022-02-01    2000\n",
       "2022-02-02    2000\n",
       "2022-02-03    2000\n",
       "2022-02-04    2000\n",
       "2022-02-07    2000\n",
       "2022-02-08    2000\n",
       "2022-02-09    2000\n",
       "2022-02-10    2000\n",
       "2022-02-14    2000\n",
       "2022-02-15    2000\n",
       "2022-02-16    2000\n",
       "2022-02-17    2000\n",
       "2022-02-18    2000\n",
       "2022-02-21    2000\n",
       "2022-02-22    2000\n",
       "2022-02-24    2000\n",
       "2022-02-25    2000\n",
       "2022-01-19    2000\n",
       "2022-01-18    2000\n",
       "2022-01-17    2000\n",
       "2021-12-23    2000\n",
       "2021-12-08    2000\n",
       "2021-12-09    2000\n",
       "2021-12-10    2000\n",
       "2021-12-13    2000\n",
       "2021-12-14    2000\n",
       "2021-12-15    2000\n",
       "2021-12-16    2000\n",
       "2021-12-17    2000\n",
       "2021-12-20    2000\n",
       "2021-12-21    2000\n",
       "2021-12-22    2000\n",
       "2021-12-24    2000\n",
       "2022-01-14    2000\n",
       "2021-12-27    2000\n",
       "2021-12-28    2000\n",
       "2021-12-29    2000\n",
       "2021-12-30    2000\n",
       "2022-01-04    2000\n",
       "2022-01-05    2000\n",
       "2022-01-06    2000\n",
       "2022-01-07    2000\n",
       "2022-01-11    2000\n",
       "2022-01-12    2000\n",
       "2022-01-13    2000\n",
       "2022-02-28    2000\n",
       "Name: Date, dtype: int64"
      ]
     },
     "execution_count": 3,
     "metadata": {},
     "output_type": "execute_result"
    }
   ],
   "source": [
    "sample['Date'].value_counts()"
   ]
  },
  {
   "cell_type": "code",
   "execution_count": 4,
   "metadata": {
    "collapsed": false,
    "jupyter": {
     "outputs_hidden": false
    },
    "pycharm": {
     "name": "#%%\n"
    }
   },
   "outputs": [
    {
     "data": {
      "text/plain": [
       "Date                56\n",
       "SecuritiesCode    2000\n",
       "Rank              2000\n",
       "dtype: int64"
      ]
     },
     "execution_count": 4,
     "metadata": {},
     "output_type": "execute_result"
    }
   ],
   "source": [
    "sample.nunique()"
   ]
  },
  {
   "cell_type": "markdown",
   "metadata": {},
   "source": [
    "## Read all DataFrames"
   ]
  },
  {
   "cell_type": "code",
   "execution_count": 5,
   "metadata": {
    "collapsed": false,
    "jupyter": {
     "outputs_hidden": false
    },
    "pycharm": {
     "name": "#%%\n"
    }
   },
   "outputs": [
    {
     "name": "stderr",
     "output_type": "stream",
     "text": [
      "C:\\Users\\Asus\\AppData\\Local\\Temp\\ipykernel_4408\\3134442176.py:2: DtypeWarning: Columns (14,15,16,17,18,19,42,44) have mixed types. Specify dtype option on import or set low_memory=False.\n",
      "  financials = pd.read_csv('jpx_tokyo_market_prediction/train_files/financials.csv')\n",
      "C:\\Users\\Asus\\AppData\\Local\\Temp\\ipykernel_4408\\3134442176.py:3: DtypeWarning: Columns (7,8,9,10) have mixed types. Specify dtype option on import or set low_memory=False.\n",
      "  options = pd.read_csv('jpx_tokyo_market_prediction/train_files/options.csv')\n"
     ]
    }
   ],
   "source": [
    "stock_list = pd.read_csv('jpx_tokyo_market_prediction/stock_list.csv')\n",
    "financials = pd.read_csv('jpx_tokyo_market_prediction/train_files/financials.csv')\n",
    "options = pd.read_csv('jpx_tokyo_market_prediction/train_files/options.csv')\n",
    "stock_prices = pd.read_csv('jpx_tokyo_market_prediction/train_files/stock_prices.csv')\n",
    "sec_stock_prices = pd.read_csv('jpx_tokyo_market_prediction/train_files/secondary_stock_prices.csv')\n",
    "trades = pd.read_csv('jpx_tokyo_market_prediction/train_files/trades.csv')"
   ]
  },
  {
   "cell_type": "code",
   "execution_count": 6,
   "metadata": {
    "collapsed": false,
    "jupyter": {
     "outputs_hidden": false
    },
    "pycharm": {
     "name": "#%%\n"
    }
   },
   "outputs": [
    {
     "data": {
      "text/html": [
       "<div>\n",
       "<style scoped>\n",
       "    .dataframe tbody tr th:only-of-type {\n",
       "        vertical-align: middle;\n",
       "    }\n",
       "\n",
       "    .dataframe tbody tr th {\n",
       "        vertical-align: top;\n",
       "    }\n",
       "\n",
       "    .dataframe thead th {\n",
       "        text-align: right;\n",
       "    }\n",
       "</style>\n",
       "<table border=\"1\" class=\"dataframe\">\n",
       "  <thead>\n",
       "    <tr style=\"text-align: right;\">\n",
       "      <th></th>\n",
       "      <th>DisclosureNumber</th>\n",
       "      <th>DateCode</th>\n",
       "      <th>Date</th>\n",
       "      <th>SecuritiesCode</th>\n",
       "      <th>DisclosedDate</th>\n",
       "      <th>DisclosedTime</th>\n",
       "      <th>DisclosedUnixTime</th>\n",
       "      <th>TypeOfDocument</th>\n",
       "      <th>CurrentPeriodEndDate</th>\n",
       "      <th>TypeOfCurrentPeriod</th>\n",
       "      <th>...</th>\n",
       "      <th>ForecastEarningsPerShare</th>\n",
       "      <th>ApplyingOfSpecificAccountingOfTheQuarterlyFinancialStatements</th>\n",
       "      <th>MaterialChangesInSubsidiaries</th>\n",
       "      <th>ChangesBasedOnRevisionsOfAccountingStandard</th>\n",
       "      <th>ChangesOtherThanOnesBasedOnRevisionsOfAccountingStandard</th>\n",
       "      <th>ChangesInAccountingEstimates</th>\n",
       "      <th>RetrospectiveRestatement</th>\n",
       "      <th>NumberOfIssuedAndOutstandingSharesAtTheEndOfFiscalYearIncludingTreasuryStock</th>\n",
       "      <th>NumberOfTreasuryStockAtTheEndOfFiscalYear</th>\n",
       "      <th>AverageNumberOfShares</th>\n",
       "    </tr>\n",
       "  </thead>\n",
       "  <tbody>\n",
       "    <tr>\n",
       "      <th>0</th>\n",
       "      <td>2.016121e+13</td>\n",
       "      <td>20170104_2753</td>\n",
       "      <td>2017-01-04</td>\n",
       "      <td>2753.0</td>\n",
       "      <td>2017-01-04</td>\n",
       "      <td>07:30:00</td>\n",
       "      <td>1.483483e+09</td>\n",
       "      <td>3QFinancialStatements_Consolidated_JP</td>\n",
       "      <td>2016-12-31</td>\n",
       "      <td>3Q</td>\n",
       "      <td>...</td>\n",
       "      <td>319.76</td>\n",
       "      <td>NaN</td>\n",
       "      <td>False</td>\n",
       "      <td>True</td>\n",
       "      <td>False</td>\n",
       "      <td>False</td>\n",
       "      <td>False</td>\n",
       "      <td>6848800.0</td>\n",
       "      <td>－</td>\n",
       "      <td>6848800.0</td>\n",
       "    </tr>\n",
       "    <tr>\n",
       "      <th>1</th>\n",
       "      <td>2.017010e+13</td>\n",
       "      <td>20170104_3353</td>\n",
       "      <td>2017-01-04</td>\n",
       "      <td>3353.0</td>\n",
       "      <td>2017-01-04</td>\n",
       "      <td>15:00:00</td>\n",
       "      <td>1.483510e+09</td>\n",
       "      <td>3QFinancialStatements_Consolidated_JP</td>\n",
       "      <td>2016-11-30</td>\n",
       "      <td>3Q</td>\n",
       "      <td>...</td>\n",
       "      <td>485.36</td>\n",
       "      <td>NaN</td>\n",
       "      <td>False</td>\n",
       "      <td>True</td>\n",
       "      <td>False</td>\n",
       "      <td>False</td>\n",
       "      <td>False</td>\n",
       "      <td>2035000.0</td>\n",
       "      <td>118917</td>\n",
       "      <td>1916083.0</td>\n",
       "    </tr>\n",
       "    <tr>\n",
       "      <th>2</th>\n",
       "      <td>2.016123e+13</td>\n",
       "      <td>20170104_4575</td>\n",
       "      <td>2017-01-04</td>\n",
       "      <td>4575.0</td>\n",
       "      <td>2017-01-04</td>\n",
       "      <td>12:00:00</td>\n",
       "      <td>1.483499e+09</td>\n",
       "      <td>ForecastRevision</td>\n",
       "      <td>2016-12-31</td>\n",
       "      <td>2Q</td>\n",
       "      <td>...</td>\n",
       "      <td>-93.11</td>\n",
       "      <td>NaN</td>\n",
       "      <td>NaN</td>\n",
       "      <td>NaN</td>\n",
       "      <td>NaN</td>\n",
       "      <td>NaN</td>\n",
       "      <td>NaN</td>\n",
       "      <td>NaN</td>\n",
       "      <td>NaN</td>\n",
       "      <td>NaN</td>\n",
       "    </tr>\n",
       "    <tr>\n",
       "      <th>3</th>\n",
       "      <td>2.017010e+13</td>\n",
       "      <td>20170105_2659</td>\n",
       "      <td>2017-01-05</td>\n",
       "      <td>2659.0</td>\n",
       "      <td>2017-01-05</td>\n",
       "      <td>15:00:00</td>\n",
       "      <td>1.483596e+09</td>\n",
       "      <td>3QFinancialStatements_Consolidated_JP</td>\n",
       "      <td>2016-11-30</td>\n",
       "      <td>3Q</td>\n",
       "      <td>...</td>\n",
       "      <td>285.05</td>\n",
       "      <td>NaN</td>\n",
       "      <td>False</td>\n",
       "      <td>True</td>\n",
       "      <td>False</td>\n",
       "      <td>False</td>\n",
       "      <td>False</td>\n",
       "      <td>31981654.0</td>\n",
       "      <td>18257</td>\n",
       "      <td>31963405.0</td>\n",
       "    </tr>\n",
       "    <tr>\n",
       "      <th>4</th>\n",
       "      <td>2.017011e+13</td>\n",
       "      <td>20170105_3050</td>\n",
       "      <td>2017-01-05</td>\n",
       "      <td>3050.0</td>\n",
       "      <td>2017-01-05</td>\n",
       "      <td>15:30:00</td>\n",
       "      <td>1.483598e+09</td>\n",
       "      <td>ForecastRevision</td>\n",
       "      <td>2017-02-28</td>\n",
       "      <td>FY</td>\n",
       "      <td>...</td>\n",
       "      <td>NaN</td>\n",
       "      <td>NaN</td>\n",
       "      <td>NaN</td>\n",
       "      <td>NaN</td>\n",
       "      <td>NaN</td>\n",
       "      <td>NaN</td>\n",
       "      <td>NaN</td>\n",
       "      <td>NaN</td>\n",
       "      <td>NaN</td>\n",
       "      <td>NaN</td>\n",
       "    </tr>\n",
       "  </tbody>\n",
       "</table>\n",
       "<p>5 rows × 45 columns</p>\n",
       "</div>"
      ],
      "text/plain": [
       "   DisclosureNumber       DateCode        Date  SecuritiesCode DisclosedDate  \\\n",
       "0      2.016121e+13  20170104_2753  2017-01-04          2753.0    2017-01-04   \n",
       "1      2.017010e+13  20170104_3353  2017-01-04          3353.0    2017-01-04   \n",
       "2      2.016123e+13  20170104_4575  2017-01-04          4575.0    2017-01-04   \n",
       "3      2.017010e+13  20170105_2659  2017-01-05          2659.0    2017-01-05   \n",
       "4      2.017011e+13  20170105_3050  2017-01-05          3050.0    2017-01-05   \n",
       "\n",
       "  DisclosedTime  DisclosedUnixTime                         TypeOfDocument  \\\n",
       "0      07:30:00       1.483483e+09  3QFinancialStatements_Consolidated_JP   \n",
       "1      15:00:00       1.483510e+09  3QFinancialStatements_Consolidated_JP   \n",
       "2      12:00:00       1.483499e+09                       ForecastRevision   \n",
       "3      15:00:00       1.483596e+09  3QFinancialStatements_Consolidated_JP   \n",
       "4      15:30:00       1.483598e+09                       ForecastRevision   \n",
       "\n",
       "  CurrentPeriodEndDate TypeOfCurrentPeriod  ... ForecastEarningsPerShare  \\\n",
       "0           2016-12-31                  3Q  ...                   319.76   \n",
       "1           2016-11-30                  3Q  ...                   485.36   \n",
       "2           2016-12-31                  2Q  ...                   -93.11   \n",
       "3           2016-11-30                  3Q  ...                   285.05   \n",
       "4           2017-02-28                  FY  ...                      NaN   \n",
       "\n",
       "  ApplyingOfSpecificAccountingOfTheQuarterlyFinancialStatements  \\\n",
       "0                                                NaN              \n",
       "1                                                NaN              \n",
       "2                                                NaN              \n",
       "3                                                NaN              \n",
       "4                                                NaN              \n",
       "\n",
       "  MaterialChangesInSubsidiaries ChangesBasedOnRevisionsOfAccountingStandard  \\\n",
       "0                         False                                        True   \n",
       "1                         False                                        True   \n",
       "2                           NaN                                         NaN   \n",
       "3                         False                                        True   \n",
       "4                           NaN                                         NaN   \n",
       "\n",
       "  ChangesOtherThanOnesBasedOnRevisionsOfAccountingStandard  \\\n",
       "0                                              False         \n",
       "1                                              False         \n",
       "2                                                NaN         \n",
       "3                                              False         \n",
       "4                                                NaN         \n",
       "\n",
       "  ChangesInAccountingEstimates RetrospectiveRestatement  \\\n",
       "0                        False                    False   \n",
       "1                        False                    False   \n",
       "2                          NaN                      NaN   \n",
       "3                        False                    False   \n",
       "4                          NaN                      NaN   \n",
       "\n",
       "  NumberOfIssuedAndOutstandingSharesAtTheEndOfFiscalYearIncludingTreasuryStock  \\\n",
       "0                                          6848800.0                             \n",
       "1                                          2035000.0                             \n",
       "2                                                NaN                             \n",
       "3                                         31981654.0                             \n",
       "4                                                NaN                             \n",
       "\n",
       "  NumberOfTreasuryStockAtTheEndOfFiscalYear AverageNumberOfShares  \n",
       "0                                         －             6848800.0  \n",
       "1                                    118917             1916083.0  \n",
       "2                                       NaN                   NaN  \n",
       "3                                     18257            31963405.0  \n",
       "4                                       NaN                   NaN  \n",
       "\n",
       "[5 rows x 45 columns]"
      ]
     },
     "execution_count": 6,
     "metadata": {},
     "output_type": "execute_result"
    }
   ],
   "source": [
    "financials.head()"
   ]
  },
  {
   "cell_type": "code",
   "execution_count": 7,
   "metadata": {
    "collapsed": false,
    "jupyter": {
     "outputs_hidden": false
    },
    "pycharm": {
     "name": "#%%\n"
    }
   },
   "outputs": [
    {
     "name": "stdout",
     "output_type": "stream",
     "text": [
      "<class 'pandas.core.frame.DataFrame'>\n",
      "RangeIndex: 92956 entries, 0 to 92955\n",
      "Data columns (total 45 columns):\n",
      " #   Column                                                                        Non-Null Count  Dtype  \n",
      "---  ------                                                                        --------------  -----  \n",
      " 0   DisclosureNumber                                                              92954 non-null  float64\n",
      " 1   DateCode                                                                      92954 non-null  object \n",
      " 2   Date                                                                          92956 non-null  object \n",
      " 3   SecuritiesCode                                                                92954 non-null  float64\n",
      " 4   DisclosedDate                                                                 92954 non-null  object \n",
      " 5   DisclosedTime                                                                 92954 non-null  object \n",
      " 6   DisclosedUnixTime                                                             92954 non-null  float64\n",
      " 7   TypeOfDocument                                                                92954 non-null  object \n",
      " 8   CurrentPeriodEndDate                                                          92954 non-null  object \n",
      " 9   TypeOfCurrentPeriod                                                           92954 non-null  object \n",
      " 10  CurrentFiscalYearStartDate                                                    92954 non-null  object \n",
      " 11  CurrentFiscalYearEndDate                                                      92954 non-null  object \n",
      " 12  NetSales                                                                      75448 non-null  object \n",
      " 13  OperatingProfit                                                               73446 non-null  object \n",
      " 14  OrdinaryProfit                                                                75328 non-null  object \n",
      " 15  Profit                                                                        75380 non-null  object \n",
      " 16  EarningsPerShare                                                              74958 non-null  object \n",
      " 17  TotalAssets                                                                   75433 non-null  object \n",
      " 18  Equity                                                                        75431 non-null  object \n",
      " 19  EquityToAssetRatio                                                            74739 non-null  object \n",
      " 20  BookValuePerShare                                                             35773 non-null  object \n",
      " 21  ResultDividendPerShare1stQuarter                                              74380 non-null  object \n",
      " 22  ResultDividendPerShare2ndQuarter                                              55940 non-null  object \n",
      " 23  ResultDividendPerShare3rdQuarter                                              37677 non-null  object \n",
      " 24  ResultDividendPerShareFiscalYearEnd                                           19416 non-null  object \n",
      " 25  ResultDividendPerShareAnnual                                                  19415 non-null  object \n",
      " 26  ForecastDividendPerShare1stQuarter                                            19241 non-null  object \n",
      " 27  ForecastDividendPerShare2ndQuarter                                            42619 non-null  object \n",
      " 28  ForecastDividendPerShare3rdQuarter                                            60807 non-null  object \n",
      " 29  ForecastDividendPerShareFiscalYearEnd                                         79021 non-null  object \n",
      " 30  ForecastDividendPerShareAnnual                                                79022 non-null  object \n",
      " 31  ForecastNetSales                                                              82842 non-null  object \n",
      " 32  ForecastOperatingProfit                                                       81083 non-null  object \n",
      " 33  ForecastOrdinaryProfit                                                        82718 non-null  object \n",
      " 34  ForecastProfit                                                                83856 non-null  object \n",
      " 35  ForecastEarningsPerShare                                                      82842 non-null  object \n",
      " 36  ApplyingOfSpecificAccountingOfTheQuarterlyFinancialStatements                 7249 non-null   object \n",
      " 37  MaterialChangesInSubsidiaries                                                 64504 non-null  object \n",
      " 38  ChangesBasedOnRevisionsOfAccountingStandard                                   74895 non-null  object \n",
      " 39  ChangesOtherThanOnesBasedOnRevisionsOfAccountingStandard                      74895 non-null  object \n",
      " 40  ChangesInAccountingEstimates                                                  74126 non-null  object \n",
      " 41  RetrospectiveRestatement                                                      70396 non-null  object \n",
      " 42  NumberOfIssuedAndOutstandingSharesAtTheEndOfFiscalYearIncludingTreasuryStock  74918 non-null  object \n",
      " 43  NumberOfTreasuryStockAtTheEndOfFiscalYear                                     74918 non-null  object \n",
      " 44  AverageNumberOfShares                                                         74349 non-null  object \n",
      "dtypes: float64(3), object(42)\n",
      "memory usage: 31.9+ MB\n"
     ]
    }
   ],
   "source": [
    "financials.info()"
   ]
  },
  {
   "cell_type": "code",
   "execution_count": 8,
   "metadata": {
    "collapsed": false,
    "jupyter": {
     "outputs_hidden": false
    },
    "pycharm": {
     "name": "#%%\n"
    }
   },
   "outputs": [
    {
     "data": {
      "text/html": [
       "<div>\n",
       "<style scoped>\n",
       "    .dataframe tbody tr th:only-of-type {\n",
       "        vertical-align: middle;\n",
       "    }\n",
       "\n",
       "    .dataframe tbody tr th {\n",
       "        vertical-align: top;\n",
       "    }\n",
       "\n",
       "    .dataframe thead th {\n",
       "        text-align: right;\n",
       "    }\n",
       "</style>\n",
       "<table border=\"1\" class=\"dataframe\">\n",
       "  <thead>\n",
       "    <tr style=\"text-align: right;\">\n",
       "      <th></th>\n",
       "      <th>DateCode</th>\n",
       "      <th>Date</th>\n",
       "      <th>OptionsCode</th>\n",
       "      <th>WholeDayOpen</th>\n",
       "      <th>WholeDayHigh</th>\n",
       "      <th>WholeDayLow</th>\n",
       "      <th>WholeDayClose</th>\n",
       "      <th>NightSessionOpen</th>\n",
       "      <th>NightSessionHigh</th>\n",
       "      <th>NightSessionLow</th>\n",
       "      <th>...</th>\n",
       "      <th>Putcall</th>\n",
       "      <th>LastTradingDay</th>\n",
       "      <th>SpecialQuotationDay</th>\n",
       "      <th>SettlementPrice</th>\n",
       "      <th>TheoreticalPrice</th>\n",
       "      <th>BaseVolatility</th>\n",
       "      <th>ImpliedVolatility</th>\n",
       "      <th>InterestRate</th>\n",
       "      <th>DividendRate</th>\n",
       "      <th>Dividend</th>\n",
       "    </tr>\n",
       "  </thead>\n",
       "  <tbody>\n",
       "    <tr>\n",
       "      <th>0</th>\n",
       "      <td>20170104_132010018</td>\n",
       "      <td>2017-01-04</td>\n",
       "      <td>132010018</td>\n",
       "      <td>650.0</td>\n",
       "      <td>650.0</td>\n",
       "      <td>480.0</td>\n",
       "      <td>480.0</td>\n",
       "      <td>0.0000</td>\n",
       "      <td>0.0000</td>\n",
       "      <td>0.0000</td>\n",
       "      <td>...</td>\n",
       "      <td>1</td>\n",
       "      <td>20170112</td>\n",
       "      <td>20170113</td>\n",
       "      <td>480.0</td>\n",
       "      <td>478.4587</td>\n",
       "      <td>17.4736</td>\n",
       "      <td>17.5865</td>\n",
       "      <td>0.0091</td>\n",
       "      <td>0.0</td>\n",
       "      <td>0.0</td>\n",
       "    </tr>\n",
       "    <tr>\n",
       "      <th>1</th>\n",
       "      <td>20170104_132010118</td>\n",
       "      <td>2017-01-04</td>\n",
       "      <td>132010118</td>\n",
       "      <td>0.0</td>\n",
       "      <td>0.0</td>\n",
       "      <td>0.0</td>\n",
       "      <td>0.0</td>\n",
       "      <td>0.0000</td>\n",
       "      <td>0.0000</td>\n",
       "      <td>0.0000</td>\n",
       "      <td>...</td>\n",
       "      <td>1</td>\n",
       "      <td>20170112</td>\n",
       "      <td>20170113</td>\n",
       "      <td>575.0</td>\n",
       "      <td>571.1385</td>\n",
       "      <td>17.4736</td>\n",
       "      <td>16.5000</td>\n",
       "      <td>0.0091</td>\n",
       "      <td>0.0</td>\n",
       "      <td>0.0</td>\n",
       "    </tr>\n",
       "    <tr>\n",
       "      <th>2</th>\n",
       "      <td>20170104_132010218</td>\n",
       "      <td>2017-01-04</td>\n",
       "      <td>132010218</td>\n",
       "      <td>0.0</td>\n",
       "      <td>0.0</td>\n",
       "      <td>0.0</td>\n",
       "      <td>0.0</td>\n",
       "      <td>0.0000</td>\n",
       "      <td>0.0000</td>\n",
       "      <td>0.0000</td>\n",
       "      <td>...</td>\n",
       "      <td>1</td>\n",
       "      <td>20170112</td>\n",
       "      <td>20170113</td>\n",
       "      <td>680.0</td>\n",
       "      <td>677.3710</td>\n",
       "      <td>17.4736</td>\n",
       "      <td>15.8644</td>\n",
       "      <td>0.0091</td>\n",
       "      <td>0.0</td>\n",
       "      <td>0.0</td>\n",
       "    </tr>\n",
       "    <tr>\n",
       "      <th>3</th>\n",
       "      <td>20170104_132010318</td>\n",
       "      <td>2017-01-04</td>\n",
       "      <td>132010318</td>\n",
       "      <td>0.0</td>\n",
       "      <td>0.0</td>\n",
       "      <td>0.0</td>\n",
       "      <td>0.0</td>\n",
       "      <td>0.0000</td>\n",
       "      <td>0.0000</td>\n",
       "      <td>0.0000</td>\n",
       "      <td>...</td>\n",
       "      <td>1</td>\n",
       "      <td>20170112</td>\n",
       "      <td>20170113</td>\n",
       "      <td>795.0</td>\n",
       "      <td>791.0383</td>\n",
       "      <td>17.4736</td>\n",
       "      <td>15.2288</td>\n",
       "      <td>0.0091</td>\n",
       "      <td>0.0</td>\n",
       "      <td>0.0</td>\n",
       "    </tr>\n",
       "    <tr>\n",
       "      <th>4</th>\n",
       "      <td>20170104_132010518</td>\n",
       "      <td>2017-01-04</td>\n",
       "      <td>132010518</td>\n",
       "      <td>0.0</td>\n",
       "      <td>0.0</td>\n",
       "      <td>0.0</td>\n",
       "      <td>0.0</td>\n",
       "      <td>0.0000</td>\n",
       "      <td>0.0000</td>\n",
       "      <td>0.0000</td>\n",
       "      <td>...</td>\n",
       "      <td>1</td>\n",
       "      <td>20170112</td>\n",
       "      <td>20170113</td>\n",
       "      <td>910.0</td>\n",
       "      <td>909.9947</td>\n",
       "      <td>17.4736</td>\n",
       "      <td>14.5932</td>\n",
       "      <td>0.0091</td>\n",
       "      <td>0.0</td>\n",
       "      <td>0.0</td>\n",
       "    </tr>\n",
       "  </tbody>\n",
       "</table>\n",
       "<p>5 rows × 31 columns</p>\n",
       "</div>"
      ],
      "text/plain": [
       "             DateCode        Date  OptionsCode  WholeDayOpen  WholeDayHigh  \\\n",
       "0  20170104_132010018  2017-01-04    132010018         650.0         650.0   \n",
       "1  20170104_132010118  2017-01-04    132010118           0.0           0.0   \n",
       "2  20170104_132010218  2017-01-04    132010218           0.0           0.0   \n",
       "3  20170104_132010318  2017-01-04    132010318           0.0           0.0   \n",
       "4  20170104_132010518  2017-01-04    132010518           0.0           0.0   \n",
       "\n",
       "   WholeDayLow  WholeDayClose NightSessionOpen NightSessionHigh  \\\n",
       "0        480.0          480.0           0.0000           0.0000   \n",
       "1          0.0            0.0           0.0000           0.0000   \n",
       "2          0.0            0.0           0.0000           0.0000   \n",
       "3          0.0            0.0           0.0000           0.0000   \n",
       "4          0.0            0.0           0.0000           0.0000   \n",
       "\n",
       "  NightSessionLow  ... Putcall  LastTradingDay  SpecialQuotationDay  \\\n",
       "0          0.0000  ...       1        20170112             20170113   \n",
       "1          0.0000  ...       1        20170112             20170113   \n",
       "2          0.0000  ...       1        20170112             20170113   \n",
       "3          0.0000  ...       1        20170112             20170113   \n",
       "4          0.0000  ...       1        20170112             20170113   \n",
       "\n",
       "   SettlementPrice  TheoreticalPrice  BaseVolatility  ImpliedVolatility  \\\n",
       "0            480.0          478.4587         17.4736            17.5865   \n",
       "1            575.0          571.1385         17.4736            16.5000   \n",
       "2            680.0          677.3710         17.4736            15.8644   \n",
       "3            795.0          791.0383         17.4736            15.2288   \n",
       "4            910.0          909.9947         17.4736            14.5932   \n",
       "\n",
       "   InterestRate  DividendRate  Dividend  \n",
       "0        0.0091           0.0       0.0  \n",
       "1        0.0091           0.0       0.0  \n",
       "2        0.0091           0.0       0.0  \n",
       "3        0.0091           0.0       0.0  \n",
       "4        0.0091           0.0       0.0  \n",
       "\n",
       "[5 rows x 31 columns]"
      ]
     },
     "execution_count": 8,
     "metadata": {},
     "output_type": "execute_result"
    }
   ],
   "source": [
    "options.head()"
   ]
  },
  {
   "cell_type": "code",
   "execution_count": 9,
   "metadata": {
    "collapsed": false,
    "jupyter": {
     "outputs_hidden": false
    },
    "pycharm": {
     "name": "#%%\n"
    }
   },
   "outputs": [
    {
     "name": "stdout",
     "output_type": "stream",
     "text": [
      "<class 'pandas.core.frame.DataFrame'>\n",
      "RangeIndex: 3567694 entries, 0 to 3567693\n",
      "Data columns (total 31 columns):\n",
      " #   Column               Dtype  \n",
      "---  ------               -----  \n",
      " 0   DateCode             object \n",
      " 1   Date                 object \n",
      " 2   OptionsCode          int64  \n",
      " 3   WholeDayOpen         float64\n",
      " 4   WholeDayHigh         float64\n",
      " 5   WholeDayLow          float64\n",
      " 6   WholeDayClose        float64\n",
      " 7   NightSessionOpen     object \n",
      " 8   NightSessionHigh     object \n",
      " 9   NightSessionLow      object \n",
      " 10  NightSessionClose    object \n",
      " 11  DaySessionOpen       float64\n",
      " 12  DaySessionHigh       float64\n",
      " 13  DaySessionLow        float64\n",
      " 14  DaySessionClose      float64\n",
      " 15  TradingVolume        int64  \n",
      " 16  OpenInterest         int64  \n",
      " 17  TradingValue         int64  \n",
      " 18  ContractMonth        int64  \n",
      " 19  StrikePrice          float64\n",
      " 20  WholeDayVolume       int64  \n",
      " 21  Putcall              int64  \n",
      " 22  LastTradingDay       int64  \n",
      " 23  SpecialQuotationDay  int64  \n",
      " 24  SettlementPrice      float64\n",
      " 25  TheoreticalPrice     float64\n",
      " 26  BaseVolatility       float64\n",
      " 27  ImpliedVolatility    float64\n",
      " 28  InterestRate         float64\n",
      " 29  DividendRate         float64\n",
      " 30  Dividend             float64\n",
      "dtypes: float64(16), int64(9), object(6)\n",
      "memory usage: 843.8+ MB\n"
     ]
    }
   ],
   "source": [
    "options.info()"
   ]
  },
  {
   "cell_type": "code",
   "execution_count": 10,
   "metadata": {
    "collapsed": false,
    "jupyter": {
     "outputs_hidden": false
    },
    "pycharm": {
     "name": "#%%\n"
    }
   },
   "outputs": [
    {
     "data": {
      "text/html": [
       "<div>\n",
       "<style scoped>\n",
       "    .dataframe tbody tr th:only-of-type {\n",
       "        vertical-align: middle;\n",
       "    }\n",
       "\n",
       "    .dataframe tbody tr th {\n",
       "        vertical-align: top;\n",
       "    }\n",
       "\n",
       "    .dataframe thead th {\n",
       "        text-align: right;\n",
       "    }\n",
       "</style>\n",
       "<table border=\"1\" class=\"dataframe\">\n",
       "  <thead>\n",
       "    <tr style=\"text-align: right;\">\n",
       "      <th></th>\n",
       "      <th>RowId</th>\n",
       "      <th>Date</th>\n",
       "      <th>SecuritiesCode</th>\n",
       "      <th>Open</th>\n",
       "      <th>High</th>\n",
       "      <th>Low</th>\n",
       "      <th>Close</th>\n",
       "      <th>Volume</th>\n",
       "      <th>AdjustmentFactor</th>\n",
       "      <th>ExpectedDividend</th>\n",
       "      <th>SupervisionFlag</th>\n",
       "      <th>Target</th>\n",
       "    </tr>\n",
       "  </thead>\n",
       "  <tbody>\n",
       "    <tr>\n",
       "      <th>0</th>\n",
       "      <td>20170104_1305</td>\n",
       "      <td>2017-01-04</td>\n",
       "      <td>1305</td>\n",
       "      <td>1594.0</td>\n",
       "      <td>1618.0</td>\n",
       "      <td>1594.0</td>\n",
       "      <td>1615.0</td>\n",
       "      <td>538190</td>\n",
       "      <td>1.0</td>\n",
       "      <td>NaN</td>\n",
       "      <td>False</td>\n",
       "      <td>-0.001855</td>\n",
       "    </tr>\n",
       "    <tr>\n",
       "      <th>1</th>\n",
       "      <td>20170104_1306</td>\n",
       "      <td>2017-01-04</td>\n",
       "      <td>1306</td>\n",
       "      <td>1575.0</td>\n",
       "      <td>1595.0</td>\n",
       "      <td>1573.0</td>\n",
       "      <td>1593.0</td>\n",
       "      <td>2494980</td>\n",
       "      <td>1.0</td>\n",
       "      <td>NaN</td>\n",
       "      <td>False</td>\n",
       "      <td>-0.000627</td>\n",
       "    </tr>\n",
       "    <tr>\n",
       "      <th>2</th>\n",
       "      <td>20170104_1308</td>\n",
       "      <td>2017-01-04</td>\n",
       "      <td>1308</td>\n",
       "      <td>1557.0</td>\n",
       "      <td>1580.0</td>\n",
       "      <td>1557.0</td>\n",
       "      <td>1578.0</td>\n",
       "      <td>526100</td>\n",
       "      <td>1.0</td>\n",
       "      <td>NaN</td>\n",
       "      <td>False</td>\n",
       "      <td>-0.001900</td>\n",
       "    </tr>\n",
       "    <tr>\n",
       "      <th>3</th>\n",
       "      <td>20170104_1309</td>\n",
       "      <td>2017-01-04</td>\n",
       "      <td>1309</td>\n",
       "      <td>28810.0</td>\n",
       "      <td>29000.0</td>\n",
       "      <td>28520.0</td>\n",
       "      <td>28780.0</td>\n",
       "      <td>403</td>\n",
       "      <td>1.0</td>\n",
       "      <td>NaN</td>\n",
       "      <td>False</td>\n",
       "      <td>0.005237</td>\n",
       "    </tr>\n",
       "    <tr>\n",
       "      <th>4</th>\n",
       "      <td>20170104_1311</td>\n",
       "      <td>2017-01-04</td>\n",
       "      <td>1311</td>\n",
       "      <td>717.0</td>\n",
       "      <td>735.0</td>\n",
       "      <td>717.0</td>\n",
       "      <td>734.0</td>\n",
       "      <td>5470</td>\n",
       "      <td>1.0</td>\n",
       "      <td>NaN</td>\n",
       "      <td>False</td>\n",
       "      <td>0.001359</td>\n",
       "    </tr>\n",
       "  </tbody>\n",
       "</table>\n",
       "</div>"
      ],
      "text/plain": [
       "           RowId        Date  SecuritiesCode     Open     High      Low  \\\n",
       "0  20170104_1305  2017-01-04            1305   1594.0   1618.0   1594.0   \n",
       "1  20170104_1306  2017-01-04            1306   1575.0   1595.0   1573.0   \n",
       "2  20170104_1308  2017-01-04            1308   1557.0   1580.0   1557.0   \n",
       "3  20170104_1309  2017-01-04            1309  28810.0  29000.0  28520.0   \n",
       "4  20170104_1311  2017-01-04            1311    717.0    735.0    717.0   \n",
       "\n",
       "     Close   Volume  AdjustmentFactor  ExpectedDividend  SupervisionFlag  \\\n",
       "0   1615.0   538190               1.0               NaN            False   \n",
       "1   1593.0  2494980               1.0               NaN            False   \n",
       "2   1578.0   526100               1.0               NaN            False   \n",
       "3  28780.0      403               1.0               NaN            False   \n",
       "4    734.0     5470               1.0               NaN            False   \n",
       "\n",
       "     Target  \n",
       "0 -0.001855  \n",
       "1 -0.000627  \n",
       "2 -0.001900  \n",
       "3  0.005237  \n",
       "4  0.001359  "
      ]
     },
     "execution_count": 10,
     "metadata": {},
     "output_type": "execute_result"
    }
   ],
   "source": [
    "sec_stock_prices.head()"
   ]
  },
  {
   "cell_type": "code",
   "execution_count": 11,
   "metadata": {
    "collapsed": false,
    "jupyter": {
     "outputs_hidden": false
    },
    "pycharm": {
     "name": "#%%\n"
    }
   },
   "outputs": [
    {
     "name": "stdout",
     "output_type": "stream",
     "text": [
      "<class 'pandas.core.frame.DataFrame'>\n",
      "RangeIndex: 2384575 entries, 0 to 2384574\n",
      "Data columns (total 12 columns):\n",
      " #   Column            Dtype  \n",
      "---  ------            -----  \n",
      " 0   RowId             object \n",
      " 1   Date              object \n",
      " 2   SecuritiesCode    int64  \n",
      " 3   Open              float64\n",
      " 4   High              float64\n",
      " 5   Low               float64\n",
      " 6   Close             float64\n",
      " 7   Volume            int64  \n",
      " 8   AdjustmentFactor  float64\n",
      " 9   ExpectedDividend  float64\n",
      " 10  SupervisionFlag   bool   \n",
      " 11  Target            float64\n",
      "dtypes: bool(1), float64(7), int64(2), object(2)\n",
      "memory usage: 202.4+ MB\n"
     ]
    }
   ],
   "source": [
    "sec_stock_prices.info()"
   ]
  },
  {
   "cell_type": "code",
   "execution_count": 12,
   "metadata": {
    "collapsed": false,
    "jupyter": {
     "outputs_hidden": false
    },
    "pycharm": {
     "name": "#%%\n"
    }
   },
   "outputs": [
    {
     "data": {
      "text/html": [
       "<div>\n",
       "<style scoped>\n",
       "    .dataframe tbody tr th:only-of-type {\n",
       "        vertical-align: middle;\n",
       "    }\n",
       "\n",
       "    .dataframe tbody tr th {\n",
       "        vertical-align: top;\n",
       "    }\n",
       "\n",
       "    .dataframe thead th {\n",
       "        text-align: right;\n",
       "    }\n",
       "</style>\n",
       "<table border=\"1\" class=\"dataframe\">\n",
       "  <thead>\n",
       "    <tr style=\"text-align: right;\">\n",
       "      <th></th>\n",
       "      <th>Date</th>\n",
       "      <th>StartDate</th>\n",
       "      <th>EndDate</th>\n",
       "      <th>Section</th>\n",
       "      <th>TotalSales</th>\n",
       "      <th>TotalPurchases</th>\n",
       "      <th>TotalTotal</th>\n",
       "      <th>TotalBalance</th>\n",
       "      <th>ProprietarySales</th>\n",
       "      <th>ProprietaryPurchases</th>\n",
       "      <th>...</th>\n",
       "      <th>CityBKsRegionalBKsEtcTotal</th>\n",
       "      <th>CityBKsRegionalBKsEtcBalance</th>\n",
       "      <th>TrustBanksSales</th>\n",
       "      <th>TrustBanksPurchases</th>\n",
       "      <th>TrustBanksTotal</th>\n",
       "      <th>TrustBanksBalance</th>\n",
       "      <th>OtherFinancialInstitutionsSales</th>\n",
       "      <th>OtherFinancialInstitutionsPurchases</th>\n",
       "      <th>OtherFinancialInstitutionsTotal</th>\n",
       "      <th>OtherFinancialInstitutionsBalance</th>\n",
       "    </tr>\n",
       "  </thead>\n",
       "  <tbody>\n",
       "    <tr>\n",
       "      <th>0</th>\n",
       "      <td>2017-01-04</td>\n",
       "      <td>NaN</td>\n",
       "      <td>NaN</td>\n",
       "      <td>NaN</td>\n",
       "      <td>NaN</td>\n",
       "      <td>NaN</td>\n",
       "      <td>NaN</td>\n",
       "      <td>NaN</td>\n",
       "      <td>NaN</td>\n",
       "      <td>NaN</td>\n",
       "      <td>...</td>\n",
       "      <td>NaN</td>\n",
       "      <td>NaN</td>\n",
       "      <td>NaN</td>\n",
       "      <td>NaN</td>\n",
       "      <td>NaN</td>\n",
       "      <td>NaN</td>\n",
       "      <td>NaN</td>\n",
       "      <td>NaN</td>\n",
       "      <td>NaN</td>\n",
       "      <td>NaN</td>\n",
       "    </tr>\n",
       "    <tr>\n",
       "      <th>1</th>\n",
       "      <td>2017-01-05</td>\n",
       "      <td>NaN</td>\n",
       "      <td>NaN</td>\n",
       "      <td>NaN</td>\n",
       "      <td>NaN</td>\n",
       "      <td>NaN</td>\n",
       "      <td>NaN</td>\n",
       "      <td>NaN</td>\n",
       "      <td>NaN</td>\n",
       "      <td>NaN</td>\n",
       "      <td>...</td>\n",
       "      <td>NaN</td>\n",
       "      <td>NaN</td>\n",
       "      <td>NaN</td>\n",
       "      <td>NaN</td>\n",
       "      <td>NaN</td>\n",
       "      <td>NaN</td>\n",
       "      <td>NaN</td>\n",
       "      <td>NaN</td>\n",
       "      <td>NaN</td>\n",
       "      <td>NaN</td>\n",
       "    </tr>\n",
       "    <tr>\n",
       "      <th>2</th>\n",
       "      <td>2017-01-06</td>\n",
       "      <td>NaN</td>\n",
       "      <td>NaN</td>\n",
       "      <td>NaN</td>\n",
       "      <td>NaN</td>\n",
       "      <td>NaN</td>\n",
       "      <td>NaN</td>\n",
       "      <td>NaN</td>\n",
       "      <td>NaN</td>\n",
       "      <td>NaN</td>\n",
       "      <td>...</td>\n",
       "      <td>NaN</td>\n",
       "      <td>NaN</td>\n",
       "      <td>NaN</td>\n",
       "      <td>NaN</td>\n",
       "      <td>NaN</td>\n",
       "      <td>NaN</td>\n",
       "      <td>NaN</td>\n",
       "      <td>NaN</td>\n",
       "      <td>NaN</td>\n",
       "      <td>NaN</td>\n",
       "    </tr>\n",
       "    <tr>\n",
       "      <th>3</th>\n",
       "      <td>2017-01-10</td>\n",
       "      <td>NaN</td>\n",
       "      <td>NaN</td>\n",
       "      <td>NaN</td>\n",
       "      <td>NaN</td>\n",
       "      <td>NaN</td>\n",
       "      <td>NaN</td>\n",
       "      <td>NaN</td>\n",
       "      <td>NaN</td>\n",
       "      <td>NaN</td>\n",
       "      <td>...</td>\n",
       "      <td>NaN</td>\n",
       "      <td>NaN</td>\n",
       "      <td>NaN</td>\n",
       "      <td>NaN</td>\n",
       "      <td>NaN</td>\n",
       "      <td>NaN</td>\n",
       "      <td>NaN</td>\n",
       "      <td>NaN</td>\n",
       "      <td>NaN</td>\n",
       "      <td>NaN</td>\n",
       "    </tr>\n",
       "    <tr>\n",
       "      <th>4</th>\n",
       "      <td>2017-01-11</td>\n",
       "      <td>NaN</td>\n",
       "      <td>NaN</td>\n",
       "      <td>NaN</td>\n",
       "      <td>NaN</td>\n",
       "      <td>NaN</td>\n",
       "      <td>NaN</td>\n",
       "      <td>NaN</td>\n",
       "      <td>NaN</td>\n",
       "      <td>NaN</td>\n",
       "      <td>...</td>\n",
       "      <td>NaN</td>\n",
       "      <td>NaN</td>\n",
       "      <td>NaN</td>\n",
       "      <td>NaN</td>\n",
       "      <td>NaN</td>\n",
       "      <td>NaN</td>\n",
       "      <td>NaN</td>\n",
       "      <td>NaN</td>\n",
       "      <td>NaN</td>\n",
       "      <td>NaN</td>\n",
       "    </tr>\n",
       "  </tbody>\n",
       "</table>\n",
       "<p>5 rows × 56 columns</p>\n",
       "</div>"
      ],
      "text/plain": [
       "         Date StartDate EndDate Section  TotalSales  TotalPurchases  \\\n",
       "0  2017-01-04       NaN     NaN     NaN         NaN             NaN   \n",
       "1  2017-01-05       NaN     NaN     NaN         NaN             NaN   \n",
       "2  2017-01-06       NaN     NaN     NaN         NaN             NaN   \n",
       "3  2017-01-10       NaN     NaN     NaN         NaN             NaN   \n",
       "4  2017-01-11       NaN     NaN     NaN         NaN             NaN   \n",
       "\n",
       "   TotalTotal  TotalBalance  ProprietarySales  ProprietaryPurchases  ...  \\\n",
       "0         NaN           NaN               NaN                   NaN  ...   \n",
       "1         NaN           NaN               NaN                   NaN  ...   \n",
       "2         NaN           NaN               NaN                   NaN  ...   \n",
       "3         NaN           NaN               NaN                   NaN  ...   \n",
       "4         NaN           NaN               NaN                   NaN  ...   \n",
       "\n",
       "   CityBKsRegionalBKsEtcTotal  CityBKsRegionalBKsEtcBalance  TrustBanksSales  \\\n",
       "0                         NaN                           NaN              NaN   \n",
       "1                         NaN                           NaN              NaN   \n",
       "2                         NaN                           NaN              NaN   \n",
       "3                         NaN                           NaN              NaN   \n",
       "4                         NaN                           NaN              NaN   \n",
       "\n",
       "   TrustBanksPurchases  TrustBanksTotal  TrustBanksBalance  \\\n",
       "0                  NaN              NaN                NaN   \n",
       "1                  NaN              NaN                NaN   \n",
       "2                  NaN              NaN                NaN   \n",
       "3                  NaN              NaN                NaN   \n",
       "4                  NaN              NaN                NaN   \n",
       "\n",
       "   OtherFinancialInstitutionsSales  OtherFinancialInstitutionsPurchases  \\\n",
       "0                              NaN                                  NaN   \n",
       "1                              NaN                                  NaN   \n",
       "2                              NaN                                  NaN   \n",
       "3                              NaN                                  NaN   \n",
       "4                              NaN                                  NaN   \n",
       "\n",
       "   OtherFinancialInstitutionsTotal  OtherFinancialInstitutionsBalance  \n",
       "0                              NaN                                NaN  \n",
       "1                              NaN                                NaN  \n",
       "2                              NaN                                NaN  \n",
       "3                              NaN                                NaN  \n",
       "4                              NaN                                NaN  \n",
       "\n",
       "[5 rows x 56 columns]"
      ]
     },
     "execution_count": 12,
     "metadata": {},
     "output_type": "execute_result"
    }
   ],
   "source": [
    "trades.head()"
   ]
  },
  {
   "cell_type": "code",
   "execution_count": 13,
   "metadata": {
    "collapsed": false,
    "jupyter": {
     "outputs_hidden": false
    },
    "pycharm": {
     "name": "#%%\n"
    }
   },
   "outputs": [
    {
     "name": "stdout",
     "output_type": "stream",
     "text": [
      "<class 'pandas.core.frame.DataFrame'>\n",
      "RangeIndex: 1712 entries, 0 to 1711\n",
      "Data columns (total 56 columns):\n",
      " #   Column                               Non-Null Count  Dtype  \n",
      "---  ------                               --------------  -----  \n",
      " 0   Date                                 1712 non-null   object \n",
      " 1   StartDate                            765 non-null    object \n",
      " 2   EndDate                              765 non-null    object \n",
      " 3   Section                              765 non-null    object \n",
      " 4   TotalSales                           765 non-null    float64\n",
      " 5   TotalPurchases                       765 non-null    float64\n",
      " 6   TotalTotal                           765 non-null    float64\n",
      " 7   TotalBalance                         765 non-null    float64\n",
      " 8   ProprietarySales                     765 non-null    float64\n",
      " 9   ProprietaryPurchases                 765 non-null    float64\n",
      " 10  ProprietaryTotal                     765 non-null    float64\n",
      " 11  ProprietaryBalance                   765 non-null    float64\n",
      " 12  BrokerageSales                       765 non-null    float64\n",
      " 13  BrokeragePurchases                   765 non-null    float64\n",
      " 14  BrokerageTotal                       765 non-null    float64\n",
      " 15  BrokerageBalance                     765 non-null    float64\n",
      " 16  IndividualsSales                     765 non-null    float64\n",
      " 17  IndividualsPurchases                 765 non-null    float64\n",
      " 18  IndividualsTotal                     765 non-null    float64\n",
      " 19  IndividualsBalance                   765 non-null    float64\n",
      " 20  ForeignersSales                      765 non-null    float64\n",
      " 21  ForeignersPurchases                  765 non-null    float64\n",
      " 22  ForeignersTotal                      765 non-null    float64\n",
      " 23  ForeignersBalance                    765 non-null    float64\n",
      " 24  SecuritiesCosSales                   765 non-null    float64\n",
      " 25  SecuritiesCosPurchases               765 non-null    float64\n",
      " 26  SecuritiesCosTotal                   765 non-null    float64\n",
      " 27  SecuritiesCosBalance                 765 non-null    float64\n",
      " 28  InvestmentTrustsSales                765 non-null    float64\n",
      " 29  InvestmentTrustsPurchases            765 non-null    float64\n",
      " 30  InvestmentTrustsTotal                765 non-null    float64\n",
      " 31  InvestmentTrustsBalance              765 non-null    float64\n",
      " 32  BusinessCosSales                     765 non-null    float64\n",
      " 33  BusinessCosPurchases                 765 non-null    float64\n",
      " 34  BusinessCosTotal                     765 non-null    float64\n",
      " 35  BusinessCosBalance                   765 non-null    float64\n",
      " 36  OtherInstitutionsSales               765 non-null    float64\n",
      " 37  OtherInstitutionsPurchases           765 non-null    float64\n",
      " 38  OtherInstitutionsTotal               765 non-null    float64\n",
      " 39  OtherInstitutionsBalance             765 non-null    float64\n",
      " 40  InsuranceCosSales                    765 non-null    float64\n",
      " 41  InsuranceCosPurchases                765 non-null    float64\n",
      " 42  InsuranceCosTotal                    765 non-null    float64\n",
      " 43  InsuranceCosBalance                  765 non-null    float64\n",
      " 44  CityBKsRegionalBKsEtcSales           765 non-null    float64\n",
      " 45  CityBKsRegionalBKsEtcPurchase        765 non-null    float64\n",
      " 46  CityBKsRegionalBKsEtcTotal           765 non-null    float64\n",
      " 47  CityBKsRegionalBKsEtcBalance         765 non-null    float64\n",
      " 48  TrustBanksSales                      765 non-null    float64\n",
      " 49  TrustBanksPurchases                  765 non-null    float64\n",
      " 50  TrustBanksTotal                      765 non-null    float64\n",
      " 51  TrustBanksBalance                    765 non-null    float64\n",
      " 52  OtherFinancialInstitutionsSales      765 non-null    float64\n",
      " 53  OtherFinancialInstitutionsPurchases  765 non-null    float64\n",
      " 54  OtherFinancialInstitutionsTotal      765 non-null    float64\n",
      " 55  OtherFinancialInstitutionsBalance    765 non-null    float64\n",
      "dtypes: float64(52), object(4)\n",
      "memory usage: 749.1+ KB\n"
     ]
    }
   ],
   "source": [
    "trades.info()"
   ]
  },
  {
   "cell_type": "markdown",
   "metadata": {
    "jp-MarkdownHeadingCollapsed": true,
    "pycharm": {
     "name": "#%% md\n"
    },
    "tags": []
   },
   "source": [
    "# E-D-A over J-P-X"
   ]
  },
  {
   "cell_type": "markdown",
   "metadata": {
    "pycharm": {
     "name": "#%% md\n"
    }
   },
   "source": [
    "## stock_list"
   ]
  },
  {
   "cell_type": "code",
   "execution_count": 14,
   "metadata": {
    "collapsed": false,
    "jupyter": {
     "outputs_hidden": false
    },
    "pycharm": {
     "name": "#%%\n"
    }
   },
   "outputs": [
    {
     "data": {
      "text/html": [
       "<div>\n",
       "<style scoped>\n",
       "    .dataframe tbody tr th:only-of-type {\n",
       "        vertical-align: middle;\n",
       "    }\n",
       "\n",
       "    .dataframe tbody tr th {\n",
       "        vertical-align: top;\n",
       "    }\n",
       "\n",
       "    .dataframe thead th {\n",
       "        text-align: right;\n",
       "    }\n",
       "</style>\n",
       "<table border=\"1\" class=\"dataframe\">\n",
       "  <thead>\n",
       "    <tr style=\"text-align: right;\">\n",
       "      <th></th>\n",
       "      <th>SecuritiesCode</th>\n",
       "      <th>EffectiveDate</th>\n",
       "      <th>Name</th>\n",
       "      <th>Section/Products</th>\n",
       "      <th>NewMarketSegment</th>\n",
       "      <th>33SectorCode</th>\n",
       "      <th>33SectorName</th>\n",
       "      <th>17SectorCode</th>\n",
       "      <th>17SectorName</th>\n",
       "      <th>NewIndexSeriesSizeCode</th>\n",
       "      <th>NewIndexSeriesSize</th>\n",
       "      <th>TradeDate</th>\n",
       "      <th>Close</th>\n",
       "      <th>IssuedShares</th>\n",
       "      <th>MarketCapitalization</th>\n",
       "      <th>Universe0</th>\n",
       "    </tr>\n",
       "  </thead>\n",
       "  <tbody>\n",
       "    <tr>\n",
       "      <th>0</th>\n",
       "      <td>1301</td>\n",
       "      <td>20211230</td>\n",
       "      <td>KYOKUYO CO.,LTD.</td>\n",
       "      <td>First Section (Domestic)</td>\n",
       "      <td>Prime Market</td>\n",
       "      <td>50</td>\n",
       "      <td>Fishery, Agriculture and Forestry</td>\n",
       "      <td>1</td>\n",
       "      <td>FOODS</td>\n",
       "      <td>7</td>\n",
       "      <td>TOPIX Small 2</td>\n",
       "      <td>20211230.0</td>\n",
       "      <td>3080.0</td>\n",
       "      <td>1.092828e+07</td>\n",
       "      <td>3.365911e+10</td>\n",
       "      <td>True</td>\n",
       "    </tr>\n",
       "    <tr>\n",
       "      <th>1</th>\n",
       "      <td>1305</td>\n",
       "      <td>20211230</td>\n",
       "      <td>Daiwa ETF-TOPIX</td>\n",
       "      <td>ETFs/ ETNs</td>\n",
       "      <td>NaN</td>\n",
       "      <td>-</td>\n",
       "      <td>-</td>\n",
       "      <td>-</td>\n",
       "      <td>-</td>\n",
       "      <td>-</td>\n",
       "      <td>-</td>\n",
       "      <td>20211230.0</td>\n",
       "      <td>2097.0</td>\n",
       "      <td>3.634636e+09</td>\n",
       "      <td>7.621831e+12</td>\n",
       "      <td>False</td>\n",
       "    </tr>\n",
       "    <tr>\n",
       "      <th>2</th>\n",
       "      <td>1306</td>\n",
       "      <td>20211230</td>\n",
       "      <td>NEXT FUNDS TOPIX Exchange Traded Fund</td>\n",
       "      <td>ETFs/ ETNs</td>\n",
       "      <td>NaN</td>\n",
       "      <td>-</td>\n",
       "      <td>-</td>\n",
       "      <td>-</td>\n",
       "      <td>-</td>\n",
       "      <td>-</td>\n",
       "      <td>-</td>\n",
       "      <td>20211230.0</td>\n",
       "      <td>2073.5</td>\n",
       "      <td>7.917718e+09</td>\n",
       "      <td>1.641739e+13</td>\n",
       "      <td>False</td>\n",
       "    </tr>\n",
       "    <tr>\n",
       "      <th>3</th>\n",
       "      <td>1308</td>\n",
       "      <td>20211230</td>\n",
       "      <td>Nikko Exchange Traded Index Fund TOPIX</td>\n",
       "      <td>ETFs/ ETNs</td>\n",
       "      <td>NaN</td>\n",
       "      <td>-</td>\n",
       "      <td>-</td>\n",
       "      <td>-</td>\n",
       "      <td>-</td>\n",
       "      <td>-</td>\n",
       "      <td>-</td>\n",
       "      <td>20211230.0</td>\n",
       "      <td>2053.0</td>\n",
       "      <td>3.736943e+09</td>\n",
       "      <td>7.671945e+12</td>\n",
       "      <td>False</td>\n",
       "    </tr>\n",
       "    <tr>\n",
       "      <th>4</th>\n",
       "      <td>1309</td>\n",
       "      <td>20211230</td>\n",
       "      <td>NEXT FUNDS ChinaAMC SSE50 Index Exchange Trade...</td>\n",
       "      <td>ETFs/ ETNs</td>\n",
       "      <td>NaN</td>\n",
       "      <td>-</td>\n",
       "      <td>-</td>\n",
       "      <td>-</td>\n",
       "      <td>-</td>\n",
       "      <td>-</td>\n",
       "      <td>-</td>\n",
       "      <td>20211230.0</td>\n",
       "      <td>44280.0</td>\n",
       "      <td>7.263200e+04</td>\n",
       "      <td>3.216145e+09</td>\n",
       "      <td>False</td>\n",
       "    </tr>\n",
       "  </tbody>\n",
       "</table>\n",
       "</div>"
      ],
      "text/plain": [
       "   SecuritiesCode  EffectiveDate  \\\n",
       "0            1301       20211230   \n",
       "1            1305       20211230   \n",
       "2            1306       20211230   \n",
       "3            1308       20211230   \n",
       "4            1309       20211230   \n",
       "\n",
       "                                                Name  \\\n",
       "0                                   KYOKUYO CO.,LTD.   \n",
       "1                                    Daiwa ETF-TOPIX   \n",
       "2              NEXT FUNDS TOPIX Exchange Traded Fund   \n",
       "3             Nikko Exchange Traded Index Fund TOPIX   \n",
       "4  NEXT FUNDS ChinaAMC SSE50 Index Exchange Trade...   \n",
       "\n",
       "           Section/Products NewMarketSegment 33SectorCode  \\\n",
       "0  First Section (Domestic)     Prime Market           50   \n",
       "1                ETFs/ ETNs              NaN            -   \n",
       "2                ETFs/ ETNs              NaN            -   \n",
       "3                ETFs/ ETNs              NaN            -   \n",
       "4                ETFs/ ETNs              NaN            -   \n",
       "\n",
       "                        33SectorName 17SectorCode 17SectorName  \\\n",
       "0  Fishery, Agriculture and Forestry            1       FOODS    \n",
       "1                                  -            -            -   \n",
       "2                                  -            -            -   \n",
       "3                                  -            -            -   \n",
       "4                                  -            -            -   \n",
       "\n",
       "  NewIndexSeriesSizeCode NewIndexSeriesSize   TradeDate    Close  \\\n",
       "0                      7      TOPIX Small 2  20211230.0   3080.0   \n",
       "1                      -                  -  20211230.0   2097.0   \n",
       "2                      -                  -  20211230.0   2073.5   \n",
       "3                      -                  -  20211230.0   2053.0   \n",
       "4                      -                  -  20211230.0  44280.0   \n",
       "\n",
       "   IssuedShares  MarketCapitalization  Universe0  \n",
       "0  1.092828e+07          3.365911e+10       True  \n",
       "1  3.634636e+09          7.621831e+12      False  \n",
       "2  7.917718e+09          1.641739e+13      False  \n",
       "3  3.736943e+09          7.671945e+12      False  \n",
       "4  7.263200e+04          3.216145e+09      False  "
      ]
     },
     "execution_count": 14,
     "metadata": {},
     "output_type": "execute_result"
    }
   ],
   "source": [
    "stock_list.head()"
   ]
  },
  {
   "cell_type": "code",
   "execution_count": 15,
   "metadata": {
    "collapsed": false,
    "jupyter": {
     "outputs_hidden": false
    },
    "pycharm": {
     "name": "#%%\n"
    }
   },
   "outputs": [
    {
     "name": "stdout",
     "output_type": "stream",
     "text": [
      "<class 'pandas.core.frame.DataFrame'>\n",
      "RangeIndex: 4417 entries, 0 to 4416\n",
      "Data columns (total 16 columns):\n",
      " #   Column                  Non-Null Count  Dtype  \n",
      "---  ------                  --------------  -----  \n",
      " 0   SecuritiesCode          4417 non-null   int64  \n",
      " 1   EffectiveDate           4417 non-null   int64  \n",
      " 2   Name                    4417 non-null   object \n",
      " 3   Section/Products        4417 non-null   object \n",
      " 4   NewMarketSegment        3772 non-null   object \n",
      " 5   33SectorCode            4417 non-null   object \n",
      " 6   33SectorName            4417 non-null   object \n",
      " 7   17SectorCode            4417 non-null   object \n",
      " 8   17SectorName            4417 non-null   object \n",
      " 9   NewIndexSeriesSizeCode  4417 non-null   object \n",
      " 10  NewIndexSeriesSize      4417 non-null   object \n",
      " 11  TradeDate               4121 non-null   float64\n",
      " 12  Close                   4121 non-null   float64\n",
      " 13  IssuedShares            4121 non-null   float64\n",
      " 14  MarketCapitalization    4121 non-null   float64\n",
      " 15  Universe0               4417 non-null   bool   \n",
      "dtypes: bool(1), float64(4), int64(2), object(9)\n",
      "memory usage: 522.1+ KB\n"
     ]
    }
   ],
   "source": [
    "stock_list.info()"
   ]
  },
  {
   "cell_type": "code",
   "execution_count": 16,
   "metadata": {
    "collapsed": false,
    "jupyter": {
     "outputs_hidden": false
    },
    "pycharm": {
     "name": "#%%\n"
    }
   },
   "outputs": [
    {
     "data": {
      "text/plain": [
       "'There are 4417 different stocks!'"
      ]
     },
     "execution_count": 16,
     "metadata": {},
     "output_type": "execute_result"
    }
   ],
   "source": [
    "f\"There are {len(stock_list['SecuritiesCode'].unique())} different stocks!\""
   ]
  },
  {
   "cell_type": "code",
   "execution_count": 17,
   "metadata": {
    "collapsed": false,
    "jupyter": {
     "outputs_hidden": false
    },
    "pycharm": {
     "name": "#%%\n"
    }
   },
   "outputs": [
    {
     "name": "stdout",
     "output_type": "stream",
     "text": [
      "34 different 33SectorName values\n"
     ]
    },
    {
     "data": {
      "text/plain": [
       "33SectorName                                   33SectorCode\n",
       "Information & Communication                    5250            551\n",
       "Services                                       9050            521\n",
       "-                                              -               500\n",
       "Retail Trade                                   6100            359\n",
       "Wholesale Trade                                6050            320\n",
       "Electric Appliances                            3650            255\n",
       "Machinery                                      3600            230\n",
       "Chemicals                                      3200            218\n",
       "Construction                                   2050            170\n",
       "Real Estate                                    8050            143\n",
       "Foods                                          3050            125\n",
       "Other Products                                 3800            116\n",
       "Transportation Equipment                       3700             95\n",
       "Banks                                          7050             93\n",
       "Metal Products                                 3550             90\n",
       "Pharmaceutical                                 3250             77\n",
       "Land Transportation                            5050             62\n",
       "Glass and Ceramics Products                    3400             56\n",
       "Textiles and Apparels                          3100             52\n",
       "Precision Instruments                          3750             50\n",
       "Iron and Steel                                 3450             44\n",
       "Securities and Commodities Futures             7100             44\n",
       "Warehousing and Harbor Transportation Service  5200             39\n",
       "Other Financing Business                       7200             38\n",
       "Nonferrous Metals                              3500             36\n",
       "Electric Power and Gas                         4050             25\n",
       "Pulp and Paper                                 3150             24\n",
       "Rubber Products                                3350             19\n",
       "Insurance                                      7150             15\n",
       "Oil and Coal Products                          3300             13\n",
       "Marine Transportation                          5100             13\n",
       "Fishery, Agriculture and Forestry              50               12\n",
       "Mining                                         1050              7\n",
       "Air Transportation                             5150              5\n",
       "dtype: int64"
      ]
     },
     "execution_count": 17,
     "metadata": {},
     "output_type": "execute_result"
    }
   ],
   "source": [
    "sector_names_33 = stock_list[['33SectorName', '33SectorCode']].value_counts()\n",
    "print(f'{len(sector_names_33)} different 33SectorName values')\n",
    "sector_names_33"
   ]
  },
  {
   "cell_type": "code",
   "execution_count": 18,
   "metadata": {
    "collapsed": false,
    "jupyter": {
     "outputs_hidden": false
    },
    "pycharm": {
     "name": "#%%\n"
    }
   },
   "outputs": [
    {
     "name": "stdout",
     "output_type": "stream",
     "text": [
      "34 different 17SectorName values\n",
      "Notice there are duplicates! FOODS, BANKS, etc.\n",
      "Need to merge them\n"
     ]
    },
    {
     "data": {
      "text/plain": [
       "17SectorName                                  17SectorCode\n",
       "IT & SERVICES, OTHERS                         10              1155\n",
       "-                                             -                500\n",
       "RETAIL TRADE                                  14               339\n",
       "COMMERCIAL & WHOLESALE TRADE                  13               311\n",
       "CONSTRUCTION & MATERIALS                      3                303\n",
       "ELECTRIC APPLIANCES & PRECISION INSTRUMENTS   9                293\n",
       "RAW MATERIALS & CHEMICALS                     4                288\n",
       "MACHINERY                                     8                228\n",
       "REAL ESTATE                                   17               137\n",
       "FOODS                                         1                136\n",
       "TRANSPORTATION & LOGISTICS                    12               117\n",
       "AUTOMOBILES & TRANSPORTATION EQUIPMENT        6                108\n",
       "FINANCIALS （EX BANKS）                         16                88\n",
       "BANKS                                         15                81\n",
       "STEEL & NONFERROUS METALS                     7                 77\n",
       "PHARMACEUTICAL                                5                 73\n",
       "IT & SERVICES, OTHERS                         10                33\n",
       "ELECTRIC POWER & GAS                          11                25\n",
       "RETAIL TRADE                                  14                20\n",
       "ENERGY RESOURCES                              2                 17\n",
       "CONSTRUCTION & MATERIALS                      3                 13\n",
       "BANKS                                         15                12\n",
       "ELECTRIC APPLIANCES & PRECISION INSTRUMENTS   9                 12\n",
       "COMMERCIAL & WHOLESALE TRADE                  13                 9\n",
       "FINANCIALS （EX BANKS）                         16                 9\n",
       "RAW MATERIALS & CHEMICALS                     4                  6\n",
       "REAL ESTATE                                   17                 6\n",
       "AUTOMOBILES & TRANSPORTATION EQUIPMENT        6                  6\n",
       "PHARMACEUTICAL                                5                  4\n",
       "STEEL & NONFERROUS METALS                     7                  3\n",
       "ENERGY RESOURCES                              2                  3\n",
       "MACHINERY                                     8                  2\n",
       "TRANSPORTATION & LOGISTICS                    12                 2\n",
       "FOODS                                         1                  1\n",
       "dtype: int64"
      ]
     },
     "execution_count": 18,
     "metadata": {},
     "output_type": "execute_result"
    }
   ],
   "source": [
    "sector_names_17 = stock_list[['17SectorName', '17SectorCode']].value_counts()\n",
    "print(f'{len(sector_names_17)} different 17SectorName values')\n",
    "print('Notice there are duplicates! FOODS, BANKS, etc.')\n",
    "print('Need to merge them')\n",
    "sector_names_17"
   ]
  },
  {
   "cell_type": "code",
   "execution_count": 26,
   "metadata": {
    "collapsed": false,
    "jupyter": {
     "outputs_hidden": false
    },
    "pycharm": {
     "name": "#%%\n"
    }
   },
   "outputs": [
    {
     "data": {
      "application/vnd.plotly.v1+json": {
       "config": {
        "plotlyServerURL": "https://plot.ly"
       },
       "data": [
        {
         "alignmentgroup": "True",
         "hovertemplate": "color=-<br>x=%{x}<br>y=%{y}<extra></extra>",
         "legendgroup": "-",
         "marker": {
          "color": "#636efa",
          "pattern": {
           "shape": ""
          }
         },
         "name": "-",
         "offsetgroup": "-",
         "orientation": "v",
         "showlegend": true,
         "textposition": "auto",
         "type": "bar",
         "x": [
          "-"
         ],
         "xaxis": "x",
         "y": [
          500
         ],
         "yaxis": "y"
        },
        {
         "alignmentgroup": "True",
         "hovertemplate": "color=AUTOMOBILES & TRANSPORTATION EQUIPMENT<br>x=%{x}<br>y=%{y}<extra></extra>",
         "legendgroup": "AUTOMOBILES & TRANSPORTATION EQUIPMENT",
         "marker": {
          "color": "#EF553B",
          "pattern": {
           "shape": ""
          }
         },
         "name": "AUTOMOBILES & TRANSPORTATION EQUIPMENT",
         "offsetgroup": "AUTOMOBILES & TRANSPORTATION EQUIPMENT",
         "orientation": "v",
         "showlegend": true,
         "textposition": "auto",
         "type": "bar",
         "x": [
          "AUTOMOBILES & TRANSPORTATION EQUIPMENT"
         ],
         "xaxis": "x",
         "y": [
          6
         ],
         "yaxis": "y"
        },
        {
         "alignmentgroup": "True",
         "hovertemplate": "color=AUTOMOBILES & TRANSPORTATION EQUIPMENT <br>x=%{x}<br>y=%{y}<extra></extra>",
         "legendgroup": "AUTOMOBILES & TRANSPORTATION EQUIPMENT ",
         "marker": {
          "color": "#00cc96",
          "pattern": {
           "shape": ""
          }
         },
         "name": "AUTOMOBILES & TRANSPORTATION EQUIPMENT ",
         "offsetgroup": "AUTOMOBILES & TRANSPORTATION EQUIPMENT ",
         "orientation": "v",
         "showlegend": true,
         "textposition": "auto",
         "type": "bar",
         "x": [
          "AUTOMOBILES & TRANSPORTATION EQUIPMENT "
         ],
         "xaxis": "x",
         "y": [
          108
         ],
         "yaxis": "y"
        },
        {
         "alignmentgroup": "True",
         "hovertemplate": "color=BANKS<br>x=%{x}<br>y=%{y}<extra></extra>",
         "legendgroup": "BANKS",
         "marker": {
          "color": "#ab63fa",
          "pattern": {
           "shape": ""
          }
         },
         "name": "BANKS",
         "offsetgroup": "BANKS",
         "orientation": "v",
         "showlegend": true,
         "textposition": "auto",
         "type": "bar",
         "x": [
          "BANKS"
         ],
         "xaxis": "x",
         "y": [
          12
         ],
         "yaxis": "y"
        },
        {
         "alignmentgroup": "True",
         "hovertemplate": "color=BANKS <br>x=%{x}<br>y=%{y}<extra></extra>",
         "legendgroup": "BANKS ",
         "marker": {
          "color": "#FFA15A",
          "pattern": {
           "shape": ""
          }
         },
         "name": "BANKS ",
         "offsetgroup": "BANKS ",
         "orientation": "v",
         "showlegend": true,
         "textposition": "auto",
         "type": "bar",
         "x": [
          "BANKS "
         ],
         "xaxis": "x",
         "y": [
          81
         ],
         "yaxis": "y"
        },
        {
         "alignmentgroup": "True",
         "hovertemplate": "color=COMMERCIAL & WHOLESALE TRADE<br>x=%{x}<br>y=%{y}<extra></extra>",
         "legendgroup": "COMMERCIAL & WHOLESALE TRADE",
         "marker": {
          "color": "#19d3f3",
          "pattern": {
           "shape": ""
          }
         },
         "name": "COMMERCIAL & WHOLESALE TRADE",
         "offsetgroup": "COMMERCIAL & WHOLESALE TRADE",
         "orientation": "v",
         "showlegend": true,
         "textposition": "auto",
         "type": "bar",
         "x": [
          "COMMERCIAL & WHOLESALE TRADE"
         ],
         "xaxis": "x",
         "y": [
          9
         ],
         "yaxis": "y"
        },
        {
         "alignmentgroup": "True",
         "hovertemplate": "color=COMMERCIAL & WHOLESALE TRADE <br>x=%{x}<br>y=%{y}<extra></extra>",
         "legendgroup": "COMMERCIAL & WHOLESALE TRADE ",
         "marker": {
          "color": "#FF6692",
          "pattern": {
           "shape": ""
          }
         },
         "name": "COMMERCIAL & WHOLESALE TRADE ",
         "offsetgroup": "COMMERCIAL & WHOLESALE TRADE ",
         "orientation": "v",
         "showlegend": true,
         "textposition": "auto",
         "type": "bar",
         "x": [
          "COMMERCIAL & WHOLESALE TRADE "
         ],
         "xaxis": "x",
         "y": [
          311
         ],
         "yaxis": "y"
        },
        {
         "alignmentgroup": "True",
         "hovertemplate": "color=CONSTRUCTION & MATERIALS<br>x=%{x}<br>y=%{y}<extra></extra>",
         "legendgroup": "CONSTRUCTION & MATERIALS",
         "marker": {
          "color": "#B6E880",
          "pattern": {
           "shape": ""
          }
         },
         "name": "CONSTRUCTION & MATERIALS",
         "offsetgroup": "CONSTRUCTION & MATERIALS",
         "orientation": "v",
         "showlegend": true,
         "textposition": "auto",
         "type": "bar",
         "x": [
          "CONSTRUCTION & MATERIALS"
         ],
         "xaxis": "x",
         "y": [
          13
         ],
         "yaxis": "y"
        },
        {
         "alignmentgroup": "True",
         "hovertemplate": "color=CONSTRUCTION & MATERIALS <br>x=%{x}<br>y=%{y}<extra></extra>",
         "legendgroup": "CONSTRUCTION & MATERIALS ",
         "marker": {
          "color": "#FF97FF",
          "pattern": {
           "shape": ""
          }
         },
         "name": "CONSTRUCTION & MATERIALS ",
         "offsetgroup": "CONSTRUCTION & MATERIALS ",
         "orientation": "v",
         "showlegend": true,
         "textposition": "auto",
         "type": "bar",
         "x": [
          "CONSTRUCTION & MATERIALS "
         ],
         "xaxis": "x",
         "y": [
          303
         ],
         "yaxis": "y"
        },
        {
         "alignmentgroup": "True",
         "hovertemplate": "color=ELECTRIC APPLIANCES & PRECISION INSTRUMENTS<br>x=%{x}<br>y=%{y}<extra></extra>",
         "legendgroup": "ELECTRIC APPLIANCES & PRECISION INSTRUMENTS",
         "marker": {
          "color": "#FECB52",
          "pattern": {
           "shape": ""
          }
         },
         "name": "ELECTRIC APPLIANCES & PRECISION INSTRUMENTS",
         "offsetgroup": "ELECTRIC APPLIANCES & PRECISION INSTRUMENTS",
         "orientation": "v",
         "showlegend": true,
         "textposition": "auto",
         "type": "bar",
         "x": [
          "ELECTRIC APPLIANCES & PRECISION INSTRUMENTS"
         ],
         "xaxis": "x",
         "y": [
          12
         ],
         "yaxis": "y"
        },
        {
         "alignmentgroup": "True",
         "hovertemplate": "color=ELECTRIC APPLIANCES & PRECISION INSTRUMENTS <br>x=%{x}<br>y=%{y}<extra></extra>",
         "legendgroup": "ELECTRIC APPLIANCES & PRECISION INSTRUMENTS ",
         "marker": {
          "color": "#636efa",
          "pattern": {
           "shape": ""
          }
         },
         "name": "ELECTRIC APPLIANCES & PRECISION INSTRUMENTS ",
         "offsetgroup": "ELECTRIC APPLIANCES & PRECISION INSTRUMENTS ",
         "orientation": "v",
         "showlegend": true,
         "textposition": "auto",
         "type": "bar",
         "x": [
          "ELECTRIC APPLIANCES & PRECISION INSTRUMENTS "
         ],
         "xaxis": "x",
         "y": [
          293
         ],
         "yaxis": "y"
        },
        {
         "alignmentgroup": "True",
         "hovertemplate": "color=ELECTRIC POWER & GAS <br>x=%{x}<br>y=%{y}<extra></extra>",
         "legendgroup": "ELECTRIC POWER & GAS ",
         "marker": {
          "color": "#EF553B",
          "pattern": {
           "shape": ""
          }
         },
         "name": "ELECTRIC POWER & GAS ",
         "offsetgroup": "ELECTRIC POWER & GAS ",
         "orientation": "v",
         "showlegend": true,
         "textposition": "auto",
         "type": "bar",
         "x": [
          "ELECTRIC POWER & GAS "
         ],
         "xaxis": "x",
         "y": [
          25
         ],
         "yaxis": "y"
        },
        {
         "alignmentgroup": "True",
         "hovertemplate": "color=ENERGY RESOURCES<br>x=%{x}<br>y=%{y}<extra></extra>",
         "legendgroup": "ENERGY RESOURCES",
         "marker": {
          "color": "#00cc96",
          "pattern": {
           "shape": ""
          }
         },
         "name": "ENERGY RESOURCES",
         "offsetgroup": "ENERGY RESOURCES",
         "orientation": "v",
         "showlegend": true,
         "textposition": "auto",
         "type": "bar",
         "x": [
          "ENERGY RESOURCES"
         ],
         "xaxis": "x",
         "y": [
          3
         ],
         "yaxis": "y"
        },
        {
         "alignmentgroup": "True",
         "hovertemplate": "color=ENERGY RESOURCES <br>x=%{x}<br>y=%{y}<extra></extra>",
         "legendgroup": "ENERGY RESOURCES ",
         "marker": {
          "color": "#ab63fa",
          "pattern": {
           "shape": ""
          }
         },
         "name": "ENERGY RESOURCES ",
         "offsetgroup": "ENERGY RESOURCES ",
         "orientation": "v",
         "showlegend": true,
         "textposition": "auto",
         "type": "bar",
         "x": [
          "ENERGY RESOURCES "
         ],
         "xaxis": "x",
         "y": [
          17
         ],
         "yaxis": "y"
        },
        {
         "alignmentgroup": "True",
         "hovertemplate": "color=FINANCIALS （EX BANKS）<br>x=%{x}<br>y=%{y}<extra></extra>",
         "legendgroup": "FINANCIALS （EX BANKS）",
         "marker": {
          "color": "#FFA15A",
          "pattern": {
           "shape": ""
          }
         },
         "name": "FINANCIALS （EX BANKS）",
         "offsetgroup": "FINANCIALS （EX BANKS）",
         "orientation": "v",
         "showlegend": true,
         "textposition": "auto",
         "type": "bar",
         "x": [
          "FINANCIALS （EX BANKS）"
         ],
         "xaxis": "x",
         "y": [
          9
         ],
         "yaxis": "y"
        },
        {
         "alignmentgroup": "True",
         "hovertemplate": "color=FINANCIALS （EX BANKS） <br>x=%{x}<br>y=%{y}<extra></extra>",
         "legendgroup": "FINANCIALS （EX BANKS） ",
         "marker": {
          "color": "#19d3f3",
          "pattern": {
           "shape": ""
          }
         },
         "name": "FINANCIALS （EX BANKS） ",
         "offsetgroup": "FINANCIALS （EX BANKS） ",
         "orientation": "v",
         "showlegend": true,
         "textposition": "auto",
         "type": "bar",
         "x": [
          "FINANCIALS （EX BANKS） "
         ],
         "xaxis": "x",
         "y": [
          88
         ],
         "yaxis": "y"
        },
        {
         "alignmentgroup": "True",
         "hovertemplate": "color=FOODS<br>x=%{x}<br>y=%{y}<extra></extra>",
         "legendgroup": "FOODS",
         "marker": {
          "color": "#FF6692",
          "pattern": {
           "shape": ""
          }
         },
         "name": "FOODS",
         "offsetgroup": "FOODS",
         "orientation": "v",
         "showlegend": true,
         "textposition": "auto",
         "type": "bar",
         "x": [
          "FOODS"
         ],
         "xaxis": "x",
         "y": [
          1
         ],
         "yaxis": "y"
        },
        {
         "alignmentgroup": "True",
         "hovertemplate": "color=FOODS <br>x=%{x}<br>y=%{y}<extra></extra>",
         "legendgroup": "FOODS ",
         "marker": {
          "color": "#B6E880",
          "pattern": {
           "shape": ""
          }
         },
         "name": "FOODS ",
         "offsetgroup": "FOODS ",
         "orientation": "v",
         "showlegend": true,
         "textposition": "auto",
         "type": "bar",
         "x": [
          "FOODS "
         ],
         "xaxis": "x",
         "y": [
          136
         ],
         "yaxis": "y"
        },
        {
         "alignmentgroup": "True",
         "hovertemplate": "color=IT & SERVICES, OTHERS<br>x=%{x}<br>y=%{y}<extra></extra>",
         "legendgroup": "IT & SERVICES, OTHERS",
         "marker": {
          "color": "#FF97FF",
          "pattern": {
           "shape": ""
          }
         },
         "name": "IT & SERVICES, OTHERS",
         "offsetgroup": "IT & SERVICES, OTHERS",
         "orientation": "v",
         "showlegend": true,
         "textposition": "auto",
         "type": "bar",
         "x": [
          "IT & SERVICES, OTHERS"
         ],
         "xaxis": "x",
         "y": [
          33
         ],
         "yaxis": "y"
        },
        {
         "alignmentgroup": "True",
         "hovertemplate": "color=IT & SERVICES, OTHERS <br>x=%{x}<br>y=%{y}<extra></extra>",
         "legendgroup": "IT & SERVICES, OTHERS ",
         "marker": {
          "color": "#FECB52",
          "pattern": {
           "shape": ""
          }
         },
         "name": "IT & SERVICES, OTHERS ",
         "offsetgroup": "IT & SERVICES, OTHERS ",
         "orientation": "v",
         "showlegend": true,
         "textposition": "auto",
         "type": "bar",
         "x": [
          "IT & SERVICES, OTHERS "
         ],
         "xaxis": "x",
         "y": [
          1155
         ],
         "yaxis": "y"
        },
        {
         "alignmentgroup": "True",
         "hovertemplate": "color=MACHINERY<br>x=%{x}<br>y=%{y}<extra></extra>",
         "legendgroup": "MACHINERY",
         "marker": {
          "color": "#636efa",
          "pattern": {
           "shape": ""
          }
         },
         "name": "MACHINERY",
         "offsetgroup": "MACHINERY",
         "orientation": "v",
         "showlegend": true,
         "textposition": "auto",
         "type": "bar",
         "x": [
          "MACHINERY"
         ],
         "xaxis": "x",
         "y": [
          2
         ],
         "yaxis": "y"
        },
        {
         "alignmentgroup": "True",
         "hovertemplate": "color=MACHINERY <br>x=%{x}<br>y=%{y}<extra></extra>",
         "legendgroup": "MACHINERY ",
         "marker": {
          "color": "#EF553B",
          "pattern": {
           "shape": ""
          }
         },
         "name": "MACHINERY ",
         "offsetgroup": "MACHINERY ",
         "orientation": "v",
         "showlegend": true,
         "textposition": "auto",
         "type": "bar",
         "x": [
          "MACHINERY "
         ],
         "xaxis": "x",
         "y": [
          228
         ],
         "yaxis": "y"
        },
        {
         "alignmentgroup": "True",
         "hovertemplate": "color=PHARMACEUTICAL<br>x=%{x}<br>y=%{y}<extra></extra>",
         "legendgroup": "PHARMACEUTICAL",
         "marker": {
          "color": "#00cc96",
          "pattern": {
           "shape": ""
          }
         },
         "name": "PHARMACEUTICAL",
         "offsetgroup": "PHARMACEUTICAL",
         "orientation": "v",
         "showlegend": true,
         "textposition": "auto",
         "type": "bar",
         "x": [
          "PHARMACEUTICAL"
         ],
         "xaxis": "x",
         "y": [
          4
         ],
         "yaxis": "y"
        },
        {
         "alignmentgroup": "True",
         "hovertemplate": "color=PHARMACEUTICAL <br>x=%{x}<br>y=%{y}<extra></extra>",
         "legendgroup": "PHARMACEUTICAL ",
         "marker": {
          "color": "#ab63fa",
          "pattern": {
           "shape": ""
          }
         },
         "name": "PHARMACEUTICAL ",
         "offsetgroup": "PHARMACEUTICAL ",
         "orientation": "v",
         "showlegend": true,
         "textposition": "auto",
         "type": "bar",
         "x": [
          "PHARMACEUTICAL "
         ],
         "xaxis": "x",
         "y": [
          73
         ],
         "yaxis": "y"
        },
        {
         "alignmentgroup": "True",
         "hovertemplate": "color=RAW MATERIALS & CHEMICALS<br>x=%{x}<br>y=%{y}<extra></extra>",
         "legendgroup": "RAW MATERIALS & CHEMICALS",
         "marker": {
          "color": "#FFA15A",
          "pattern": {
           "shape": ""
          }
         },
         "name": "RAW MATERIALS & CHEMICALS",
         "offsetgroup": "RAW MATERIALS & CHEMICALS",
         "orientation": "v",
         "showlegend": true,
         "textposition": "auto",
         "type": "bar",
         "x": [
          "RAW MATERIALS & CHEMICALS"
         ],
         "xaxis": "x",
         "y": [
          6
         ],
         "yaxis": "y"
        },
        {
         "alignmentgroup": "True",
         "hovertemplate": "color=RAW MATERIALS & CHEMICALS <br>x=%{x}<br>y=%{y}<extra></extra>",
         "legendgroup": "RAW MATERIALS & CHEMICALS ",
         "marker": {
          "color": "#19d3f3",
          "pattern": {
           "shape": ""
          }
         },
         "name": "RAW MATERIALS & CHEMICALS ",
         "offsetgroup": "RAW MATERIALS & CHEMICALS ",
         "orientation": "v",
         "showlegend": true,
         "textposition": "auto",
         "type": "bar",
         "x": [
          "RAW MATERIALS & CHEMICALS "
         ],
         "xaxis": "x",
         "y": [
          288
         ],
         "yaxis": "y"
        },
        {
         "alignmentgroup": "True",
         "hovertemplate": "color=REAL ESTATE<br>x=%{x}<br>y=%{y}<extra></extra>",
         "legendgroup": "REAL ESTATE",
         "marker": {
          "color": "#FF6692",
          "pattern": {
           "shape": ""
          }
         },
         "name": "REAL ESTATE",
         "offsetgroup": "REAL ESTATE",
         "orientation": "v",
         "showlegend": true,
         "textposition": "auto",
         "type": "bar",
         "x": [
          "REAL ESTATE"
         ],
         "xaxis": "x",
         "y": [
          6
         ],
         "yaxis": "y"
        },
        {
         "alignmentgroup": "True",
         "hovertemplate": "color=REAL ESTATE <br>x=%{x}<br>y=%{y}<extra></extra>",
         "legendgroup": "REAL ESTATE ",
         "marker": {
          "color": "#B6E880",
          "pattern": {
           "shape": ""
          }
         },
         "name": "REAL ESTATE ",
         "offsetgroup": "REAL ESTATE ",
         "orientation": "v",
         "showlegend": true,
         "textposition": "auto",
         "type": "bar",
         "x": [
          "REAL ESTATE "
         ],
         "xaxis": "x",
         "y": [
          137
         ],
         "yaxis": "y"
        },
        {
         "alignmentgroup": "True",
         "hovertemplate": "color=RETAIL TRADE<br>x=%{x}<br>y=%{y}<extra></extra>",
         "legendgroup": "RETAIL TRADE",
         "marker": {
          "color": "#FF97FF",
          "pattern": {
           "shape": ""
          }
         },
         "name": "RETAIL TRADE",
         "offsetgroup": "RETAIL TRADE",
         "orientation": "v",
         "showlegend": true,
         "textposition": "auto",
         "type": "bar",
         "x": [
          "RETAIL TRADE"
         ],
         "xaxis": "x",
         "y": [
          20
         ],
         "yaxis": "y"
        },
        {
         "alignmentgroup": "True",
         "hovertemplate": "color=RETAIL TRADE <br>x=%{x}<br>y=%{y}<extra></extra>",
         "legendgroup": "RETAIL TRADE ",
         "marker": {
          "color": "#FECB52",
          "pattern": {
           "shape": ""
          }
         },
         "name": "RETAIL TRADE ",
         "offsetgroup": "RETAIL TRADE ",
         "orientation": "v",
         "showlegend": true,
         "textposition": "auto",
         "type": "bar",
         "x": [
          "RETAIL TRADE "
         ],
         "xaxis": "x",
         "y": [
          339
         ],
         "yaxis": "y"
        },
        {
         "alignmentgroup": "True",
         "hovertemplate": "color=STEEL & NONFERROUS METALS<br>x=%{x}<br>y=%{y}<extra></extra>",
         "legendgroup": "STEEL & NONFERROUS METALS",
         "marker": {
          "color": "#636efa",
          "pattern": {
           "shape": ""
          }
         },
         "name": "STEEL & NONFERROUS METALS",
         "offsetgroup": "STEEL & NONFERROUS METALS",
         "orientation": "v",
         "showlegend": true,
         "textposition": "auto",
         "type": "bar",
         "x": [
          "STEEL & NONFERROUS METALS"
         ],
         "xaxis": "x",
         "y": [
          3
         ],
         "yaxis": "y"
        },
        {
         "alignmentgroup": "True",
         "hovertemplate": "color=STEEL & NONFERROUS METALS <br>x=%{x}<br>y=%{y}<extra></extra>",
         "legendgroup": "STEEL & NONFERROUS METALS ",
         "marker": {
          "color": "#EF553B",
          "pattern": {
           "shape": ""
          }
         },
         "name": "STEEL & NONFERROUS METALS ",
         "offsetgroup": "STEEL & NONFERROUS METALS ",
         "orientation": "v",
         "showlegend": true,
         "textposition": "auto",
         "type": "bar",
         "x": [
          "STEEL & NONFERROUS METALS "
         ],
         "xaxis": "x",
         "y": [
          77
         ],
         "yaxis": "y"
        },
        {
         "alignmentgroup": "True",
         "hovertemplate": "color=TRANSPORTATION & LOGISTICS<br>x=%{x}<br>y=%{y}<extra></extra>",
         "legendgroup": "TRANSPORTATION & LOGISTICS",
         "marker": {
          "color": "#00cc96",
          "pattern": {
           "shape": ""
          }
         },
         "name": "TRANSPORTATION & LOGISTICS",
         "offsetgroup": "TRANSPORTATION & LOGISTICS",
         "orientation": "v",
         "showlegend": true,
         "textposition": "auto",
         "type": "bar",
         "x": [
          "TRANSPORTATION & LOGISTICS"
         ],
         "xaxis": "x",
         "y": [
          2
         ],
         "yaxis": "y"
        },
        {
         "alignmentgroup": "True",
         "hovertemplate": "color=TRANSPORTATION & LOGISTICS <br>x=%{x}<br>y=%{y}<extra></extra>",
         "legendgroup": "TRANSPORTATION & LOGISTICS ",
         "marker": {
          "color": "#ab63fa",
          "pattern": {
           "shape": ""
          }
         },
         "name": "TRANSPORTATION & LOGISTICS ",
         "offsetgroup": "TRANSPORTATION & LOGISTICS ",
         "orientation": "v",
         "showlegend": true,
         "textposition": "auto",
         "type": "bar",
         "x": [
          "TRANSPORTATION & LOGISTICS "
         ],
         "xaxis": "x",
         "y": [
          117
         ],
         "yaxis": "y"
        }
       ],
       "layout": {
        "barmode": "relative",
        "legend": {
         "title": {
          "text": "color"
         },
         "tracegroupgap": 0
        },
        "margin": {
         "t": 60
        },
        "showlegend": true,
        "template": {
         "data": {
          "bar": [
           {
            "error_x": {
             "color": "#2a3f5f"
            },
            "error_y": {
             "color": "#2a3f5f"
            },
            "marker": {
             "line": {
              "color": "white",
              "width": 0.5
             },
             "pattern": {
              "fillmode": "overlay",
              "size": 10,
              "solidity": 0.2
             }
            },
            "type": "bar"
           }
          ],
          "barpolar": [
           {
            "marker": {
             "line": {
              "color": "white",
              "width": 0.5
             },
             "pattern": {
              "fillmode": "overlay",
              "size": 10,
              "solidity": 0.2
             }
            },
            "type": "barpolar"
           }
          ],
          "carpet": [
           {
            "aaxis": {
             "endlinecolor": "#2a3f5f",
             "gridcolor": "#C8D4E3",
             "linecolor": "#C8D4E3",
             "minorgridcolor": "#C8D4E3",
             "startlinecolor": "#2a3f5f"
            },
            "baxis": {
             "endlinecolor": "#2a3f5f",
             "gridcolor": "#C8D4E3",
             "linecolor": "#C8D4E3",
             "minorgridcolor": "#C8D4E3",
             "startlinecolor": "#2a3f5f"
            },
            "type": "carpet"
           }
          ],
          "choropleth": [
           {
            "colorbar": {
             "outlinewidth": 0,
             "ticks": ""
            },
            "type": "choropleth"
           }
          ],
          "contour": [
           {
            "colorbar": {
             "outlinewidth": 0,
             "ticks": ""
            },
            "colorscale": [
             [
              0,
              "#0d0887"
             ],
             [
              0.1111111111111111,
              "#46039f"
             ],
             [
              0.2222222222222222,
              "#7201a8"
             ],
             [
              0.3333333333333333,
              "#9c179e"
             ],
             [
              0.4444444444444444,
              "#bd3786"
             ],
             [
              0.5555555555555556,
              "#d8576b"
             ],
             [
              0.6666666666666666,
              "#ed7953"
             ],
             [
              0.7777777777777778,
              "#fb9f3a"
             ],
             [
              0.8888888888888888,
              "#fdca26"
             ],
             [
              1,
              "#f0f921"
             ]
            ],
            "type": "contour"
           }
          ],
          "contourcarpet": [
           {
            "colorbar": {
             "outlinewidth": 0,
             "ticks": ""
            },
            "type": "contourcarpet"
           }
          ],
          "heatmap": [
           {
            "colorbar": {
             "outlinewidth": 0,
             "ticks": ""
            },
            "colorscale": [
             [
              0,
              "#0d0887"
             ],
             [
              0.1111111111111111,
              "#46039f"
             ],
             [
              0.2222222222222222,
              "#7201a8"
             ],
             [
              0.3333333333333333,
              "#9c179e"
             ],
             [
              0.4444444444444444,
              "#bd3786"
             ],
             [
              0.5555555555555556,
              "#d8576b"
             ],
             [
              0.6666666666666666,
              "#ed7953"
             ],
             [
              0.7777777777777778,
              "#fb9f3a"
             ],
             [
              0.8888888888888888,
              "#fdca26"
             ],
             [
              1,
              "#f0f921"
             ]
            ],
            "type": "heatmap"
           }
          ],
          "heatmapgl": [
           {
            "colorbar": {
             "outlinewidth": 0,
             "ticks": ""
            },
            "colorscale": [
             [
              0,
              "#0d0887"
             ],
             [
              0.1111111111111111,
              "#46039f"
             ],
             [
              0.2222222222222222,
              "#7201a8"
             ],
             [
              0.3333333333333333,
              "#9c179e"
             ],
             [
              0.4444444444444444,
              "#bd3786"
             ],
             [
              0.5555555555555556,
              "#d8576b"
             ],
             [
              0.6666666666666666,
              "#ed7953"
             ],
             [
              0.7777777777777778,
              "#fb9f3a"
             ],
             [
              0.8888888888888888,
              "#fdca26"
             ],
             [
              1,
              "#f0f921"
             ]
            ],
            "type": "heatmapgl"
           }
          ],
          "histogram": [
           {
            "marker": {
             "pattern": {
              "fillmode": "overlay",
              "size": 10,
              "solidity": 0.2
             }
            },
            "type": "histogram"
           }
          ],
          "histogram2d": [
           {
            "colorbar": {
             "outlinewidth": 0,
             "ticks": ""
            },
            "colorscale": [
             [
              0,
              "#0d0887"
             ],
             [
              0.1111111111111111,
              "#46039f"
             ],
             [
              0.2222222222222222,
              "#7201a8"
             ],
             [
              0.3333333333333333,
              "#9c179e"
             ],
             [
              0.4444444444444444,
              "#bd3786"
             ],
             [
              0.5555555555555556,
              "#d8576b"
             ],
             [
              0.6666666666666666,
              "#ed7953"
             ],
             [
              0.7777777777777778,
              "#fb9f3a"
             ],
             [
              0.8888888888888888,
              "#fdca26"
             ],
             [
              1,
              "#f0f921"
             ]
            ],
            "type": "histogram2d"
           }
          ],
          "histogram2dcontour": [
           {
            "colorbar": {
             "outlinewidth": 0,
             "ticks": ""
            },
            "colorscale": [
             [
              0,
              "#0d0887"
             ],
             [
              0.1111111111111111,
              "#46039f"
             ],
             [
              0.2222222222222222,
              "#7201a8"
             ],
             [
              0.3333333333333333,
              "#9c179e"
             ],
             [
              0.4444444444444444,
              "#bd3786"
             ],
             [
              0.5555555555555556,
              "#d8576b"
             ],
             [
              0.6666666666666666,
              "#ed7953"
             ],
             [
              0.7777777777777778,
              "#fb9f3a"
             ],
             [
              0.8888888888888888,
              "#fdca26"
             ],
             [
              1,
              "#f0f921"
             ]
            ],
            "type": "histogram2dcontour"
           }
          ],
          "mesh3d": [
           {
            "colorbar": {
             "outlinewidth": 0,
             "ticks": ""
            },
            "type": "mesh3d"
           }
          ],
          "parcoords": [
           {
            "line": {
             "colorbar": {
              "outlinewidth": 0,
              "ticks": ""
             }
            },
            "type": "parcoords"
           }
          ],
          "pie": [
           {
            "automargin": true,
            "type": "pie"
           }
          ],
          "scatter": [
           {
            "fillpattern": {
             "fillmode": "overlay",
             "size": 10,
             "solidity": 0.2
            },
            "type": "scatter"
           }
          ],
          "scatter3d": [
           {
            "line": {
             "colorbar": {
              "outlinewidth": 0,
              "ticks": ""
             }
            },
            "marker": {
             "colorbar": {
              "outlinewidth": 0,
              "ticks": ""
             }
            },
            "type": "scatter3d"
           }
          ],
          "scattercarpet": [
           {
            "marker": {
             "colorbar": {
              "outlinewidth": 0,
              "ticks": ""
             }
            },
            "type": "scattercarpet"
           }
          ],
          "scattergeo": [
           {
            "marker": {
             "colorbar": {
              "outlinewidth": 0,
              "ticks": ""
             }
            },
            "type": "scattergeo"
           }
          ],
          "scattergl": [
           {
            "marker": {
             "colorbar": {
              "outlinewidth": 0,
              "ticks": ""
             }
            },
            "type": "scattergl"
           }
          ],
          "scattermapbox": [
           {
            "marker": {
             "colorbar": {
              "outlinewidth": 0,
              "ticks": ""
             }
            },
            "type": "scattermapbox"
           }
          ],
          "scatterpolar": [
           {
            "marker": {
             "colorbar": {
              "outlinewidth": 0,
              "ticks": ""
             }
            },
            "type": "scatterpolar"
           }
          ],
          "scatterpolargl": [
           {
            "marker": {
             "colorbar": {
              "outlinewidth": 0,
              "ticks": ""
             }
            },
            "type": "scatterpolargl"
           }
          ],
          "scatterternary": [
           {
            "marker": {
             "colorbar": {
              "outlinewidth": 0,
              "ticks": ""
             }
            },
            "type": "scatterternary"
           }
          ],
          "surface": [
           {
            "colorbar": {
             "outlinewidth": 0,
             "ticks": ""
            },
            "colorscale": [
             [
              0,
              "#0d0887"
             ],
             [
              0.1111111111111111,
              "#46039f"
             ],
             [
              0.2222222222222222,
              "#7201a8"
             ],
             [
              0.3333333333333333,
              "#9c179e"
             ],
             [
              0.4444444444444444,
              "#bd3786"
             ],
             [
              0.5555555555555556,
              "#d8576b"
             ],
             [
              0.6666666666666666,
              "#ed7953"
             ],
             [
              0.7777777777777778,
              "#fb9f3a"
             ],
             [
              0.8888888888888888,
              "#fdca26"
             ],
             [
              1,
              "#f0f921"
             ]
            ],
            "type": "surface"
           }
          ],
          "table": [
           {
            "cells": {
             "fill": {
              "color": "#EBF0F8"
             },
             "line": {
              "color": "white"
             }
            },
            "header": {
             "fill": {
              "color": "#C8D4E3"
             },
             "line": {
              "color": "white"
             }
            },
            "type": "table"
           }
          ]
         },
         "layout": {
          "annotationdefaults": {
           "arrowcolor": "#2a3f5f",
           "arrowhead": 0,
           "arrowwidth": 1
          },
          "autotypenumbers": "strict",
          "coloraxis": {
           "colorbar": {
            "outlinewidth": 0,
            "ticks": ""
           }
          },
          "colorscale": {
           "diverging": [
            [
             0,
             "#8e0152"
            ],
            [
             0.1,
             "#c51b7d"
            ],
            [
             0.2,
             "#de77ae"
            ],
            [
             0.3,
             "#f1b6da"
            ],
            [
             0.4,
             "#fde0ef"
            ],
            [
             0.5,
             "#f7f7f7"
            ],
            [
             0.6,
             "#e6f5d0"
            ],
            [
             0.7,
             "#b8e186"
            ],
            [
             0.8,
             "#7fbc41"
            ],
            [
             0.9,
             "#4d9221"
            ],
            [
             1,
             "#276419"
            ]
           ],
           "sequential": [
            [
             0,
             "#0d0887"
            ],
            [
             0.1111111111111111,
             "#46039f"
            ],
            [
             0.2222222222222222,
             "#7201a8"
            ],
            [
             0.3333333333333333,
             "#9c179e"
            ],
            [
             0.4444444444444444,
             "#bd3786"
            ],
            [
             0.5555555555555556,
             "#d8576b"
            ],
            [
             0.6666666666666666,
             "#ed7953"
            ],
            [
             0.7777777777777778,
             "#fb9f3a"
            ],
            [
             0.8888888888888888,
             "#fdca26"
            ],
            [
             1,
             "#f0f921"
            ]
           ],
           "sequentialminus": [
            [
             0,
             "#0d0887"
            ],
            [
             0.1111111111111111,
             "#46039f"
            ],
            [
             0.2222222222222222,
             "#7201a8"
            ],
            [
             0.3333333333333333,
             "#9c179e"
            ],
            [
             0.4444444444444444,
             "#bd3786"
            ],
            [
             0.5555555555555556,
             "#d8576b"
            ],
            [
             0.6666666666666666,
             "#ed7953"
            ],
            [
             0.7777777777777778,
             "#fb9f3a"
            ],
            [
             0.8888888888888888,
             "#fdca26"
            ],
            [
             1,
             "#f0f921"
            ]
           ]
          },
          "colorway": [
           "#636efa",
           "#EF553B",
           "#00cc96",
           "#ab63fa",
           "#FFA15A",
           "#19d3f3",
           "#FF6692",
           "#B6E880",
           "#FF97FF",
           "#FECB52"
          ],
          "font": {
           "color": "#2a3f5f"
          },
          "geo": {
           "bgcolor": "white",
           "lakecolor": "white",
           "landcolor": "white",
           "showlakes": true,
           "showland": true,
           "subunitcolor": "#C8D4E3"
          },
          "hoverlabel": {
           "align": "left"
          },
          "hovermode": "closest",
          "mapbox": {
           "style": "light"
          },
          "paper_bgcolor": "white",
          "plot_bgcolor": "white",
          "polar": {
           "angularaxis": {
            "gridcolor": "#EBF0F8",
            "linecolor": "#EBF0F8",
            "ticks": ""
           },
           "bgcolor": "white",
           "radialaxis": {
            "gridcolor": "#EBF0F8",
            "linecolor": "#EBF0F8",
            "ticks": ""
           }
          },
          "scene": {
           "xaxis": {
            "backgroundcolor": "white",
            "gridcolor": "#DFE8F3",
            "gridwidth": 2,
            "linecolor": "#EBF0F8",
            "showbackground": true,
            "ticks": "",
            "zerolinecolor": "#EBF0F8"
           },
           "yaxis": {
            "backgroundcolor": "white",
            "gridcolor": "#DFE8F3",
            "gridwidth": 2,
            "linecolor": "#EBF0F8",
            "showbackground": true,
            "ticks": "",
            "zerolinecolor": "#EBF0F8"
           },
           "zaxis": {
            "backgroundcolor": "white",
            "gridcolor": "#DFE8F3",
            "gridwidth": 2,
            "linecolor": "#EBF0F8",
            "showbackground": true,
            "ticks": "",
            "zerolinecolor": "#EBF0F8"
           }
          },
          "shapedefaults": {
           "line": {
            "color": "#2a3f5f"
           }
          },
          "ternary": {
           "aaxis": {
            "gridcolor": "#DFE8F3",
            "linecolor": "#A2B1C6",
            "ticks": ""
           },
           "baxis": {
            "gridcolor": "#DFE8F3",
            "linecolor": "#A2B1C6",
            "ticks": ""
           },
           "bgcolor": "white",
           "caxis": {
            "gridcolor": "#DFE8F3",
            "linecolor": "#A2B1C6",
            "ticks": ""
           }
          },
          "title": {
           "x": 0.05
          },
          "xaxis": {
           "automargin": true,
           "gridcolor": "#EBF0F8",
           "linecolor": "#EBF0F8",
           "ticks": "",
           "title": {
            "standoff": 15
           },
           "zerolinecolor": "#EBF0F8",
           "zerolinewidth": 2
          },
          "yaxis": {
           "automargin": true,
           "gridcolor": "#EBF0F8",
           "linecolor": "#EBF0F8",
           "ticks": "",
           "title": {
            "standoff": 15
           },
           "zerolinecolor": "#EBF0F8",
           "zerolinewidth": 2
          }
         }
        },
        "title": {
         "text": "Data Distribution ",
         "x": 0.5,
         "xanchor": "center",
         "y": 0.95,
         "yanchor": "top"
        },
        "xaxis": {
         "anchor": "y",
         "domain": [
          0,
          1
         ],
         "title": {
          "text": "Assets"
         }
        },
        "yaxis": {
         "anchor": "x",
         "domain": [
          0,
          1
         ],
         "title": {
          "text": "Number of Rows"
         }
        }
       }
      },
      "text/html": [
       "<div>                            <div id=\"ff34ec41-63e7-4f0f-ab50-eb37206bf74e\" class=\"plotly-graph-div\" style=\"height:525px; width:100%;\"></div>            <script type=\"text/javascript\">                require([\"plotly\"], function(Plotly) {                    window.PLOTLYENV=window.PLOTLYENV || {};                                    if (document.getElementById(\"ff34ec41-63e7-4f0f-ab50-eb37206bf74e\")) {                    Plotly.newPlot(                        \"ff34ec41-63e7-4f0f-ab50-eb37206bf74e\",                        [{\"alignmentgroup\":\"True\",\"hovertemplate\":\"color=-<br>x=%{x}<br>y=%{y}<extra></extra>\",\"legendgroup\":\"-\",\"marker\":{\"color\":\"#636efa\",\"pattern\":{\"shape\":\"\"}},\"name\":\"-\",\"offsetgroup\":\"-\",\"orientation\":\"v\",\"showlegend\":true,\"textposition\":\"auto\",\"x\":[\"-\"],\"xaxis\":\"x\",\"y\":[500],\"yaxis\":\"y\",\"type\":\"bar\"},{\"alignmentgroup\":\"True\",\"hovertemplate\":\"color=AUTOMOBILES & TRANSPORTATION EQUIPMENT<br>x=%{x}<br>y=%{y}<extra></extra>\",\"legendgroup\":\"AUTOMOBILES & TRANSPORTATION EQUIPMENT\",\"marker\":{\"color\":\"#EF553B\",\"pattern\":{\"shape\":\"\"}},\"name\":\"AUTOMOBILES & TRANSPORTATION EQUIPMENT\",\"offsetgroup\":\"AUTOMOBILES & TRANSPORTATION EQUIPMENT\",\"orientation\":\"v\",\"showlegend\":true,\"textposition\":\"auto\",\"x\":[\"AUTOMOBILES & TRANSPORTATION EQUIPMENT\"],\"xaxis\":\"x\",\"y\":[6],\"yaxis\":\"y\",\"type\":\"bar\"},{\"alignmentgroup\":\"True\",\"hovertemplate\":\"color=AUTOMOBILES & TRANSPORTATION EQUIPMENT <br>x=%{x}<br>y=%{y}<extra></extra>\",\"legendgroup\":\"AUTOMOBILES & TRANSPORTATION EQUIPMENT \",\"marker\":{\"color\":\"#00cc96\",\"pattern\":{\"shape\":\"\"}},\"name\":\"AUTOMOBILES & TRANSPORTATION EQUIPMENT \",\"offsetgroup\":\"AUTOMOBILES & TRANSPORTATION EQUIPMENT \",\"orientation\":\"v\",\"showlegend\":true,\"textposition\":\"auto\",\"x\":[\"AUTOMOBILES & TRANSPORTATION EQUIPMENT \"],\"xaxis\":\"x\",\"y\":[108],\"yaxis\":\"y\",\"type\":\"bar\"},{\"alignmentgroup\":\"True\",\"hovertemplate\":\"color=BANKS<br>x=%{x}<br>y=%{y}<extra></extra>\",\"legendgroup\":\"BANKS\",\"marker\":{\"color\":\"#ab63fa\",\"pattern\":{\"shape\":\"\"}},\"name\":\"BANKS\",\"offsetgroup\":\"BANKS\",\"orientation\":\"v\",\"showlegend\":true,\"textposition\":\"auto\",\"x\":[\"BANKS\"],\"xaxis\":\"x\",\"y\":[12],\"yaxis\":\"y\",\"type\":\"bar\"},{\"alignmentgroup\":\"True\",\"hovertemplate\":\"color=BANKS <br>x=%{x}<br>y=%{y}<extra></extra>\",\"legendgroup\":\"BANKS \",\"marker\":{\"color\":\"#FFA15A\",\"pattern\":{\"shape\":\"\"}},\"name\":\"BANKS \",\"offsetgroup\":\"BANKS \",\"orientation\":\"v\",\"showlegend\":true,\"textposition\":\"auto\",\"x\":[\"BANKS \"],\"xaxis\":\"x\",\"y\":[81],\"yaxis\":\"y\",\"type\":\"bar\"},{\"alignmentgroup\":\"True\",\"hovertemplate\":\"color=COMMERCIAL & WHOLESALE TRADE<br>x=%{x}<br>y=%{y}<extra></extra>\",\"legendgroup\":\"COMMERCIAL & WHOLESALE TRADE\",\"marker\":{\"color\":\"#19d3f3\",\"pattern\":{\"shape\":\"\"}},\"name\":\"COMMERCIAL & WHOLESALE TRADE\",\"offsetgroup\":\"COMMERCIAL & WHOLESALE TRADE\",\"orientation\":\"v\",\"showlegend\":true,\"textposition\":\"auto\",\"x\":[\"COMMERCIAL & WHOLESALE TRADE\"],\"xaxis\":\"x\",\"y\":[9],\"yaxis\":\"y\",\"type\":\"bar\"},{\"alignmentgroup\":\"True\",\"hovertemplate\":\"color=COMMERCIAL & WHOLESALE TRADE <br>x=%{x}<br>y=%{y}<extra></extra>\",\"legendgroup\":\"COMMERCIAL & WHOLESALE TRADE \",\"marker\":{\"color\":\"#FF6692\",\"pattern\":{\"shape\":\"\"}},\"name\":\"COMMERCIAL & WHOLESALE TRADE \",\"offsetgroup\":\"COMMERCIAL & WHOLESALE TRADE \",\"orientation\":\"v\",\"showlegend\":true,\"textposition\":\"auto\",\"x\":[\"COMMERCIAL & WHOLESALE TRADE \"],\"xaxis\":\"x\",\"y\":[311],\"yaxis\":\"y\",\"type\":\"bar\"},{\"alignmentgroup\":\"True\",\"hovertemplate\":\"color=CONSTRUCTION & MATERIALS<br>x=%{x}<br>y=%{y}<extra></extra>\",\"legendgroup\":\"CONSTRUCTION & MATERIALS\",\"marker\":{\"color\":\"#B6E880\",\"pattern\":{\"shape\":\"\"}},\"name\":\"CONSTRUCTION & MATERIALS\",\"offsetgroup\":\"CONSTRUCTION & MATERIALS\",\"orientation\":\"v\",\"showlegend\":true,\"textposition\":\"auto\",\"x\":[\"CONSTRUCTION & MATERIALS\"],\"xaxis\":\"x\",\"y\":[13],\"yaxis\":\"y\",\"type\":\"bar\"},{\"alignmentgroup\":\"True\",\"hovertemplate\":\"color=CONSTRUCTION & MATERIALS <br>x=%{x}<br>y=%{y}<extra></extra>\",\"legendgroup\":\"CONSTRUCTION & MATERIALS \",\"marker\":{\"color\":\"#FF97FF\",\"pattern\":{\"shape\":\"\"}},\"name\":\"CONSTRUCTION & MATERIALS \",\"offsetgroup\":\"CONSTRUCTION & MATERIALS \",\"orientation\":\"v\",\"showlegend\":true,\"textposition\":\"auto\",\"x\":[\"CONSTRUCTION & MATERIALS \"],\"xaxis\":\"x\",\"y\":[303],\"yaxis\":\"y\",\"type\":\"bar\"},{\"alignmentgroup\":\"True\",\"hovertemplate\":\"color=ELECTRIC APPLIANCES & PRECISION INSTRUMENTS<br>x=%{x}<br>y=%{y}<extra></extra>\",\"legendgroup\":\"ELECTRIC APPLIANCES & PRECISION INSTRUMENTS\",\"marker\":{\"color\":\"#FECB52\",\"pattern\":{\"shape\":\"\"}},\"name\":\"ELECTRIC APPLIANCES & PRECISION INSTRUMENTS\",\"offsetgroup\":\"ELECTRIC APPLIANCES & PRECISION INSTRUMENTS\",\"orientation\":\"v\",\"showlegend\":true,\"textposition\":\"auto\",\"x\":[\"ELECTRIC APPLIANCES & PRECISION INSTRUMENTS\"],\"xaxis\":\"x\",\"y\":[12],\"yaxis\":\"y\",\"type\":\"bar\"},{\"alignmentgroup\":\"True\",\"hovertemplate\":\"color=ELECTRIC APPLIANCES & PRECISION INSTRUMENTS <br>x=%{x}<br>y=%{y}<extra></extra>\",\"legendgroup\":\"ELECTRIC APPLIANCES & PRECISION INSTRUMENTS \",\"marker\":{\"color\":\"#636efa\",\"pattern\":{\"shape\":\"\"}},\"name\":\"ELECTRIC APPLIANCES & PRECISION INSTRUMENTS \",\"offsetgroup\":\"ELECTRIC APPLIANCES & PRECISION INSTRUMENTS \",\"orientation\":\"v\",\"showlegend\":true,\"textposition\":\"auto\",\"x\":[\"ELECTRIC APPLIANCES & PRECISION INSTRUMENTS \"],\"xaxis\":\"x\",\"y\":[293],\"yaxis\":\"y\",\"type\":\"bar\"},{\"alignmentgroup\":\"True\",\"hovertemplate\":\"color=ELECTRIC POWER & GAS <br>x=%{x}<br>y=%{y}<extra></extra>\",\"legendgroup\":\"ELECTRIC POWER & GAS \",\"marker\":{\"color\":\"#EF553B\",\"pattern\":{\"shape\":\"\"}},\"name\":\"ELECTRIC POWER & GAS \",\"offsetgroup\":\"ELECTRIC POWER & GAS \",\"orientation\":\"v\",\"showlegend\":true,\"textposition\":\"auto\",\"x\":[\"ELECTRIC POWER & GAS \"],\"xaxis\":\"x\",\"y\":[25],\"yaxis\":\"y\",\"type\":\"bar\"},{\"alignmentgroup\":\"True\",\"hovertemplate\":\"color=ENERGY RESOURCES<br>x=%{x}<br>y=%{y}<extra></extra>\",\"legendgroup\":\"ENERGY RESOURCES\",\"marker\":{\"color\":\"#00cc96\",\"pattern\":{\"shape\":\"\"}},\"name\":\"ENERGY RESOURCES\",\"offsetgroup\":\"ENERGY RESOURCES\",\"orientation\":\"v\",\"showlegend\":true,\"textposition\":\"auto\",\"x\":[\"ENERGY RESOURCES\"],\"xaxis\":\"x\",\"y\":[3],\"yaxis\":\"y\",\"type\":\"bar\"},{\"alignmentgroup\":\"True\",\"hovertemplate\":\"color=ENERGY RESOURCES <br>x=%{x}<br>y=%{y}<extra></extra>\",\"legendgroup\":\"ENERGY RESOURCES \",\"marker\":{\"color\":\"#ab63fa\",\"pattern\":{\"shape\":\"\"}},\"name\":\"ENERGY RESOURCES \",\"offsetgroup\":\"ENERGY RESOURCES \",\"orientation\":\"v\",\"showlegend\":true,\"textposition\":\"auto\",\"x\":[\"ENERGY RESOURCES \"],\"xaxis\":\"x\",\"y\":[17],\"yaxis\":\"y\",\"type\":\"bar\"},{\"alignmentgroup\":\"True\",\"hovertemplate\":\"color=FINANCIALS \\uff08EX BANKS\\uff09<br>x=%{x}<br>y=%{y}<extra></extra>\",\"legendgroup\":\"FINANCIALS \\uff08EX BANKS\\uff09\",\"marker\":{\"color\":\"#FFA15A\",\"pattern\":{\"shape\":\"\"}},\"name\":\"FINANCIALS \\uff08EX BANKS\\uff09\",\"offsetgroup\":\"FINANCIALS \\uff08EX BANKS\\uff09\",\"orientation\":\"v\",\"showlegend\":true,\"textposition\":\"auto\",\"x\":[\"FINANCIALS \\uff08EX BANKS\\uff09\"],\"xaxis\":\"x\",\"y\":[9],\"yaxis\":\"y\",\"type\":\"bar\"},{\"alignmentgroup\":\"True\",\"hovertemplate\":\"color=FINANCIALS \\uff08EX BANKS\\uff09 <br>x=%{x}<br>y=%{y}<extra></extra>\",\"legendgroup\":\"FINANCIALS \\uff08EX BANKS\\uff09 \",\"marker\":{\"color\":\"#19d3f3\",\"pattern\":{\"shape\":\"\"}},\"name\":\"FINANCIALS \\uff08EX BANKS\\uff09 \",\"offsetgroup\":\"FINANCIALS \\uff08EX BANKS\\uff09 \",\"orientation\":\"v\",\"showlegend\":true,\"textposition\":\"auto\",\"x\":[\"FINANCIALS \\uff08EX BANKS\\uff09 \"],\"xaxis\":\"x\",\"y\":[88],\"yaxis\":\"y\",\"type\":\"bar\"},{\"alignmentgroup\":\"True\",\"hovertemplate\":\"color=FOODS<br>x=%{x}<br>y=%{y}<extra></extra>\",\"legendgroup\":\"FOODS\",\"marker\":{\"color\":\"#FF6692\",\"pattern\":{\"shape\":\"\"}},\"name\":\"FOODS\",\"offsetgroup\":\"FOODS\",\"orientation\":\"v\",\"showlegend\":true,\"textposition\":\"auto\",\"x\":[\"FOODS\"],\"xaxis\":\"x\",\"y\":[1],\"yaxis\":\"y\",\"type\":\"bar\"},{\"alignmentgroup\":\"True\",\"hovertemplate\":\"color=FOODS <br>x=%{x}<br>y=%{y}<extra></extra>\",\"legendgroup\":\"FOODS \",\"marker\":{\"color\":\"#B6E880\",\"pattern\":{\"shape\":\"\"}},\"name\":\"FOODS \",\"offsetgroup\":\"FOODS \",\"orientation\":\"v\",\"showlegend\":true,\"textposition\":\"auto\",\"x\":[\"FOODS \"],\"xaxis\":\"x\",\"y\":[136],\"yaxis\":\"y\",\"type\":\"bar\"},{\"alignmentgroup\":\"True\",\"hovertemplate\":\"color=IT & SERVICES, OTHERS<br>x=%{x}<br>y=%{y}<extra></extra>\",\"legendgroup\":\"IT & SERVICES, OTHERS\",\"marker\":{\"color\":\"#FF97FF\",\"pattern\":{\"shape\":\"\"}},\"name\":\"IT & SERVICES, OTHERS\",\"offsetgroup\":\"IT & SERVICES, OTHERS\",\"orientation\":\"v\",\"showlegend\":true,\"textposition\":\"auto\",\"x\":[\"IT & SERVICES, OTHERS\"],\"xaxis\":\"x\",\"y\":[33],\"yaxis\":\"y\",\"type\":\"bar\"},{\"alignmentgroup\":\"True\",\"hovertemplate\":\"color=IT & SERVICES, OTHERS <br>x=%{x}<br>y=%{y}<extra></extra>\",\"legendgroup\":\"IT & SERVICES, OTHERS \",\"marker\":{\"color\":\"#FECB52\",\"pattern\":{\"shape\":\"\"}},\"name\":\"IT & SERVICES, OTHERS \",\"offsetgroup\":\"IT & SERVICES, OTHERS \",\"orientation\":\"v\",\"showlegend\":true,\"textposition\":\"auto\",\"x\":[\"IT & SERVICES, OTHERS \"],\"xaxis\":\"x\",\"y\":[1155],\"yaxis\":\"y\",\"type\":\"bar\"},{\"alignmentgroup\":\"True\",\"hovertemplate\":\"color=MACHINERY<br>x=%{x}<br>y=%{y}<extra></extra>\",\"legendgroup\":\"MACHINERY\",\"marker\":{\"color\":\"#636efa\",\"pattern\":{\"shape\":\"\"}},\"name\":\"MACHINERY\",\"offsetgroup\":\"MACHINERY\",\"orientation\":\"v\",\"showlegend\":true,\"textposition\":\"auto\",\"x\":[\"MACHINERY\"],\"xaxis\":\"x\",\"y\":[2],\"yaxis\":\"y\",\"type\":\"bar\"},{\"alignmentgroup\":\"True\",\"hovertemplate\":\"color=MACHINERY <br>x=%{x}<br>y=%{y}<extra></extra>\",\"legendgroup\":\"MACHINERY \",\"marker\":{\"color\":\"#EF553B\",\"pattern\":{\"shape\":\"\"}},\"name\":\"MACHINERY \",\"offsetgroup\":\"MACHINERY \",\"orientation\":\"v\",\"showlegend\":true,\"textposition\":\"auto\",\"x\":[\"MACHINERY \"],\"xaxis\":\"x\",\"y\":[228],\"yaxis\":\"y\",\"type\":\"bar\"},{\"alignmentgroup\":\"True\",\"hovertemplate\":\"color=PHARMACEUTICAL<br>x=%{x}<br>y=%{y}<extra></extra>\",\"legendgroup\":\"PHARMACEUTICAL\",\"marker\":{\"color\":\"#00cc96\",\"pattern\":{\"shape\":\"\"}},\"name\":\"PHARMACEUTICAL\",\"offsetgroup\":\"PHARMACEUTICAL\",\"orientation\":\"v\",\"showlegend\":true,\"textposition\":\"auto\",\"x\":[\"PHARMACEUTICAL\"],\"xaxis\":\"x\",\"y\":[4],\"yaxis\":\"y\",\"type\":\"bar\"},{\"alignmentgroup\":\"True\",\"hovertemplate\":\"color=PHARMACEUTICAL <br>x=%{x}<br>y=%{y}<extra></extra>\",\"legendgroup\":\"PHARMACEUTICAL \",\"marker\":{\"color\":\"#ab63fa\",\"pattern\":{\"shape\":\"\"}},\"name\":\"PHARMACEUTICAL \",\"offsetgroup\":\"PHARMACEUTICAL \",\"orientation\":\"v\",\"showlegend\":true,\"textposition\":\"auto\",\"x\":[\"PHARMACEUTICAL \"],\"xaxis\":\"x\",\"y\":[73],\"yaxis\":\"y\",\"type\":\"bar\"},{\"alignmentgroup\":\"True\",\"hovertemplate\":\"color=RAW MATERIALS & CHEMICALS<br>x=%{x}<br>y=%{y}<extra></extra>\",\"legendgroup\":\"RAW MATERIALS & CHEMICALS\",\"marker\":{\"color\":\"#FFA15A\",\"pattern\":{\"shape\":\"\"}},\"name\":\"RAW MATERIALS & CHEMICALS\",\"offsetgroup\":\"RAW MATERIALS & CHEMICALS\",\"orientation\":\"v\",\"showlegend\":true,\"textposition\":\"auto\",\"x\":[\"RAW MATERIALS & CHEMICALS\"],\"xaxis\":\"x\",\"y\":[6],\"yaxis\":\"y\",\"type\":\"bar\"},{\"alignmentgroup\":\"True\",\"hovertemplate\":\"color=RAW MATERIALS & CHEMICALS <br>x=%{x}<br>y=%{y}<extra></extra>\",\"legendgroup\":\"RAW MATERIALS & CHEMICALS \",\"marker\":{\"color\":\"#19d3f3\",\"pattern\":{\"shape\":\"\"}},\"name\":\"RAW MATERIALS & CHEMICALS \",\"offsetgroup\":\"RAW MATERIALS & CHEMICALS \",\"orientation\":\"v\",\"showlegend\":true,\"textposition\":\"auto\",\"x\":[\"RAW MATERIALS & CHEMICALS \"],\"xaxis\":\"x\",\"y\":[288],\"yaxis\":\"y\",\"type\":\"bar\"},{\"alignmentgroup\":\"True\",\"hovertemplate\":\"color=REAL ESTATE<br>x=%{x}<br>y=%{y}<extra></extra>\",\"legendgroup\":\"REAL ESTATE\",\"marker\":{\"color\":\"#FF6692\",\"pattern\":{\"shape\":\"\"}},\"name\":\"REAL ESTATE\",\"offsetgroup\":\"REAL ESTATE\",\"orientation\":\"v\",\"showlegend\":true,\"textposition\":\"auto\",\"x\":[\"REAL ESTATE\"],\"xaxis\":\"x\",\"y\":[6],\"yaxis\":\"y\",\"type\":\"bar\"},{\"alignmentgroup\":\"True\",\"hovertemplate\":\"color=REAL ESTATE <br>x=%{x}<br>y=%{y}<extra></extra>\",\"legendgroup\":\"REAL ESTATE \",\"marker\":{\"color\":\"#B6E880\",\"pattern\":{\"shape\":\"\"}},\"name\":\"REAL ESTATE \",\"offsetgroup\":\"REAL ESTATE \",\"orientation\":\"v\",\"showlegend\":true,\"textposition\":\"auto\",\"x\":[\"REAL ESTATE \"],\"xaxis\":\"x\",\"y\":[137],\"yaxis\":\"y\",\"type\":\"bar\"},{\"alignmentgroup\":\"True\",\"hovertemplate\":\"color=RETAIL TRADE<br>x=%{x}<br>y=%{y}<extra></extra>\",\"legendgroup\":\"RETAIL TRADE\",\"marker\":{\"color\":\"#FF97FF\",\"pattern\":{\"shape\":\"\"}},\"name\":\"RETAIL TRADE\",\"offsetgroup\":\"RETAIL TRADE\",\"orientation\":\"v\",\"showlegend\":true,\"textposition\":\"auto\",\"x\":[\"RETAIL TRADE\"],\"xaxis\":\"x\",\"y\":[20],\"yaxis\":\"y\",\"type\":\"bar\"},{\"alignmentgroup\":\"True\",\"hovertemplate\":\"color=RETAIL TRADE <br>x=%{x}<br>y=%{y}<extra></extra>\",\"legendgroup\":\"RETAIL TRADE \",\"marker\":{\"color\":\"#FECB52\",\"pattern\":{\"shape\":\"\"}},\"name\":\"RETAIL TRADE \",\"offsetgroup\":\"RETAIL TRADE \",\"orientation\":\"v\",\"showlegend\":true,\"textposition\":\"auto\",\"x\":[\"RETAIL TRADE \"],\"xaxis\":\"x\",\"y\":[339],\"yaxis\":\"y\",\"type\":\"bar\"},{\"alignmentgroup\":\"True\",\"hovertemplate\":\"color=STEEL & NONFERROUS METALS<br>x=%{x}<br>y=%{y}<extra></extra>\",\"legendgroup\":\"STEEL & NONFERROUS METALS\",\"marker\":{\"color\":\"#636efa\",\"pattern\":{\"shape\":\"\"}},\"name\":\"STEEL & NONFERROUS METALS\",\"offsetgroup\":\"STEEL & NONFERROUS METALS\",\"orientation\":\"v\",\"showlegend\":true,\"textposition\":\"auto\",\"x\":[\"STEEL & NONFERROUS METALS\"],\"xaxis\":\"x\",\"y\":[3],\"yaxis\":\"y\",\"type\":\"bar\"},{\"alignmentgroup\":\"True\",\"hovertemplate\":\"color=STEEL & NONFERROUS METALS <br>x=%{x}<br>y=%{y}<extra></extra>\",\"legendgroup\":\"STEEL & NONFERROUS METALS \",\"marker\":{\"color\":\"#EF553B\",\"pattern\":{\"shape\":\"\"}},\"name\":\"STEEL & NONFERROUS METALS \",\"offsetgroup\":\"STEEL & NONFERROUS METALS \",\"orientation\":\"v\",\"showlegend\":true,\"textposition\":\"auto\",\"x\":[\"STEEL & NONFERROUS METALS \"],\"xaxis\":\"x\",\"y\":[77],\"yaxis\":\"y\",\"type\":\"bar\"},{\"alignmentgroup\":\"True\",\"hovertemplate\":\"color=TRANSPORTATION & LOGISTICS<br>x=%{x}<br>y=%{y}<extra></extra>\",\"legendgroup\":\"TRANSPORTATION & LOGISTICS\",\"marker\":{\"color\":\"#00cc96\",\"pattern\":{\"shape\":\"\"}},\"name\":\"TRANSPORTATION & LOGISTICS\",\"offsetgroup\":\"TRANSPORTATION & LOGISTICS\",\"orientation\":\"v\",\"showlegend\":true,\"textposition\":\"auto\",\"x\":[\"TRANSPORTATION & LOGISTICS\"],\"xaxis\":\"x\",\"y\":[2],\"yaxis\":\"y\",\"type\":\"bar\"},{\"alignmentgroup\":\"True\",\"hovertemplate\":\"color=TRANSPORTATION & LOGISTICS <br>x=%{x}<br>y=%{y}<extra></extra>\",\"legendgroup\":\"TRANSPORTATION & LOGISTICS \",\"marker\":{\"color\":\"#ab63fa\",\"pattern\":{\"shape\":\"\"}},\"name\":\"TRANSPORTATION & LOGISTICS \",\"offsetgroup\":\"TRANSPORTATION & LOGISTICS \",\"orientation\":\"v\",\"showlegend\":true,\"textposition\":\"auto\",\"x\":[\"TRANSPORTATION & LOGISTICS \"],\"xaxis\":\"x\",\"y\":[117],\"yaxis\":\"y\",\"type\":\"bar\"}],                        {\"template\":{\"data\":{\"barpolar\":[{\"marker\":{\"line\":{\"color\":\"white\",\"width\":0.5},\"pattern\":{\"fillmode\":\"overlay\",\"size\":10,\"solidity\":0.2}},\"type\":\"barpolar\"}],\"bar\":[{\"error_x\":{\"color\":\"#2a3f5f\"},\"error_y\":{\"color\":\"#2a3f5f\"},\"marker\":{\"line\":{\"color\":\"white\",\"width\":0.5},\"pattern\":{\"fillmode\":\"overlay\",\"size\":10,\"solidity\":0.2}},\"type\":\"bar\"}],\"carpet\":[{\"aaxis\":{\"endlinecolor\":\"#2a3f5f\",\"gridcolor\":\"#C8D4E3\",\"linecolor\":\"#C8D4E3\",\"minorgridcolor\":\"#C8D4E3\",\"startlinecolor\":\"#2a3f5f\"},\"baxis\":{\"endlinecolor\":\"#2a3f5f\",\"gridcolor\":\"#C8D4E3\",\"linecolor\":\"#C8D4E3\",\"minorgridcolor\":\"#C8D4E3\",\"startlinecolor\":\"#2a3f5f\"},\"type\":\"carpet\"}],\"choropleth\":[{\"colorbar\":{\"outlinewidth\":0,\"ticks\":\"\"},\"type\":\"choropleth\"}],\"contourcarpet\":[{\"colorbar\":{\"outlinewidth\":0,\"ticks\":\"\"},\"type\":\"contourcarpet\"}],\"contour\":[{\"colorbar\":{\"outlinewidth\":0,\"ticks\":\"\"},\"colorscale\":[[0.0,\"#0d0887\"],[0.1111111111111111,\"#46039f\"],[0.2222222222222222,\"#7201a8\"],[0.3333333333333333,\"#9c179e\"],[0.4444444444444444,\"#bd3786\"],[0.5555555555555556,\"#d8576b\"],[0.6666666666666666,\"#ed7953\"],[0.7777777777777778,\"#fb9f3a\"],[0.8888888888888888,\"#fdca26\"],[1.0,\"#f0f921\"]],\"type\":\"contour\"}],\"heatmapgl\":[{\"colorbar\":{\"outlinewidth\":0,\"ticks\":\"\"},\"colorscale\":[[0.0,\"#0d0887\"],[0.1111111111111111,\"#46039f\"],[0.2222222222222222,\"#7201a8\"],[0.3333333333333333,\"#9c179e\"],[0.4444444444444444,\"#bd3786\"],[0.5555555555555556,\"#d8576b\"],[0.6666666666666666,\"#ed7953\"],[0.7777777777777778,\"#fb9f3a\"],[0.8888888888888888,\"#fdca26\"],[1.0,\"#f0f921\"]],\"type\":\"heatmapgl\"}],\"heatmap\":[{\"colorbar\":{\"outlinewidth\":0,\"ticks\":\"\"},\"colorscale\":[[0.0,\"#0d0887\"],[0.1111111111111111,\"#46039f\"],[0.2222222222222222,\"#7201a8\"],[0.3333333333333333,\"#9c179e\"],[0.4444444444444444,\"#bd3786\"],[0.5555555555555556,\"#d8576b\"],[0.6666666666666666,\"#ed7953\"],[0.7777777777777778,\"#fb9f3a\"],[0.8888888888888888,\"#fdca26\"],[1.0,\"#f0f921\"]],\"type\":\"heatmap\"}],\"histogram2dcontour\":[{\"colorbar\":{\"outlinewidth\":0,\"ticks\":\"\"},\"colorscale\":[[0.0,\"#0d0887\"],[0.1111111111111111,\"#46039f\"],[0.2222222222222222,\"#7201a8\"],[0.3333333333333333,\"#9c179e\"],[0.4444444444444444,\"#bd3786\"],[0.5555555555555556,\"#d8576b\"],[0.6666666666666666,\"#ed7953\"],[0.7777777777777778,\"#fb9f3a\"],[0.8888888888888888,\"#fdca26\"],[1.0,\"#f0f921\"]],\"type\":\"histogram2dcontour\"}],\"histogram2d\":[{\"colorbar\":{\"outlinewidth\":0,\"ticks\":\"\"},\"colorscale\":[[0.0,\"#0d0887\"],[0.1111111111111111,\"#46039f\"],[0.2222222222222222,\"#7201a8\"],[0.3333333333333333,\"#9c179e\"],[0.4444444444444444,\"#bd3786\"],[0.5555555555555556,\"#d8576b\"],[0.6666666666666666,\"#ed7953\"],[0.7777777777777778,\"#fb9f3a\"],[0.8888888888888888,\"#fdca26\"],[1.0,\"#f0f921\"]],\"type\":\"histogram2d\"}],\"histogram\":[{\"marker\":{\"pattern\":{\"fillmode\":\"overlay\",\"size\":10,\"solidity\":0.2}},\"type\":\"histogram\"}],\"mesh3d\":[{\"colorbar\":{\"outlinewidth\":0,\"ticks\":\"\"},\"type\":\"mesh3d\"}],\"parcoords\":[{\"line\":{\"colorbar\":{\"outlinewidth\":0,\"ticks\":\"\"}},\"type\":\"parcoords\"}],\"pie\":[{\"automargin\":true,\"type\":\"pie\"}],\"scatter3d\":[{\"line\":{\"colorbar\":{\"outlinewidth\":0,\"ticks\":\"\"}},\"marker\":{\"colorbar\":{\"outlinewidth\":0,\"ticks\":\"\"}},\"type\":\"scatter3d\"}],\"scattercarpet\":[{\"marker\":{\"colorbar\":{\"outlinewidth\":0,\"ticks\":\"\"}},\"type\":\"scattercarpet\"}],\"scattergeo\":[{\"marker\":{\"colorbar\":{\"outlinewidth\":0,\"ticks\":\"\"}},\"type\":\"scattergeo\"}],\"scattergl\":[{\"marker\":{\"colorbar\":{\"outlinewidth\":0,\"ticks\":\"\"}},\"type\":\"scattergl\"}],\"scattermapbox\":[{\"marker\":{\"colorbar\":{\"outlinewidth\":0,\"ticks\":\"\"}},\"type\":\"scattermapbox\"}],\"scatterpolargl\":[{\"marker\":{\"colorbar\":{\"outlinewidth\":0,\"ticks\":\"\"}},\"type\":\"scatterpolargl\"}],\"scatterpolar\":[{\"marker\":{\"colorbar\":{\"outlinewidth\":0,\"ticks\":\"\"}},\"type\":\"scatterpolar\"}],\"scatter\":[{\"fillpattern\":{\"fillmode\":\"overlay\",\"size\":10,\"solidity\":0.2},\"type\":\"scatter\"}],\"scatterternary\":[{\"marker\":{\"colorbar\":{\"outlinewidth\":0,\"ticks\":\"\"}},\"type\":\"scatterternary\"}],\"surface\":[{\"colorbar\":{\"outlinewidth\":0,\"ticks\":\"\"},\"colorscale\":[[0.0,\"#0d0887\"],[0.1111111111111111,\"#46039f\"],[0.2222222222222222,\"#7201a8\"],[0.3333333333333333,\"#9c179e\"],[0.4444444444444444,\"#bd3786\"],[0.5555555555555556,\"#d8576b\"],[0.6666666666666666,\"#ed7953\"],[0.7777777777777778,\"#fb9f3a\"],[0.8888888888888888,\"#fdca26\"],[1.0,\"#f0f921\"]],\"type\":\"surface\"}],\"table\":[{\"cells\":{\"fill\":{\"color\":\"#EBF0F8\"},\"line\":{\"color\":\"white\"}},\"header\":{\"fill\":{\"color\":\"#C8D4E3\"},\"line\":{\"color\":\"white\"}},\"type\":\"table\"}]},\"layout\":{\"annotationdefaults\":{\"arrowcolor\":\"#2a3f5f\",\"arrowhead\":0,\"arrowwidth\":1},\"autotypenumbers\":\"strict\",\"coloraxis\":{\"colorbar\":{\"outlinewidth\":0,\"ticks\":\"\"}},\"colorscale\":{\"diverging\":[[0,\"#8e0152\"],[0.1,\"#c51b7d\"],[0.2,\"#de77ae\"],[0.3,\"#f1b6da\"],[0.4,\"#fde0ef\"],[0.5,\"#f7f7f7\"],[0.6,\"#e6f5d0\"],[0.7,\"#b8e186\"],[0.8,\"#7fbc41\"],[0.9,\"#4d9221\"],[1,\"#276419\"]],\"sequential\":[[0.0,\"#0d0887\"],[0.1111111111111111,\"#46039f\"],[0.2222222222222222,\"#7201a8\"],[0.3333333333333333,\"#9c179e\"],[0.4444444444444444,\"#bd3786\"],[0.5555555555555556,\"#d8576b\"],[0.6666666666666666,\"#ed7953\"],[0.7777777777777778,\"#fb9f3a\"],[0.8888888888888888,\"#fdca26\"],[1.0,\"#f0f921\"]],\"sequentialminus\":[[0.0,\"#0d0887\"],[0.1111111111111111,\"#46039f\"],[0.2222222222222222,\"#7201a8\"],[0.3333333333333333,\"#9c179e\"],[0.4444444444444444,\"#bd3786\"],[0.5555555555555556,\"#d8576b\"],[0.6666666666666666,\"#ed7953\"],[0.7777777777777778,\"#fb9f3a\"],[0.8888888888888888,\"#fdca26\"],[1.0,\"#f0f921\"]]},\"colorway\":[\"#636efa\",\"#EF553B\",\"#00cc96\",\"#ab63fa\",\"#FFA15A\",\"#19d3f3\",\"#FF6692\",\"#B6E880\",\"#FF97FF\",\"#FECB52\"],\"font\":{\"color\":\"#2a3f5f\"},\"geo\":{\"bgcolor\":\"white\",\"lakecolor\":\"white\",\"landcolor\":\"white\",\"showlakes\":true,\"showland\":true,\"subunitcolor\":\"#C8D4E3\"},\"hoverlabel\":{\"align\":\"left\"},\"hovermode\":\"closest\",\"mapbox\":{\"style\":\"light\"},\"paper_bgcolor\":\"white\",\"plot_bgcolor\":\"white\",\"polar\":{\"angularaxis\":{\"gridcolor\":\"#EBF0F8\",\"linecolor\":\"#EBF0F8\",\"ticks\":\"\"},\"bgcolor\":\"white\",\"radialaxis\":{\"gridcolor\":\"#EBF0F8\",\"linecolor\":\"#EBF0F8\",\"ticks\":\"\"}},\"scene\":{\"xaxis\":{\"backgroundcolor\":\"white\",\"gridcolor\":\"#DFE8F3\",\"gridwidth\":2,\"linecolor\":\"#EBF0F8\",\"showbackground\":true,\"ticks\":\"\",\"zerolinecolor\":\"#EBF0F8\"},\"yaxis\":{\"backgroundcolor\":\"white\",\"gridcolor\":\"#DFE8F3\",\"gridwidth\":2,\"linecolor\":\"#EBF0F8\",\"showbackground\":true,\"ticks\":\"\",\"zerolinecolor\":\"#EBF0F8\"},\"zaxis\":{\"backgroundcolor\":\"white\",\"gridcolor\":\"#DFE8F3\",\"gridwidth\":2,\"linecolor\":\"#EBF0F8\",\"showbackground\":true,\"ticks\":\"\",\"zerolinecolor\":\"#EBF0F8\"}},\"shapedefaults\":{\"line\":{\"color\":\"#2a3f5f\"}},\"ternary\":{\"aaxis\":{\"gridcolor\":\"#DFE8F3\",\"linecolor\":\"#A2B1C6\",\"ticks\":\"\"},\"baxis\":{\"gridcolor\":\"#DFE8F3\",\"linecolor\":\"#A2B1C6\",\"ticks\":\"\"},\"bgcolor\":\"white\",\"caxis\":{\"gridcolor\":\"#DFE8F3\",\"linecolor\":\"#A2B1C6\",\"ticks\":\"\"}},\"title\":{\"x\":0.05},\"xaxis\":{\"automargin\":true,\"gridcolor\":\"#EBF0F8\",\"linecolor\":\"#EBF0F8\",\"ticks\":\"\",\"title\":{\"standoff\":15},\"zerolinecolor\":\"#EBF0F8\",\"zerolinewidth\":2},\"yaxis\":{\"automargin\":true,\"gridcolor\":\"#EBF0F8\",\"linecolor\":\"#EBF0F8\",\"ticks\":\"\",\"title\":{\"standoff\":15},\"zerolinecolor\":\"#EBF0F8\",\"zerolinewidth\":2}}},\"xaxis\":{\"anchor\":\"y\",\"domain\":[0.0,1.0],\"title\":{\"text\":\"Assets\"}},\"yaxis\":{\"anchor\":\"x\",\"domain\":[0.0,1.0],\"title\":{\"text\":\"Number of Rows\"}},\"legend\":{\"title\":{\"text\":\"color\"},\"tracegroupgap\":0},\"margin\":{\"t\":60},\"barmode\":\"relative\",\"title\":{\"text\":\"Data Distribution \",\"y\":0.95,\"x\":0.5,\"xanchor\":\"center\",\"yanchor\":\"top\"},\"showlegend\":true},                        {\"responsive\": true}                    ).then(function(){\n",
       "                            \n",
       "var gd = document.getElementById('ff34ec41-63e7-4f0f-ab50-eb37206bf74e');\n",
       "var x = new MutationObserver(function (mutations, observer) {{\n",
       "        var display = window.getComputedStyle(gd).display;\n",
       "        if (!display || display === 'none') {{\n",
       "            console.log([gd, 'removed!']);\n",
       "            Plotly.purge(gd);\n",
       "            observer.disconnect();\n",
       "        }}\n",
       "}});\n",
       "\n",
       "// Listen for the removal of the full notebook cells\n",
       "var notebookContainer = gd.closest('#notebook-container');\n",
       "if (notebookContainer) {{\n",
       "    x.observe(notebookContainer, {childList: true});\n",
       "}}\n",
       "\n",
       "// Listen for the clearing of the current output cell\n",
       "var outputEl = gd.closest('.output');\n",
       "if (outputEl) {{\n",
       "    x.observe(outputEl, {childList: true});\n",
       "}}\n",
       "\n",
       "                        })                };                });            </script>        </div>"
      ]
     },
     "metadata": {},
     "output_type": "display_data"
    }
   ],
   "source": [
    "# Distribution of above table (value_counts)\n",
    "dist = stock_list.groupby('SecuritiesCode').size().reset_index(name='total')\n",
    "stock_list_two = pd.merge(stock_list, dist, how='left', on=['SecuritiesCode'])\n",
    "stock_list_two = stock_list_two.groupby(['17SectorName']).total.sum().reset_index(name='total')\n",
    "fig = px.bar(x=stock_list_two[\"17SectorName\"],\n",
    "             y=stock_list_two['total'],\n",
    "             color=stock_list_two[\"17SectorName\"],\n",
    "             color_continuous_scale=\"Emrld\")\n",
    "fig.update_xaxes(title=\"Assets\")\n",
    "fig.update_yaxes(title=\"Number of Rows\")\n",
    "fig.update_layout(showlegend=True,\n",
    "                  title={\n",
    "                      'text': 'Data Distribution ',  # Text of title\n",
    "                      'y': 0.95,  # position of title in y-axis in numbers\n",
    "                      'x': 0.5,  # position of title in x-axis in numbers\n",
    "                      'xanchor': 'center',  # direction of position over title (x)\n",
    "                      'yanchor': 'top'},  # direction of position over title (y)\n",
    "                  template=\"plotly_white\")\n",
    "fig.show()"
   ]
  },
  {
   "cell_type": "markdown",
   "metadata": {
    "pycharm": {
     "name": "#%% md\n"
    }
   },
   "source": [
    "## stock_prices"
   ]
  },
  {
   "cell_type": "code",
   "execution_count": 20,
   "metadata": {
    "collapsed": false,
    "jupyter": {
     "outputs_hidden": false
    },
    "pycharm": {
     "name": "#%%\n"
    }
   },
   "outputs": [
    {
     "data": {
      "text/html": [
       "<div>\n",
       "<style scoped>\n",
       "    .dataframe tbody tr th:only-of-type {\n",
       "        vertical-align: middle;\n",
       "    }\n",
       "\n",
       "    .dataframe tbody tr th {\n",
       "        vertical-align: top;\n",
       "    }\n",
       "\n",
       "    .dataframe thead th {\n",
       "        text-align: right;\n",
       "    }\n",
       "</style>\n",
       "<table border=\"1\" class=\"dataframe\">\n",
       "  <thead>\n",
       "    <tr style=\"text-align: right;\">\n",
       "      <th></th>\n",
       "      <th>SecuritiesCode</th>\n",
       "      <th>Open</th>\n",
       "      <th>High</th>\n",
       "      <th>Low</th>\n",
       "      <th>Close</th>\n",
       "      <th>Volume</th>\n",
       "      <th>AdjustmentFactor</th>\n",
       "      <th>ExpectedDividend</th>\n",
       "      <th>Target</th>\n",
       "    </tr>\n",
       "  </thead>\n",
       "  <tbody>\n",
       "    <tr>\n",
       "      <th>count</th>\n",
       "      <td>2.332531e+06</td>\n",
       "      <td>2.324923e+06</td>\n",
       "      <td>2.324923e+06</td>\n",
       "      <td>2.324923e+06</td>\n",
       "      <td>2.324923e+06</td>\n",
       "      <td>2.332531e+06</td>\n",
       "      <td>2.332531e+06</td>\n",
       "      <td>18865.000000</td>\n",
       "      <td>2.332293e+06</td>\n",
       "    </tr>\n",
       "    <tr>\n",
       "      <th>mean</th>\n",
       "      <td>5.894835e+03</td>\n",
       "      <td>2.594511e+03</td>\n",
       "      <td>2.626540e+03</td>\n",
       "      <td>2.561227e+03</td>\n",
       "      <td>2.594023e+03</td>\n",
       "      <td>6.919366e+05</td>\n",
       "      <td>1.000508e+00</td>\n",
       "      <td>22.017730</td>\n",
       "      <td>4.450964e-04</td>\n",
       "    </tr>\n",
       "    <tr>\n",
       "      <th>std</th>\n",
       "      <td>2.404161e+03</td>\n",
       "      <td>3.577192e+03</td>\n",
       "      <td>3.619363e+03</td>\n",
       "      <td>3.533494e+03</td>\n",
       "      <td>3.576538e+03</td>\n",
       "      <td>3.911256e+06</td>\n",
       "      <td>6.773040e-02</td>\n",
       "      <td>29.882453</td>\n",
       "      <td>2.339879e-02</td>\n",
       "    </tr>\n",
       "    <tr>\n",
       "      <th>min</th>\n",
       "      <td>1.301000e+03</td>\n",
       "      <td>1.400000e+01</td>\n",
       "      <td>1.500000e+01</td>\n",
       "      <td>1.300000e+01</td>\n",
       "      <td>1.400000e+01</td>\n",
       "      <td>0.000000e+00</td>\n",
       "      <td>1.000000e-01</td>\n",
       "      <td>0.000000</td>\n",
       "      <td>-5.785414e-01</td>\n",
       "    </tr>\n",
       "    <tr>\n",
       "      <th>25%</th>\n",
       "      <td>3.891000e+03</td>\n",
       "      <td>1.022000e+03</td>\n",
       "      <td>1.035000e+03</td>\n",
       "      <td>1.009000e+03</td>\n",
       "      <td>1.022000e+03</td>\n",
       "      <td>3.030000e+04</td>\n",
       "      <td>1.000000e+00</td>\n",
       "      <td>5.000000</td>\n",
       "      <td>-1.049869e-02</td>\n",
       "    </tr>\n",
       "    <tr>\n",
       "      <th>50%</th>\n",
       "      <td>6.238000e+03</td>\n",
       "      <td>1.812000e+03</td>\n",
       "      <td>1.834000e+03</td>\n",
       "      <td>1.790000e+03</td>\n",
       "      <td>1.811000e+03</td>\n",
       "      <td>1.071000e+05</td>\n",
       "      <td>1.000000e+00</td>\n",
       "      <td>15.000000</td>\n",
       "      <td>0.000000e+00</td>\n",
       "    </tr>\n",
       "    <tr>\n",
       "      <th>75%</th>\n",
       "      <td>7.965000e+03</td>\n",
       "      <td>3.030000e+03</td>\n",
       "      <td>3.070000e+03</td>\n",
       "      <td>2.995000e+03</td>\n",
       "      <td>3.030000e+03</td>\n",
       "      <td>4.021000e+05</td>\n",
       "      <td>1.000000e+00</td>\n",
       "      <td>30.000000</td>\n",
       "      <td>1.053159e-02</td>\n",
       "    </tr>\n",
       "    <tr>\n",
       "      <th>max</th>\n",
       "      <td>9.997000e+03</td>\n",
       "      <td>1.099500e+05</td>\n",
       "      <td>1.105000e+05</td>\n",
       "      <td>1.072000e+05</td>\n",
       "      <td>1.095500e+05</td>\n",
       "      <td>6.436540e+08</td>\n",
       "      <td>2.000000e+01</td>\n",
       "      <td>1070.000000</td>\n",
       "      <td>1.119512e+00</td>\n",
       "    </tr>\n",
       "  </tbody>\n",
       "</table>\n",
       "</div>"
      ],
      "text/plain": [
       "       SecuritiesCode          Open          High           Low         Close  \\\n",
       "count    2.332531e+06  2.324923e+06  2.324923e+06  2.324923e+06  2.324923e+06   \n",
       "mean     5.894835e+03  2.594511e+03  2.626540e+03  2.561227e+03  2.594023e+03   \n",
       "std      2.404161e+03  3.577192e+03  3.619363e+03  3.533494e+03  3.576538e+03   \n",
       "min      1.301000e+03  1.400000e+01  1.500000e+01  1.300000e+01  1.400000e+01   \n",
       "25%      3.891000e+03  1.022000e+03  1.035000e+03  1.009000e+03  1.022000e+03   \n",
       "50%      6.238000e+03  1.812000e+03  1.834000e+03  1.790000e+03  1.811000e+03   \n",
       "75%      7.965000e+03  3.030000e+03  3.070000e+03  2.995000e+03  3.030000e+03   \n",
       "max      9.997000e+03  1.099500e+05  1.105000e+05  1.072000e+05  1.095500e+05   \n",
       "\n",
       "             Volume  AdjustmentFactor  ExpectedDividend        Target  \n",
       "count  2.332531e+06      2.332531e+06      18865.000000  2.332293e+06  \n",
       "mean   6.919366e+05      1.000508e+00         22.017730  4.450964e-04  \n",
       "std    3.911256e+06      6.773040e-02         29.882453  2.339879e-02  \n",
       "min    0.000000e+00      1.000000e-01          0.000000 -5.785414e-01  \n",
       "25%    3.030000e+04      1.000000e+00          5.000000 -1.049869e-02  \n",
       "50%    1.071000e+05      1.000000e+00         15.000000  0.000000e+00  \n",
       "75%    4.021000e+05      1.000000e+00         30.000000  1.053159e-02  \n",
       "max    6.436540e+08      2.000000e+01       1070.000000  1.119512e+00  "
      ]
     },
     "execution_count": 20,
     "metadata": {},
     "output_type": "execute_result"
    }
   ],
   "source": [
    "stock_prices.describe()"
   ]
  },
  {
   "cell_type": "code",
   "execution_count": 21,
   "metadata": {
    "collapsed": false,
    "jupyter": {
     "outputs_hidden": false
    },
    "pycharm": {
     "name": "#%%\n"
    }
   },
   "outputs": [
    {
     "data": {
      "text/html": [
       "<div>\n",
       "<style scoped>\n",
       "    .dataframe tbody tr th:only-of-type {\n",
       "        vertical-align: middle;\n",
       "    }\n",
       "\n",
       "    .dataframe tbody tr th {\n",
       "        vertical-align: top;\n",
       "    }\n",
       "\n",
       "    .dataframe thead th {\n",
       "        text-align: right;\n",
       "    }\n",
       "</style>\n",
       "<table border=\"1\" class=\"dataframe\">\n",
       "  <thead>\n",
       "    <tr style=\"text-align: right;\">\n",
       "      <th></th>\n",
       "      <th>RowId</th>\n",
       "      <th>Date</th>\n",
       "      <th>SecuritiesCode</th>\n",
       "      <th>Open</th>\n",
       "      <th>High</th>\n",
       "      <th>Low</th>\n",
       "      <th>Close</th>\n",
       "      <th>Volume</th>\n",
       "      <th>AdjustmentFactor</th>\n",
       "      <th>ExpectedDividend</th>\n",
       "      <th>SupervisionFlag</th>\n",
       "      <th>Target</th>\n",
       "    </tr>\n",
       "  </thead>\n",
       "  <tbody>\n",
       "    <tr>\n",
       "      <th>0</th>\n",
       "      <td>20170104_1301</td>\n",
       "      <td>2017-01-04</td>\n",
       "      <td>1301</td>\n",
       "      <td>2734.0</td>\n",
       "      <td>2755.0</td>\n",
       "      <td>2730.0</td>\n",
       "      <td>2742.0</td>\n",
       "      <td>31400</td>\n",
       "      <td>1.0</td>\n",
       "      <td>NaN</td>\n",
       "      <td>False</td>\n",
       "      <td>0.000730</td>\n",
       "    </tr>\n",
       "    <tr>\n",
       "      <th>1</th>\n",
       "      <td>20170104_1332</td>\n",
       "      <td>2017-01-04</td>\n",
       "      <td>1332</td>\n",
       "      <td>568.0</td>\n",
       "      <td>576.0</td>\n",
       "      <td>563.0</td>\n",
       "      <td>571.0</td>\n",
       "      <td>2798500</td>\n",
       "      <td>1.0</td>\n",
       "      <td>NaN</td>\n",
       "      <td>False</td>\n",
       "      <td>0.012324</td>\n",
       "    </tr>\n",
       "    <tr>\n",
       "      <th>2</th>\n",
       "      <td>20170104_1333</td>\n",
       "      <td>2017-01-04</td>\n",
       "      <td>1333</td>\n",
       "      <td>3150.0</td>\n",
       "      <td>3210.0</td>\n",
       "      <td>3140.0</td>\n",
       "      <td>3210.0</td>\n",
       "      <td>270800</td>\n",
       "      <td>1.0</td>\n",
       "      <td>NaN</td>\n",
       "      <td>False</td>\n",
       "      <td>0.006154</td>\n",
       "    </tr>\n",
       "    <tr>\n",
       "      <th>3</th>\n",
       "      <td>20170104_1376</td>\n",
       "      <td>2017-01-04</td>\n",
       "      <td>1376</td>\n",
       "      <td>1510.0</td>\n",
       "      <td>1550.0</td>\n",
       "      <td>1510.0</td>\n",
       "      <td>1550.0</td>\n",
       "      <td>11300</td>\n",
       "      <td>1.0</td>\n",
       "      <td>NaN</td>\n",
       "      <td>False</td>\n",
       "      <td>0.011053</td>\n",
       "    </tr>\n",
       "    <tr>\n",
       "      <th>4</th>\n",
       "      <td>20170104_1377</td>\n",
       "      <td>2017-01-04</td>\n",
       "      <td>1377</td>\n",
       "      <td>3270.0</td>\n",
       "      <td>3350.0</td>\n",
       "      <td>3270.0</td>\n",
       "      <td>3330.0</td>\n",
       "      <td>150800</td>\n",
       "      <td>1.0</td>\n",
       "      <td>NaN</td>\n",
       "      <td>False</td>\n",
       "      <td>0.003026</td>\n",
       "    </tr>\n",
       "  </tbody>\n",
       "</table>\n",
       "</div>"
      ],
      "text/plain": [
       "           RowId        Date  SecuritiesCode    Open    High     Low   Close  \\\n",
       "0  20170104_1301  2017-01-04            1301  2734.0  2755.0  2730.0  2742.0   \n",
       "1  20170104_1332  2017-01-04            1332   568.0   576.0   563.0   571.0   \n",
       "2  20170104_1333  2017-01-04            1333  3150.0  3210.0  3140.0  3210.0   \n",
       "3  20170104_1376  2017-01-04            1376  1510.0  1550.0  1510.0  1550.0   \n",
       "4  20170104_1377  2017-01-04            1377  3270.0  3350.0  3270.0  3330.0   \n",
       "\n",
       "    Volume  AdjustmentFactor  ExpectedDividend  SupervisionFlag    Target  \n",
       "0    31400               1.0               NaN            False  0.000730  \n",
       "1  2798500               1.0               NaN            False  0.012324  \n",
       "2   270800               1.0               NaN            False  0.006154  \n",
       "3    11300               1.0               NaN            False  0.011053  \n",
       "4   150800               1.0               NaN            False  0.003026  "
      ]
     },
     "execution_count": 21,
     "metadata": {},
     "output_type": "execute_result"
    }
   ],
   "source": [
    "stock_prices.head()"
   ]
  },
  {
   "cell_type": "code",
   "execution_count": 22,
   "metadata": {
    "collapsed": false,
    "jupyter": {
     "outputs_hidden": false
    },
    "pycharm": {
     "name": "#%%\n"
    }
   },
   "outputs": [
    {
     "name": "stdout",
     "output_type": "stream",
     "text": [
      "<class 'pandas.core.frame.DataFrame'>\n",
      "RangeIndex: 2332531 entries, 0 to 2332530\n",
      "Data columns (total 12 columns):\n",
      " #   Column            Dtype  \n",
      "---  ------            -----  \n",
      " 0   RowId             object \n",
      " 1   Date              object \n",
      " 2   SecuritiesCode    int64  \n",
      " 3   Open              float64\n",
      " 4   High              float64\n",
      " 5   Low               float64\n",
      " 6   Close             float64\n",
      " 7   Volume            int64  \n",
      " 8   AdjustmentFactor  float64\n",
      " 9   ExpectedDividend  float64\n",
      " 10  SupervisionFlag   bool   \n",
      " 11  Target            float64\n",
      "dtypes: bool(1), float64(7), int64(2), object(2)\n",
      "memory usage: 198.0+ MB\n"
     ]
    }
   ],
   "source": [
    "stock_prices.info()"
   ]
  },
  {
   "cell_type": "markdown",
   "metadata": {},
   "source": [
    "### See how a specific stock behaves on each of its trading days:"
   ]
  },
  {
   "cell_type": "code",
   "execution_count": 23,
   "metadata": {
    "collapsed": false,
    "jupyter": {
     "outputs_hidden": false
    },
    "pycharm": {
     "name": "#%%\n"
    }
   },
   "outputs": [
    {
     "data": {
      "text/html": [
       "<div>\n",
       "<style scoped>\n",
       "    .dataframe tbody tr th:only-of-type {\n",
       "        vertical-align: middle;\n",
       "    }\n",
       "\n",
       "    .dataframe tbody tr th {\n",
       "        vertical-align: top;\n",
       "    }\n",
       "\n",
       "    .dataframe thead th {\n",
       "        text-align: right;\n",
       "    }\n",
       "</style>\n",
       "<table border=\"1\" class=\"dataframe\">\n",
       "  <thead>\n",
       "    <tr style=\"text-align: right;\">\n",
       "      <th></th>\n",
       "      <th>RowId</th>\n",
       "      <th>Date</th>\n",
       "      <th>SecuritiesCode</th>\n",
       "      <th>Open</th>\n",
       "      <th>High</th>\n",
       "      <th>Low</th>\n",
       "      <th>Close</th>\n",
       "      <th>Volume</th>\n",
       "      <th>AdjustmentFactor</th>\n",
       "      <th>ExpectedDividend</th>\n",
       "      <th>SupervisionFlag</th>\n",
       "      <th>Target</th>\n",
       "      <th>Close_shift1</th>\n",
       "      <th>Close_shift2</th>\n",
       "      <th>rate</th>\n",
       "    </tr>\n",
       "  </thead>\n",
       "  <tbody>\n",
       "    <tr>\n",
       "      <th>0</th>\n",
       "      <td>20170104_1301</td>\n",
       "      <td>2017-01-04</td>\n",
       "      <td>1301</td>\n",
       "      <td>2734.0</td>\n",
       "      <td>2755.0</td>\n",
       "      <td>2730.0</td>\n",
       "      <td>2742.0</td>\n",
       "      <td>31400</td>\n",
       "      <td>1.0</td>\n",
       "      <td>NaN</td>\n",
       "      <td>False</td>\n",
       "      <td>0.000730</td>\n",
       "      <td>2738.0</td>\n",
       "      <td>2740.0</td>\n",
       "      <td>0.000730</td>\n",
       "    </tr>\n",
       "    <tr>\n",
       "      <th>1</th>\n",
       "      <td>20170105_1301</td>\n",
       "      <td>2017-01-05</td>\n",
       "      <td>1301</td>\n",
       "      <td>2743.0</td>\n",
       "      <td>2747.0</td>\n",
       "      <td>2735.0</td>\n",
       "      <td>2738.0</td>\n",
       "      <td>17900</td>\n",
       "      <td>1.0</td>\n",
       "      <td>NaN</td>\n",
       "      <td>False</td>\n",
       "      <td>0.002920</td>\n",
       "      <td>2740.0</td>\n",
       "      <td>2748.0</td>\n",
       "      <td>0.002920</td>\n",
       "    </tr>\n",
       "    <tr>\n",
       "      <th>2</th>\n",
       "      <td>20170106_1301</td>\n",
       "      <td>2017-01-06</td>\n",
       "      <td>1301</td>\n",
       "      <td>2734.0</td>\n",
       "      <td>2744.0</td>\n",
       "      <td>2720.0</td>\n",
       "      <td>2740.0</td>\n",
       "      <td>19900</td>\n",
       "      <td>1.0</td>\n",
       "      <td>NaN</td>\n",
       "      <td>False</td>\n",
       "      <td>-0.001092</td>\n",
       "      <td>2748.0</td>\n",
       "      <td>2745.0</td>\n",
       "      <td>-0.001092</td>\n",
       "    </tr>\n",
       "    <tr>\n",
       "      <th>3</th>\n",
       "      <td>20170110_1301</td>\n",
       "      <td>2017-01-10</td>\n",
       "      <td>1301</td>\n",
       "      <td>2745.0</td>\n",
       "      <td>2754.0</td>\n",
       "      <td>2735.0</td>\n",
       "      <td>2748.0</td>\n",
       "      <td>24200</td>\n",
       "      <td>1.0</td>\n",
       "      <td>NaN</td>\n",
       "      <td>False</td>\n",
       "      <td>-0.005100</td>\n",
       "      <td>2745.0</td>\n",
       "      <td>2731.0</td>\n",
       "      <td>-0.005100</td>\n",
       "    </tr>\n",
       "    <tr>\n",
       "      <th>4</th>\n",
       "      <td>20170111_1301</td>\n",
       "      <td>2017-01-11</td>\n",
       "      <td>1301</td>\n",
       "      <td>2748.0</td>\n",
       "      <td>2752.0</td>\n",
       "      <td>2737.0</td>\n",
       "      <td>2745.0</td>\n",
       "      <td>9300</td>\n",
       "      <td>1.0</td>\n",
       "      <td>NaN</td>\n",
       "      <td>False</td>\n",
       "      <td>-0.003295</td>\n",
       "      <td>2731.0</td>\n",
       "      <td>2722.0</td>\n",
       "      <td>-0.003295</td>\n",
       "    </tr>\n",
       "  </tbody>\n",
       "</table>\n",
       "</div>"
      ],
      "text/plain": [
       "           RowId        Date  SecuritiesCode    Open    High     Low   Close  \\\n",
       "0  20170104_1301  2017-01-04            1301  2734.0  2755.0  2730.0  2742.0   \n",
       "1  20170105_1301  2017-01-05            1301  2743.0  2747.0  2735.0  2738.0   \n",
       "2  20170106_1301  2017-01-06            1301  2734.0  2744.0  2720.0  2740.0   \n",
       "3  20170110_1301  2017-01-10            1301  2745.0  2754.0  2735.0  2748.0   \n",
       "4  20170111_1301  2017-01-11            1301  2748.0  2752.0  2737.0  2745.0   \n",
       "\n",
       "   Volume  AdjustmentFactor  ExpectedDividend  SupervisionFlag    Target  \\\n",
       "0   31400               1.0               NaN            False  0.000730   \n",
       "1   17900               1.0               NaN            False  0.002920   \n",
       "2   19900               1.0               NaN            False -0.001092   \n",
       "3   24200               1.0               NaN            False -0.005100   \n",
       "4    9300               1.0               NaN            False -0.003295   \n",
       "\n",
       "   Close_shift1  Close_shift2      rate  \n",
       "0        2738.0        2740.0  0.000730  \n",
       "1        2740.0        2748.0  0.002920  \n",
       "2        2748.0        2745.0 -0.001092  \n",
       "3        2745.0        2731.0 -0.005100  \n",
       "4        2731.0        2722.0 -0.003295  "
      ]
     },
     "execution_count": 23,
     "metadata": {},
     "output_type": "execute_result"
    }
   ],
   "source": [
    "temp_df = stock_prices[stock_prices[\"SecuritiesCode\"] == 1301].reset_index(drop=True)\n",
    "functions.calculate_target_as_rate(temp_df)\n",
    "temp_df.head()"
   ]
  },
  {
   "cell_type": "markdown",
   "metadata": {},
   "source": [
    "### On a specific day - rank all stocks by \"Target\". This is when we choose the top and botttom 200 stocks for buying/selling on the next trading day"
   ]
  },
  {
   "cell_type": "code",
   "execution_count": 24,
   "metadata": {
    "collapsed": false,
    "jupyter": {
     "outputs_hidden": false
    },
    "pycharm": {
     "name": "#%%\n"
    }
   },
   "outputs": [
    {
     "data": {
      "text/html": [
       "<div>\n",
       "<style scoped>\n",
       "    .dataframe tbody tr th:only-of-type {\n",
       "        vertical-align: middle;\n",
       "    }\n",
       "\n",
       "    .dataframe tbody tr th {\n",
       "        vertical-align: top;\n",
       "    }\n",
       "\n",
       "    .dataframe thead th {\n",
       "        text-align: right;\n",
       "    }\n",
       "</style>\n",
       "<table border=\"1\" class=\"dataframe\">\n",
       "  <thead>\n",
       "    <tr style=\"text-align: right;\">\n",
       "      <th></th>\n",
       "      <th>RowId</th>\n",
       "      <th>Date</th>\n",
       "      <th>SecuritiesCode</th>\n",
       "      <th>Open</th>\n",
       "      <th>High</th>\n",
       "      <th>Low</th>\n",
       "      <th>Close</th>\n",
       "      <th>Volume</th>\n",
       "      <th>AdjustmentFactor</th>\n",
       "      <th>ExpectedDividend</th>\n",
       "      <th>SupervisionFlag</th>\n",
       "      <th>Target</th>\n",
       "      <th>rank</th>\n",
       "    </tr>\n",
       "  </thead>\n",
       "  <tbody>\n",
       "    <tr>\n",
       "      <th>0</th>\n",
       "      <td>20211202_4699</td>\n",
       "      <td>2021-12-02</td>\n",
       "      <td>4699</td>\n",
       "      <td>2037.0</td>\n",
       "      <td>2149.0</td>\n",
       "      <td>2037.0</td>\n",
       "      <td>2143.0</td>\n",
       "      <td>31000</td>\n",
       "      <td>1.0</td>\n",
       "      <td>NaN</td>\n",
       "      <td>False</td>\n",
       "      <td>0.231481</td>\n",
       "      <td>0.0</td>\n",
       "    </tr>\n",
       "    <tr>\n",
       "      <th>1</th>\n",
       "      <td>20211202_4488</td>\n",
       "      <td>2021-12-02</td>\n",
       "      <td>4488</td>\n",
       "      <td>5900.0</td>\n",
       "      <td>5990.0</td>\n",
       "      <td>5690.0</td>\n",
       "      <td>5700.0</td>\n",
       "      <td>57100</td>\n",
       "      <td>1.0</td>\n",
       "      <td>NaN</td>\n",
       "      <td>False</td>\n",
       "      <td>0.149254</td>\n",
       "      <td>1.0</td>\n",
       "    </tr>\n",
       "    <tr>\n",
       "      <th>2</th>\n",
       "      <td>20211202_8057</td>\n",
       "      <td>2021-12-02</td>\n",
       "      <td>8057</td>\n",
       "      <td>4710.0</td>\n",
       "      <td>4820.0</td>\n",
       "      <td>4615.0</td>\n",
       "      <td>4640.0</td>\n",
       "      <td>29800</td>\n",
       "      <td>1.0</td>\n",
       "      <td>NaN</td>\n",
       "      <td>False</td>\n",
       "      <td>0.123110</td>\n",
       "      <td>2.0</td>\n",
       "    </tr>\n",
       "    <tr>\n",
       "      <th>3</th>\n",
       "      <td>20211202_9632</td>\n",
       "      <td>2021-12-02</td>\n",
       "      <td>9632</td>\n",
       "      <td>8110.0</td>\n",
       "      <td>8150.0</td>\n",
       "      <td>8000.0</td>\n",
       "      <td>8030.0</td>\n",
       "      <td>3900</td>\n",
       "      <td>1.0</td>\n",
       "      <td>NaN</td>\n",
       "      <td>False</td>\n",
       "      <td>0.107011</td>\n",
       "      <td>3.0</td>\n",
       "    </tr>\n",
       "    <tr>\n",
       "      <th>4</th>\n",
       "      <td>20211202_6958</td>\n",
       "      <td>2021-12-02</td>\n",
       "      <td>6958</td>\n",
       "      <td>510.0</td>\n",
       "      <td>525.0</td>\n",
       "      <td>502.0</td>\n",
       "      <td>517.0</td>\n",
       "      <td>639200</td>\n",
       "      <td>1.0</td>\n",
       "      <td>NaN</td>\n",
       "      <td>False</td>\n",
       "      <td>0.103113</td>\n",
       "      <td>4.0</td>\n",
       "    </tr>\n",
       "    <tr>\n",
       "      <th>...</th>\n",
       "      <td>...</td>\n",
       "      <td>...</td>\n",
       "      <td>...</td>\n",
       "      <td>...</td>\n",
       "      <td>...</td>\n",
       "      <td>...</td>\n",
       "      <td>...</td>\n",
       "      <td>...</td>\n",
       "      <td>...</td>\n",
       "      <td>...</td>\n",
       "      <td>...</td>\n",
       "      <td>...</td>\n",
       "      <td>...</td>\n",
       "    </tr>\n",
       "    <tr>\n",
       "      <th>1995</th>\n",
       "      <td>20211202_4483</td>\n",
       "      <td>2021-12-02</td>\n",
       "      <td>4483</td>\n",
       "      <td>8200.0</td>\n",
       "      <td>8590.0</td>\n",
       "      <td>8180.0</td>\n",
       "      <td>8410.0</td>\n",
       "      <td>320300</td>\n",
       "      <td>1.0</td>\n",
       "      <td>NaN</td>\n",
       "      <td>False</td>\n",
       "      <td>-0.085480</td>\n",
       "      <td>1995.0</td>\n",
       "    </tr>\n",
       "    <tr>\n",
       "      <th>1996</th>\n",
       "      <td>20211202_6879</td>\n",
       "      <td>2021-12-02</td>\n",
       "      <td>6879</td>\n",
       "      <td>731.0</td>\n",
       "      <td>745.0</td>\n",
       "      <td>702.0</td>\n",
       "      <td>707.0</td>\n",
       "      <td>735500</td>\n",
       "      <td>1.0</td>\n",
       "      <td>NaN</td>\n",
       "      <td>False</td>\n",
       "      <td>-0.087248</td>\n",
       "      <td>1996.0</td>\n",
       "    </tr>\n",
       "    <tr>\n",
       "      <th>1997</th>\n",
       "      <td>20211202_4168</td>\n",
       "      <td>2021-12-02</td>\n",
       "      <td>4168</td>\n",
       "      <td>4280.0</td>\n",
       "      <td>4390.0</td>\n",
       "      <td>4200.0</td>\n",
       "      <td>4335.0</td>\n",
       "      <td>72600</td>\n",
       "      <td>1.0</td>\n",
       "      <td>NaN</td>\n",
       "      <td>False</td>\n",
       "      <td>-0.094595</td>\n",
       "      <td>1997.0</td>\n",
       "    </tr>\n",
       "    <tr>\n",
       "      <th>1998</th>\n",
       "      <td>20211202_3994</td>\n",
       "      <td>2021-12-02</td>\n",
       "      <td>3994</td>\n",
       "      <td>7490.0</td>\n",
       "      <td>7500.0</td>\n",
       "      <td>7060.0</td>\n",
       "      <td>7070.0</td>\n",
       "      <td>735000</td>\n",
       "      <td>1.0</td>\n",
       "      <td>NaN</td>\n",
       "      <td>False</td>\n",
       "      <td>-0.094980</td>\n",
       "      <td>1998.0</td>\n",
       "    </tr>\n",
       "    <tr>\n",
       "      <th>1999</th>\n",
       "      <td>20211202_4169</td>\n",
       "      <td>2021-12-02</td>\n",
       "      <td>4169</td>\n",
       "      <td>7160.0</td>\n",
       "      <td>7870.0</td>\n",
       "      <td>7110.0</td>\n",
       "      <td>7520.0</td>\n",
       "      <td>783000</td>\n",
       "      <td>1.0</td>\n",
       "      <td>NaN</td>\n",
       "      <td>False</td>\n",
       "      <td>-0.127424</td>\n",
       "      <td>1999.0</td>\n",
       "    </tr>\n",
       "  </tbody>\n",
       "</table>\n",
       "<p>2000 rows × 13 columns</p>\n",
       "</div>"
      ],
      "text/plain": [
       "              RowId        Date  SecuritiesCode    Open    High     Low  \\\n",
       "0     20211202_4699  2021-12-02            4699  2037.0  2149.0  2037.0   \n",
       "1     20211202_4488  2021-12-02            4488  5900.0  5990.0  5690.0   \n",
       "2     20211202_8057  2021-12-02            8057  4710.0  4820.0  4615.0   \n",
       "3     20211202_9632  2021-12-02            9632  8110.0  8150.0  8000.0   \n",
       "4     20211202_6958  2021-12-02            6958   510.0   525.0   502.0   \n",
       "...             ...         ...             ...     ...     ...     ...   \n",
       "1995  20211202_4483  2021-12-02            4483  8200.0  8590.0  8180.0   \n",
       "1996  20211202_6879  2021-12-02            6879   731.0   745.0   702.0   \n",
       "1997  20211202_4168  2021-12-02            4168  4280.0  4390.0  4200.0   \n",
       "1998  20211202_3994  2021-12-02            3994  7490.0  7500.0  7060.0   \n",
       "1999  20211202_4169  2021-12-02            4169  7160.0  7870.0  7110.0   \n",
       "\n",
       "       Close  Volume  AdjustmentFactor  ExpectedDividend  SupervisionFlag  \\\n",
       "0     2143.0   31000               1.0               NaN            False   \n",
       "1     5700.0   57100               1.0               NaN            False   \n",
       "2     4640.0   29800               1.0               NaN            False   \n",
       "3     8030.0    3900               1.0               NaN            False   \n",
       "4      517.0  639200               1.0               NaN            False   \n",
       "...      ...     ...               ...               ...              ...   \n",
       "1995  8410.0  320300               1.0               NaN            False   \n",
       "1996   707.0  735500               1.0               NaN            False   \n",
       "1997  4335.0   72600               1.0               NaN            False   \n",
       "1998  7070.0  735000               1.0               NaN            False   \n",
       "1999  7520.0  783000               1.0               NaN            False   \n",
       "\n",
       "        Target    rank  \n",
       "0     0.231481     0.0  \n",
       "1     0.149254     1.0  \n",
       "2     0.123110     2.0  \n",
       "3     0.107011     3.0  \n",
       "4     0.103113     4.0  \n",
       "...        ...     ...  \n",
       "1995 -0.085480  1995.0  \n",
       "1996 -0.087248  1996.0  \n",
       "1997 -0.094595  1997.0  \n",
       "1998 -0.094980  1998.0  \n",
       "1999 -0.127424  1999.0  \n",
       "\n",
       "[2000 rows x 13 columns]"
      ]
     },
     "execution_count": 24,
     "metadata": {},
     "output_type": "execute_result"
    }
   ],
   "source": [
    "tmpdf2 = stock_prices[stock_prices[\"Date\"] == \"2021-12-02\"].reset_index(drop=True)\n",
    "tmpdf2[\"rank\"] = tmpdf2[\"Target\"].rank(ascending=False, method=\"first\") - 1\n",
    "tmpdf2 = tmpdf2.sort_values(\"rank\").reset_index(drop=True)\n",
    "tmpdf2"
   ]
  },
  {
   "cell_type": "markdown",
   "metadata": {},
   "source": [
    "### Keep stocks with data during <u>all trading days</u> and remove others that are not traded every day. These remaining stocks are the ones we are going to analyze and \"play\" with from now on."
   ]
  },
  {
   "cell_type": "code",
   "execution_count": 28,
   "metadata": {
    "collapsed": false,
    "jupyter": {
     "outputs_hidden": false
    },
    "pycharm": {
     "name": "#%%\n"
    }
   },
   "outputs": [
    {
     "name": "stdout",
     "output_type": "stream",
     "text": [
      "We have 1202 days of data with ~1941 rows per day!\n",
      "Where 1865 is the least for a certain day and 2000 is the most\n"
     ]
    },
    {
     "data": {
      "text/plain": [
       "2021-12-03    2000\n",
       "2021-04-08    2000\n",
       "2021-04-27    2000\n",
       "2021-04-26    2000\n",
       "2021-04-23    2000\n",
       "              ... \n",
       "2017-02-08    1865\n",
       "2017-02-07    1865\n",
       "2017-02-06    1865\n",
       "2017-02-03    1865\n",
       "2017-01-04    1865\n",
       "Name: Date, Length: 1202, dtype: int64"
      ]
     },
     "execution_count": 28,
     "metadata": {},
     "output_type": "execute_result"
    }
   ],
   "source": [
    "traded_stock_per_date = stock_prices['Date'].value_counts()\n",
    "print(f'We have {len(traded_stock_per_date)} days of data with ~{round(np.mean(traded_stock_per_date.values))} rows per day!\\n'\n",
    "      f'Where {traded_stock_per_date.values.min()} is the least for a certain day and {traded_stock_per_date.values.max()} is the most')\n",
    "traded_stock_per_date"
   ]
  },
  {
   "cell_type": "code",
   "execution_count": 30,
   "metadata": {
    "collapsed": false,
    "jupyter": {
     "outputs_hidden": false
    },
    "pycharm": {
     "name": "#%%\n"
    }
   },
   "outputs": [
    {
     "data": {
      "text/plain": [
       "1301    1202\n",
       "7282    1202\n",
       "7414    1202\n",
       "7412    1202\n",
       "7408    1202\n",
       "        ... \n",
       "4167     235\n",
       "7358     234\n",
       "4168     233\n",
       "7342     233\n",
       "4169     232\n",
       "Name: SecuritiesCode, Length: 2000, dtype: int64"
      ]
     },
     "execution_count": 30,
     "metadata": {},
     "output_type": "execute_result"
    }
   ],
   "source": [
    "stocks_by_descending_trade_count = stock_prices['SecuritiesCode'].value_counts()\n",
    "stocks_by_descending_trade_count"
   ]
  },
  {
   "cell_type": "code",
   "execution_count": 35,
   "metadata": {
    "collapsed": false,
    "jupyter": {
     "outputs_hidden": false
    },
    "pycharm": {
     "name": "#%%\n"
    }
   },
   "outputs": [
    {
     "data": {
      "text/plain": [
       "array([1301, 7282, 7414, ..., 4565, 4369, 4559], dtype=int64)"
      ]
     },
     "execution_count": 35,
     "metadata": {},
     "output_type": "execute_result"
    }
   ],
   "source": [
    "def get_stocks_traded_every_day(stock_prices_df):\n",
    "    \"\"\"Return stocks that are traded in every trading day in data and remove others. These remaining stocks are the ones we are going to analyze and \"play\" with from now on\"\"\"\n",
    "    traded_stock_per_date = stock_prices_df['Date'].value_counts()\n",
    "    stocks_by_descending_trade_count = stock_prices_df['SecuritiesCode'].value_counts()\n",
    "    return stocks_by_descending_trade_count[stocks_by_descending_trade_count == len(stock_prices_date)].index.values\n",
    "\n",
    "daily_traded_stocks = get_stocks_traded_every_day(stock_prices)\n",
    "daily_traded_stocks"
   ]
  },
  {
   "cell_type": "markdown",
   "metadata": {
    "jupyter": {
     "outputs_hidden": false
    },
    "pycharm": {
     "name": "#%%\n"
    }
   },
   "source": [
    "# Next steps\n",
    "1. Decide which features are relevant for training (i.e. volume_last_week, m_cap_last_month, NetSales, etc.)\n",
    "2. Create a training set with the selected features per stock (in daily_traded_stocks) per day.\n",
    "    The training set should have the following structure:\n",
    "        X:\n",
    "        [\n",
    "            [volume_last_week, m_cap_last_month, etc.]\n",
    "            ...\n",
    "            [volume_last_week, m_cap_last_month, etc.]\n",
    "        ]\n",
    "\n",
    "        Y: Target value per row\n",
    "\n",
    "3. Now we need to decide on a model for predicting Y.\n",
    "4. Predict the target column, Y.\n",
    "    Note, it's the return from buying a stock the **next day and selling the day after that** so should we assign the target of row i at i+2 ???\n",
    "5. Calculate loss - decide on MSE/MAE/etc.\n",
    "6. Discuss improvements of prediction, model, and code quality (runtime for example)"
   ]
  },
  {
   "cell_type": "code",
   "execution_count": 37,
   "metadata": {},
   "outputs": [],
   "source": [
    "# Volume - number of traded stocks on a day"
   ]
  }
 ],
 "metadata": {
  "kernelspec": {
   "display_name": "Python 3 (ipykernel)",
   "language": "python",
   "name": "python3"
  },
  "language_info": {
   "codemirror_mode": {
    "name": "ipython",
    "version": 3
   },
   "file_extension": ".py",
   "mimetype": "text/x-python",
   "name": "python",
   "nbconvert_exporter": "python",
   "pygments_lexer": "ipython3",
   "version": "3.9.7"
  },
  "toc-autonumbering": true,
  "toc-showcode": false,
  "toc-showmarkdowntxt": false,
  "toc-showtags": false
 },
 "nbformat": 4,
 "nbformat_minor": 4
}
