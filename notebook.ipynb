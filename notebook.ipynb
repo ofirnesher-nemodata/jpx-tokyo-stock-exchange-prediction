{
 "cells": [
  {
   "cell_type": "markdown",
   "source": [
    "#### Imports"
   ],
   "metadata": {
    "collapsed": false,
    "pycharm": {
     "name": "#%% md\n"
    }
   }
  },
  {
   "cell_type": "code",
   "execution_count": 4,
   "outputs": [],
   "source": [
    "import numpy as np\n",
    "import pandas as pd"
   ],
   "metadata": {
    "collapsed": false,
    "pycharm": {
     "name": "#%%\n"
    }
   }
  },
  {
   "cell_type": "markdown",
   "source": [
    "#### Load data"
   ],
   "metadata": {
    "collapsed": false,
    "pycharm": {
     "name": "#%% md\n"
    }
   }
  },
  {
   "cell_type": "code",
   "execution_count": 5,
   "outputs": [],
   "source": [
    "prices = pd.read_csv('jpx-tokyo-stock-exchange-prediction/supplemental_files/stock_prices.csv')"
   ],
   "metadata": {
    "collapsed": false,
    "pycharm": {
     "name": "#%%\n"
    }
   }
  },
  {
   "cell_type": "code",
   "execution_count": 7,
   "outputs": [
    {
     "data": {
      "text/plain": "           RowId        Date  SecuritiesCode    Open    High     Low   Close  \\\n0  20211206_1301  2021-12-06            1301  2982.0  2982.0  2965.0  2971.0   \n1  20211206_1332  2021-12-06            1332   592.0   599.0   588.0   589.0   \n2  20211206_1333  2021-12-06            1333  2368.0  2388.0  2360.0  2377.0   \n3  20211206_1375  2021-12-06            1375  1230.0  1239.0  1224.0  1224.0   \n4  20211206_1376  2021-12-06            1376  1339.0  1372.0  1339.0  1351.0   \n\n    Volume  AdjustmentFactor  ExpectedDividend  SupervisionFlag    Target  \n0     8900               1.0               NaN            False -0.003263  \n1  1360800               1.0               NaN            False -0.008993  \n2   125900               1.0               NaN            False -0.009963  \n3    81100               1.0               NaN            False -0.015032  \n4     6200               1.0               NaN            False  0.002867  ",
      "text/html": "<div>\n<style scoped>\n    .dataframe tbody tr th:only-of-type {\n        vertical-align: middle;\n    }\n\n    .dataframe tbody tr th {\n        vertical-align: top;\n    }\n\n    .dataframe thead th {\n        text-align: right;\n    }\n</style>\n<table border=\"1\" class=\"dataframe\">\n  <thead>\n    <tr style=\"text-align: right;\">\n      <th></th>\n      <th>RowId</th>\n      <th>Date</th>\n      <th>SecuritiesCode</th>\n      <th>Open</th>\n      <th>High</th>\n      <th>Low</th>\n      <th>Close</th>\n      <th>Volume</th>\n      <th>AdjustmentFactor</th>\n      <th>ExpectedDividend</th>\n      <th>SupervisionFlag</th>\n      <th>Target</th>\n    </tr>\n  </thead>\n  <tbody>\n    <tr>\n      <th>0</th>\n      <td>20211206_1301</td>\n      <td>2021-12-06</td>\n      <td>1301</td>\n      <td>2982.0</td>\n      <td>2982.0</td>\n      <td>2965.0</td>\n      <td>2971.0</td>\n      <td>8900</td>\n      <td>1.0</td>\n      <td>NaN</td>\n      <td>False</td>\n      <td>-0.003263</td>\n    </tr>\n    <tr>\n      <th>1</th>\n      <td>20211206_1332</td>\n      <td>2021-12-06</td>\n      <td>1332</td>\n      <td>592.0</td>\n      <td>599.0</td>\n      <td>588.0</td>\n      <td>589.0</td>\n      <td>1360800</td>\n      <td>1.0</td>\n      <td>NaN</td>\n      <td>False</td>\n      <td>-0.008993</td>\n    </tr>\n    <tr>\n      <th>2</th>\n      <td>20211206_1333</td>\n      <td>2021-12-06</td>\n      <td>1333</td>\n      <td>2368.0</td>\n      <td>2388.0</td>\n      <td>2360.0</td>\n      <td>2377.0</td>\n      <td>125900</td>\n      <td>1.0</td>\n      <td>NaN</td>\n      <td>False</td>\n      <td>-0.009963</td>\n    </tr>\n    <tr>\n      <th>3</th>\n      <td>20211206_1375</td>\n      <td>2021-12-06</td>\n      <td>1375</td>\n      <td>1230.0</td>\n      <td>1239.0</td>\n      <td>1224.0</td>\n      <td>1224.0</td>\n      <td>81100</td>\n      <td>1.0</td>\n      <td>NaN</td>\n      <td>False</td>\n      <td>-0.015032</td>\n    </tr>\n    <tr>\n      <th>4</th>\n      <td>20211206_1376</td>\n      <td>2021-12-06</td>\n      <td>1376</td>\n      <td>1339.0</td>\n      <td>1372.0</td>\n      <td>1339.0</td>\n      <td>1351.0</td>\n      <td>6200</td>\n      <td>1.0</td>\n      <td>NaN</td>\n      <td>False</td>\n      <td>0.002867</td>\n    </tr>\n  </tbody>\n</table>\n</div>"
     },
     "execution_count": 7,
     "metadata": {},
     "output_type": "execute_result"
    }
   ],
   "source": [
    "prices.head()"
   ],
   "metadata": {
    "collapsed": false,
    "pycharm": {
     "name": "#%%\n"
    }
   }
  }
 ],
 "metadata": {
  "kernelspec": {
   "display_name": "Python 3",
   "language": "python",
   "name": "python3"
  },
  "language_info": {
   "codemirror_mode": {
    "name": "ipython",
    "version": 2
   },
   "file_extension": ".py",
   "mimetype": "text/x-python",
   "name": "python",
   "nbconvert_exporter": "python",
   "pygments_lexer": "ipython2",
   "version": "2.7.6"
  }
 },
 "nbformat": 4,
 "nbformat_minor": 0
}