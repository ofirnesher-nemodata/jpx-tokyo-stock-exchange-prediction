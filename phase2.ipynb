{
 "cells": [
  {
   "cell_type": "markdown",
   "metadata": {
    "pycharm": {
     "name": "#%% md\n"
    },
    "tags": []
   },
   "source": [
    "# Imports"
   ]
  },
  {
   "cell_type": "code",
   "execution_count": null,
   "outputs": [],
   "source": [
    "import pandas as pd\n",
    "import numpy as np\n",
    "import matplotlib.pyplot as plt\n",
    "# import seaborn as sns\n",
    "# import matplotlib.pyplot as plt\n",
    "# from ipywidgets import HTML\n",
    "# from io import BytesIO\n",
    "# import base64\n",
    "# from lightgbm import LGBMRegressor\n",
    "# from tqdm import tqdm\n",
    "\n",
    "# # Plotly\n",
    "# import plotly.express as px\n",
    "# from plotly.subplots import make_subplots\n",
    "# import plotly.figure_factory as ff\n",
    "# import plotly.offline as offline\n",
    "# import plotly.graph_objs as go"
   ],
   "metadata": {
    "collapsed": false,
    "pycharm": {
     "name": "#%%\n"
    }
   }
  },
  {
   "cell_type": "code",
   "execution_count": null,
   "outputs": [],
   "source": [
    "stock_prices = pd.read_csv('jpx-tokyo-stock-exchange-prediction/train_files/stock_prices.csv')"
   ],
   "metadata": {
    "collapsed": false,
    "pycharm": {
     "name": "#%%\n"
    }
   }
  },
  {
   "cell_type": "code",
   "execution_count": null,
   "outputs": [],
   "source": [
    "stock_prices.head(3)"
   ],
   "metadata": {
    "collapsed": false,
    "pycharm": {
     "name": "#%%\n"
    }
   }
  },
  {
   "cell_type": "code",
   "execution_count": null,
   "outputs": [],
   "source": [
    "delisted_stocks = stock_prices[stock_prices['SupervisionFlag'] == True]['SecuritiesCode'].values"
   ],
   "metadata": {
    "collapsed": false,
    "pycharm": {
     "name": "#%%\n"
    }
   }
  },
  {
   "cell_type": "code",
   "execution_count": null,
   "outputs": [],
   "source": [
    "def get_stocks_traded_every_day(stock_prices_df):\n",
    "    \"\"\"Return stocks that are traded in every trading day in data and remove others\"\"\"\n",
    "    traded_stock_per_date = stock_prices_df['Date'].value_counts()\n",
    "    stocks_by_descending_trade_count = stock_prices_df['SecuritiesCode'].value_counts()\n",
    "    return stocks_by_descending_trade_count[stocks_by_descending_trade_count == len(traded_stock_per_date)].index.values\n",
    "\n",
    "\n",
    "daily_traded_stocks = get_stocks_traded_every_day(stock_prices)"
   ],
   "metadata": {
    "collapsed": false,
    "pycharm": {
     "name": "#%%\n"
    }
   }
  },
  {
   "cell_type": "code",
   "execution_count": null,
   "outputs": [],
   "source": [
    "daily_traded_stocks = [x for x in daily_traded_stocks if (x not in delisted_stocks)]\n",
    "print(\n",
    "    f'We now have {len(daily_traded_stocks)} stocks which have available information in every trading day and which are not delisted.\\n'\n",
    "    'These remaining stocks are the ones we are going to analyze and \"play\" with from now on.')"
   ],
   "metadata": {
    "collapsed": false,
    "pycharm": {
     "name": "#%%\n"
    }
   }
  },
  {
   "cell_type": "code",
   "execution_count": null,
   "outputs": [],
   "source": [
    "clean_df = stock_prices.loc[\n",
    "    stock_prices['SecuritiesCode'].isin(daily_traded_stocks), ['Date', 'SecuritiesCode', 'Close', 'Volume',\n",
    "                                                               'AdjustmentFactor', 'Target']]\n",
    "assert len(clean_df) == len(daily_traded_stocks) * len(\n",
    "    stock_prices['Date'].unique())  # 1850 daily-traded & listed stocks * 1202 trading days == 2223700 rows"
   ],
   "metadata": {
    "collapsed": false,
    "pycharm": {
     "name": "#%%\n"
    }
   }
  },
  {
   "cell_type": "code",
   "execution_count": null,
   "outputs": [],
   "source": [
    "def adjust_price(price):\n",
    "    def calculate_adjusted(df):\n",
    "        # we will go from today to the past\n",
    "        new = df.sort_index(ascending=False)\n",
    "        split_coef = new['AdjustmentFactor'].shift(1).fillna(1).cumprod()\n",
    "        new['adj_Close'] = new['Close'] / split_coef\n",
    "        new['adj_Volume'] = split_coef * new['Volume']\n",
    "        return new.sort_index(ascending=True)\n",
    "\n",
    "    price = price.groupby(\"SecuritiesCode\").apply(calculate_adjusted).reset_index(drop=True)\n",
    "    price.set_index(\"Date\", inplace=True)\n",
    "    return price"
   ],
   "metadata": {
    "collapsed": false,
    "pycharm": {
     "name": "#%%\n"
    }
   }
  },
  {
   "cell_type": "code",
   "execution_count": 57,
   "metadata": {},
   "outputs": [],
   "source": [
    "df_adj = adjust_price(clean_df)"
   ]
  },
  {
   "cell_type": "code",
   "execution_count": 58,
   "metadata": {},
   "outputs": [
    {
     "data": {
      "text/html": [
       "<div>\n",
       "<style scoped>\n",
       "    .dataframe tbody tr th:only-of-type {\n",
       "        vertical-align: middle;\n",
       "    }\n",
       "\n",
       "    .dataframe tbody tr th {\n",
       "        vertical-align: top;\n",
       "    }\n",
       "\n",
       "    .dataframe thead th {\n",
       "        text-align: right;\n",
       "    }\n",
       "</style>\n",
       "<table border=\"1\" class=\"dataframe\">\n",
       "  <thead>\n",
       "    <tr style=\"text-align: right;\">\n",
       "      <th></th>\n",
       "      <th>SecuritiesCode</th>\n",
       "      <th>Close</th>\n",
       "      <th>Volume</th>\n",
       "      <th>AdjustmentFactor</th>\n",
       "      <th>Target</th>\n",
       "      <th>adj_Close</th>\n",
       "      <th>adj_Volume</th>\n",
       "    </tr>\n",
       "    <tr>\n",
       "      <th>Date</th>\n",
       "      <th></th>\n",
       "      <th></th>\n",
       "      <th></th>\n",
       "      <th></th>\n",
       "      <th></th>\n",
       "      <th></th>\n",
       "      <th></th>\n",
       "    </tr>\n",
       "  </thead>\n",
       "  <tbody>\n",
       "    <tr>\n",
       "      <th>2017-01-04</th>\n",
       "      <td>1301</td>\n",
       "      <td>2742.0</td>\n",
       "      <td>31400</td>\n",
       "      <td>1.0</td>\n",
       "      <td>0.000730</td>\n",
       "      <td>2742.0</td>\n",
       "      <td>31400.0</td>\n",
       "    </tr>\n",
       "    <tr>\n",
       "      <th>2017-01-04</th>\n",
       "      <td>1332</td>\n",
       "      <td>571.0</td>\n",
       "      <td>2798500</td>\n",
       "      <td>1.0</td>\n",
       "      <td>0.012324</td>\n",
       "      <td>571.0</td>\n",
       "      <td>2798500.0</td>\n",
       "    </tr>\n",
       "    <tr>\n",
       "      <th>2017-01-04</th>\n",
       "      <td>1333</td>\n",
       "      <td>3210.0</td>\n",
       "      <td>270800</td>\n",
       "      <td>1.0</td>\n",
       "      <td>0.006154</td>\n",
       "      <td>3210.0</td>\n",
       "      <td>270800.0</td>\n",
       "    </tr>\n",
       "    <tr>\n",
       "      <th>2017-01-04</th>\n",
       "      <td>1376</td>\n",
       "      <td>1550.0</td>\n",
       "      <td>11300</td>\n",
       "      <td>1.0</td>\n",
       "      <td>0.011053</td>\n",
       "      <td>1550.0</td>\n",
       "      <td>11300.0</td>\n",
       "    </tr>\n",
       "    <tr>\n",
       "      <th>2017-01-04</th>\n",
       "      <td>1377</td>\n",
       "      <td>3330.0</td>\n",
       "      <td>150800</td>\n",
       "      <td>1.0</td>\n",
       "      <td>0.003026</td>\n",
       "      <td>3330.0</td>\n",
       "      <td>150800.0</td>\n",
       "    </tr>\n",
       "    <tr>\n",
       "      <th>...</th>\n",
       "      <td>...</td>\n",
       "      <td>...</td>\n",
       "      <td>...</td>\n",
       "      <td>...</td>\n",
       "      <td>...</td>\n",
       "      <td>...</td>\n",
       "      <td>...</td>\n",
       "    </tr>\n",
       "    <tr>\n",
       "      <th>2021-12-03</th>\n",
       "      <td>9990</td>\n",
       "      <td>528.0</td>\n",
       "      <td>44200</td>\n",
       "      <td>1.0</td>\n",
       "      <td>0.034816</td>\n",
       "      <td>528.0</td>\n",
       "      <td>44200.0</td>\n",
       "    </tr>\n",
       "    <tr>\n",
       "      <th>2021-12-03</th>\n",
       "      <td>9991</td>\n",
       "      <td>794.0</td>\n",
       "      <td>35900</td>\n",
       "      <td>1.0</td>\n",
       "      <td>0.025478</td>\n",
       "      <td>794.0</td>\n",
       "      <td>35900.0</td>\n",
       "    </tr>\n",
       "    <tr>\n",
       "      <th>2021-12-03</th>\n",
       "      <td>9993</td>\n",
       "      <td>1645.0</td>\n",
       "      <td>7200</td>\n",
       "      <td>1.0</td>\n",
       "      <td>-0.004302</td>\n",
       "      <td>1645.0</td>\n",
       "      <td>7200.0</td>\n",
       "    </tr>\n",
       "    <tr>\n",
       "      <th>2021-12-03</th>\n",
       "      <td>9994</td>\n",
       "      <td>2389.0</td>\n",
       "      <td>6500</td>\n",
       "      <td>1.0</td>\n",
       "      <td>0.009098</td>\n",
       "      <td>2389.0</td>\n",
       "      <td>6500.0</td>\n",
       "    </tr>\n",
       "    <tr>\n",
       "      <th>2021-12-03</th>\n",
       "      <td>9997</td>\n",
       "      <td>696.0</td>\n",
       "      <td>381100</td>\n",
       "      <td>1.0</td>\n",
       "      <td>0.018414</td>\n",
       "      <td>696.0</td>\n",
       "      <td>381100.0</td>\n",
       "    </tr>\n",
       "  </tbody>\n",
       "</table>\n",
       "<p>2223700 rows × 7 columns</p>\n",
       "</div>"
      ],
      "text/plain": [
       "            SecuritiesCode   Close   Volume  AdjustmentFactor    Target  \\\n",
       "Date                                                                      \n",
       "2017-01-04            1301  2742.0    31400               1.0  0.000730   \n",
       "2017-01-04            1332   571.0  2798500               1.0  0.012324   \n",
       "2017-01-04            1333  3210.0   270800               1.0  0.006154   \n",
       "2017-01-04            1376  1550.0    11300               1.0  0.011053   \n",
       "2017-01-04            1377  3330.0   150800               1.0  0.003026   \n",
       "...                    ...     ...      ...               ...       ...   \n",
       "2021-12-03            9990   528.0    44200               1.0  0.034816   \n",
       "2021-12-03            9991   794.0    35900               1.0  0.025478   \n",
       "2021-12-03            9993  1645.0     7200               1.0 -0.004302   \n",
       "2021-12-03            9994  2389.0     6500               1.0  0.009098   \n",
       "2021-12-03            9997   696.0   381100               1.0  0.018414   \n",
       "\n",
       "            adj_Close  adj_Volume  \n",
       "Date                               \n",
       "2017-01-04     2742.0     31400.0  \n",
       "2017-01-04      571.0   2798500.0  \n",
       "2017-01-04     3210.0    270800.0  \n",
       "2017-01-04     1550.0     11300.0  \n",
       "2017-01-04     3330.0    150800.0  \n",
       "...               ...         ...  \n",
       "2021-12-03      528.0     44200.0  \n",
       "2021-12-03      794.0     35900.0  \n",
       "2021-12-03     1645.0      7200.0  \n",
       "2021-12-03     2389.0      6500.0  \n",
       "2021-12-03      696.0    381100.0  \n",
       "\n",
       "[2223700 rows x 7 columns]"
      ]
     },
     "execution_count": 58,
     "metadata": {},
     "output_type": "execute_result"
    }
   ],
   "source": [
    "df_adj"
   ]
  }
 ],
 "metadata": {
  "kernelspec": {
   "display_name": "Python 3 (ipykernel)",
   "language": "python",
   "name": "python3"
  },
  "language_info": {
   "codemirror_mode": {
    "name": "ipython",
    "version": 3
   },
   "file_extension": ".py",
   "mimetype": "text/x-python",
   "name": "python",
   "nbconvert_exporter": "python",
   "pygments_lexer": "ipython3",
   "version": "3.8.10"
  }
 },
 "nbformat": 4,
 "nbformat_minor": 4
}