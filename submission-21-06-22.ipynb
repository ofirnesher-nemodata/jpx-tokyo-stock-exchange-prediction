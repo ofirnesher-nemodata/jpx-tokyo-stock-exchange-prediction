{
 "metadata": {
  "kernelspec": {
   "language": "python",
   "display_name": "Python 3",
   "name": "python3"
  },
  "language_info": {
   "name": "python",
   "version": "3.7.12",
   "mimetype": "text/x-python",
   "codemirror_mode": {
    "name": "ipython",
    "version": 3
   },
   "pygments_lexer": "ipython3",
   "nbconvert_exporter": "python",
   "file_extension": ".py"
  }
 },
 "nbformat_minor": 4,
 "nbformat": 4,
 "cells": [
  {
   "cell_type": "markdown",
   "source": [
    "# IMPORTS"
   ],
   "metadata": {
    "pycharm": {
     "name": "#%% md\n"
    }
   }
  },
  {
   "cell_type": "code",
   "source": [
    "!pip install lightgbm\n",
    "!pip install pandas_ta\n",
    "# !pip install pandas_ta --no-index --find-links=file:///kaggle/input/pandas-ta/"
   ],
   "metadata": {
    "execution": {
     "iopub.status.busy": "2022-06-21T10:03:00.773588Z",
     "iopub.execute_input": "2022-06-21T10:03:00.774074Z",
     "iopub.status.idle": "2022-06-21T10:03:13.605895Z",
     "shell.execute_reply.started": "2022-06-21T10:03:00.773950Z",
     "shell.execute_reply": "2022-06-21T10:03:13.605001Z"
    },
    "trusted": true,
    "pycharm": {
     "name": "#%%\n"
    }
   },
   "execution_count": 1,
   "outputs": [
    {
     "name": "stdout",
     "output_type": "stream",
     "text": [
      "Requirement already satisfied: lightgbm in c:\\users\\neshe\\miniconda3\\lib\\site-packages (3.3.2)\n",
      "Requirement already satisfied: numpy in c:\\users\\neshe\\miniconda3\\lib\\site-packages (from lightgbm) (1.22.3)\n",
      "Requirement already satisfied: wheel in c:\\users\\neshe\\miniconda3\\lib\\site-packages (from lightgbm) (0.36.2)\n",
      "Requirement already satisfied: scikit-learn!=0.22.0 in c:\\users\\neshe\\miniconda3\\lib\\site-packages (from lightgbm) (1.0.2)\n",
      "Requirement already satisfied: scipy in c:\\users\\neshe\\miniconda3\\lib\\site-packages (from lightgbm) (1.8.0)\n",
      "Requirement already satisfied: threadpoolctl>=2.0.0 in c:\\users\\neshe\\miniconda3\\lib\\site-packages (from scikit-learn!=0.22.0->lightgbm) (3.1.0)\n",
      "Requirement already satisfied: joblib>=0.11 in c:\\users\\neshe\\miniconda3\\lib\\site-packages (from scikit-learn!=0.22.0->lightgbm) (1.1.0)\n",
      "Requirement already satisfied: pandas_ta in c:\\users\\neshe\\miniconda3\\lib\\site-packages (0.3.14b0)\n",
      "Requirement already satisfied: pandas in c:\\users\\neshe\\miniconda3\\lib\\site-packages (from pandas_ta) (1.4.1)\n",
      "Requirement already satisfied: python-dateutil>=2.8.1 in c:\\users\\neshe\\miniconda3\\lib\\site-packages (from pandas->pandas_ta) (2.8.2)\n",
      "Requirement already satisfied: numpy>=1.18.5 in c:\\users\\neshe\\miniconda3\\lib\\site-packages (from pandas->pandas_ta) (1.22.3)\n",
      "Requirement already satisfied: pytz>=2020.1 in c:\\users\\neshe\\miniconda3\\lib\\site-packages (from pandas->pandas_ta) (2021.3)\n",
      "Requirement already satisfied: six>=1.5 in c:\\users\\neshe\\miniconda3\\lib\\site-packages (from python-dateutil>=2.8.1->pandas->pandas_ta) (1.16.0)\n"
     ]
    }
   ]
  },
  {
   "cell_type": "code",
   "source": [
    "import pandas as pd\n",
    "import numpy as np\n",
    "import random\n",
    "from lightgbm import LGBMRegressor\n",
    "import pandas_ta as ta"
   ],
   "metadata": {
    "collapsed": false,
    "pycharm": {
     "name": "#%%\n"
    },
    "jupyter": {
     "outputs_hidden": false
    },
    "execution": {
     "iopub.status.busy": "2022-06-21T10:03:31.061932Z",
     "iopub.execute_input": "2022-06-21T10:03:31.062379Z",
     "iopub.status.idle": "2022-06-21T10:03:32.703498Z",
     "shell.execute_reply.started": "2022-06-21T10:03:31.062341Z",
     "shell.execute_reply": "2022-06-21T10:03:32.702658Z"
    },
    "trusted": true
   },
   "execution_count": 2,
   "outputs": []
  },
  {
   "cell_type": "markdown",
   "source": [
    "# CONSTANTS"
   ],
   "metadata": {
    "pycharm": {
     "name": "#%% md\n"
    }
   }
  },
  {
   "cell_type": "code",
   "source": [
    "NUMBER_OF_STABLE_STOCKS = 370\n",
    "NUMBER_OF_DAILY_CHOSEN_STOCKS = 15\n",
    "DAYS_PERIODS = [10, 21, 63]"
   ],
   "metadata": {
    "collapsed": false,
    "pycharm": {
     "name": "#%%\n"
    },
    "jupyter": {
     "outputs_hidden": false
    },
    "execution": {
     "iopub.status.busy": "2022-06-21T09:53:22.471471Z",
     "iopub.execute_input": "2022-06-21T09:53:22.471981Z",
     "iopub.status.idle": "2022-06-21T09:53:22.477234Z",
     "shell.execute_reply.started": "2022-06-21T09:53:22.471944Z",
     "shell.execute_reply": "2022-06-21T09:53:22.476101Z"
    },
    "trusted": true
   },
   "execution_count": 3,
   "outputs": []
  },
  {
   "cell_type": "markdown",
   "source": [
    "# PROCESS DATA"
   ],
   "metadata": {
    "pycharm": {
     "name": "#%% md\n"
    }
   }
  },
  {
   "cell_type": "markdown",
   "source": [
    "Submission format: our end goal"
   ],
   "metadata": {
    "pycharm": {
     "name": "#%% md\n"
    }
   }
  },
  {
   "cell_type": "code",
   "source": [
    "# sample_submission = pd.read_csv(\n",
    "#     r'../input/jpx-tokyo-stock-exchange-prediction/example_test_files/sample_submission.csv')\n",
    "# sample_submission"
   ],
   "metadata": {
    "collapsed": false,
    "pycharm": {
     "name": "#%%\n"
    },
    "jupyter": {
     "outputs_hidden": false
    },
    "execution": {
     "iopub.status.busy": "2022-06-21T09:53:22.494949Z",
     "iopub.execute_input": "2022-06-21T09:53:22.495871Z",
     "iopub.status.idle": "2022-06-21T09:53:22.593747Z",
     "shell.execute_reply.started": "2022-06-21T09:53:22.495821Z",
     "shell.execute_reply": "2022-06-21T09:53:22.592974Z"
    },
    "trusted": true
   },
   "execution_count": 4,
   "outputs": []
  },
  {
   "cell_type": "code",
   "source": [
    "train_stock_prices = pd.read_csv(f'kaggle\\input\\jpx-tokyo-stock-exchange-prediction\\\\train_files\\stock_prices.csv')\n",
    "supplemental_stock_prices = pd.read_csv(\n",
    "    f'kaggle\\input\\jpx-tokyo-stock-exchange-prediction\\supplemental_files\\stock_prices.csv')"
   ],
   "metadata": {
    "pycharm": {
     "name": "#%%\n"
    },
    "execution": {
     "iopub.status.busy": "2022-06-21T09:53:22.594842Z",
     "iopub.execute_input": "2022-06-21T09:53:22.595351Z",
     "iopub.status.idle": "2022-06-21T09:53:29.414143Z",
     "shell.execute_reply.started": "2022-06-21T09:53:22.595304Z",
     "shell.execute_reply": "2022-06-21T09:53:29.413012Z"
    },
    "trusted": true
   },
   "execution_count": 5,
   "outputs": []
  },
  {
   "cell_type": "code",
   "execution_count": 6,
   "outputs": [],
   "source": [
    "stock_prices = pd.concat([train_stock_prices, supplemental_stock_prices])"
   ],
   "metadata": {
    "collapsed": false,
    "pycharm": {
     "name": "#%%\n"
    }
   }
  },
  {
   "cell_type": "code",
   "source": [
    "delisted_stocks = stock_prices[stock_prices['SupervisionFlag'] == True]['SecuritiesCode'].values"
   ],
   "metadata": {
    "pycharm": {
     "name": "#%%\n"
    },
    "execution": {
     "iopub.status.busy": "2022-06-21T09:53:29.415357Z",
     "iopub.execute_input": "2022-06-21T09:53:29.415703Z",
     "iopub.status.idle": "2022-06-21T09:53:29.436562Z",
     "shell.execute_reply.started": "2022-06-21T09:53:29.415656Z",
     "shell.execute_reply": "2022-06-21T09:53:29.435757Z"
    },
    "trusted": true
   },
   "execution_count": 8,
   "outputs": []
  },
  {
   "cell_type": "code",
   "source": [
    "def get_stocks_traded_every_day(stock_prices_df):\n",
    "    \"\"\"Return stocks that are traded in every trading day in data and remove others\"\"\"\n",
    "    traded_stock_per_date = stock_prices_df['Date'].value_counts()\n",
    "    stocks_by_descending_trade_count = stock_prices_df['SecuritiesCode'].value_counts()\n",
    "    return stocks_by_descending_trade_count[stocks_by_descending_trade_count == len(traded_stock_per_date)].index.values\n",
    "\n",
    "\n",
    "daily_traded_stocks = get_stocks_traded_every_day(stock_prices)"
   ],
   "metadata": {
    "pycharm": {
     "name": "#%%\n"
    },
    "execution": {
     "iopub.status.busy": "2022-06-21T09:53:29.437745Z",
     "iopub.execute_input": "2022-06-21T09:53:29.438062Z",
     "iopub.status.idle": "2022-06-21T09:53:29.751371Z",
     "shell.execute_reply.started": "2022-06-21T09:53:29.438035Z",
     "shell.execute_reply": "2022-06-21T09:53:29.750374Z"
    },
    "trusted": true
   },
   "execution_count": 9,
   "outputs": []
  },
  {
   "cell_type": "code",
   "source": [
    "daily_traded_stocks = [x for x in daily_traded_stocks if (x not in delisted_stocks)]\n",
    "print(\n",
    "    f'We now have {len(daily_traded_stocks)} stocks which have available information in every trading day and which are NOT delisted.\\n'\n",
    "    'These remaining stocks are the ones we are going to analyze and \"play\" with from now on.')"
   ],
   "metadata": {
    "pycharm": {
     "name": "#%%\n"
    },
    "execution": {
     "iopub.status.busy": "2022-06-21T09:53:29.752974Z",
     "iopub.execute_input": "2022-06-21T09:53:29.753431Z",
     "iopub.status.idle": "2022-06-21T09:53:29.781468Z",
     "shell.execute_reply.started": "2022-06-21T09:53:29.753385Z",
     "shell.execute_reply": "2022-06-21T09:53:29.780499Z"
    },
    "trusted": true
   },
   "execution_count": 10,
   "outputs": [
    {
     "name": "stdout",
     "output_type": "stream",
     "text": [
      "We now have 1845 stocks which have available information in every trading day and which are NOT delisted.\n",
      "These remaining stocks are the ones we are going to analyze and \"play\" with from now on.\n"
     ]
    }
   ]
  },
  {
   "cell_type": "code",
   "source": [
    "listed_stock_prices = stock_prices.loc[\n",
    "    stock_prices['SecuritiesCode'].isin(daily_traded_stocks), ['Date', 'SecuritiesCode', 'Open', 'Close', 'Volume',\n",
    "                                                               'AdjustmentFactor', 'Target']]\n",
    "\n",
    "# 1850 daily-traded & listed stocks * 1202 trading days == 2223700 rows\n",
    "assert len(listed_stock_prices) == len(daily_traded_stocks) * len(stock_prices['Date'].unique())"
   ],
   "metadata": {
    "pycharm": {
     "name": "#%%\n"
    },
    "execution": {
     "iopub.status.busy": "2022-06-21T09:53:29.785588Z",
     "iopub.execute_input": "2022-06-21T09:53:29.786042Z",
     "iopub.status.idle": "2022-06-21T09:53:30.210507Z",
     "shell.execute_reply.started": "2022-06-21T09:53:29.785999Z",
     "shell.execute_reply": "2022-06-21T09:53:30.209555Z"
    },
    "trusted": true
   },
   "execution_count": 11,
   "outputs": []
  },
  {
   "cell_type": "code",
   "source": [
    "def adjust_price(price):\n",
    "    def calculate_adjusted(df):\n",
    "        \"\"\"apply AdjustmentFactor on columns\"\"\"\n",
    "        new = df.sort_index(ascending=False)\n",
    "        split_coef = new['AdjustmentFactor'].shift(1).fillna(1).cumprod()\n",
    "        new['adj_open'] = new['Open'] / split_coef\n",
    "        new['adj_close'] = new['Close'] / split_coef\n",
    "        new['adj_volume'] = split_coef * new['Volume']\n",
    "        return new.sort_index(ascending=True)\n",
    "\n",
    "    price = price.groupby('SecuritiesCode').apply(calculate_adjusted).reset_index(drop=True)\n",
    "    price.set_index('Date', inplace=True)\n",
    "\n",
    "    return price"
   ],
   "metadata": {
    "pycharm": {
     "name": "#%%\n"
    },
    "execution": {
     "iopub.status.busy": "2022-06-21T09:53:30.212013Z",
     "iopub.execute_input": "2022-06-21T09:53:30.212446Z",
     "iopub.status.idle": "2022-06-21T09:53:30.221589Z",
     "shell.execute_reply.started": "2022-06-21T09:53:30.212403Z",
     "shell.execute_reply": "2022-06-21T09:53:30.220536Z"
    },
    "trusted": true
   },
   "execution_count": 12,
   "outputs": []
  },
  {
   "cell_type": "code",
   "source": [
    "adj_prices_df = adjust_price(listed_stock_prices)\n",
    "adj_prices_df['daily_change'] = (adj_prices_df['adj_close'] - adj_prices_df['adj_open']) / adj_prices_df['adj_close']\n",
    "# adj_prices_df"
   ],
   "metadata": {
    "pycharm": {
     "name": "#%%\n"
    },
    "execution": {
     "iopub.status.busy": "2022-06-21T09:53:30.223810Z",
     "iopub.execute_input": "2022-06-21T09:53:30.224370Z",
     "iopub.status.idle": "2022-06-21T09:53:38.856431Z",
     "shell.execute_reply.started": "2022-06-21T09:53:30.224320Z",
     "shell.execute_reply": "2022-06-21T09:53:38.855493Z"
    },
    "trusted": true
   },
   "execution_count": 13,
   "outputs": []
  },
  {
   "cell_type": "code",
   "source": [
    "grouped_df = adj_prices_df.groupby(adj_prices_df.index, observed=True)['daily_change'].mean()\n",
    "grouped_df = pd.DataFrame(grouped_df)\n",
    "grouped_df.columns = ['market_change_mean']\n",
    "# grouped_df"
   ],
   "metadata": {
    "pycharm": {
     "name": "#%%\n"
    },
    "execution": {
     "iopub.status.busy": "2022-06-21T09:53:38.858113Z",
     "iopub.execute_input": "2022-06-21T09:53:38.858447Z",
     "iopub.status.idle": "2022-06-21T09:53:39.086344Z",
     "shell.execute_reply.started": "2022-06-21T09:53:38.858417Z",
     "shell.execute_reply": "2022-06-21T09:53:39.085548Z"
    },
    "trusted": true
   },
   "execution_count": 14,
   "outputs": []
  },
  {
   "cell_type": "code",
   "source": [
    "all_stocks_df = adj_prices_df.join(grouped_df, on='Date')\n",
    "all_stocks_df['market_gap'] = all_stocks_df['daily_change'] - all_stocks_df['market_change_mean']\n",
    "all_stocks_df.sort_index(inplace=True)\n",
    "# all_stocks_df.head()"
   ],
   "metadata": {
    "pycharm": {
     "name": "#%%\n"
    },
    "execution": {
     "iopub.status.busy": "2022-06-21T09:53:39.087523Z",
     "iopub.execute_input": "2022-06-21T09:53:39.087855Z",
     "iopub.status.idle": "2022-06-21T09:53:43.584987Z",
     "shell.execute_reply.started": "2022-06-21T09:53:39.087825Z",
     "shell.execute_reply": "2022-06-21T09:53:43.583840Z"
    },
    "trusted": true
   },
   "execution_count": 15,
   "outputs": []
  },
  {
   "cell_type": "code",
   "source": [
    "# all_stocks_df[all_stocks_df['SecuritiesCode'] == 1301]['market_gap'].std()"
   ],
   "metadata": {
    "pycharm": {
     "name": "#%%\n"
    },
    "execution": {
     "iopub.status.busy": "2022-06-21T09:53:43.586762Z",
     "iopub.execute_input": "2022-06-21T09:53:43.587209Z",
     "iopub.status.idle": "2022-06-21T09:53:43.781052Z",
     "shell.execute_reply.started": "2022-06-21T09:53:43.587164Z",
     "shell.execute_reply": "2022-06-21T09:53:43.779845Z"
    },
    "trusted": true
   },
   "execution_count": 16,
   "outputs": []
  },
  {
   "cell_type": "code",
   "source": [
    "# all_stocks_df[all_stocks_df['SecuritiesCode'] == 1301].reset_index().plot(x='Date',\n",
    "#                                                                            y=[\"daily_change\", \"market_change_mean\"],\n",
    "#                                                                            kind=\"line\", figsize=(20, 10))"
   ],
   "metadata": {
    "pycharm": {
     "name": "#%%\n"
    },
    "execution": {
     "iopub.status.busy": "2022-06-21T09:53:43.782723Z",
     "iopub.execute_input": "2022-06-21T09:53:43.783797Z",
     "iopub.status.idle": "2022-06-21T09:53:44.145870Z",
     "shell.execute_reply.started": "2022-06-21T09:53:43.783759Z",
     "shell.execute_reply": "2022-06-21T09:53:44.144989Z"
    },
    "trusted": true
   },
   "execution_count": 17,
   "outputs": []
  },
  {
   "cell_type": "code",
   "source": [
    "statistics_df = all_stocks_df.groupby(by='SecuritiesCode')['market_gap'].agg(['mean', 'median', 'std'])"
   ],
   "metadata": {
    "pycharm": {
     "name": "#%%\n"
    },
    "execution": {
     "iopub.status.busy": "2022-06-21T09:53:44.147201Z",
     "iopub.execute_input": "2022-06-21T09:53:44.147702Z",
     "iopub.status.idle": "2022-06-21T09:53:44.287066Z",
     "shell.execute_reply.started": "2022-06-21T09:53:44.147654Z",
     "shell.execute_reply": "2022-06-21T09:53:44.286105Z"
    },
    "trusted": true
   },
   "execution_count": 18,
   "outputs": []
  },
  {
   "cell_type": "code",
   "source": [
    "# statistics_df['std'].hist()"
   ],
   "metadata": {
    "pycharm": {
     "name": "#%%\n"
    },
    "execution": {
     "iopub.status.busy": "2022-06-21T09:53:44.288295Z",
     "iopub.execute_input": "2022-06-21T09:53:44.288743Z",
     "iopub.status.idle": "2022-06-21T09:53:44.293168Z",
     "shell.execute_reply.started": "2022-06-21T09:53:44.288677Z",
     "shell.execute_reply": "2022-06-21T09:53:44.292184Z"
    },
    "trusted": true
   },
   "execution_count": 19,
   "outputs": []
  },
  {
   "cell_type": "markdown",
   "source": [
    "The stocks with std around 0 (+-) are those that behave LIKE THE MARKET.\n",
    "We want them to be part of our prediction because they are the least-noisy stocks."
   ],
   "metadata": {
    "pycharm": {
     "name": "#%% md\n"
    }
   }
  },
  {
   "cell_type": "code",
   "source": [
    "statistics_df.sort_values(by='std', ascending=True, inplace=True)\n",
    "# statistics_df"
   ],
   "metadata": {
    "pycharm": {
     "name": "#%%\n"
    },
    "execution": {
     "iopub.status.busy": "2022-06-21T09:53:44.294563Z",
     "iopub.execute_input": "2022-06-21T09:53:44.295775Z",
     "iopub.status.idle": "2022-06-21T09:53:44.309739Z",
     "shell.execute_reply.started": "2022-06-21T09:53:44.295730Z",
     "shell.execute_reply": "2022-06-21T09:53:44.309009Z"
    },
    "trusted": true
   },
   "execution_count": 20,
   "outputs": []
  },
  {
   "cell_type": "code",
   "source": [
    "stable_stocks_statistics_df = statistics_df[:NUMBER_OF_STABLE_STOCKS]"
   ],
   "metadata": {
    "pycharm": {
     "name": "#%%\n"
    },
    "execution": {
     "iopub.status.busy": "2022-06-21T09:53:44.311104Z",
     "iopub.execute_input": "2022-06-21T09:53:44.311646Z",
     "iopub.status.idle": "2022-06-21T09:53:44.320277Z",
     "shell.execute_reply.started": "2022-06-21T09:53:44.311613Z",
     "shell.execute_reply": "2022-06-21T09:53:44.319543Z"
    },
    "trusted": true
   },
   "execution_count": 21,
   "outputs": []
  },
  {
   "cell_type": "code",
   "source": [
    "stable_stocks_df = all_stocks_df[all_stocks_df['SecuritiesCode'].isin(stable_stocks_statistics_df.index)]\n",
    "# stable_stocks_df"
   ],
   "metadata": {
    "collapsed": false,
    "pycharm": {
     "name": "#%%\n"
    },
    "jupyter": {
     "outputs_hidden": false
    },
    "execution": {
     "iopub.status.busy": "2022-06-21T09:53:44.323628Z",
     "iopub.execute_input": "2022-06-21T09:53:44.324228Z",
     "iopub.status.idle": "2022-06-21T09:53:44.423224Z",
     "shell.execute_reply.started": "2022-06-21T09:53:44.324196Z",
     "shell.execute_reply": "2022-06-21T09:53:44.422104Z"
    },
    "trusted": true
   },
   "execution_count": 22,
   "outputs": []
  },
  {
   "cell_type": "code",
   "source": [
    "assert stable_stocks_df.SecuritiesCode.nunique() == NUMBER_OF_STABLE_STOCKS"
   ],
   "metadata": {
    "collapsed": false,
    "pycharm": {
     "name": "#%%\n"
    },
    "jupyter": {
     "outputs_hidden": false
    },
    "execution": {
     "iopub.status.busy": "2022-06-21T09:53:44.424498Z",
     "iopub.execute_input": "2022-06-21T09:53:44.424859Z",
     "iopub.status.idle": "2022-06-21T09:53:44.432727Z",
     "shell.execute_reply.started": "2022-06-21T09:53:44.424828Z",
     "shell.execute_reply": "2022-06-21T09:53:44.431789Z"
    },
    "trusted": true
   },
   "execution_count": 23,
   "outputs": []
  },
  {
   "cell_type": "markdown",
   "source": [
    "Get all non-stable stocks:\n",
    "These are the stocks from which we want to get the ones which are better/worse than the market"
   ],
   "metadata": {
    "pycharm": {
     "name": "#%% md\n"
    }
   }
  },
  {
   "cell_type": "code",
   "source": [
    "extreme_stocks = statistics_df[(NUMBER_OF_STABLE_STOCKS + 1):]"
   ],
   "metadata": {
    "pycharm": {
     "name": "#%%\n"
    },
    "execution": {
     "iopub.status.busy": "2022-06-21T09:53:44.434163Z",
     "iopub.execute_input": "2022-06-21T09:53:44.434955Z",
     "iopub.status.idle": "2022-06-21T09:53:44.443480Z",
     "shell.execute_reply.started": "2022-06-21T09:53:44.434920Z",
     "shell.execute_reply": "2022-06-21T09:53:44.442551Z"
    },
    "trusted": true
   },
   "execution_count": 24,
   "outputs": []
  },
  {
   "cell_type": "markdown",
   "source": [
    "\"Top\": the stocks which are usually \"better\" then the market in terms of daily_change (on average)\n",
    "\"Bottom\": the stocks which are usually \"worse\" then the market in terms of daily_change (on average)"
   ],
   "metadata": {
    "pycharm": {
     "name": "#%% md\n"
    }
   }
  },
  {
   "cell_type": "code",
   "source": [
    "top_stocks = extreme_stocks[extreme_stocks['mean'] > 0].sort_values(by=['std'], ascending=True).index.unique()\n",
    "bottom_stocks = extreme_stocks[extreme_stocks['mean'] < 0].sort_values(by=['std'], ascending=True).index.unique()\n",
    "top_stocks_df = all_stocks_df[all_stocks_df['SecuritiesCode'].isin(top_stocks)]\n",
    "bottom_stocks_df = all_stocks_df[all_stocks_df['SecuritiesCode'].isin(bottom_stocks)]"
   ],
   "metadata": {
    "pycharm": {
     "name": "#%%\n"
    },
    "execution": {
     "iopub.status.busy": "2022-06-21T09:53:44.444480Z",
     "iopub.execute_input": "2022-06-21T09:53:44.445080Z",
     "iopub.status.idle": "2022-06-21T09:53:44.814466Z",
     "shell.execute_reply.started": "2022-06-21T09:53:44.445044Z",
     "shell.execute_reply": "2022-06-21T09:53:44.813434Z"
    },
    "trusted": true
   },
   "execution_count": 25,
   "outputs": []
  },
  {
   "cell_type": "code",
   "source": [
    "print(f'There are {len(top_stocks)} top_stocks and {len(bottom_stocks)} bottom_stocks')"
   ],
   "metadata": {
    "collapsed": false,
    "pycharm": {
     "name": "#%%\n"
    },
    "jupyter": {
     "outputs_hidden": false
    },
    "execution": {
     "iopub.status.busy": "2022-06-21T09:53:44.815587Z",
     "iopub.execute_input": "2022-06-21T09:53:44.816273Z",
     "iopub.status.idle": "2022-06-21T09:53:44.821034Z",
     "shell.execute_reply.started": "2022-06-21T09:53:44.816239Z",
     "shell.execute_reply": "2022-06-21T09:53:44.819998Z"
    },
    "trusted": true
   },
   "execution_count": 26,
   "outputs": [
    {
     "name": "stdout",
     "output_type": "stream",
     "text": [
      "There are 746 top_stocks and 728 bottom_stocks\n"
     ]
    }
   ]
  },
  {
   "cell_type": "code",
   "source": [
    "# top_stocks_df"
   ],
   "metadata": {
    "pycharm": {
     "name": "#%%\n"
    },
    "execution": {
     "iopub.status.busy": "2022-06-21T09:53:44.822350Z",
     "iopub.execute_input": "2022-06-21T09:53:44.823090Z",
     "iopub.status.idle": "2022-06-21T09:53:44.835288Z",
     "shell.execute_reply.started": "2022-06-21T09:53:44.823056Z",
     "shell.execute_reply": "2022-06-21T09:53:44.834534Z"
    },
    "trusted": true
   },
   "execution_count": 27,
   "outputs": []
  },
  {
   "cell_type": "code",
   "source": [
    "def get_features_for_prediction(df, code):\n",
    "    \"\"\"\n",
    "    Args:\n",
    "        df (pd.DataFrame)  : pd.DataFrame include stock_price\n",
    "        code (int)  : A local code for a listed company\n",
    "    Returns:\n",
    "        feats DataFrame (pd.DataFrame)\n",
    "    \"\"\"\n",
    "    # close_col = \"adj_close\"\n",
    "    feats = df.loc[df['SecuritiesCode'] == code, ['SecuritiesCode', 'Target', 'adj_close', 'adj_volume']].copy()\n",
    "\n",
    "    for period in DAYS_PERIODS:\n",
    "        feats[f'return_{period}_days'] = feats['adj_close'].pct_change(period)\n",
    "        feats[f'volume_{period}_days'] = feats['adj_volume'].pct_change(period)\n",
    "        feats[f'ema_{period}_days'] = ta.ema(feats['adj_close'], length=period)\n",
    "\n",
    "    # drop Close column\n",
    "    #feats = feats.drop(['adj_close'], axis=1)\n",
    "\n",
    "    # filling data for nan and inf\n",
    "    feats['adj_volume'] = feats['adj_volume'].fillna(0)\n",
    "    feats = feats.replace([np.inf, -np.inf], 0)\n",
    "\n",
    "    return feats"
   ],
   "metadata": {
    "pycharm": {
     "name": "#%%\n"
    },
    "execution": {
     "iopub.status.busy": "2022-06-21T09:53:44.836733Z",
     "iopub.execute_input": "2022-06-21T09:53:44.837927Z",
     "iopub.status.idle": "2022-06-21T09:53:44.850705Z",
     "shell.execute_reply.started": "2022-06-21T09:53:44.837876Z",
     "shell.execute_reply": "2022-06-21T09:53:44.849743Z"
    },
    "trusted": true
   },
   "execution_count": 28,
   "outputs": []
  },
  {
   "cell_type": "markdown",
   "source": [
    "## Generate features:"
   ],
   "metadata": {
    "pycharm": {
     "name": "#%% md\n"
    }
   }
  },
  {
   "cell_type": "code",
   "source": [
    "features = []\n",
    "\n",
    "for i in [top_stocks_df, bottom_stocks_df]:\n",
    "    # .reset_index().sort_values(by=['Date', 'SecuritiesCode'], inplace=True)\n",
    "    result = pd.concat([get_features_for_prediction(i, code) for code in i['SecuritiesCode'].unique()])\n",
    "    result.reset_index().sort_values(by=['Date', 'SecuritiesCode'], inplace=True)\n",
    "    features.append(result)\n",
    "\n",
    "top_features_df = features[0]\n",
    "bottom_features_df = features[1]"
   ],
   "metadata": {
    "collapsed": false,
    "pycharm": {
     "name": "#%%\n"
    },
    "jupyter": {
     "outputs_hidden": false
    },
    "execution": {
     "iopub.status.busy": "2022-06-21T09:53:44.854954Z",
     "iopub.execute_input": "2022-06-21T09:53:44.855633Z",
     "iopub.status.idle": "2022-06-21T09:54:04.496870Z",
     "shell.execute_reply.started": "2022-06-21T09:53:44.855599Z",
     "shell.execute_reply": "2022-06-21T09:54:04.495998Z"
    },
    "trusted": true
   },
   "execution_count": 29,
   "outputs": []
  },
  {
   "cell_type": "code",
   "source": [
    "# top_features_df"
   ],
   "metadata": {
    "collapsed": false,
    "pycharm": {
     "name": "#%%\n"
    },
    "jupyter": {
     "outputs_hidden": false
    },
    "execution": {
     "iopub.status.busy": "2022-06-21T09:54:04.497933Z",
     "iopub.execute_input": "2022-06-21T09:54:04.498238Z",
     "iopub.status.idle": "2022-06-21T09:54:04.502671Z",
     "shell.execute_reply.started": "2022-06-21T09:54:04.498210Z",
     "shell.execute_reply": "2022-06-21T09:54:04.501745Z"
    },
    "trusted": true
   },
   "execution_count": 30,
   "outputs": []
  },
  {
   "cell_type": "markdown",
   "source": [
    "# MODEL"
   ],
   "metadata": {
    "pycharm": {
     "name": "#%% md\n"
    }
   }
  },
  {
   "cell_type": "code",
   "source": [
    "LGBM_PARAMS = {\n",
    "    'seed': 42,\n",
    "    'n_jobs': -1,\n",
    "}\n",
    "\n",
    "FEAT_COLS = [\n",
    "    'return_10_days',\n",
    "    'volume_10_days',\n",
    "    'ema_10_days',\n",
    "    'return_21_days',\n",
    "    'volume_21_days',\n",
    "    'ema_21_days',\n",
    "    'return_63_days',\n",
    "    'volume_63_days',\n",
    "    'ema_63_days'\n",
    "]"
   ],
   "metadata": {
    "pycharm": {
     "name": "#%%\n"
    },
    "execution": {
     "iopub.status.busy": "2022-06-21T09:54:04.503805Z",
     "iopub.execute_input": "2022-06-21T09:54:04.504089Z",
     "iopub.status.idle": "2022-06-21T09:54:04.516430Z",
     "shell.execute_reply.started": "2022-06-21T09:54:04.504062Z",
     "shell.execute_reply": "2022-06-21T09:54:04.515578Z"
    },
    "trusted": true
   },
   "execution_count": 31,
   "outputs": []
  },
  {
   "cell_type": "code",
   "source": [
    "def get_features_and_label(df):\n",
    "    \"\"\"\n",
    "    Args:\n",
    "        df (pd.DataFrame): loaded price data with features\n",
    "    Returns:\n",
    "        train_X (pd.DataFrame): training data\n",
    "        train_y (pd.DataFrame): label for train_X\n",
    "        test_X (pd.DataFrame): test data\n",
    "        test_y (pd.DataFrame): label for test_X\n",
    "    \"\"\"\n",
    "    date_list = list(df.index.unique())\n",
    "\n",
    "    # split data into TRAIN and TEST\n",
    "    # TRAIN_END = date_list[int(len(date_list) * 0.8)]\n",
    "    TRAIN_END = \"2021-12-03\"\n",
    "    # We put a week gap between TRAIN_END and TEST_START\n",
    "    # to avoid leakage of test data information from label\n",
    "    # TEST_START = str(pd.to_datetime(TRAIN_END).date() + timedelta(days=7))\n",
    "    TEST_START = \"2021-12-06\"\n",
    "\n",
    "    # to store splited data\n",
    "    trains_X, tests_X = [], []\n",
    "    trains_y, tests_y = [], []\n",
    "\n",
    "    # generate feature one by one\n",
    "    for code in df['SecuritiesCode'].unique():\n",
    "        feats = df[df['SecuritiesCode'] == code].dropna().drop(columns='Target')\n",
    "        labels = df.loc[df['SecuritiesCode'] == code, ['SecuritiesCode', 'Target']].dropna()\n",
    "\n",
    "        if feats.shape[0] > 0 and labels.shape[0] > 0:\n",
    "            # align label and feature indexes\n",
    "            labels = labels.loc[labels.index.isin(feats.index)]\n",
    "            feats = feats.loc[feats.index.isin(labels.index)]\n",
    "\n",
    "            assert (labels.loc[:, 'SecuritiesCode'] == feats.loc[:, 'SecuritiesCode']).all()\n",
    "            labels = labels['Target']\n",
    "\n",
    "            # split data into TRAIN and TEST\n",
    "            _train_X = feats[:TRAIN_END]\n",
    "            _test_X = feats[TEST_START:]\n",
    "\n",
    "            _train_y = labels[:TRAIN_END]\n",
    "            _test_y = labels[TEST_START:]\n",
    "\n",
    "            assert len(_train_X) == len(_train_y)\n",
    "            assert len(_test_X) == len(_test_y)\n",
    "\n",
    "            # store features\n",
    "            trains_X.append(_train_X)\n",
    "            tests_X.append(_test_X)\n",
    "            # store labels\n",
    "            trains_y.append(_train_y)\n",
    "            tests_y.append(_test_y)\n",
    "\n",
    "    # combine features for each codes\n",
    "    train_X = pd.concat(trains_X)\n",
    "    test_X = pd.concat(tests_X)\n",
    "    # combine label for each codes\n",
    "    train_y = pd.concat(trains_y)\n",
    "    test_y = pd.concat(tests_y)\n",
    "\n",
    "    return train_X, train_y, test_X, test_y"
   ],
   "metadata": {
    "collapsed": false,
    "pycharm": {
     "name": "#%%\n"
    },
    "jupyter": {
     "outputs_hidden": false
    },
    "execution": {
     "iopub.status.busy": "2022-06-21T09:54:04.517612Z",
     "iopub.execute_input": "2022-06-21T09:54:04.518110Z",
     "iopub.status.idle": "2022-06-21T09:54:04.531992Z",
     "shell.execute_reply.started": "2022-06-21T09:54:04.518077Z",
     "shell.execute_reply": "2022-06-21T09:54:04.530955Z"
    },
    "trusted": true
   },
   "execution_count": 32,
   "outputs": []
  },
  {
   "cell_type": "code",
   "source": [
    "def set_rank(df):\n",
    "    \"\"\"\n",
    "    Args:\n",
    "        df (pd.DataFrame): including predict column\n",
    "    Returns:\n",
    "        df (pd.DataFrame): df with rank\n",
    "    \"\"\"\n",
    "    # set 'Rank' starting from 0\n",
    "    df.loc[:, 'Rank'] = np.arange(len(df))\n",
    "    return df"
   ],
   "metadata": {
    "pycharm": {
     "name": "#%%\n"
    },
    "execution": {
     "iopub.status.busy": "2022-06-21T09:54:04.533122Z",
     "iopub.execute_input": "2022-06-21T09:54:04.533512Z",
     "iopub.status.idle": "2022-06-21T09:54:04.549287Z",
     "shell.execute_reply.started": "2022-06-21T09:54:04.533483Z",
     "shell.execute_reply": "2022-06-21T09:54:04.548561Z"
    },
    "trusted": true
   },
   "execution_count": 33,
   "outputs": []
  },
  {
   "cell_type": "code",
   "source": [
    "def get_daily_ranked_results(df: pd.DataFrame, predict_sort_ascending: bool) -> pd.DataFrame:\n",
    "    # generate feature/label\n",
    "    train_X, train_y, test_X, test_y = get_features_and_label(df)\n",
    "    # initialize model\n",
    "    pred_model = LGBMRegressor(**LGBM_PARAMS)\n",
    "    # train\n",
    "    pred_model.fit(train_X[FEAT_COLS].values, train_y)\n",
    "    # prepare result data\n",
    "    result = test_X[['SecuritiesCode']].copy()\n",
    "    # predict\n",
    "    result.loc[:, 'predict'] = pred_model.predict(test_X[FEAT_COLS])\n",
    "    # actual result\n",
    "    result.loc[:, 'Target'] = test_y.values\n",
    "    # sort results by date and ascending/descending \"predict\", depending on which group we want:\n",
    "    # the higher the \"predict\" the more likely to BUY the stock\n",
    "    # the lower the \"predict\" the more likely to SELL the stock\n",
    "    result = result.reset_index().sort_values(['Date', 'predict'], ascending=[True, predict_sort_ascending])\n",
    "    # set_rank\n",
    "    ranked_results = result.groupby('Date').apply(set_rank)\n",
    "    # Drop unnecessary columns. Keep only those which are relevant for submission:\n",
    "    ranked_results_no_labels_df = ranked_results.reset_index(drop=True).drop(columns=['predict'])\n",
    "\n",
    "    return ranked_results_no_labels_df.groupby('Date').head(NUMBER_OF_DAILY_CHOSEN_STOCKS)"
   ],
   "metadata": {
    "collapsed": false,
    "pycharm": {
     "name": "#%%\n"
    },
    "jupyter": {
     "outputs_hidden": false
    },
    "execution": {
     "iopub.status.busy": "2022-06-21T09:54:04.551610Z",
     "iopub.execute_input": "2022-06-21T09:54:04.552452Z",
     "iopub.status.idle": "2022-06-21T09:54:04.566599Z",
     "shell.execute_reply.started": "2022-06-21T09:54:04.552411Z",
     "shell.execute_reply": "2022-06-21T09:54:04.565681Z"
    },
    "trusted": true
   },
   "execution_count": 34,
   "outputs": []
  },
  {
   "cell_type": "code",
   "source": [
    "top_daily_chosen_stocks_df = get_daily_ranked_results(top_features_df, predict_sort_ascending=False)\n",
    "bottom_daily_chosen_stocks_df = get_daily_ranked_results(bottom_features_df, predict_sort_ascending=True)"
   ],
   "metadata": {
    "pycharm": {
     "name": "#%%\n"
    },
    "execution": {
     "iopub.status.busy": "2022-06-21T09:54:04.569706Z",
     "iopub.execute_input": "2022-06-21T09:54:04.570497Z",
     "iopub.status.idle": "2022-06-21T09:54:24.631994Z",
     "shell.execute_reply.started": "2022-06-21T09:54:04.570463Z",
     "shell.execute_reply": "2022-06-21T09:54:24.631213Z"
    },
    "trusted": true
   },
   "execution_count": 35,
   "outputs": []
  },
  {
   "cell_type": "code",
   "source": [
    "# top_daily_chosen_stocks_df"
   ],
   "metadata": {
    "collapsed": false,
    "pycharm": {
     "name": "#%%\n"
    },
    "jupyter": {
     "outputs_hidden": false
    },
    "execution": {
     "iopub.status.busy": "2022-06-21T09:54:24.633716Z",
     "iopub.execute_input": "2022-06-21T09:54:24.634420Z",
     "iopub.status.idle": "2022-06-21T09:54:24.638981Z",
     "shell.execute_reply.started": "2022-06-21T09:54:24.634376Z",
     "shell.execute_reply": "2022-06-21T09:54:24.637955Z"
    },
    "trusted": true
   },
   "execution_count": 36,
   "outputs": [
    {
     "data": {
      "text/plain": "             Date  SecuritiesCode    Target  Rank\n0      2021-12-06            9010 -0.005875     0\n1      2021-12-06            5713  0.006755     1\n2      2021-12-06            1939  0.003014     2\n3      2021-12-06            5192 -0.000971     3\n4      2021-12-06            9470 -0.013540     4\n...           ...             ...       ...   ...\n84606  2022-05-27            6920  0.008322    10\n84607  2022-05-27            3677 -0.014563    11\n84608  2022-05-27            2930 -0.032432    12\n84609  2022-05-27            2782  0.014286    13\n84610  2022-05-27            3349  0.006601    14\n\n[1725 rows x 4 columns]",
      "text/html": "<div>\n<style scoped>\n    .dataframe tbody tr th:only-of-type {\n        vertical-align: middle;\n    }\n\n    .dataframe tbody tr th {\n        vertical-align: top;\n    }\n\n    .dataframe thead th {\n        text-align: right;\n    }\n</style>\n<table border=\"1\" class=\"dataframe\">\n  <thead>\n    <tr style=\"text-align: right;\">\n      <th></th>\n      <th>Date</th>\n      <th>SecuritiesCode</th>\n      <th>Target</th>\n      <th>Rank</th>\n    </tr>\n  </thead>\n  <tbody>\n    <tr>\n      <th>0</th>\n      <td>2021-12-06</td>\n      <td>9010</td>\n      <td>-0.005875</td>\n      <td>0</td>\n    </tr>\n    <tr>\n      <th>1</th>\n      <td>2021-12-06</td>\n      <td>5713</td>\n      <td>0.006755</td>\n      <td>1</td>\n    </tr>\n    <tr>\n      <th>2</th>\n      <td>2021-12-06</td>\n      <td>1939</td>\n      <td>0.003014</td>\n      <td>2</td>\n    </tr>\n    <tr>\n      <th>3</th>\n      <td>2021-12-06</td>\n      <td>5192</td>\n      <td>-0.000971</td>\n      <td>3</td>\n    </tr>\n    <tr>\n      <th>4</th>\n      <td>2021-12-06</td>\n      <td>9470</td>\n      <td>-0.013540</td>\n      <td>4</td>\n    </tr>\n    <tr>\n      <th>...</th>\n      <td>...</td>\n      <td>...</td>\n      <td>...</td>\n      <td>...</td>\n    </tr>\n    <tr>\n      <th>84606</th>\n      <td>2022-05-27</td>\n      <td>6920</td>\n      <td>0.008322</td>\n      <td>10</td>\n    </tr>\n    <tr>\n      <th>84607</th>\n      <td>2022-05-27</td>\n      <td>3677</td>\n      <td>-0.014563</td>\n      <td>11</td>\n    </tr>\n    <tr>\n      <th>84608</th>\n      <td>2022-05-27</td>\n      <td>2930</td>\n      <td>-0.032432</td>\n      <td>12</td>\n    </tr>\n    <tr>\n      <th>84609</th>\n      <td>2022-05-27</td>\n      <td>2782</td>\n      <td>0.014286</td>\n      <td>13</td>\n    </tr>\n    <tr>\n      <th>84610</th>\n      <td>2022-05-27</td>\n      <td>3349</td>\n      <td>0.006601</td>\n      <td>14</td>\n    </tr>\n  </tbody>\n</table>\n<p>1725 rows × 4 columns</p>\n</div>"
     },
     "execution_count": 36,
     "metadata": {},
     "output_type": "execute_result"
    }
   ]
  },
  {
   "cell_type": "code",
   "source": [
    "# bottom_daily_chosen_stocks_df"
   ],
   "metadata": {
    "collapsed": false,
    "pycharm": {
     "name": "#%%\n"
    },
    "jupyter": {
     "outputs_hidden": false
    },
    "execution": {
     "iopub.status.busy": "2022-06-21T09:54:24.640383Z",
     "iopub.execute_input": "2022-06-21T09:54:24.641360Z",
     "iopub.status.idle": "2022-06-21T09:54:24.652848Z",
     "shell.execute_reply.started": "2022-06-21T09:54:24.641325Z",
     "shell.execute_reply": "2022-06-21T09:54:24.651768Z"
    },
    "trusted": true
   },
   "execution_count": 37,
   "outputs": []
  },
  {
   "cell_type": "markdown",
   "source": [
    "## Split stable_stocks_statistics_df randomly to 2 groups each with (NUMBER_OF_STABLE_STOCKS / 2) stocks"
   ],
   "metadata": {
    "pycharm": {
     "name": "#%% md\n"
    }
   }
  },
  {
   "cell_type": "code",
   "source": [
    "def random_split_of_list_into_halves(l: list) -> [list, list]:\n",
    "    random.shuffle(l)\n",
    "    return l[:int(len(l) / 2)], l[int(len(l) / 2):]"
   ],
   "metadata": {
    "collapsed": false,
    "pycharm": {
     "name": "#%%\n"
    },
    "jupyter": {
     "outputs_hidden": false
    },
    "execution": {
     "iopub.status.busy": "2022-06-21T09:54:24.654126Z",
     "iopub.execute_input": "2022-06-21T09:54:24.654638Z",
     "iopub.status.idle": "2022-06-21T09:54:24.664537Z",
     "shell.execute_reply.started": "2022-06-21T09:54:24.654606Z",
     "shell.execute_reply": "2022-06-21T09:54:24.663732Z"
    },
    "trusted": true
   },
   "execution_count": 38,
   "outputs": []
  },
  {
   "cell_type": "markdown",
   "source": [
    "## Concat top_daily_chosen_stocks_df + stable half + stable half + bottom_daily_chosen_stocks_df"
   ],
   "metadata": {
    "pycharm": {
     "name": "#%% md\n"
    }
   }
  },
  {
   "cell_type": "code",
   "source": [
    "# stable_stocks_df"
   ],
   "metadata": {
    "collapsed": false,
    "pycharm": {
     "name": "#%%\n"
    },
    "jupyter": {
     "outputs_hidden": false
    },
    "execution": {
     "iopub.status.busy": "2022-06-21T09:54:24.665764Z",
     "iopub.execute_input": "2022-06-21T09:54:24.666213Z",
     "iopub.status.idle": "2022-06-21T09:54:24.676935Z",
     "shell.execute_reply.started": "2022-06-21T09:54:24.666181Z",
     "shell.execute_reply": "2022-06-21T09:54:24.676156Z"
    },
    "trusted": true
   },
   "execution_count": 39,
   "outputs": []
  },
  {
   "cell_type": "code",
   "source": [
    "def get_final_ranks_df(top_df: pd.DataFrame, stable_stock_list: list, stable_stocks_df: pd.DataFrame,\n",
    "                       bottom_df: pd.DataFrame) -> pd.DataFrame:\n",
    "    result_df = pd.DataFrame()\n",
    "\n",
    "    for d in top_df['Date'].unique():\n",
    "        first_half, second_half = random_split_of_list_into_halves(stable_stock_list)\n",
    "        result_df = pd.concat([result_df,\n",
    "                               top_df[top_df['Date'] == d],\n",
    "                               stable_stocks_df.loc[(stable_stocks_df.index == d) & (\n",
    "                                   stable_stocks_df['SecuritiesCode'].isin(first_half)), ['SecuritiesCode',\n",
    "                                                                                          'Target']].reset_index(),\n",
    "                               stable_stocks_df.loc[(stable_stocks_df.index == d) & (\n",
    "                                   stable_stocks_df['SecuritiesCode'].isin(second_half)), ['SecuritiesCode',\n",
    "                                                                                           'Target']].reset_index(),\n",
    "                               bottom_df[bottom_df['Date'] == d][::-1]])\n",
    "        # need to reverse bottom stocks\n",
    "\n",
    "    return result_df\n",
    "\n",
    "\n",
    "final_ranks_df = get_final_ranks_df(top_daily_chosen_stocks_df, stable_stocks_statistics_df.index.values,\n",
    "                                    stable_stocks_df,\n",
    "                                    bottom_daily_chosen_stocks_df)"
   ],
   "metadata": {
    "collapsed": false,
    "pycharm": {
     "name": "#%%\n"
    },
    "jupyter": {
     "outputs_hidden": false
    },
    "execution": {
     "iopub.status.busy": "2022-06-21T09:54:24.678272Z",
     "iopub.execute_input": "2022-06-21T09:54:24.678794Z",
     "iopub.status.idle": "2022-06-21T09:55:45.658203Z",
     "shell.execute_reply.started": "2022-06-21T09:54:24.678762Z",
     "shell.execute_reply": "2022-06-21T09:55:45.657360Z"
    },
    "trusted": true
   },
   "execution_count": 40,
   "outputs": []
  },
  {
   "cell_type": "markdown",
   "source": [
    "## re-rank concatenated daily"
   ],
   "metadata": {
    "pycharm": {
     "name": "#%% md\n"
    }
   }
  },
  {
   "cell_type": "code",
   "source": [
    "final_ranks_df = final_ranks_df.groupby('Date').apply(set_rank).reset_index(drop=True)\n",
    "# final_ranks_df.Date.value_counts().unique()  # 400 every day\n",
    "# final_ranks_df"
   ],
   "metadata": {
    "collapsed": false,
    "pycharm": {
     "name": "#%%\n"
    },
    "jupyter": {
     "outputs_hidden": false
    },
    "execution": {
     "iopub.status.busy": "2022-06-21T09:55:45.659286Z",
     "iopub.execute_input": "2022-06-21T09:55:45.659571Z",
     "iopub.status.idle": "2022-06-21T09:55:45.968092Z",
     "shell.execute_reply.started": "2022-06-21T09:55:45.659544Z",
     "shell.execute_reply": "2022-06-21T09:55:45.967256Z"
    },
    "trusted": true
   },
   "execution_count": 41,
   "outputs": []
  },
  {
   "cell_type": "markdown",
   "source": [
    "# Calculate score"
   ],
   "metadata": {
    "pycharm": {
     "name": "#%% md\n"
    }
   }
  },
  {
   "cell_type": "code",
   "source": [
    "def calc_spread_return_sharpe(df: pd.DataFrame, portfolio_size: int = 200, toprank_weight_ratio: float = 2) -> float:\n",
    "    \"\"\"\n",
    "    Args:\n",
    "        df (pd.DataFrame): predicted results\n",
    "        portfolio_size (int): # of equities to buy/sell\n",
    "        toprank_weight_ratio (float): the relative weight of the most highly ranked stock compared to the least.\n",
    "    Returns:\n",
    "        (float): sharpe ratio\n",
    "    \"\"\"\n",
    "\n",
    "    def _calc_spread_return_per_day(df, portfolio_size, toprank_weight_ratio):\n",
    "        \"\"\"\n",
    "        Args:\n",
    "            df (pd.DataFrame): predicted results\n",
    "            portfolio_size (int): # of equities to buy/sell\n",
    "            toprank_weight_ratio (float): the relative weight of the most highly ranked stock compared to the least.\n",
    "        Returns:\n",
    "            (float): spread return\n",
    "        \"\"\"\n",
    "        assert df['Rank'].min() == 0\n",
    "        assert df['Rank'].max() == len(df['Rank']) - 1\n",
    "        weights = np.linspace(start=toprank_weight_ratio, stop=1, num=portfolio_size)\n",
    "        purchase = (df.sort_values(by='Rank')['Target'][:portfolio_size] * weights).sum() / weights.mean()\n",
    "        short = (df.sort_values(by='Rank', ascending=False)['Target'][:portfolio_size] * weights).sum() / weights.mean()\n",
    "        return purchase - short\n",
    "\n",
    "    buf = df.groupby('Date').apply(_calc_spread_return_per_day, portfolio_size, toprank_weight_ratio)\n",
    "    sharpe_ratio = buf.mean() / buf.std()\n",
    "\n",
    "    return sharpe_ratio"
   ],
   "metadata": {
    "collapsed": false,
    "pycharm": {
     "name": "#%%\n"
    },
    "jupyter": {
     "outputs_hidden": false
    },
    "execution": {
     "iopub.status.busy": "2022-06-21T09:55:45.969058Z",
     "iopub.execute_input": "2022-06-21T09:55:45.969834Z",
     "iopub.status.idle": "2022-06-21T09:55:45.979197Z",
     "shell.execute_reply.started": "2022-06-21T09:55:45.969801Z",
     "shell.execute_reply": "2022-06-21T09:55:45.978384Z"
    },
    "trusted": true
   },
   "execution_count": 42,
   "outputs": []
  },
  {
   "cell_type": "code",
   "source": [
    "score = calc_spread_return_sharpe(final_ranks_df, portfolio_size=200, toprank_weight_ratio=2)\n",
    "score"
   ],
   "metadata": {
    "collapsed": false,
    "pycharm": {
     "name": "#%%\n"
    },
    "jupyter": {
     "outputs_hidden": false
    },
    "execution": {
     "iopub.status.busy": "2022-06-21T09:55:45.980346Z",
     "iopub.execute_input": "2022-06-21T09:55:45.980647Z",
     "iopub.status.idle": "2022-06-21T09:55:46.732658Z",
     "shell.execute_reply.started": "2022-06-21T09:55:45.980620Z",
     "shell.execute_reply": "2022-06-21T09:55:46.731738Z"
    },
    "trusted": true
   },
   "execution_count": 43,
   "outputs": [
    {
     "data": {
      "text/plain": "-0.03108937275281503"
     },
     "execution_count": 43,
     "metadata": {},
     "output_type": "execute_result"
    }
   ]
  },
  {
   "cell_type": "code",
   "execution_count": 44,
   "outputs": [],
   "source": [
    "final_ranks_df = final_ranks_df.drop(columns='Target')\n",
    "final_ranks_df.to_csv('final_ranks_df.csv', index=False)"
   ],
   "metadata": {
    "collapsed": false,
    "pycharm": {
     "name": "#%%\n"
    }
   }
  },
  {
   "cell_type": "markdown",
   "source": [
    "# SUBMIT\n",
    "Will not work on local run!\n",
    "Must be run through Kaggle's Kernel - open a notebook there and copy this notebook"
   ],
   "metadata": {
    "pycharm": {
     "name": "#%% md\n"
    }
   }
  },
  {
   "cell_type": "code",
   "source": [
    "import jpx_tokyo_market_prediction\n",
    "\n",
    "env = jpx_tokyo_market_prediction.make_env()  # initialize the environment\n",
    "iter_test = env.iter_test()  # an iterator which loops over the test files"
   ],
   "metadata": {
    "collapsed": false,
    "pycharm": {
     "name": "#%%\n"
    },
    "jupyter": {
     "outputs_hidden": false
    },
    "execution": {
     "iopub.status.busy": "2022-06-21T09:55:46.734722Z",
     "iopub.execute_input": "2022-06-21T09:55:46.736149Z",
     "iopub.status.idle": "2022-06-21T09:55:46.750542Z",
     "shell.execute_reply.started": "2022-06-21T09:55:46.736097Z",
     "shell.execute_reply": "2022-06-21T09:55:46.749468Z"
    },
    "trusted": true
   },
   "execution_count": 45,
   "outputs": [
    {
     "ename": "ModuleNotFoundError",
     "evalue": "No module named 'jpx_tokyo_market_prediction'",
     "output_type": "error",
     "traceback": [
      "\u001B[1;31m---------------------------------------------------------------------------\u001B[0m",
      "\u001B[1;31mModuleNotFoundError\u001B[0m                       Traceback (most recent call last)",
      "\u001B[1;32m~\\AppData\\Local\\Temp/ipykernel_6256/3904038219.py\u001B[0m in \u001B[0;36m<module>\u001B[1;34m\u001B[0m\n\u001B[1;32m----> 1\u001B[1;33m \u001B[1;32mimport\u001B[0m \u001B[0mjpx_tokyo_market_prediction\u001B[0m\u001B[1;33m\u001B[0m\u001B[1;33m\u001B[0m\u001B[0m\n\u001B[0m\u001B[0;32m      2\u001B[0m \u001B[1;33m\u001B[0m\u001B[0m\n\u001B[0;32m      3\u001B[0m \u001B[0menv\u001B[0m \u001B[1;33m=\u001B[0m \u001B[0mjpx_tokyo_market_prediction\u001B[0m\u001B[1;33m.\u001B[0m\u001B[0mmake_env\u001B[0m\u001B[1;33m(\u001B[0m\u001B[1;33m)\u001B[0m  \u001B[1;31m# initialize the environment\u001B[0m\u001B[1;33m\u001B[0m\u001B[1;33m\u001B[0m\u001B[0m\n\u001B[0;32m      4\u001B[0m \u001B[0miter_test\u001B[0m \u001B[1;33m=\u001B[0m \u001B[0menv\u001B[0m\u001B[1;33m.\u001B[0m\u001B[0miter_test\u001B[0m\u001B[1;33m(\u001B[0m\u001B[1;33m)\u001B[0m  \u001B[1;31m# an iterator which loops over the test files\u001B[0m\u001B[1;33m\u001B[0m\u001B[1;33m\u001B[0m\u001B[0m\n",
      "\u001B[1;31mModuleNotFoundError\u001B[0m: No module named 'jpx_tokyo_market_prediction'"
     ]
    }
   ]
  },
  {
   "cell_type": "code",
   "source": [
    "for prices, _, _, _, _, sample_prediction in iter_test:\n",
    "    ff = final_ranks_df[final_ranks_df['Date'] == prices['Date'].iloc[0]]\n",
    "    ff = ff[ff['SecuritiesCode'].isin(final_ranks_df['SecuritiesCode'].unique())]\n",
    "    mp = ff.set_index('SecuritiesCode')['Rank']\n",
    "    sample_prediction = sample_prediction[sample_prediction['SecuritiesCode'].isin(ff['SecuritiesCode'].unique())]\n",
    "    sample_prediction['Rank'] = sample_prediction.SecuritiesCode.map(mp)\n",
    "    sample_prediction = sample_prediction.sort_values(by='Rank')\n",
    "    env.predict(sample_prediction)"
   ],
   "metadata": {
    "collapsed": false,
    "pycharm": {
     "name": "#%%\n"
    },
    "jupyter": {
     "outputs_hidden": false
    },
    "execution": {
     "iopub.status.busy": "2022-06-21T09:55:46.751644Z",
     "iopub.execute_input": "2022-06-21T09:55:46.752176Z",
     "iopub.status.idle": "2022-06-21T09:55:48.462208Z",
     "shell.execute_reply.started": "2022-06-21T09:55:46.752140Z",
     "shell.execute_reply": "2022-06-21T09:55:48.461174Z"
    },
    "trusted": true
   },
   "execution_count": null,
   "outputs": []
  },
  {
   "cell_type": "code",
   "source": [
    "! head submission.csv"
   ],
   "metadata": {
    "collapsed": false,
    "pycharm": {
     "name": "#%%\n"
    },
    "jupyter": {
     "outputs_hidden": false
    },
    "execution": {
     "iopub.status.busy": "2022-06-21T09:55:48.463362Z",
     "iopub.execute_input": "2022-06-21T09:55:48.463793Z",
     "iopub.status.idle": "2022-06-21T09:55:49.229878Z",
     "shell.execute_reply.started": "2022-06-21T09:55:48.463762Z",
     "shell.execute_reply": "2022-06-21T09:55:49.228718Z"
    },
    "trusted": true
   },
   "execution_count": null,
   "outputs": []
  }
 ]
}