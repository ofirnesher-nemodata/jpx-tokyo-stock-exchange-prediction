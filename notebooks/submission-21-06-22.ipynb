{
 "metadata": {
  "kernelspec": {
   "language": "python",
   "display_name": "Python 3",
   "name": "python3"
  },
  "language_info": {
   "name": "python",
   "version": "3.7.12",
   "mimetype": "text/x-python",
   "codemirror_mode": {
    "name": "ipython",
    "version": 3
   },
   "pygments_lexer": "ipython3",
   "nbconvert_exporter": "python",
   "file_extension": ".py"
  }
 },
 "nbformat_minor": 4,
 "nbformat": 4,
 "cells": [
  {
   "cell_type": "markdown",
   "source": [
    "# IMPORTS"
   ],
   "metadata": {
    "pycharm": {
     "name": "#%% md\n"
    }
   }
  },
  {
   "cell_type": "code",
   "source": [
    "!pip install lightgbm\n",
    "!pip install pandas_ta\n",
    "# !pip install pandas_ta --no-index --find-links=file:///kaggle/input/pandas-ta/"
   ],
   "metadata": {
    "execution": {
     "iopub.status.busy": "2022-06-21T10:03:00.773588Z",
     "iopub.execute_input": "2022-06-21T10:03:00.774074Z",
     "iopub.status.idle": "2022-06-21T10:03:13.605895Z",
     "shell.execute_reply.started": "2022-06-21T10:03:00.773950Z",
     "shell.execute_reply": "2022-06-21T10:03:13.605001Z"
    },
    "trusted": true,
    "pycharm": {
     "name": "#%%\n"
    }
   },
   "execution_count": 109,
   "outputs": [
    {
     "name": "stdout",
     "output_type": "stream",
     "text": [
      "Requirement already satisfied: lightgbm in c:\\users\\neshe\\miniconda3\\lib\\site-packages (3.3.2)\n",
      "Requirement already satisfied: wheel in c:\\users\\neshe\\miniconda3\\lib\\site-packages (from lightgbm) (0.36.2)\n",
      "Requirement already satisfied: numpy in c:\\users\\neshe\\miniconda3\\lib\\site-packages (from lightgbm) (1.22.3)\n",
      "Requirement already satisfied: scipy in c:\\users\\neshe\\miniconda3\\lib\\site-packages (from lightgbm) (1.8.0)\n",
      "Requirement already satisfied: scikit-learn!=0.22.0 in c:\\users\\neshe\\miniconda3\\lib\\site-packages (from lightgbm) (1.0.2)\n",
      "Requirement already satisfied: joblib>=0.11 in c:\\users\\neshe\\miniconda3\\lib\\site-packages (from scikit-learn!=0.22.0->lightgbm) (1.1.0)\n",
      "Requirement already satisfied: threadpoolctl>=2.0.0 in c:\\users\\neshe\\miniconda3\\lib\\site-packages (from scikit-learn!=0.22.0->lightgbm) (3.1.0)\n",
      "Requirement already satisfied: pandas_ta in c:\\users\\neshe\\miniconda3\\lib\\site-packages (0.3.14b0)\n",
      "Requirement already satisfied: pandas in c:\\users\\neshe\\miniconda3\\lib\\site-packages (from pandas_ta) (1.4.1)\n",
      "Requirement already satisfied: python-dateutil>=2.8.1 in c:\\users\\neshe\\miniconda3\\lib\\site-packages (from pandas->pandas_ta) (2.8.2)\n",
      "Requirement already satisfied: numpy>=1.18.5 in c:\\users\\neshe\\miniconda3\\lib\\site-packages (from pandas->pandas_ta) (1.22.3)\n",
      "Requirement already satisfied: pytz>=2020.1 in c:\\users\\neshe\\miniconda3\\lib\\site-packages (from pandas->pandas_ta) (2021.3)\n",
      "Requirement already satisfied: six>=1.5 in c:\\users\\neshe\\miniconda3\\lib\\site-packages (from python-dateutil>=2.8.1->pandas->pandas_ta) (1.16.0)\n"
     ]
    }
   ]
  },
  {
   "cell_type": "code",
   "source": [
    "import pandas as pd\n",
    "import numpy as np\n",
    "import random\n",
    "from lightgbm import LGBMRegressor\n",
    "import pandas_ta as ta\n",
    "import os"
   ],
   "metadata": {
    "collapsed": false,
    "pycharm": {
     "name": "#%%\n"
    },
    "jupyter": {
     "outputs_hidden": false
    },
    "execution": {
     "iopub.status.busy": "2022-06-21T10:03:31.061932Z",
     "iopub.execute_input": "2022-06-21T10:03:31.062379Z",
     "iopub.status.idle": "2022-06-21T10:03:32.703498Z",
     "shell.execute_reply.started": "2022-06-21T10:03:31.062341Z",
     "shell.execute_reply": "2022-06-21T10:03:32.702658Z"
    },
    "trusted": true
   },
   "execution_count": 110,
   "outputs": []
  },
  {
   "cell_type": "markdown",
   "source": [
    "# CONSTANTS"
   ],
   "metadata": {
    "pycharm": {
     "name": "#%% md\n"
    }
   }
  },
  {
   "cell_type": "code",
   "source": [
    "NUMBER_OF_STABLE_STOCKS = 370\n",
    "NUMBER_OF_DAILY_CHOSEN_STOCKS = 15\n",
    "DAYS_PERIODS = [10, 21, 63]"
   ],
   "metadata": {
    "collapsed": false,
    "pycharm": {
     "name": "#%%\n"
    },
    "jupyter": {
     "outputs_hidden": false
    },
    "execution": {
     "iopub.status.busy": "2022-06-21T09:53:22.471471Z",
     "iopub.execute_input": "2022-06-21T09:53:22.471981Z",
     "iopub.status.idle": "2022-06-21T09:53:22.477234Z",
     "shell.execute_reply.started": "2022-06-21T09:53:22.471944Z",
     "shell.execute_reply": "2022-06-21T09:53:22.476101Z"
    },
    "trusted": true
   },
   "execution_count": 111,
   "outputs": []
  },
  {
   "cell_type": "markdown",
   "source": [
    "# PROCESS DATA"
   ],
   "metadata": {
    "pycharm": {
     "name": "#%% md\n"
    }
   }
  },
  {
   "cell_type": "markdown",
   "source": [
    "Submission format: our end goal"
   ],
   "metadata": {
    "pycharm": {
     "name": "#%% md\n"
    }
   }
  },
  {
   "cell_type": "code",
   "source": [
    "# sample_submission = pd.read_csv(\n",
    "#     r'../input/jpx-tokyo-stock-exchange-prediction/example_test_files/sample_submission.csv')\n",
    "# sample_submission"
   ],
   "metadata": {
    "collapsed": false,
    "pycharm": {
     "name": "#%%\n"
    },
    "jupyter": {
     "outputs_hidden": false
    },
    "execution": {
     "iopub.status.busy": "2022-06-21T09:53:22.494949Z",
     "iopub.execute_input": "2022-06-21T09:53:22.495871Z",
     "iopub.status.idle": "2022-06-21T09:53:22.593747Z",
     "shell.execute_reply.started": "2022-06-21T09:53:22.495821Z",
     "shell.execute_reply": "2022-06-21T09:53:22.592974Z"
    },
    "trusted": true
   },
   "execution_count": 112,
   "outputs": []
  },
  {
   "cell_type": "code",
   "source": [
    "train_stock_prices = pd.read_csv(\n",
    "    os.path.join('../input/jpx-tokyo-stock-exchange-prediction/train_files', 'stock_prices.csv'))\n",
    "supplemental_stock_prices = pd.read_csv(\n",
    "    os.path.join('../input/jpx-tokyo-stock-exchange-prediction/supplemental_files', 'stock_prices.csv'))"
   ],
   "metadata": {
    "pycharm": {
     "name": "#%%\n"
    },
    "execution": {
     "iopub.status.busy": "2022-06-21T09:53:22.594842Z",
     "iopub.execute_input": "2022-06-21T09:53:22.595351Z",
     "iopub.status.idle": "2022-06-21T09:53:29.414143Z",
     "shell.execute_reply.started": "2022-06-21T09:53:22.595304Z",
     "shell.execute_reply": "2022-06-21T09:53:29.413012Z"
    },
    "trusted": true
   },
   "execution_count": 113,
   "outputs": []
  },
  {
   "cell_type": "code",
   "execution_count": 114,
   "outputs": [],
   "source": [
    "stock_prices = pd.concat([train_stock_prices, supplemental_stock_prices])"
   ],
   "metadata": {
    "collapsed": false,
    "pycharm": {
     "name": "#%%\n"
    }
   }
  },
  {
   "cell_type": "code",
   "source": [
    "delisted_stocks = stock_prices[stock_prices['SupervisionFlag'] == True]['SecuritiesCode'].values"
   ],
   "metadata": {
    "pycharm": {
     "name": "#%%\n"
    },
    "execution": {
     "iopub.status.busy": "2022-06-21T09:53:29.415357Z",
     "iopub.execute_input": "2022-06-21T09:53:29.415703Z",
     "iopub.status.idle": "2022-06-21T09:53:29.436562Z",
     "shell.execute_reply.started": "2022-06-21T09:53:29.415656Z",
     "shell.execute_reply": "2022-06-21T09:53:29.435757Z"
    },
    "trusted": true
   },
   "execution_count": 115,
   "outputs": []
  },
  {
   "cell_type": "code",
   "source": [
    "def get_stocks_traded_every_day(stock_prices_df):\n",
    "    \"\"\"Return stocks that are traded in every trading day in data and remove others\"\"\"\n",
    "    traded_stock_per_date = stock_prices_df['Date'].value_counts()\n",
    "    stocks_by_descending_trade_count = stock_prices_df['SecuritiesCode'].value_counts()\n",
    "    return stocks_by_descending_trade_count[stocks_by_descending_trade_count == len(traded_stock_per_date)].index.values\n",
    "\n",
    "\n",
    "daily_traded_stocks = get_stocks_traded_every_day(stock_prices)"
   ],
   "metadata": {
    "pycharm": {
     "name": "#%%\n"
    },
    "execution": {
     "iopub.status.busy": "2022-06-21T09:53:29.437745Z",
     "iopub.execute_input": "2022-06-21T09:53:29.438062Z",
     "iopub.status.idle": "2022-06-21T09:53:29.751371Z",
     "shell.execute_reply.started": "2022-06-21T09:53:29.438035Z",
     "shell.execute_reply": "2022-06-21T09:53:29.750374Z"
    },
    "trusted": true
   },
   "execution_count": 116,
   "outputs": []
  },
  {
   "cell_type": "code",
   "source": [
    "# TODO: make set and subtract\n",
    "daily_traded_stocks = [x for x in daily_traded_stocks if (x not in delisted_stocks)]\n",
    "print(\n",
    "    f'We now have {len(daily_traded_stocks)} stocks which have available information in every trading day and which are NOT delisted.\\n'\n",
    "    'These remaining stocks are the ones we are going to analyze and \"play\" with from now on.')"
   ],
   "metadata": {
    "pycharm": {
     "name": "#%%\n"
    },
    "execution": {
     "iopub.status.busy": "2022-06-21T09:53:29.752974Z",
     "iopub.execute_input": "2022-06-21T09:53:29.753431Z",
     "iopub.status.idle": "2022-06-21T09:53:29.781468Z",
     "shell.execute_reply.started": "2022-06-21T09:53:29.753385Z",
     "shell.execute_reply": "2022-06-21T09:53:29.780499Z"
    },
    "trusted": true
   },
   "execution_count": 117,
   "outputs": [
    {
     "name": "stdout",
     "output_type": "stream",
     "text": [
      "We now have 1845 stocks which have available information in every trading day and which are NOT delisted.\n",
      "These remaining stocks are the ones we are going to analyze and \"play\" with from now on.\n"
     ]
    }
   ]
  },
  {
   "cell_type": "code",
   "source": [
    "listed_stock_prices = stock_prices.loc[\n",
    "    stock_prices['SecuritiesCode'].isin(daily_traded_stocks), ['Date', 'SecuritiesCode', 'Open', 'Close', 'Volume',\n",
    "                                                               'AdjustmentFactor', 'Target']]\n",
    "\n",
    "# 1850 daily-traded & listed stocks * 1202 trading days == 2223700 rows\n",
    "assert len(listed_stock_prices) == len(daily_traded_stocks) * len(stock_prices['Date'].unique())"
   ],
   "metadata": {
    "pycharm": {
     "name": "#%%\n"
    },
    "execution": {
     "iopub.status.busy": "2022-06-21T09:53:29.785588Z",
     "iopub.execute_input": "2022-06-21T09:53:29.786042Z",
     "iopub.status.idle": "2022-06-21T09:53:30.210507Z",
     "shell.execute_reply.started": "2022-06-21T09:53:29.785999Z",
     "shell.execute_reply": "2022-06-21T09:53:30.209555Z"
    },
    "trusted": true
   },
   "execution_count": 118,
   "outputs": []
  },
  {
   "cell_type": "code",
   "source": [
    "def adjust_price(price):\n",
    "    def calculate_adjusted(df):\n",
    "        \"\"\"apply AdjustmentFactor on columns\"\"\"\n",
    "        new = df.sort_index(ascending=False)\n",
    "        split_coef = new['AdjustmentFactor'].shift(1).fillna(1).cumprod()\n",
    "        new['adj_open'] = new['Open'] / split_coef\n",
    "        new['adj_close'] = new['Close'] / split_coef\n",
    "        new['adj_volume'] = split_coef * new['Volume']\n",
    "        return new.sort_index(ascending=True)\n",
    "\n",
    "    price = price.groupby('SecuritiesCode').apply(calculate_adjusted).reset_index(drop=True)\n",
    "    price.set_index('Date', inplace=True)\n",
    "\n",
    "    return price"
   ],
   "metadata": {
    "pycharm": {
     "name": "#%%\n"
    },
    "execution": {
     "iopub.status.busy": "2022-06-21T09:53:30.212013Z",
     "iopub.execute_input": "2022-06-21T09:53:30.212446Z",
     "iopub.status.idle": "2022-06-21T09:53:30.221589Z",
     "shell.execute_reply.started": "2022-06-21T09:53:30.212403Z",
     "shell.execute_reply": "2022-06-21T09:53:30.220536Z"
    },
    "trusted": true
   },
   "execution_count": 119,
   "outputs": []
  },
  {
   "cell_type": "code",
   "source": [
    "adj_prices_df = adjust_price(listed_stock_prices)\n",
    "\n",
    "# TODO: change \"adj_open\"!\n",
    "adj_prices_df['daily_change'] = (adj_prices_df['adj_close'] - adj_prices_df['adj_open']) / adj_prices_df['adj_close']\n",
    "adj_prices_df = adj_prices_df.reset_index()\n",
    "# adj_prices_df"
   ],
   "metadata": {
    "pycharm": {
     "name": "#%%\n"
    },
    "execution": {
     "iopub.status.busy": "2022-06-21T09:53:30.223810Z",
     "iopub.execute_input": "2022-06-21T09:53:30.224370Z",
     "iopub.status.idle": "2022-06-21T09:53:38.856431Z",
     "shell.execute_reply.started": "2022-06-21T09:53:30.224320Z",
     "shell.execute_reply": "2022-06-21T09:53:38.855493Z"
    },
    "trusted": true
   },
   "execution_count": 120,
   "outputs": []
  },
  {
   "cell_type": "code",
   "execution_count": 121,
   "outputs": [
    {
     "data": {
      "text/plain": "               Date  SecuritiesCode    Open   Close  Volume  AdjustmentFactor  \\\n0        2017-01-04            1301  2734.0  2742.0   31400               1.0   \n1        2021-12-06            1301  2982.0  2971.0    8900               1.0   \n2        2017-01-05            1301  2743.0  2738.0   17900               1.0   \n3        2021-12-07            1301  2998.0  3065.0   19100               1.0   \n4        2017-01-06            1301  2734.0  2740.0   19900               1.0   \n...             ...             ...     ...     ...     ...               ...   \n2429860  2021-11-29            9997   678.0   668.0  320800               1.0   \n2429861  2021-11-30            9997   670.0   667.0  296300               1.0   \n2429862  2021-12-01            9997   661.0   685.0  339100               1.0   \n2429863  2021-12-02            9997   681.0   684.0  342900               1.0   \n2429864  2021-12-03            9997   690.0   696.0  381100               1.0   \n\n           Target  adj_open  adj_close  adj_volume  daily_change  \n0        0.000730    2734.0     2742.0     31400.0      0.002918  \n1       -0.003263    2982.0     2971.0      8900.0     -0.003702  \n2        0.002920    2743.0     2738.0     17900.0     -0.001826  \n3        0.009820    2998.0     3065.0     19100.0      0.021860  \n4       -0.001092    2734.0     2740.0     19900.0      0.002190  \n...           ...       ...        ...         ...           ...  \n2429860  0.026987     678.0      668.0    320800.0     -0.014970  \n2429861 -0.001460     670.0      667.0    296300.0     -0.004498  \n2429862  0.017544     661.0      685.0    339100.0      0.035036  \n2429863  0.014368     681.0      684.0    342900.0      0.004386  \n2429864  0.018414     690.0      696.0    381100.0      0.008621  \n\n[2429865 rows x 11 columns]",
      "text/html": "<div>\n<style scoped>\n    .dataframe tbody tr th:only-of-type {\n        vertical-align: middle;\n    }\n\n    .dataframe tbody tr th {\n        vertical-align: top;\n    }\n\n    .dataframe thead th {\n        text-align: right;\n    }\n</style>\n<table border=\"1\" class=\"dataframe\">\n  <thead>\n    <tr style=\"text-align: right;\">\n      <th></th>\n      <th>Date</th>\n      <th>SecuritiesCode</th>\n      <th>Open</th>\n      <th>Close</th>\n      <th>Volume</th>\n      <th>AdjustmentFactor</th>\n      <th>Target</th>\n      <th>adj_open</th>\n      <th>adj_close</th>\n      <th>adj_volume</th>\n      <th>daily_change</th>\n    </tr>\n  </thead>\n  <tbody>\n    <tr>\n      <th>0</th>\n      <td>2017-01-04</td>\n      <td>1301</td>\n      <td>2734.0</td>\n      <td>2742.0</td>\n      <td>31400</td>\n      <td>1.0</td>\n      <td>0.000730</td>\n      <td>2734.0</td>\n      <td>2742.0</td>\n      <td>31400.0</td>\n      <td>0.002918</td>\n    </tr>\n    <tr>\n      <th>1</th>\n      <td>2021-12-06</td>\n      <td>1301</td>\n      <td>2982.0</td>\n      <td>2971.0</td>\n      <td>8900</td>\n      <td>1.0</td>\n      <td>-0.003263</td>\n      <td>2982.0</td>\n      <td>2971.0</td>\n      <td>8900.0</td>\n      <td>-0.003702</td>\n    </tr>\n    <tr>\n      <th>2</th>\n      <td>2017-01-05</td>\n      <td>1301</td>\n      <td>2743.0</td>\n      <td>2738.0</td>\n      <td>17900</td>\n      <td>1.0</td>\n      <td>0.002920</td>\n      <td>2743.0</td>\n      <td>2738.0</td>\n      <td>17900.0</td>\n      <td>-0.001826</td>\n    </tr>\n    <tr>\n      <th>3</th>\n      <td>2021-12-07</td>\n      <td>1301</td>\n      <td>2998.0</td>\n      <td>3065.0</td>\n      <td>19100</td>\n      <td>1.0</td>\n      <td>0.009820</td>\n      <td>2998.0</td>\n      <td>3065.0</td>\n      <td>19100.0</td>\n      <td>0.021860</td>\n    </tr>\n    <tr>\n      <th>4</th>\n      <td>2017-01-06</td>\n      <td>1301</td>\n      <td>2734.0</td>\n      <td>2740.0</td>\n      <td>19900</td>\n      <td>1.0</td>\n      <td>-0.001092</td>\n      <td>2734.0</td>\n      <td>2740.0</td>\n      <td>19900.0</td>\n      <td>0.002190</td>\n    </tr>\n    <tr>\n      <th>...</th>\n      <td>...</td>\n      <td>...</td>\n      <td>...</td>\n      <td>...</td>\n      <td>...</td>\n      <td>...</td>\n      <td>...</td>\n      <td>...</td>\n      <td>...</td>\n      <td>...</td>\n      <td>...</td>\n    </tr>\n    <tr>\n      <th>2429860</th>\n      <td>2021-11-29</td>\n      <td>9997</td>\n      <td>678.0</td>\n      <td>668.0</td>\n      <td>320800</td>\n      <td>1.0</td>\n      <td>0.026987</td>\n      <td>678.0</td>\n      <td>668.0</td>\n      <td>320800.0</td>\n      <td>-0.014970</td>\n    </tr>\n    <tr>\n      <th>2429861</th>\n      <td>2021-11-30</td>\n      <td>9997</td>\n      <td>670.0</td>\n      <td>667.0</td>\n      <td>296300</td>\n      <td>1.0</td>\n      <td>-0.001460</td>\n      <td>670.0</td>\n      <td>667.0</td>\n      <td>296300.0</td>\n      <td>-0.004498</td>\n    </tr>\n    <tr>\n      <th>2429862</th>\n      <td>2021-12-01</td>\n      <td>9997</td>\n      <td>661.0</td>\n      <td>685.0</td>\n      <td>339100</td>\n      <td>1.0</td>\n      <td>0.017544</td>\n      <td>661.0</td>\n      <td>685.0</td>\n      <td>339100.0</td>\n      <td>0.035036</td>\n    </tr>\n    <tr>\n      <th>2429863</th>\n      <td>2021-12-02</td>\n      <td>9997</td>\n      <td>681.0</td>\n      <td>684.0</td>\n      <td>342900</td>\n      <td>1.0</td>\n      <td>0.014368</td>\n      <td>681.0</td>\n      <td>684.0</td>\n      <td>342900.0</td>\n      <td>0.004386</td>\n    </tr>\n    <tr>\n      <th>2429864</th>\n      <td>2021-12-03</td>\n      <td>9997</td>\n      <td>690.0</td>\n      <td>696.0</td>\n      <td>381100</td>\n      <td>1.0</td>\n      <td>0.018414</td>\n      <td>690.0</td>\n      <td>696.0</td>\n      <td>381100.0</td>\n      <td>0.008621</td>\n    </tr>\n  </tbody>\n</table>\n<p>2429865 rows × 11 columns</p>\n</div>"
     },
     "execution_count": 121,
     "metadata": {},
     "output_type": "execute_result"
    }
   ],
   "source": [
    "adj_prices_df"
   ],
   "metadata": {
    "collapsed": false,
    "pycharm": {
     "name": "#%%\n"
    }
   }
  },
  {
   "cell_type": "code",
   "source": [
    "grouped_df = adj_prices_df.groupby('Date')['daily_change'].mean()\n",
    "grouped_df = pd.DataFrame(grouped_df)\n",
    "grouped_df.columns = ['market_change_mean']\n",
    "# grouped_df"
   ],
   "metadata": {
    "pycharm": {
     "name": "#%%\n"
    },
    "execution": {
     "iopub.status.busy": "2022-06-21T09:53:38.858113Z",
     "iopub.execute_input": "2022-06-21T09:53:38.858447Z",
     "iopub.status.idle": "2022-06-21T09:53:39.086344Z",
     "shell.execute_reply.started": "2022-06-21T09:53:38.858417Z",
     "shell.execute_reply": "2022-06-21T09:53:39.085548Z"
    },
    "trusted": true
   },
   "execution_count": 122,
   "outputs": []
  },
  {
   "cell_type": "code",
   "execution_count": 123,
   "outputs": [
    {
     "data": {
      "text/plain": "            market_change_mean\nDate                          \n2017-01-04            0.013806\n2017-01-05            0.001261\n2017-01-06            0.006517\n2017-01-10           -0.001973\n2017-01-11           -0.001397\n...                        ...\n2022-05-23            0.003415\n2022-05-24           -0.011786\n2022-05-25           -0.005785\n2022-05-26            0.001104\n2022-05-27           -0.004496\n\n[1317 rows x 1 columns]",
      "text/html": "<div>\n<style scoped>\n    .dataframe tbody tr th:only-of-type {\n        vertical-align: middle;\n    }\n\n    .dataframe tbody tr th {\n        vertical-align: top;\n    }\n\n    .dataframe thead th {\n        text-align: right;\n    }\n</style>\n<table border=\"1\" class=\"dataframe\">\n  <thead>\n    <tr style=\"text-align: right;\">\n      <th></th>\n      <th>market_change_mean</th>\n    </tr>\n    <tr>\n      <th>Date</th>\n      <th></th>\n    </tr>\n  </thead>\n  <tbody>\n    <tr>\n      <th>2017-01-04</th>\n      <td>0.013806</td>\n    </tr>\n    <tr>\n      <th>2017-01-05</th>\n      <td>0.001261</td>\n    </tr>\n    <tr>\n      <th>2017-01-06</th>\n      <td>0.006517</td>\n    </tr>\n    <tr>\n      <th>2017-01-10</th>\n      <td>-0.001973</td>\n    </tr>\n    <tr>\n      <th>2017-01-11</th>\n      <td>-0.001397</td>\n    </tr>\n    <tr>\n      <th>...</th>\n      <td>...</td>\n    </tr>\n    <tr>\n      <th>2022-05-23</th>\n      <td>0.003415</td>\n    </tr>\n    <tr>\n      <th>2022-05-24</th>\n      <td>-0.011786</td>\n    </tr>\n    <tr>\n      <th>2022-05-25</th>\n      <td>-0.005785</td>\n    </tr>\n    <tr>\n      <th>2022-05-26</th>\n      <td>0.001104</td>\n    </tr>\n    <tr>\n      <th>2022-05-27</th>\n      <td>-0.004496</td>\n    </tr>\n  </tbody>\n</table>\n<p>1317 rows × 1 columns</p>\n</div>"
     },
     "execution_count": 123,
     "metadata": {},
     "output_type": "execute_result"
    }
   ],
   "source": [
    "grouped_df"
   ],
   "metadata": {
    "collapsed": false,
    "pycharm": {
     "name": "#%%\n"
    }
   }
  },
  {
   "cell_type": "code",
   "source": [
    "all_stocks_df = adj_prices_df.join(grouped_df, on='Date')\n",
    "all_stocks_df['market_gap'] = all_stocks_df['daily_change'] - all_stocks_df['market_change_mean']\n",
    "all_stocks_df.sort_values(by='Date', inplace=True)\n",
    "# all_stocks_df.head()"
   ],
   "metadata": {
    "pycharm": {
     "name": "#%%\n"
    },
    "execution": {
     "iopub.status.busy": "2022-06-21T09:53:39.087523Z",
     "iopub.execute_input": "2022-06-21T09:53:39.087855Z",
     "iopub.status.idle": "2022-06-21T09:53:43.584987Z",
     "shell.execute_reply.started": "2022-06-21T09:53:39.087825Z",
     "shell.execute_reply": "2022-06-21T09:53:43.583840Z"
    },
    "trusted": true
   },
   "execution_count": 124,
   "outputs": []
  },
  {
   "cell_type": "code",
   "source": [
    "# all_stocks_df[all_stocks_df['SecuritiesCode'] == 1301]['market_gap'].std()"
   ],
   "metadata": {
    "pycharm": {
     "name": "#%%\n"
    },
    "execution": {
     "iopub.status.busy": "2022-06-21T09:53:43.586762Z",
     "iopub.execute_input": "2022-06-21T09:53:43.587209Z",
     "iopub.status.idle": "2022-06-21T09:53:43.781052Z",
     "shell.execute_reply.started": "2022-06-21T09:53:43.587164Z",
     "shell.execute_reply": "2022-06-21T09:53:43.779845Z"
    },
    "trusted": true
   },
   "execution_count": 125,
   "outputs": []
  },
  {
   "cell_type": "code",
   "source": [
    "# all_stocks_df[all_stocks_df['SecuritiesCode'] == 1301].reset_index().plot(x='Date',\n",
    "#                                                                            y=[\"daily_change\", \"market_change_mean\"],\n",
    "#                                                                            kind=\"line\", figsize=(20, 10))"
   ],
   "metadata": {
    "pycharm": {
     "name": "#%%\n"
    },
    "execution": {
     "iopub.status.busy": "2022-06-21T09:53:43.782723Z",
     "iopub.execute_input": "2022-06-21T09:53:43.783797Z",
     "iopub.status.idle": "2022-06-21T09:53:44.145870Z",
     "shell.execute_reply.started": "2022-06-21T09:53:43.783759Z",
     "shell.execute_reply": "2022-06-21T09:53:44.144989Z"
    },
    "trusted": true
   },
   "execution_count": 126,
   "outputs": []
  },
  {
   "cell_type": "code",
   "source": [
    "statistics_df = all_stocks_df.groupby(by='SecuritiesCode')['market_gap'].agg(['mean', 'median', 'std'])\n",
    "statistics_df['abs_mean'] = np.abs(statistics_df['mean'])\n",
    "statistics_df"
   ],
   "metadata": {
    "pycharm": {
     "name": "#%%\n"
    },
    "execution": {
     "iopub.status.busy": "2022-06-21T09:53:44.147201Z",
     "iopub.execute_input": "2022-06-21T09:53:44.147702Z",
     "iopub.status.idle": "2022-06-21T09:53:44.287066Z",
     "shell.execute_reply.started": "2022-06-21T09:53:44.147654Z",
     "shell.execute_reply": "2022-06-21T09:53:44.286105Z"
    },
    "trusted": true
   },
   "execution_count": 127,
   "outputs": [
    {
     "data": {
      "text/plain": "                    mean    median       std  abs_mean\nSecuritiesCode                                        \n1301            0.000341  0.000216  0.010013  0.000341\n1332            0.000006 -0.000586  0.013794  0.000006\n1333            0.000163 -0.000245  0.011128  0.000163\n1376           -0.001907 -0.001430  0.015421  0.001907\n1377            0.000093 -0.000265  0.011549  0.000093\n...                  ...       ...       ...       ...\n9990           -0.000526 -0.000648  0.014341  0.000526\n9991           -0.000268 -0.000688  0.012211  0.000268\n9993           -0.000424 -0.000333  0.011470  0.000424\n9994           -0.000499 -0.000396  0.012431  0.000499\n9997            0.000094 -0.000220  0.016561  0.000094\n\n[1845 rows x 4 columns]",
      "text/html": "<div>\n<style scoped>\n    .dataframe tbody tr th:only-of-type {\n        vertical-align: middle;\n    }\n\n    .dataframe tbody tr th {\n        vertical-align: top;\n    }\n\n    .dataframe thead th {\n        text-align: right;\n    }\n</style>\n<table border=\"1\" class=\"dataframe\">\n  <thead>\n    <tr style=\"text-align: right;\">\n      <th></th>\n      <th>mean</th>\n      <th>median</th>\n      <th>std</th>\n      <th>abs_mean</th>\n    </tr>\n    <tr>\n      <th>SecuritiesCode</th>\n      <th></th>\n      <th></th>\n      <th></th>\n      <th></th>\n    </tr>\n  </thead>\n  <tbody>\n    <tr>\n      <th>1301</th>\n      <td>0.000341</td>\n      <td>0.000216</td>\n      <td>0.010013</td>\n      <td>0.000341</td>\n    </tr>\n    <tr>\n      <th>1332</th>\n      <td>0.000006</td>\n      <td>-0.000586</td>\n      <td>0.013794</td>\n      <td>0.000006</td>\n    </tr>\n    <tr>\n      <th>1333</th>\n      <td>0.000163</td>\n      <td>-0.000245</td>\n      <td>0.011128</td>\n      <td>0.000163</td>\n    </tr>\n    <tr>\n      <th>1376</th>\n      <td>-0.001907</td>\n      <td>-0.001430</td>\n      <td>0.015421</td>\n      <td>0.001907</td>\n    </tr>\n    <tr>\n      <th>1377</th>\n      <td>0.000093</td>\n      <td>-0.000265</td>\n      <td>0.011549</td>\n      <td>0.000093</td>\n    </tr>\n    <tr>\n      <th>...</th>\n      <td>...</td>\n      <td>...</td>\n      <td>...</td>\n      <td>...</td>\n    </tr>\n    <tr>\n      <th>9990</th>\n      <td>-0.000526</td>\n      <td>-0.000648</td>\n      <td>0.014341</td>\n      <td>0.000526</td>\n    </tr>\n    <tr>\n      <th>9991</th>\n      <td>-0.000268</td>\n      <td>-0.000688</td>\n      <td>0.012211</td>\n      <td>0.000268</td>\n    </tr>\n    <tr>\n      <th>9993</th>\n      <td>-0.000424</td>\n      <td>-0.000333</td>\n      <td>0.011470</td>\n      <td>0.000424</td>\n    </tr>\n    <tr>\n      <th>9994</th>\n      <td>-0.000499</td>\n      <td>-0.000396</td>\n      <td>0.012431</td>\n      <td>0.000499</td>\n    </tr>\n    <tr>\n      <th>9997</th>\n      <td>0.000094</td>\n      <td>-0.000220</td>\n      <td>0.016561</td>\n      <td>0.000094</td>\n    </tr>\n  </tbody>\n</table>\n<p>1845 rows × 4 columns</p>\n</div>"
     },
     "execution_count": 127,
     "metadata": {},
     "output_type": "execute_result"
    }
   ]
  },
  {
   "cell_type": "code",
   "source": [
    "statistics_df['std'].hist()"
   ],
   "metadata": {
    "pycharm": {
     "name": "#%%\n"
    },
    "execution": {
     "iopub.status.busy": "2022-06-21T09:53:44.288295Z",
     "iopub.execute_input": "2022-06-21T09:53:44.288743Z",
     "iopub.status.idle": "2022-06-21T09:53:44.293168Z",
     "shell.execute_reply.started": "2022-06-21T09:53:44.288677Z",
     "shell.execute_reply": "2022-06-21T09:53:44.292184Z"
    },
    "trusted": true
   },
   "execution_count": 128,
   "outputs": [
    {
     "data": {
      "text/plain": "<AxesSubplot:>"
     },
     "execution_count": 128,
     "metadata": {},
     "output_type": "execute_result"
    },
    {
     "data": {
      "text/plain": "<Figure size 432x288 with 1 Axes>",
      "image/png": "[encoded data removed]"
     },
     "metadata": {
      "needs_background": "light"
     },
     "output_type": "display_data"
    }
   ]
  },
  {
   "cell_type": "markdown",
   "source": [
    "The stocks with std around 0 (+-) are those that behave LIKE THE MARKET.\n",
    "We want them to be part of our prediction because they are the least-noisy stocks."
   ],
   "metadata": {
    "pycharm": {
     "name": "#%% md\n"
    }
   }
  },
  {
   "cell_type": "code",
   "source": [
    "statistics_df.sort_values(by=['abs_mean', 'std'], ascending=True, inplace=True)\n",
    "statistics_df"
   ],
   "metadata": {
    "pycharm": {
     "name": "#%%\n"
    },
    "execution": {
     "iopub.status.busy": "2022-06-21T09:53:44.294563Z",
     "iopub.execute_input": "2022-06-21T09:53:44.295775Z",
     "iopub.status.idle": "2022-06-21T09:53:44.309739Z",
     "shell.execute_reply.started": "2022-06-21T09:53:44.295730Z",
     "shell.execute_reply": "2022-06-21T09:53:44.309009Z"
    },
    "trusted": true
   },
   "execution_count": 129,
   "outputs": [
    {
     "data": {
      "text/plain": "                        mean    median       std      abs_mean\nSecuritiesCode                                                \n9099            6.895782e-07 -0.000590  0.018053  6.895782e-07\n6539           -8.960286e-07 -0.000303  0.022553  8.960286e-07\n8237            1.058401e-06  0.000164  0.018164  1.058401e-06\n2109           -2.032267e-06 -0.000494  0.010513  2.032267e-06\n7921           -2.204802e-06 -0.000640  0.010946  2.204802e-06\n...                      ...       ...       ...           ...\n3825           -2.435402e-03 -0.004819  0.046765  2.435402e-03\n5918            2.451289e-03  0.001119  0.012953  2.451289e-03\n4308           -2.554354e-03 -0.002169  0.030815  2.554354e-03\n2315           -2.559904e-03 -0.001774  0.038316  2.559904e-03\n5217            2.852527e-03  0.001753  0.023143  2.852527e-03\n\n[1845 rows x 4 columns]",
      "text/html": "<div>\n<style scoped>\n    .dataframe tbody tr th:only-of-type {\n        vertical-align: middle;\n    }\n\n    .dataframe tbody tr th {\n        vertical-align: top;\n    }\n\n    .dataframe thead th {\n        text-align: right;\n    }\n</style>\n<table border=\"1\" class=\"dataframe\">\n  <thead>\n    <tr style=\"text-align: right;\">\n      <th></th>\n      <th>mean</th>\n      <th>median</th>\n      <th>std</th>\n      <th>abs_mean</th>\n    </tr>\n    <tr>\n      <th>SecuritiesCode</th>\n      <th></th>\n      <th></th>\n      <th></th>\n      <th></th>\n    </tr>\n  </thead>\n  <tbody>\n    <tr>\n      <th>9099</th>\n      <td>6.895782e-07</td>\n      <td>-0.000590</td>\n      <td>0.018053</td>\n      <td>6.895782e-07</td>\n    </tr>\n    <tr>\n      <th>6539</th>\n      <td>-8.960286e-07</td>\n      <td>-0.000303</td>\n      <td>0.022553</td>\n      <td>8.960286e-07</td>\n    </tr>\n    <tr>\n      <th>8237</th>\n      <td>1.058401e-06</td>\n      <td>0.000164</td>\n      <td>0.018164</td>\n      <td>1.058401e-06</td>\n    </tr>\n    <tr>\n      <th>2109</th>\n      <td>-2.032267e-06</td>\n      <td>-0.000494</td>\n      <td>0.010513</td>\n      <td>2.032267e-06</td>\n    </tr>\n    <tr>\n      <th>7921</th>\n      <td>-2.204802e-06</td>\n      <td>-0.000640</td>\n      <td>0.010946</td>\n      <td>2.204802e-06</td>\n    </tr>\n    <tr>\n      <th>...</th>\n      <td>...</td>\n      <td>...</td>\n      <td>...</td>\n      <td>...</td>\n    </tr>\n    <tr>\n      <th>3825</th>\n      <td>-2.435402e-03</td>\n      <td>-0.004819</td>\n      <td>0.046765</td>\n      <td>2.435402e-03</td>\n    </tr>\n    <tr>\n      <th>5918</th>\n      <td>2.451289e-03</td>\n      <td>0.001119</td>\n      <td>0.012953</td>\n      <td>2.451289e-03</td>\n    </tr>\n    <tr>\n      <th>4308</th>\n      <td>-2.554354e-03</td>\n      <td>-0.002169</td>\n      <td>0.030815</td>\n      <td>2.554354e-03</td>\n    </tr>\n    <tr>\n      <th>2315</th>\n      <td>-2.559904e-03</td>\n      <td>-0.001774</td>\n      <td>0.038316</td>\n      <td>2.559904e-03</td>\n    </tr>\n    <tr>\n      <th>5217</th>\n      <td>2.852527e-03</td>\n      <td>0.001753</td>\n      <td>0.023143</td>\n      <td>2.852527e-03</td>\n    </tr>\n  </tbody>\n</table>\n<p>1845 rows × 4 columns</p>\n</div>"
     },
     "execution_count": 129,
     "metadata": {},
     "output_type": "execute_result"
    }
   ]
  },
  {
   "cell_type": "code",
   "source": [
    "stable_stocks_statistics_df = statistics_df[:NUMBER_OF_STABLE_STOCKS]"
   ],
   "metadata": {
    "pycharm": {
     "name": "#%%\n"
    },
    "execution": {
     "iopub.status.busy": "2022-06-21T09:53:44.311104Z",
     "iopub.execute_input": "2022-06-21T09:53:44.311646Z",
     "iopub.status.idle": "2022-06-21T09:53:44.320277Z",
     "shell.execute_reply.started": "2022-06-21T09:53:44.311613Z",
     "shell.execute_reply": "2022-06-21T09:53:44.319543Z"
    },
    "trusted": true
   },
   "execution_count": 130,
   "outputs": []
  },
  {
   "cell_type": "code",
   "source": [
    "# TODO: do we use this DF later? probably unnecessary\n",
    "stable_stocks_df = all_stocks_df[all_stocks_df['SecuritiesCode'].isin(stable_stocks_statistics_df.index)]\n",
    "stable_stocks_df"
   ],
   "metadata": {
    "collapsed": false,
    "pycharm": {
     "name": "#%%\n"
    },
    "jupyter": {
     "outputs_hidden": false
    },
    "execution": {
     "iopub.status.busy": "2022-06-21T09:53:44.323628Z",
     "iopub.execute_input": "2022-06-21T09:53:44.324228Z",
     "iopub.status.idle": "2022-06-21T09:53:44.423224Z",
     "shell.execute_reply.started": "2022-06-21T09:53:44.324196Z",
     "shell.execute_reply": "2022-06-21T09:53:44.422104Z"
    },
    "trusted": true
   },
   "execution_count": 131,
   "outputs": [
    {
     "data": {
      "text/plain": "               Date  SecuritiesCode    Open   Close    Volume  \\\n331884   2017-01-04            2768   289.0   293.0  10209000   \n1954428  2017-01-04            8255  4065.0  4130.0     15500   \n1953111  2017-01-04            8253  2099.0  2124.0   1232800   \n1951794  2017-01-04            8252  1714.0  1760.0   1208100   \n1947843  2017-01-04            8242  1811.0  1834.0    440700   \n...             ...             ...     ...     ...       ...   \n471722   2022-05-27            3264   178.0   176.0     88100   \n1297481  2022-05-27            6417  4315.0  4265.0    221000   \n293927   2022-05-27            2664  2047.0  2032.0     47500   \n1833500  2022-05-27            8014  1942.0  1956.0     13600   \n1194755  2022-05-27            6183  1469.0  1454.0    108800   \n\n         AdjustmentFactor    Target  adj_open  adj_close  adj_volume  \\\n331884                1.0  0.003436      57.8       58.6  51045000.0   \n1954428               1.0  0.003632    4065.0     4130.0     15500.0   \n1953111               1.0 -0.001864    2099.0     2124.0   1232800.0   \n1951794               1.0  0.001716    1714.0     1760.0   1208100.0   \n1947843               1.0 -0.002118    1811.0     1834.0    440700.0   \n...                   ...       ...       ...        ...         ...   \n471722                1.0  0.011299     178.0      176.0     88100.0   \n1297481               1.0  0.003517    4315.0     4265.0    221000.0   \n293927                1.0 -0.009709    2047.0     2032.0     47500.0   \n1833500               1.0 -0.006042    1942.0     1956.0     13600.0   \n1194755               1.0 -0.022541    1469.0     1454.0    108800.0   \n\n         daily_change  market_change_mean  market_gap  \n331884       0.013652            0.013806   -0.000154  \n1954428      0.015738            0.013806    0.001932  \n1953111      0.011770            0.013806   -0.002036  \n1951794      0.026136            0.013806    0.012330  \n1947843      0.012541            0.013806   -0.001265  \n...               ...                 ...         ...  \n471722      -0.011364           -0.004496   -0.006868  \n1297481     -0.011723           -0.004496   -0.007228  \n293927      -0.007382           -0.004496   -0.002886  \n1833500      0.007157           -0.004496    0.011653  \n1194755     -0.010316           -0.004496   -0.005821  \n\n[487290 rows x 13 columns]",
      "text/html": "<div>\n<style scoped>\n    .dataframe tbody tr th:only-of-type {\n        vertical-align: middle;\n    }\n\n    .dataframe tbody tr th {\n        vertical-align: top;\n    }\n\n    .dataframe thead th {\n        text-align: right;\n    }\n</style>\n<table border=\"1\" class=\"dataframe\">\n  <thead>\n    <tr style=\"text-align: right;\">\n      <th></th>\n      <th>Date</th>\n      <th>SecuritiesCode</th>\n      <th>Open</th>\n      <th>Close</th>\n      <th>Volume</th>\n      <th>AdjustmentFactor</th>\n      <th>Target</th>\n      <th>adj_open</th>\n      <th>adj_close</th>\n      <th>adj_volume</th>\n      <th>daily_change</th>\n      <th>market_change_mean</th>\n      <th>market_gap</th>\n    </tr>\n  </thead>\n  <tbody>\n    <tr>\n      <th>331884</th>\n      <td>2017-01-04</td>\n      <td>2768</td>\n      <td>289.0</td>\n      <td>293.0</td>\n      <td>10209000</td>\n      <td>1.0</td>\n      <td>0.003436</td>\n      <td>57.8</td>\n      <td>58.6</td>\n      <td>51045000.0</td>\n      <td>0.013652</td>\n      <td>0.013806</td>\n      <td>-0.000154</td>\n    </tr>\n    <tr>\n      <th>1954428</th>\n      <td>2017-01-04</td>\n      <td>8255</td>\n      <td>4065.0</td>\n      <td>4130.0</td>\n      <td>15500</td>\n      <td>1.0</td>\n      <td>0.003632</td>\n      <td>4065.0</td>\n      <td>4130.0</td>\n      <td>15500.0</td>\n      <td>0.015738</td>\n      <td>0.013806</td>\n      <td>0.001932</td>\n    </tr>\n    <tr>\n      <th>1953111</th>\n      <td>2017-01-04</td>\n      <td>8253</td>\n      <td>2099.0</td>\n      <td>2124.0</td>\n      <td>1232800</td>\n      <td>1.0</td>\n      <td>-0.001864</td>\n      <td>2099.0</td>\n      <td>2124.0</td>\n      <td>1232800.0</td>\n      <td>0.011770</td>\n      <td>0.013806</td>\n      <td>-0.002036</td>\n    </tr>\n    <tr>\n      <th>1951794</th>\n      <td>2017-01-04</td>\n      <td>8252</td>\n      <td>1714.0</td>\n      <td>1760.0</td>\n      <td>1208100</td>\n      <td>1.0</td>\n      <td>0.001716</td>\n      <td>1714.0</td>\n      <td>1760.0</td>\n      <td>1208100.0</td>\n      <td>0.026136</td>\n      <td>0.013806</td>\n      <td>0.012330</td>\n    </tr>\n    <tr>\n      <th>1947843</th>\n      <td>2017-01-04</td>\n      <td>8242</td>\n      <td>1811.0</td>\n      <td>1834.0</td>\n      <td>440700</td>\n      <td>1.0</td>\n      <td>-0.002118</td>\n      <td>1811.0</td>\n      <td>1834.0</td>\n      <td>440700.0</td>\n      <td>0.012541</td>\n      <td>0.013806</td>\n      <td>-0.001265</td>\n    </tr>\n    <tr>\n      <th>...</th>\n      <td>...</td>\n      <td>...</td>\n      <td>...</td>\n      <td>...</td>\n      <td>...</td>\n      <td>...</td>\n      <td>...</td>\n      <td>...</td>\n      <td>...</td>\n      <td>...</td>\n      <td>...</td>\n      <td>...</td>\n      <td>...</td>\n    </tr>\n    <tr>\n      <th>471722</th>\n      <td>2022-05-27</td>\n      <td>3264</td>\n      <td>178.0</td>\n      <td>176.0</td>\n      <td>88100</td>\n      <td>1.0</td>\n      <td>0.011299</td>\n      <td>178.0</td>\n      <td>176.0</td>\n      <td>88100.0</td>\n      <td>-0.011364</td>\n      <td>-0.004496</td>\n      <td>-0.006868</td>\n    </tr>\n    <tr>\n      <th>1297481</th>\n      <td>2022-05-27</td>\n      <td>6417</td>\n      <td>4315.0</td>\n      <td>4265.0</td>\n      <td>221000</td>\n      <td>1.0</td>\n      <td>0.003517</td>\n      <td>4315.0</td>\n      <td>4265.0</td>\n      <td>221000.0</td>\n      <td>-0.011723</td>\n      <td>-0.004496</td>\n      <td>-0.007228</td>\n    </tr>\n    <tr>\n      <th>293927</th>\n      <td>2022-05-27</td>\n      <td>2664</td>\n      <td>2047.0</td>\n      <td>2032.0</td>\n      <td>47500</td>\n      <td>1.0</td>\n      <td>-0.009709</td>\n      <td>2047.0</td>\n      <td>2032.0</td>\n      <td>47500.0</td>\n      <td>-0.007382</td>\n      <td>-0.004496</td>\n      <td>-0.002886</td>\n    </tr>\n    <tr>\n      <th>1833500</th>\n      <td>2022-05-27</td>\n      <td>8014</td>\n      <td>1942.0</td>\n      <td>1956.0</td>\n      <td>13600</td>\n      <td>1.0</td>\n      <td>-0.006042</td>\n      <td>1942.0</td>\n      <td>1956.0</td>\n      <td>13600.0</td>\n      <td>0.007157</td>\n      <td>-0.004496</td>\n      <td>0.011653</td>\n    </tr>\n    <tr>\n      <th>1194755</th>\n      <td>2022-05-27</td>\n      <td>6183</td>\n      <td>1469.0</td>\n      <td>1454.0</td>\n      <td>108800</td>\n      <td>1.0</td>\n      <td>-0.022541</td>\n      <td>1469.0</td>\n      <td>1454.0</td>\n      <td>108800.0</td>\n      <td>-0.010316</td>\n      <td>-0.004496</td>\n      <td>-0.005821</td>\n    </tr>\n  </tbody>\n</table>\n<p>487290 rows × 13 columns</p>\n</div>"
     },
     "execution_count": 131,
     "metadata": {},
     "output_type": "execute_result"
    }
   ]
  },
  {
   "cell_type": "code",
   "source": [
    "assert stable_stocks_df.SecuritiesCode.nunique() == NUMBER_OF_STABLE_STOCKS"
   ],
   "metadata": {
    "collapsed": false,
    "pycharm": {
     "name": "#%%\n"
    },
    "jupyter": {
     "outputs_hidden": false
    },
    "execution": {
     "iopub.status.busy": "2022-06-21T09:53:44.424498Z",
     "iopub.execute_input": "2022-06-21T09:53:44.424859Z",
     "iopub.status.idle": "2022-06-21T09:53:44.432727Z",
     "shell.execute_reply.started": "2022-06-21T09:53:44.424828Z",
     "shell.execute_reply": "2022-06-21T09:53:44.431789Z"
    },
    "trusted": true
   },
   "execution_count": 132,
   "outputs": []
  },
  {
   "cell_type": "markdown",
   "source": [
    "Get all non-stable stocks:\n",
    "These are the stocks from which we want to get the ones which are better/worse than the market"
   ],
   "metadata": {
    "pycharm": {
     "name": "#%% md\n"
    }
   }
  },
  {
   "cell_type": "code",
   "source": [
    "extreme_stocks = statistics_df[(NUMBER_OF_STABLE_STOCKS + 1):]"
   ],
   "metadata": {
    "pycharm": {
     "name": "#%%\n"
    },
    "execution": {
     "iopub.status.busy": "2022-06-21T09:53:44.434163Z",
     "iopub.execute_input": "2022-06-21T09:53:44.434955Z",
     "iopub.status.idle": "2022-06-21T09:53:44.443480Z",
     "shell.execute_reply.started": "2022-06-21T09:53:44.434920Z",
     "shell.execute_reply": "2022-06-21T09:53:44.442551Z"
    },
    "trusted": true
   },
   "execution_count": 133,
   "outputs": []
  },
  {
   "cell_type": "markdown",
   "source": [
    "\"Top\": the stocks which are usually \"better\" then the market in terms of daily_change (on average)\n",
    "\"Bottom\": the stocks which are usually \"worse\" then the market in terms of daily_change (on average)"
   ],
   "metadata": {
    "pycharm": {
     "name": "#%% md\n"
    }
   }
  },
  {
   "cell_type": "code",
   "source": [
    "top_stocks = extreme_stocks[extreme_stocks['mean'] > 0].sort_values(by=['std'], ascending=True).index.unique()\n",
    "bottom_stocks = extreme_stocks[extreme_stocks['mean'] < 0].sort_values(by=['std'], ascending=True).index.unique()\n",
    "top_stocks_df = all_stocks_df[all_stocks_df['SecuritiesCode'].isin(top_stocks)]\n",
    "bottom_stocks_df = all_stocks_df[all_stocks_df['SecuritiesCode'].isin(bottom_stocks)]"
   ],
   "metadata": {
    "pycharm": {
     "name": "#%%\n"
    },
    "execution": {
     "iopub.status.busy": "2022-06-21T09:53:44.444480Z",
     "iopub.execute_input": "2022-06-21T09:53:44.445080Z",
     "iopub.status.idle": "2022-06-21T09:53:44.814466Z",
     "shell.execute_reply.started": "2022-06-21T09:53:44.445044Z",
     "shell.execute_reply": "2022-06-21T09:53:44.813434Z"
    },
    "trusted": true
   },
   "execution_count": 134,
   "outputs": []
  },
  {
   "cell_type": "code",
   "source": [
    "print(f'There are {len(top_stocks)} top_stocks and {len(bottom_stocks)} bottom_stocks')"
   ],
   "metadata": {
    "collapsed": false,
    "pycharm": {
     "name": "#%%\n"
    },
    "jupyter": {
     "outputs_hidden": false
    },
    "execution": {
     "iopub.status.busy": "2022-06-21T09:53:44.815587Z",
     "iopub.execute_input": "2022-06-21T09:53:44.816273Z",
     "iopub.status.idle": "2022-06-21T09:53:44.821034Z",
     "shell.execute_reply.started": "2022-06-21T09:53:44.816239Z",
     "shell.execute_reply": "2022-06-21T09:53:44.819998Z"
    },
    "trusted": true
   },
   "execution_count": 135,
   "outputs": [
    {
     "name": "stdout",
     "output_type": "stream",
     "text": [
      "There are 794 top_stocks and 680 bottom_stocks\n"
     ]
    }
   ]
  },
  {
   "cell_type": "code",
   "source": [
    "top_stocks_df = top_stocks_df.set_index('Date')\n",
    "bottom_stocks_df = bottom_stocks_df.set_index('Date')"
   ],
   "metadata": {
    "pycharm": {
     "name": "#%%\n"
    },
    "execution": {
     "iopub.status.busy": "2022-06-21T09:53:44.822350Z",
     "iopub.execute_input": "2022-06-21T09:53:44.823090Z",
     "iopub.status.idle": "2022-06-21T09:53:44.835288Z",
     "shell.execute_reply.started": "2022-06-21T09:53:44.823056Z",
     "shell.execute_reply": "2022-06-21T09:53:44.834534Z"
    },
    "trusted": true
   },
   "execution_count": 136,
   "outputs": []
  },
  {
   "cell_type": "code",
   "source": [
    "def get_features_for_prediction(df, code):\n",
    "    \"\"\"\n",
    "    Args:\n",
    "        df (pd.DataFrame)  : pd.DataFrame include stock_price\n",
    "        code (int)  : A local code for a listed company\n",
    "    Returns:\n",
    "        feats DataFrame (pd.DataFrame)\n",
    "    \"\"\"\n",
    "    # close_col = \"adj_close\"\n",
    "    feats = df.loc[df['SecuritiesCode'] == code, ['SecuritiesCode', 'Target', 'adj_close', 'adj_volume']].copy()\n",
    "\n",
    "    for period in DAYS_PERIODS:\n",
    "        feats[f'return_{period}_days'] = feats['adj_close'].pct_change(period)\n",
    "        feats[f'volume_{period}_days'] = feats['adj_volume'].pct_change(period)\n",
    "        feats[f'ema_{period}_days'] = ta.ema(feats['adj_close'], length=period)\n",
    "\n",
    "    # drop Close column\n",
    "    #feats = feats.drop(['adj_close'], axis=1)\n",
    "\n",
    "    # filling data for nan and inf\n",
    "    feats['adj_volume'] = feats['adj_volume'].fillna(0)\n",
    "    feats = feats.replace([np.inf, -np.inf], 0)\n",
    "\n",
    "    return feats"
   ],
   "metadata": {
    "pycharm": {
     "name": "#%%\n"
    },
    "execution": {
     "iopub.status.busy": "2022-06-21T09:53:44.836733Z",
     "iopub.execute_input": "2022-06-21T09:53:44.837927Z",
     "iopub.status.idle": "2022-06-21T09:53:44.850705Z",
     "shell.execute_reply.started": "2022-06-21T09:53:44.837876Z",
     "shell.execute_reply": "2022-06-21T09:53:44.849743Z"
    },
    "trusted": true
   },
   "execution_count": 137,
   "outputs": []
  },
  {
   "cell_type": "markdown",
   "source": [
    "## Generate features:"
   ],
   "metadata": {
    "pycharm": {
     "name": "#%% md\n"
    }
   }
  },
  {
   "cell_type": "code",
   "source": [
    "features = []\n",
    "\n",
    "for i in [top_stocks_df, bottom_stocks_df]:\n",
    "    # .reset_index().sort_values(by=['Date', 'SecuritiesCode'], inplace=True)\n",
    "    result = pd.concat([get_features_for_prediction(i, code) for code in i['SecuritiesCode'].unique()])\n",
    "    result.reset_index().sort_values(by=['Date', 'SecuritiesCode'], inplace=True)\n",
    "    features.append(result)\n",
    "\n",
    "top_features_df = features[0]\n",
    "bottom_features_df = features[1]"
   ],
   "metadata": {
    "collapsed": false,
    "pycharm": {
     "name": "#%%\n"
    },
    "jupyter": {
     "outputs_hidden": false
    },
    "execution": {
     "iopub.status.busy": "2022-06-21T09:53:44.854954Z",
     "iopub.execute_input": "2022-06-21T09:53:44.855633Z",
     "iopub.status.idle": "2022-06-21T09:54:04.496870Z",
     "shell.execute_reply.started": "2022-06-21T09:53:44.855599Z",
     "shell.execute_reply": "2022-06-21T09:54:04.495998Z"
    },
    "trusted": true
   },
   "execution_count": 138,
   "outputs": []
  },
  {
   "cell_type": "code",
   "source": [
    "top_features_df"
   ],
   "metadata": {
    "collapsed": false,
    "pycharm": {
     "name": "#%%\n"
    },
    "jupyter": {
     "outputs_hidden": false
    },
    "execution": {
     "iopub.status.busy": "2022-06-21T09:54:04.497933Z",
     "iopub.execute_input": "2022-06-21T09:54:04.498238Z",
     "iopub.status.idle": "2022-06-21T09:54:04.502671Z",
     "shell.execute_reply.started": "2022-06-21T09:54:04.498210Z",
     "shell.execute_reply": "2022-06-21T09:54:04.501745Z"
    },
    "trusted": true
   },
   "execution_count": 139,
   "outputs": [
    {
     "data": {
      "text/plain": "            SecuritiesCode    Target  adj_close  adj_volume  return_10_days  \\\nDate                                                                          \n2017-01-04            1301  0.000730     2742.0     31400.0             NaN   \n2017-01-05            1301  0.002920     2738.0     17900.0             NaN   \n2017-01-06            1301 -0.001092     2740.0     19900.0             NaN   \n2017-01-10            1301 -0.005100     2748.0     24200.0             NaN   \n2017-01-11            1301 -0.003295     2745.0      9300.0             NaN   \n...                    ...       ...        ...         ...             ...   \n2022-05-23            4062 -0.002144     4785.0    699000.0        0.029032   \n2022-05-24            4062 -0.025779     4665.0    948800.0        0.020788   \n2022-05-25            4062  0.008820     4655.0    763400.0        0.005400   \n2022-05-26            4062  0.043716     4535.0   1094800.0        0.015677   \n2022-05-27            4062 -0.008377     4575.0   1470500.0       -0.014009   \n\n            volume_10_days  ema_10_days  return_21_days  volume_21_days  \\\nDate                                                                      \n2017-01-04             NaN          NaN             NaN             NaN   \n2017-01-05             NaN          NaN             NaN             NaN   \n2017-01-06             NaN          NaN             NaN             NaN   \n2017-01-10             NaN          NaN             NaN             NaN   \n2017-01-11             NaN          NaN             NaN             NaN   \n...                    ...          ...             ...             ...   \n2022-05-23       -0.449650  4784.890156       -0.095463        0.047976   \n2022-05-24       -0.256077  4763.091946       -0.160971       -0.200607   \n2022-05-25       -0.168772  4743.438865       -0.152095       -0.100189   \n2022-05-26        0.121951  4705.540889       -0.181408        0.378321   \n2022-05-27        0.487307  4681.806182       -0.160550        0.480866   \n\n            ema_21_days  return_63_days  volume_63_days  ema_63_days  \nDate                                                                  \n2017-01-04          NaN             NaN             NaN          NaN  \n2017-01-05          NaN             NaN             NaN          NaN  \n2017-01-06          NaN             NaN             NaN          NaN  \n2017-01-10          NaN             NaN             NaN          NaN  \n2017-01-11          NaN             NaN             NaN          NaN  \n...                 ...             ...             ...          ...  \n2022-05-23  4928.624842       -0.153097       -0.212926  5370.428429  \n2022-05-24  4904.658947       -0.194301       -0.159908  5348.383791  \n2022-05-25  4881.962679       -0.187609       -0.124742  5326.715547  \n2022-05-26  4850.420618       -0.204386        0.201493  5301.974436  \n2022-05-27  4825.382380       -0.159007        0.015188  5279.256485  \n\n[1045698 rows x 13 columns]",
      "text/html": "<div>\n<style scoped>\n    .dataframe tbody tr th:only-of-type {\n        vertical-align: middle;\n    }\n\n    .dataframe tbody tr th {\n        vertical-align: top;\n    }\n\n    .dataframe thead th {\n        text-align: right;\n    }\n</style>\n<table border=\"1\" class=\"dataframe\">\n  <thead>\n    <tr style=\"text-align: right;\">\n      <th></th>\n      <th>SecuritiesCode</th>\n      <th>Target</th>\n      <th>adj_close</th>\n      <th>adj_volume</th>\n      <th>return_10_days</th>\n      <th>volume_10_days</th>\n      <th>ema_10_days</th>\n      <th>return_21_days</th>\n      <th>volume_21_days</th>\n      <th>ema_21_days</th>\n      <th>return_63_days</th>\n      <th>volume_63_days</th>\n      <th>ema_63_days</th>\n    </tr>\n    <tr>\n      <th>Date</th>\n      <th></th>\n      <th></th>\n      <th></th>\n      <th></th>\n      <th></th>\n      <th></th>\n      <th></th>\n      <th></th>\n      <th></th>\n      <th></th>\n      <th></th>\n      <th></th>\n      <th></th>\n    </tr>\n  </thead>\n  <tbody>\n    <tr>\n      <th>2017-01-04</th>\n      <td>1301</td>\n      <td>0.000730</td>\n      <td>2742.0</td>\n      <td>31400.0</td>\n      <td>NaN</td>\n      <td>NaN</td>\n      <td>NaN</td>\n      <td>NaN</td>\n      <td>NaN</td>\n      <td>NaN</td>\n      <td>NaN</td>\n      <td>NaN</td>\n      <td>NaN</td>\n    </tr>\n    <tr>\n      <th>2017-01-05</th>\n      <td>1301</td>\n      <td>0.002920</td>\n      <td>2738.0</td>\n      <td>17900.0</td>\n      <td>NaN</td>\n      <td>NaN</td>\n      <td>NaN</td>\n      <td>NaN</td>\n      <td>NaN</td>\n      <td>NaN</td>\n      <td>NaN</td>\n      <td>NaN</td>\n      <td>NaN</td>\n    </tr>\n    <tr>\n      <th>2017-01-06</th>\n      <td>1301</td>\n      <td>-0.001092</td>\n      <td>2740.0</td>\n      <td>19900.0</td>\n      <td>NaN</td>\n      <td>NaN</td>\n      <td>NaN</td>\n      <td>NaN</td>\n      <td>NaN</td>\n      <td>NaN</td>\n      <td>NaN</td>\n      <td>NaN</td>\n      <td>NaN</td>\n    </tr>\n    <tr>\n      <th>2017-01-10</th>\n      <td>1301</td>\n      <td>-0.005100</td>\n      <td>2748.0</td>\n      <td>24200.0</td>\n      <td>NaN</td>\n      <td>NaN</td>\n      <td>NaN</td>\n      <td>NaN</td>\n      <td>NaN</td>\n      <td>NaN</td>\n      <td>NaN</td>\n      <td>NaN</td>\n      <td>NaN</td>\n    </tr>\n    <tr>\n      <th>2017-01-11</th>\n      <td>1301</td>\n      <td>-0.003295</td>\n      <td>2745.0</td>\n      <td>9300.0</td>\n      <td>NaN</td>\n      <td>NaN</td>\n      <td>NaN</td>\n      <td>NaN</td>\n      <td>NaN</td>\n      <td>NaN</td>\n      <td>NaN</td>\n      <td>NaN</td>\n      <td>NaN</td>\n    </tr>\n    <tr>\n      <th>...</th>\n      <td>...</td>\n      <td>...</td>\n      <td>...</td>\n      <td>...</td>\n      <td>...</td>\n      <td>...</td>\n      <td>...</td>\n      <td>...</td>\n      <td>...</td>\n      <td>...</td>\n      <td>...</td>\n      <td>...</td>\n      <td>...</td>\n    </tr>\n    <tr>\n      <th>2022-05-23</th>\n      <td>4062</td>\n      <td>-0.002144</td>\n      <td>4785.0</td>\n      <td>699000.0</td>\n      <td>0.029032</td>\n      <td>-0.449650</td>\n      <td>4784.890156</td>\n      <td>-0.095463</td>\n      <td>0.047976</td>\n      <td>4928.624842</td>\n      <td>-0.153097</td>\n      <td>-0.212926</td>\n      <td>5370.428429</td>\n    </tr>\n    <tr>\n      <th>2022-05-24</th>\n      <td>4062</td>\n      <td>-0.025779</td>\n      <td>4665.0</td>\n      <td>948800.0</td>\n      <td>0.020788</td>\n      <td>-0.256077</td>\n      <td>4763.091946</td>\n      <td>-0.160971</td>\n      <td>-0.200607</td>\n      <td>4904.658947</td>\n      <td>-0.194301</td>\n      <td>-0.159908</td>\n      <td>5348.383791</td>\n    </tr>\n    <tr>\n      <th>2022-05-25</th>\n      <td>4062</td>\n      <td>0.008820</td>\n      <td>4655.0</td>\n      <td>763400.0</td>\n      <td>0.005400</td>\n      <td>-0.168772</td>\n      <td>4743.438865</td>\n      <td>-0.152095</td>\n      <td>-0.100189</td>\n      <td>4881.962679</td>\n      <td>-0.187609</td>\n      <td>-0.124742</td>\n      <td>5326.715547</td>\n    </tr>\n    <tr>\n      <th>2022-05-26</th>\n      <td>4062</td>\n      <td>0.043716</td>\n      <td>4535.0</td>\n      <td>1094800.0</td>\n      <td>0.015677</td>\n      <td>0.121951</td>\n      <td>4705.540889</td>\n      <td>-0.181408</td>\n      <td>0.378321</td>\n      <td>4850.420618</td>\n      <td>-0.204386</td>\n      <td>0.201493</td>\n      <td>5301.974436</td>\n    </tr>\n    <tr>\n      <th>2022-05-27</th>\n      <td>4062</td>\n      <td>-0.008377</td>\n      <td>4575.0</td>\n      <td>1470500.0</td>\n      <td>-0.014009</td>\n      <td>0.487307</td>\n      <td>4681.806182</td>\n      <td>-0.160550</td>\n      <td>0.480866</td>\n      <td>4825.382380</td>\n      <td>-0.159007</td>\n      <td>0.015188</td>\n      <td>5279.256485</td>\n    </tr>\n  </tbody>\n</table>\n<p>1045698 rows × 13 columns</p>\n</div>"
     },
     "execution_count": 139,
     "metadata": {},
     "output_type": "execute_result"
    }
   ]
  },
  {
   "cell_type": "markdown",
   "source": [
    "# MODEL"
   ],
   "metadata": {
    "pycharm": {
     "name": "#%% md\n"
    }
   }
  },
  {
   "cell_type": "code",
   "source": [
    "LGBM_PARAMS = {\n",
    "    'seed': 42,\n",
    "    'n_jobs': -1,\n",
    "}\n",
    "\n",
    "FEAT_COLS = [\n",
    "    'return_10_days',\n",
    "    'volume_10_days',\n",
    "    'ema_10_days',\n",
    "    'return_21_days',\n",
    "    'volume_21_days',\n",
    "    'ema_21_days',\n",
    "    'return_63_days',\n",
    "    'volume_63_days',\n",
    "    'ema_63_days'\n",
    "]"
   ],
   "metadata": {
    "pycharm": {
     "name": "#%%\n"
    },
    "execution": {
     "iopub.status.busy": "2022-06-21T09:54:04.503805Z",
     "iopub.execute_input": "2022-06-21T09:54:04.504089Z",
     "iopub.status.idle": "2022-06-21T09:54:04.516430Z",
     "shell.execute_reply.started": "2022-06-21T09:54:04.504062Z",
     "shell.execute_reply": "2022-06-21T09:54:04.515578Z"
    },
    "trusted": true
   },
   "execution_count": 140,
   "outputs": []
  },
  {
   "cell_type": "code",
   "source": [
    "def get_features_and_label(df):\n",
    "    \"\"\"\n",
    "    Args:\n",
    "        df (pd.DataFrame): loaded price data with features\n",
    "    Returns:\n",
    "        train_X (pd.DataFrame): training data\n",
    "        train_y (pd.DataFrame): label for train_X\n",
    "        test_X (pd.DataFrame): test data\n",
    "        test_y (pd.DataFrame): label for test_X\n",
    "    \"\"\"\n",
    "    # split data into TRAIN and TEST\n",
    "    TRAIN_END = \"2021-12-03\"\n",
    "    # We put a week gap between TRAIN_END and TEST_START\n",
    "    # to avoid leakage of test data information from label\n",
    "    TEST_START = \"2021-12-06\"\n",
    "\n",
    "    # to store splited data\n",
    "    trains_X, tests_X = [], []\n",
    "    trains_y, tests_y = [], []\n",
    "\n",
    "    # generate feature one by one\n",
    "    for code in df['SecuritiesCode'].unique():\n",
    "        feats = df[df['SecuritiesCode'] == code].dropna().drop(columns='Target')\n",
    "        labels = df.loc[df['SecuritiesCode'] == code, ['SecuritiesCode', 'Target']].dropna()\n",
    "\n",
    "        if feats.shape[0] > 0 and labels.shape[0] > 0:\n",
    "            # align label and feature indexes\n",
    "            labels = labels.loc[labels.index.isin(feats.index)]\n",
    "            feats = feats.loc[feats.index.isin(labels.index)]\n",
    "\n",
    "            assert (labels.loc[:, 'SecuritiesCode'] == feats.loc[:, 'SecuritiesCode']).all()\n",
    "            labels = labels['Target']\n",
    "\n",
    "            # split data into TRAIN and TEST\n",
    "            _train_X = feats[:TRAIN_END]\n",
    "            _test_X = feats[TEST_START:]\n",
    "\n",
    "            _train_y = labels[:TRAIN_END]\n",
    "            _test_y = labels[TEST_START:]\n",
    "\n",
    "            assert len(_train_X) == len(_train_y)\n",
    "            assert len(_test_X) == len(_test_y)\n",
    "\n",
    "            # store features\n",
    "            trains_X.append(_train_X)\n",
    "            tests_X.append(_test_X)\n",
    "            # store labels\n",
    "            trains_y.append(_train_y)\n",
    "            tests_y.append(_test_y)\n",
    "\n",
    "    # combine features for each codes\n",
    "    train_X = pd.concat(trains_X)\n",
    "    test_X = pd.concat(tests_X)\n",
    "    # combine label for each codes\n",
    "    train_y = pd.concat(trains_y)\n",
    "    test_y = pd.concat(tests_y)\n",
    "\n",
    "    return train_X, train_y, test_X, test_y"
   ],
   "metadata": {
    "collapsed": false,
    "pycharm": {
     "name": "#%%\n"
    },
    "jupyter": {
     "outputs_hidden": false
    },
    "execution": {
     "iopub.status.busy": "2022-06-21T09:54:04.517612Z",
     "iopub.execute_input": "2022-06-21T09:54:04.518110Z",
     "iopub.status.idle": "2022-06-21T09:54:04.531992Z",
     "shell.execute_reply.started": "2022-06-21T09:54:04.518077Z",
     "shell.execute_reply": "2022-06-21T09:54:04.530955Z"
    },
    "trusted": true
   },
   "execution_count": 141,
   "outputs": []
  },
  {
   "cell_type": "code",
   "source": [
    "def set_rank(df):\n",
    "    \"\"\"\n",
    "    Args:\n",
    "        df (pd.DataFrame): including predict column\n",
    "    Returns:\n",
    "        df (pd.DataFrame): df with rank\n",
    "    \"\"\"\n",
    "    # set 'Rank' starting from 0\n",
    "    df.loc[:, 'Rank'] = np.arange(len(df))\n",
    "    return df"
   ],
   "metadata": {
    "pycharm": {
     "name": "#%%\n"
    },
    "execution": {
     "iopub.status.busy": "2022-06-21T09:54:04.533122Z",
     "iopub.execute_input": "2022-06-21T09:54:04.533512Z",
     "iopub.status.idle": "2022-06-21T09:54:04.549287Z",
     "shell.execute_reply.started": "2022-06-21T09:54:04.533483Z",
     "shell.execute_reply": "2022-06-21T09:54:04.548561Z"
    },
    "trusted": true
   },
   "execution_count": 142,
   "outputs": []
  },
  {
   "cell_type": "code",
   "source": [
    "def get_daily_ranked_results(df: pd.DataFrame, predict_sort_ascending: bool) -> pd.DataFrame:\n",
    "    # generate feature/label\n",
    "    train_X, train_y, test_X, test_y = get_features_and_label(df)\n",
    "    # initialize model\n",
    "    pred_model = LGBMRegressor(**LGBM_PARAMS)\n",
    "    # train\n",
    "    pred_model.fit(train_X[FEAT_COLS].values, train_y)\n",
    "    # prepare result data\n",
    "    result = test_X[['SecuritiesCode']].copy()\n",
    "    # predict\n",
    "    result.loc[:, 'predict'] = pred_model.predict(test_X[FEAT_COLS])\n",
    "    # actual result\n",
    "    result.loc[:, 'Target'] = test_y.values\n",
    "    # sort results by date and ascending/descending \"predict\", depending on which group we want:\n",
    "    # the higher the \"predict\" the more likely to BUY the stock\n",
    "    # the lower the \"predict\" the more likely to SELL the stock\n",
    "    result = result.reset_index().sort_values(['Date', 'predict'], ascending=[True, predict_sort_ascending])\n",
    "    # set_rank\n",
    "    ranked_results = result.groupby('Date').apply(set_rank)\n",
    "    # Drop unnecessary columns. Keep only those which are relevant for submission:\n",
    "    ranked_results_no_labels_df = ranked_results.reset_index(drop=True).drop(columns=['predict'])\n",
    "\n",
    "    return ranked_results_no_labels_df.groupby('Date').head(NUMBER_OF_DAILY_CHOSEN_STOCKS)"
   ],
   "metadata": {
    "collapsed": false,
    "pycharm": {
     "name": "#%%\n"
    },
    "jupyter": {
     "outputs_hidden": false
    },
    "execution": {
     "iopub.status.busy": "2022-06-21T09:54:04.551610Z",
     "iopub.execute_input": "2022-06-21T09:54:04.552452Z",
     "iopub.status.idle": "2022-06-21T09:54:04.566599Z",
     "shell.execute_reply.started": "2022-06-21T09:54:04.552411Z",
     "shell.execute_reply": "2022-06-21T09:54:04.565681Z"
    },
    "trusted": true
   },
   "execution_count": 143,
   "outputs": []
  },
  {
   "cell_type": "code",
   "source": [
    "top_daily_chosen_stocks_df = get_daily_ranked_results(top_features_df, predict_sort_ascending=False)\n",
    "bottom_daily_chosen_stocks_df = get_daily_ranked_results(bottom_features_df, predict_sort_ascending=True)"
   ],
   "metadata": {
    "pycharm": {
     "name": "#%%\n"
    },
    "execution": {
     "iopub.status.busy": "2022-06-21T09:54:04.569706Z",
     "iopub.execute_input": "2022-06-21T09:54:04.570497Z",
     "iopub.status.idle": "2022-06-21T09:54:24.631994Z",
     "shell.execute_reply.started": "2022-06-21T09:54:04.570463Z",
     "shell.execute_reply": "2022-06-21T09:54:24.631213Z"
    },
    "trusted": true
   },
   "execution_count": 144,
   "outputs": []
  },
  {
   "cell_type": "code",
   "source": [
    "top_daily_chosen_stocks_df"
   ],
   "metadata": {
    "collapsed": false,
    "pycharm": {
     "name": "#%%\n"
    },
    "jupyter": {
     "outputs_hidden": false
    },
    "execution": {
     "iopub.status.busy": "2022-06-21T09:54:24.633716Z",
     "iopub.execute_input": "2022-06-21T09:54:24.634420Z",
     "iopub.status.idle": "2022-06-21T09:54:24.638981Z",
     "shell.execute_reply.started": "2022-06-21T09:54:24.634376Z",
     "shell.execute_reply": "2022-06-21T09:54:24.637955Z"
    },
    "trusted": true
   },
   "execution_count": 145,
   "outputs": [
    {
     "data": {
      "text/plain": "             Date  SecuritiesCode    Target  Rank\n0      2021-12-06            5713  0.006755     0\n1      2021-12-06            9303 -0.021761     1\n2      2021-12-06            5393 -0.004671     2\n3      2021-12-06            5192 -0.000971     3\n4      2021-12-06            1939  0.003014     4\n...           ...             ...       ...   ...\n90079  2022-05-27            7747 -0.003071    10\n90080  2022-05-27            9104 -0.033661    11\n90081  2022-05-27            7205  0.011268    12\n90082  2022-05-27            3349  0.006601    13\n90083  2022-05-27            3064 -0.014614    14\n\n[1725 rows x 4 columns]",
      "text/html": "<div>\n<style scoped>\n    .dataframe tbody tr th:only-of-type {\n        vertical-align: middle;\n    }\n\n    .dataframe tbody tr th {\n        vertical-align: top;\n    }\n\n    .dataframe thead th {\n        text-align: right;\n    }\n</style>\n<table border=\"1\" class=\"dataframe\">\n  <thead>\n    <tr style=\"text-align: right;\">\n      <th></th>\n      <th>Date</th>\n      <th>SecuritiesCode</th>\n      <th>Target</th>\n      <th>Rank</th>\n    </tr>\n  </thead>\n  <tbody>\n    <tr>\n      <th>0</th>\n      <td>2021-12-06</td>\n      <td>5713</td>\n      <td>0.006755</td>\n      <td>0</td>\n    </tr>\n    <tr>\n      <th>1</th>\n      <td>2021-12-06</td>\n      <td>9303</td>\n      <td>-0.021761</td>\n      <td>1</td>\n    </tr>\n    <tr>\n      <th>2</th>\n      <td>2021-12-06</td>\n      <td>5393</td>\n      <td>-0.004671</td>\n      <td>2</td>\n    </tr>\n    <tr>\n      <th>3</th>\n      <td>2021-12-06</td>\n      <td>5192</td>\n      <td>-0.000971</td>\n      <td>3</td>\n    </tr>\n    <tr>\n      <th>4</th>\n      <td>2021-12-06</td>\n      <td>1939</td>\n      <td>0.003014</td>\n      <td>4</td>\n    </tr>\n    <tr>\n      <th>...</th>\n      <td>...</td>\n      <td>...</td>\n      <td>...</td>\n      <td>...</td>\n    </tr>\n    <tr>\n      <th>90079</th>\n      <td>2022-05-27</td>\n      <td>7747</td>\n      <td>-0.003071</td>\n      <td>10</td>\n    </tr>\n    <tr>\n      <th>90080</th>\n      <td>2022-05-27</td>\n      <td>9104</td>\n      <td>-0.033661</td>\n      <td>11</td>\n    </tr>\n    <tr>\n      <th>90081</th>\n      <td>2022-05-27</td>\n      <td>7205</td>\n      <td>0.011268</td>\n      <td>12</td>\n    </tr>\n    <tr>\n      <th>90082</th>\n      <td>2022-05-27</td>\n      <td>3349</td>\n      <td>0.006601</td>\n      <td>13</td>\n    </tr>\n    <tr>\n      <th>90083</th>\n      <td>2022-05-27</td>\n      <td>3064</td>\n      <td>-0.014614</td>\n      <td>14</td>\n    </tr>\n  </tbody>\n</table>\n<p>1725 rows × 4 columns</p>\n</div>"
     },
     "execution_count": 145,
     "metadata": {},
     "output_type": "execute_result"
    }
   ]
  },
  {
   "cell_type": "markdown",
   "source": [
    "## Split stable_stocks_statistics_df randomly to 2 groups each with (NUMBER_OF_STABLE_STOCKS / 2) stocks"
   ],
   "metadata": {
    "pycharm": {
     "name": "#%% md\n"
    }
   }
  },
  {
   "cell_type": "code",
   "source": [
    "def random_split_of_list_into_halves(l: list) -> [list, list]:\n",
    "    random.shuffle(l)\n",
    "    return l[:int(len(l) / 2)], l[int(len(l) / 2):]"
   ],
   "metadata": {
    "collapsed": false,
    "pycharm": {
     "name": "#%%\n"
    },
    "jupyter": {
     "outputs_hidden": false
    },
    "execution": {
     "iopub.status.busy": "2022-06-21T09:54:24.654126Z",
     "iopub.execute_input": "2022-06-21T09:54:24.654638Z",
     "iopub.status.idle": "2022-06-21T09:54:24.664537Z",
     "shell.execute_reply.started": "2022-06-21T09:54:24.654606Z",
     "shell.execute_reply": "2022-06-21T09:54:24.663732Z"
    },
    "trusted": true
   },
   "execution_count": 146,
   "outputs": []
  },
  {
   "cell_type": "markdown",
   "source": [
    "## Concat top_daily_chosen_stocks_df + stable half + stable half + bottom_daily_chosen_stocks_df"
   ],
   "metadata": {
    "pycharm": {
     "name": "#%% md\n"
    }
   }
  },
  {
   "cell_type": "code",
   "source": [
    "stable_stocks_df = stable_stocks_df.set_index('Date')\n",
    "stable_stocks_df"
   ],
   "metadata": {
    "collapsed": false,
    "pycharm": {
     "name": "#%%\n"
    },
    "jupyter": {
     "outputs_hidden": false
    },
    "execution": {
     "iopub.status.busy": "2022-06-21T09:54:24.665764Z",
     "iopub.execute_input": "2022-06-21T09:54:24.666213Z",
     "iopub.status.idle": "2022-06-21T09:54:24.676935Z",
     "shell.execute_reply.started": "2022-06-21T09:54:24.666181Z",
     "shell.execute_reply": "2022-06-21T09:54:24.676156Z"
    },
    "trusted": true
   },
   "execution_count": 147,
   "outputs": [
    {
     "data": {
      "text/plain": "            SecuritiesCode    Open   Close    Volume  AdjustmentFactor  \\\nDate                                                                     \n2017-01-04            2768   289.0   293.0  10209000               1.0   \n2017-01-04            8255  4065.0  4130.0     15500               1.0   \n2017-01-04            8253  2099.0  2124.0   1232800               1.0   \n2017-01-04            8252  1714.0  1760.0   1208100               1.0   \n2017-01-04            8242  1811.0  1834.0    440700               1.0   \n...                    ...     ...     ...       ...               ...   \n2022-05-27            3264   178.0   176.0     88100               1.0   \n2022-05-27            6417  4315.0  4265.0    221000               1.0   \n2022-05-27            2664  2047.0  2032.0     47500               1.0   \n2022-05-27            8014  1942.0  1956.0     13600               1.0   \n2022-05-27            6183  1469.0  1454.0    108800               1.0   \n\n              Target  adj_open  adj_close  adj_volume  daily_change  \\\nDate                                                                  \n2017-01-04  0.003436      57.8       58.6  51045000.0      0.013652   \n2017-01-04  0.003632    4065.0     4130.0     15500.0      0.015738   \n2017-01-04 -0.001864    2099.0     2124.0   1232800.0      0.011770   \n2017-01-04  0.001716    1714.0     1760.0   1208100.0      0.026136   \n2017-01-04 -0.002118    1811.0     1834.0    440700.0      0.012541   \n...              ...       ...        ...         ...           ...   \n2022-05-27  0.011299     178.0      176.0     88100.0     -0.011364   \n2022-05-27  0.003517    4315.0     4265.0    221000.0     -0.011723   \n2022-05-27 -0.009709    2047.0     2032.0     47500.0     -0.007382   \n2022-05-27 -0.006042    1942.0     1956.0     13600.0      0.007157   \n2022-05-27 -0.022541    1469.0     1454.0    108800.0     -0.010316   \n\n            market_change_mean  market_gap  \nDate                                        \n2017-01-04            0.013806   -0.000154  \n2017-01-04            0.013806    0.001932  \n2017-01-04            0.013806   -0.002036  \n2017-01-04            0.013806    0.012330  \n2017-01-04            0.013806   -0.001265  \n...                        ...         ...  \n2022-05-27           -0.004496   -0.006868  \n2022-05-27           -0.004496   -0.007228  \n2022-05-27           -0.004496   -0.002886  \n2022-05-27           -0.004496    0.011653  \n2022-05-27           -0.004496   -0.005821  \n\n[487290 rows x 12 columns]",
      "text/html": "<div>\n<style scoped>\n    .dataframe tbody tr th:only-of-type {\n        vertical-align: middle;\n    }\n\n    .dataframe tbody tr th {\n        vertical-align: top;\n    }\n\n    .dataframe thead th {\n        text-align: right;\n    }\n</style>\n<table border=\"1\" class=\"dataframe\">\n  <thead>\n    <tr style=\"text-align: right;\">\n      <th></th>\n      <th>SecuritiesCode</th>\n      <th>Open</th>\n      <th>Close</th>\n      <th>Volume</th>\n      <th>AdjustmentFactor</th>\n      <th>Target</th>\n      <th>adj_open</th>\n      <th>adj_close</th>\n      <th>adj_volume</th>\n      <th>daily_change</th>\n      <th>market_change_mean</th>\n      <th>market_gap</th>\n    </tr>\n    <tr>\n      <th>Date</th>\n      <th></th>\n      <th></th>\n      <th></th>\n      <th></th>\n      <th></th>\n      <th></th>\n      <th></th>\n      <th></th>\n      <th></th>\n      <th></th>\n      <th></th>\n      <th></th>\n    </tr>\n  </thead>\n  <tbody>\n    <tr>\n      <th>2017-01-04</th>\n      <td>2768</td>\n      <td>289.0</td>\n      <td>293.0</td>\n      <td>10209000</td>\n      <td>1.0</td>\n      <td>0.003436</td>\n      <td>57.8</td>\n      <td>58.6</td>\n      <td>51045000.0</td>\n      <td>0.013652</td>\n      <td>0.013806</td>\n      <td>-0.000154</td>\n    </tr>\n    <tr>\n      <th>2017-01-04</th>\n      <td>8255</td>\n      <td>4065.0</td>\n      <td>4130.0</td>\n      <td>15500</td>\n      <td>1.0</td>\n      <td>0.003632</td>\n      <td>4065.0</td>\n      <td>4130.0</td>\n      <td>15500.0</td>\n      <td>0.015738</td>\n      <td>0.013806</td>\n      <td>0.001932</td>\n    </tr>\n    <tr>\n      <th>2017-01-04</th>\n      <td>8253</td>\n      <td>2099.0</td>\n      <td>2124.0</td>\n      <td>1232800</td>\n      <td>1.0</td>\n      <td>-0.001864</td>\n      <td>2099.0</td>\n      <td>2124.0</td>\n      <td>1232800.0</td>\n      <td>0.011770</td>\n      <td>0.013806</td>\n      <td>-0.002036</td>\n    </tr>\n    <tr>\n      <th>2017-01-04</th>\n      <td>8252</td>\n      <td>1714.0</td>\n      <td>1760.0</td>\n      <td>1208100</td>\n      <td>1.0</td>\n      <td>0.001716</td>\n      <td>1714.0</td>\n      <td>1760.0</td>\n      <td>1208100.0</td>\n      <td>0.026136</td>\n      <td>0.013806</td>\n      <td>0.012330</td>\n    </tr>\n    <tr>\n      <th>2017-01-04</th>\n      <td>8242</td>\n      <td>1811.0</td>\n      <td>1834.0</td>\n      <td>440700</td>\n      <td>1.0</td>\n      <td>-0.002118</td>\n      <td>1811.0</td>\n      <td>1834.0</td>\n      <td>440700.0</td>\n      <td>0.012541</td>\n      <td>0.013806</td>\n      <td>-0.001265</td>\n    </tr>\n    <tr>\n      <th>...</th>\n      <td>...</td>\n      <td>...</td>\n      <td>...</td>\n      <td>...</td>\n      <td>...</td>\n      <td>...</td>\n      <td>...</td>\n      <td>...</td>\n      <td>...</td>\n      <td>...</td>\n      <td>...</td>\n      <td>...</td>\n    </tr>\n    <tr>\n      <th>2022-05-27</th>\n      <td>3264</td>\n      <td>178.0</td>\n      <td>176.0</td>\n      <td>88100</td>\n      <td>1.0</td>\n      <td>0.011299</td>\n      <td>178.0</td>\n      <td>176.0</td>\n      <td>88100.0</td>\n      <td>-0.011364</td>\n      <td>-0.004496</td>\n      <td>-0.006868</td>\n    </tr>\n    <tr>\n      <th>2022-05-27</th>\n      <td>6417</td>\n      <td>4315.0</td>\n      <td>4265.0</td>\n      <td>221000</td>\n      <td>1.0</td>\n      <td>0.003517</td>\n      <td>4315.0</td>\n      <td>4265.0</td>\n      <td>221000.0</td>\n      <td>-0.011723</td>\n      <td>-0.004496</td>\n      <td>-0.007228</td>\n    </tr>\n    <tr>\n      <th>2022-05-27</th>\n      <td>2664</td>\n      <td>2047.0</td>\n      <td>2032.0</td>\n      <td>47500</td>\n      <td>1.0</td>\n      <td>-0.009709</td>\n      <td>2047.0</td>\n      <td>2032.0</td>\n      <td>47500.0</td>\n      <td>-0.007382</td>\n      <td>-0.004496</td>\n      <td>-0.002886</td>\n    </tr>\n    <tr>\n      <th>2022-05-27</th>\n      <td>8014</td>\n      <td>1942.0</td>\n      <td>1956.0</td>\n      <td>13600</td>\n      <td>1.0</td>\n      <td>-0.006042</td>\n      <td>1942.0</td>\n      <td>1956.0</td>\n      <td>13600.0</td>\n      <td>0.007157</td>\n      <td>-0.004496</td>\n      <td>0.011653</td>\n    </tr>\n    <tr>\n      <th>2022-05-27</th>\n      <td>6183</td>\n      <td>1469.0</td>\n      <td>1454.0</td>\n      <td>108800</td>\n      <td>1.0</td>\n      <td>-0.022541</td>\n      <td>1469.0</td>\n      <td>1454.0</td>\n      <td>108800.0</td>\n      <td>-0.010316</td>\n      <td>-0.004496</td>\n      <td>-0.005821</td>\n    </tr>\n  </tbody>\n</table>\n<p>487290 rows × 12 columns</p>\n</div>"
     },
     "execution_count": 147,
     "metadata": {},
     "output_type": "execute_result"
    }
   ]
  },
  {
   "cell_type": "code",
   "source": [
    "def get_final_ranks_df(top_df: pd.DataFrame, stable_stock_list: list, stable_stocks_df: pd.DataFrame,\n",
    "                       bottom_df: pd.DataFrame) -> pd.DataFrame:\n",
    "    result_df = pd.DataFrame()\n",
    "\n",
    "    for d in top_df['Date'].unique():\n",
    "        first_half, second_half = random_split_of_list_into_halves(stable_stock_list)\n",
    "        result_df = pd.concat([result_df,\n",
    "                               top_df[top_df['Date'] == d],\n",
    "                               stable_stocks_df.loc[(stable_stocks_df.index == d) & (\n",
    "                                   stable_stocks_df['SecuritiesCode'].isin(first_half)), ['SecuritiesCode',\n",
    "                                                                                          'Target']].reset_index(),\n",
    "                               stable_stocks_df.loc[(stable_stocks_df.index == d) & (\n",
    "                                   stable_stocks_df['SecuritiesCode'].isin(second_half)), ['SecuritiesCode',\n",
    "                                                                                           'Target']].reset_index(),\n",
    "                               bottom_df[bottom_df['Date'] == d][::-1]])\n",
    "        # need to reverse bottom stocks\n",
    "\n",
    "    return result_df\n",
    "\n",
    "\n",
    "final_ranks_df = get_final_ranks_df(top_daily_chosen_stocks_df, stable_stocks_statistics_df.index.values,\n",
    "                                    stable_stocks_df,\n",
    "                                    bottom_daily_chosen_stocks_df)"
   ],
   "metadata": {
    "collapsed": false,
    "pycharm": {
     "name": "#%%\n"
    },
    "jupyter": {
     "outputs_hidden": false
    },
    "execution": {
     "iopub.status.busy": "2022-06-21T09:54:24.678272Z",
     "iopub.execute_input": "2022-06-21T09:54:24.678794Z",
     "iopub.status.idle": "2022-06-21T09:55:45.658203Z",
     "shell.execute_reply.started": "2022-06-21T09:54:24.678762Z",
     "shell.execute_reply": "2022-06-21T09:55:45.657360Z"
    },
    "trusted": true
   },
   "execution_count": 148,
   "outputs": []
  },
  {
   "cell_type": "markdown",
   "source": [
    "## re-rank concatenated daily"
   ],
   "metadata": {
    "pycharm": {
     "name": "#%% md\n"
    }
   }
  },
  {
   "cell_type": "code",
   "source": [
    "final_ranks_df = final_ranks_df.groupby('Date').apply(set_rank).reset_index(drop=True)\n",
    "# final_ranks_df.Date.value_counts().unique()  # 400 every day\n",
    "final_ranks_df"
   ],
   "metadata": {
    "collapsed": false,
    "pycharm": {
     "name": "#%%\n"
    },
    "jupyter": {
     "outputs_hidden": false
    },
    "execution": {
     "iopub.status.busy": "2022-06-21T09:55:45.659286Z",
     "iopub.execute_input": "2022-06-21T09:55:45.659571Z",
     "iopub.status.idle": "2022-06-21T09:55:45.968092Z",
     "shell.execute_reply.started": "2022-06-21T09:55:45.659544Z",
     "shell.execute_reply": "2022-06-21T09:55:45.967256Z"
    },
    "trusted": true
   },
   "execution_count": 149,
   "outputs": [
    {
     "data": {
      "text/plain": "             Date  SecuritiesCode    Target  Rank\n0      2021-12-06            5713  0.006755     0\n1      2021-12-06            9303 -0.021761     1\n2      2021-12-06            5393 -0.004671     2\n3      2021-12-06            5192 -0.000971     3\n4      2021-12-06            1939  0.003014     4\n...           ...             ...       ...   ...\n45995  2022-05-27            4974  0.002198   395\n45996  2022-05-27            3034  0.022838   396\n45997  2022-05-27            8925  0.002028   397\n45998  2022-05-27            6958  0.017131   398\n45999  2022-05-27            8848 -0.016779   399\n\n[46000 rows x 4 columns]",
      "text/html": "<div>\n<style scoped>\n    .dataframe tbody tr th:only-of-type {\n        vertical-align: middle;\n    }\n\n    .dataframe tbody tr th {\n        vertical-align: top;\n    }\n\n    .dataframe thead th {\n        text-align: right;\n    }\n</style>\n<table border=\"1\" class=\"dataframe\">\n  <thead>\n    <tr style=\"text-align: right;\">\n      <th></th>\n      <th>Date</th>\n      <th>SecuritiesCode</th>\n      <th>Target</th>\n      <th>Rank</th>\n    </tr>\n  </thead>\n  <tbody>\n    <tr>\n      <th>0</th>\n      <td>2021-12-06</td>\n      <td>5713</td>\n      <td>0.006755</td>\n      <td>0</td>\n    </tr>\n    <tr>\n      <th>1</th>\n      <td>2021-12-06</td>\n      <td>9303</td>\n      <td>-0.021761</td>\n      <td>1</td>\n    </tr>\n    <tr>\n      <th>2</th>\n      <td>2021-12-06</td>\n      <td>5393</td>\n      <td>-0.004671</td>\n      <td>2</td>\n    </tr>\n    <tr>\n      <th>3</th>\n      <td>2021-12-06</td>\n      <td>5192</td>\n      <td>-0.000971</td>\n      <td>3</td>\n    </tr>\n    <tr>\n      <th>4</th>\n      <td>2021-12-06</td>\n      <td>1939</td>\n      <td>0.003014</td>\n      <td>4</td>\n    </tr>\n    <tr>\n      <th>...</th>\n      <td>...</td>\n      <td>...</td>\n      <td>...</td>\n      <td>...</td>\n    </tr>\n    <tr>\n      <th>45995</th>\n      <td>2022-05-27</td>\n      <td>4974</td>\n      <td>0.002198</td>\n      <td>395</td>\n    </tr>\n    <tr>\n      <th>45996</th>\n      <td>2022-05-27</td>\n      <td>3034</td>\n      <td>0.022838</td>\n      <td>396</td>\n    </tr>\n    <tr>\n      <th>45997</th>\n      <td>2022-05-27</td>\n      <td>8925</td>\n      <td>0.002028</td>\n      <td>397</td>\n    </tr>\n    <tr>\n      <th>45998</th>\n      <td>2022-05-27</td>\n      <td>6958</td>\n      <td>0.017131</td>\n      <td>398</td>\n    </tr>\n    <tr>\n      <th>45999</th>\n      <td>2022-05-27</td>\n      <td>8848</td>\n      <td>-0.016779</td>\n      <td>399</td>\n    </tr>\n  </tbody>\n</table>\n<p>46000 rows × 4 columns</p>\n</div>"
     },
     "execution_count": 149,
     "metadata": {},
     "output_type": "execute_result"
    }
   ]
  },
  {
   "cell_type": "markdown",
   "source": [
    "# Calculate score"
   ],
   "metadata": {
    "pycharm": {
     "name": "#%% md\n"
    }
   }
  },
  {
   "cell_type": "code",
   "source": [
    "def calc_spread_return_sharpe(df: pd.DataFrame, portfolio_size: int = 200, toprank_weight_ratio: float = 2) -> float:\n",
    "    \"\"\"\n",
    "    Args:\n",
    "        df (pd.DataFrame): predicted results\n",
    "        portfolio_size (int): # of equities to buy/sell\n",
    "        toprank_weight_ratio (float): the relative weight of the most highly ranked stock compared to the least.\n",
    "    Returns:\n",
    "        (float): sharpe ratio\n",
    "    \"\"\"\n",
    "\n",
    "    def _calc_spread_return_per_day(df, portfolio_size, toprank_weight_ratio):\n",
    "        \"\"\"\n",
    "        Args:\n",
    "            df (pd.DataFrame): predicted results\n",
    "            portfolio_size (int): # of equities to buy/sell\n",
    "            toprank_weight_ratio (float): the relative weight of the most highly ranked stock compared to the least.\n",
    "        Returns:\n",
    "            (float): spread return\n",
    "        \"\"\"\n",
    "        assert df['Rank'].min() == 0\n",
    "        assert df['Rank'].max() == len(df['Rank']) - 1\n",
    "        weights = np.linspace(start=toprank_weight_ratio, stop=1, num=portfolio_size)\n",
    "        purchase = (df.sort_values(by='Rank')['Target'][:portfolio_size] * weights).sum() / weights.mean()\n",
    "        short = (df.sort_values(by='Rank', ascending=False)['Target'][:portfolio_size] * weights).sum() / weights.mean()\n",
    "        return purchase - short\n",
    "\n",
    "    buf = df.groupby('Date').apply(_calc_spread_return_per_day, portfolio_size, toprank_weight_ratio)\n",
    "    sharpe_ratio = buf.mean() / buf.std()\n",
    "\n",
    "    return sharpe_ratio"
   ],
   "metadata": {
    "collapsed": false,
    "pycharm": {
     "name": "#%%\n"
    },
    "jupyter": {
     "outputs_hidden": false
    },
    "execution": {
     "iopub.status.busy": "2022-06-21T09:55:45.969058Z",
     "iopub.execute_input": "2022-06-21T09:55:45.969834Z",
     "iopub.status.idle": "2022-06-21T09:55:45.979197Z",
     "shell.execute_reply.started": "2022-06-21T09:55:45.969801Z",
     "shell.execute_reply": "2022-06-21T09:55:45.978384Z"
    },
    "trusted": true
   },
   "execution_count": 150,
   "outputs": []
  },
  {
   "cell_type": "code",
   "source": [
    "score = calc_spread_return_sharpe(final_ranks_df, portfolio_size=200, toprank_weight_ratio=2)\n",
    "score"
   ],
   "metadata": {
    "collapsed": false,
    "pycharm": {
     "name": "#%%\n"
    },
    "jupyter": {
     "outputs_hidden": false
    },
    "execution": {
     "iopub.status.busy": "2022-06-21T09:55:45.980346Z",
     "iopub.execute_input": "2022-06-21T09:55:45.980647Z",
     "iopub.status.idle": "2022-06-21T09:55:46.732658Z",
     "shell.execute_reply.started": "2022-06-21T09:55:45.980620Z",
     "shell.execute_reply": "2022-06-21T09:55:46.731738Z"
    },
    "trusted": true
   },
   "execution_count": 151,
   "outputs": [
    {
     "data": {
      "text/plain": "0.004096850200850694"
     },
     "execution_count": 151,
     "metadata": {},
     "output_type": "execute_result"
    }
   ]
  },
  {
   "cell_type": "code",
   "execution_count": 152,
   "outputs": [],
   "source": [
    "final_ranks_df = final_ranks_df.drop(columns='Target')\n",
    "final_ranks_df.to_csv('final_ranks_df.csv', index=False)"
   ],
   "metadata": {
    "collapsed": false,
    "pycharm": {
     "name": "#%%\n"
    }
   }
  },
  {
   "cell_type": "markdown",
   "source": [
    "# SUBMIT\n",
    "Will not work on local run!\n",
    "Must be run through Kaggle's Kernel - open a notebook there and copy this notebook"
   ],
   "metadata": {
    "pycharm": {
     "name": "#%% md\n"
    }
   }
  },
  {
   "cell_type": "code",
   "source": [
    "import jpx_tokyo_market_prediction\n",
    "\n",
    "env = jpx_tokyo_market_prediction.make_env()  # initialize the environment\n",
    "iter_test = env.iter_test()  # an iterator which loops over the test files"
   ],
   "metadata": {
    "collapsed": false,
    "pycharm": {
     "name": "#%%\n"
    },
    "jupyter": {
     "outputs_hidden": false
    },
    "execution": {
     "iopub.status.busy": "2022-06-21T09:55:46.734722Z",
     "iopub.execute_input": "2022-06-21T09:55:46.736149Z",
     "iopub.status.idle": "2022-06-21T09:55:46.750542Z",
     "shell.execute_reply.started": "2022-06-21T09:55:46.736097Z",
     "shell.execute_reply": "2022-06-21T09:55:46.749468Z"
    },
    "trusted": true
   },
   "execution_count": 153,
   "outputs": [
    {
     "ename": "ModuleNotFoundError",
     "evalue": "No module named 'jpx_tokyo_market_prediction'",
     "output_type": "error",
     "traceback": [
      "\u001B[1;31m---------------------------------------------------------------------------\u001B[0m",
      "\u001B[1;31mModuleNotFoundError\u001B[0m                       Traceback (most recent call last)",
      "\u001B[1;32m~\\AppData\\Local\\Temp/ipykernel_24996/3904038219.py\u001B[0m in \u001B[0;36m<module>\u001B[1;34m\u001B[0m\n\u001B[1;32m----> 1\u001B[1;33m \u001B[1;32mimport\u001B[0m \u001B[0mjpx_tokyo_market_prediction\u001B[0m\u001B[1;33m\u001B[0m\u001B[1;33m\u001B[0m\u001B[0m\n\u001B[0m\u001B[0;32m      2\u001B[0m \u001B[1;33m\u001B[0m\u001B[0m\n\u001B[0;32m      3\u001B[0m \u001B[0menv\u001B[0m \u001B[1;33m=\u001B[0m \u001B[0mjpx_tokyo_market_prediction\u001B[0m\u001B[1;33m.\u001B[0m\u001B[0mmake_env\u001B[0m\u001B[1;33m(\u001B[0m\u001B[1;33m)\u001B[0m  \u001B[1;31m# initialize the environment\u001B[0m\u001B[1;33m\u001B[0m\u001B[1;33m\u001B[0m\u001B[0m\n\u001B[0;32m      4\u001B[0m \u001B[0miter_test\u001B[0m \u001B[1;33m=\u001B[0m \u001B[0menv\u001B[0m\u001B[1;33m.\u001B[0m\u001B[0miter_test\u001B[0m\u001B[1;33m(\u001B[0m\u001B[1;33m)\u001B[0m  \u001B[1;31m# an iterator which loops over the test files\u001B[0m\u001B[1;33m\u001B[0m\u001B[1;33m\u001B[0m\u001B[0m\n",
      "\u001B[1;31mModuleNotFoundError\u001B[0m: No module named 'jpx_tokyo_market_prediction'"
     ]
    }
   ]
  },
  {
   "cell_type": "code",
   "execution_count": null,
   "outputs": [],
   "source": [
    "def predict(df, prices, sample_prediction):\n",
    "    ff = df[df['Date'] == prices['Date'].iloc[0]]\n",
    "    ff = ff[ff['SecuritiesCode'].isin(df['SecuritiesCode'].unique())]\n",
    "    mp = ff.set_index('SecuritiesCode')['Rank']\n",
    "    sample_prediction = sample_prediction[sample_prediction['SecuritiesCode'].isin(ff['SecuritiesCode'].unique())]\n",
    "    sample_prediction['Rank'] = sample_prediction.SecuritiesCode.map(mp)\n",
    "    sample_prediction = sample_prediction.sort_values(by='Rank')\n",
    "    return sample_prediction"
   ],
   "metadata": {
    "collapsed": false,
    "pycharm": {
     "name": "#%%\n"
    }
   }
  },
  {
   "cell_type": "code",
   "source": [
    "for prices, _, _, _, _, sample_prediction in iter_test:\n",
    "    sample_prediction = predict(final_ranks_df, prices, sample_prediction)\n",
    "    env.predict(sample_prediction)"
   ],
   "metadata": {
    "collapsed": false,
    "pycharm": {
     "name": "#%%\n"
    },
    "jupyter": {
     "outputs_hidden": false
    },
    "execution": {
     "iopub.status.busy": "2022-06-21T09:55:46.751644Z",
     "iopub.execute_input": "2022-06-21T09:55:46.752176Z",
     "iopub.status.idle": "2022-06-21T09:55:48.462208Z",
     "shell.execute_reply.started": "2022-06-21T09:55:46.752140Z",
     "shell.execute_reply": "2022-06-21T09:55:48.461174Z"
    },
    "trusted": true
   },
   "execution_count": null,
   "outputs": []
  },
  {
   "cell_type": "code",
   "source": [
    "! head submission.csv"
   ],
   "metadata": {
    "collapsed": false,
    "pycharm": {
     "name": "#%%\n"
    },
    "jupyter": {
     "outputs_hidden": false
    },
    "execution": {
     "iopub.status.busy": "2022-06-21T09:55:48.463362Z",
     "iopub.execute_input": "2022-06-21T09:55:48.463793Z",
     "iopub.status.idle": "2022-06-21T09:55:49.229878Z",
     "shell.execute_reply.started": "2022-06-21T09:55:48.463762Z",
     "shell.execute_reply": "2022-06-21T09:55:49.228718Z"
    },
    "trusted": true
   },
   "execution_count": null,
   "outputs": []
  }
 ]
}