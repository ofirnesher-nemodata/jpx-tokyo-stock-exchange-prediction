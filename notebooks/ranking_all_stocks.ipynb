{
 "cells": [
  {
   "cell_type": "markdown",
   "id": "c6bf1117",
   "metadata": {
    "papermill": {
     "duration": 0.013859,
     "end_time": "2022-06-26T07:17:53.816288",
     "exception": false,
     "start_time": "2022-06-26T07:17:53.802429",
     "status": "completed"
    },
    "pycharm": {
     "name": "#%% md\n"
    },
    "tags": []
   },
   "source": [
    "# IMPORTS"
   ]
  },
  {
   "cell_type": "code",
   "execution_count": 65,
   "id": "eab0c296",
   "metadata": {
    "collapsed": false,
    "execution": {
     "iopub.execute_input": "2022-06-26T07:17:53.844358Z",
     "iopub.status.busy": "2022-06-26T07:17:53.843598Z",
     "iopub.status.idle": "2022-06-26T07:18:35.391808Z",
     "shell.execute_reply": "2022-06-26T07:18:35.390746Z"
    },
    "jupyter": {
     "outputs_hidden": false
    },
    "papermill": {
     "duration": 41.565882,
     "end_time": "2022-06-26T07:18:35.394278",
     "exception": false,
     "start_time": "2022-06-26T07:17:53.828396",
     "status": "completed"
    },
    "pycharm": {
     "name": "#%%\n"
    },
    "tags": []
   },
   "outputs": [],
   "source": [
    "# !pip install lightgbm\n",
    "# !pip install pandas_ta\n",
    "# !pip install pandas_ta --no-index --find-links=file:///kaggle/input/pandas-ta/"
   ]
  },
  {
   "cell_type": "code",
   "execution_count": 66,
   "id": "a6ce7cdc",
   "metadata": {
    "collapsed": false,
    "execution": {
     "iopub.execute_input": "2022-06-26T07:18:35.421260Z",
     "iopub.status.busy": "2022-06-26T07:18:35.420697Z",
     "iopub.status.idle": "2022-06-26T07:18:37.342374Z",
     "shell.execute_reply": "2022-06-26T07:18:37.341492Z"
    },
    "jupyter": {
     "outputs_hidden": false
    },
    "papermill": {
     "duration": 1.938049,
     "end_time": "2022-06-26T07:18:37.344813",
     "exception": false,
     "start_time": "2022-06-26T07:18:35.406764",
     "status": "completed"
    },
    "pycharm": {
     "name": "#%%\n"
    },
    "tags": []
   },
   "outputs": [],
   "source": [
    "import pandas as pd\n",
    "import numpy as np\n",
    "import os\n",
    "import random\n",
    "from lightgbm import LGBMRegressor\n",
    "import pandas_ta as ta"
   ]
  },
  {
   "cell_type": "markdown",
   "id": "0b4d5337",
   "metadata": {
    "papermill": {
     "duration": 0.012364,
     "end_time": "2022-06-26T07:18:37.370282",
     "exception": false,
     "start_time": "2022-06-26T07:18:37.357918",
     "status": "completed"
    },
    "pycharm": {
     "name": "#%% md\n"
    },
    "tags": []
   },
   "source": [
    "# CONSTANTS"
   ]
  },
  {
   "cell_type": "code",
   "execution_count": 67,
   "id": "9904a2b7",
   "metadata": {
    "collapsed": false,
    "execution": {
     "iopub.execute_input": "2022-06-26T07:18:37.396574Z",
     "iopub.status.busy": "2022-06-26T07:18:37.396250Z",
     "iopub.status.idle": "2022-06-26T07:18:37.400224Z",
     "shell.execute_reply": "2022-06-26T07:18:37.399479Z"
    },
    "jupyter": {
     "outputs_hidden": false
    },
    "papermill": {
     "duration": 0.019211,
     "end_time": "2022-06-26T07:18:37.402019",
     "exception": false,
     "start_time": "2022-06-26T07:18:37.382808",
     "status": "completed"
    },
    "pycharm": {
     "name": "#%%\n"
    },
    "tags": []
   },
   "outputs": [],
   "source": [
    "NUMBER_OF_DAILY_CHOSEN_STOCKS = 50\n",
    "NUMBER_OF_STABLE_STOCKS = 400 - (NUMBER_OF_DAILY_CHOSEN_STOCKS * 2)\n",
    "DAYS_PERIODS = [10, 21, 63]"
   ]
  },
  {
   "cell_type": "markdown",
   "id": "e15f9836",
   "metadata": {
    "papermill": {
     "duration": 0.011971,
     "end_time": "2022-06-26T07:18:37.426394",
     "exception": false,
     "start_time": "2022-06-26T07:18:37.414423",
     "status": "completed"
    },
    "pycharm": {
     "name": "#%% md\n"
    },
    "tags": []
   },
   "source": [
    "# FUNCTIONS"
   ]
  },
  {
   "cell_type": "code",
   "execution_count": 68,
   "id": "e9ab1bb0",
   "metadata": {
    "collapsed": false,
    "execution": {
     "iopub.execute_input": "2022-06-26T07:18:37.451756Z",
     "iopub.status.busy": "2022-06-26T07:18:37.451460Z",
     "iopub.status.idle": "2022-06-26T07:18:37.472249Z",
     "shell.execute_reply": "2022-06-26T07:18:37.471546Z"
    },
    "jupyter": {
     "outputs_hidden": false
    },
    "papermill": {
     "duration": 0.035006,
     "end_time": "2022-06-26T07:18:37.473737",
     "exception": false,
     "start_time": "2022-06-26T07:18:37.438731",
     "status": "completed"
    },
    "pycharm": {
     "name": "#%%\n"
    },
    "tags": []
   },
   "outputs": [],
   "source": [
    "def get_stocks_traded_every_day(stock_prices_df):\n",
    "    \"\"\"Return stocks that are traded in every trading day in data and remove others\"\"\"\n",
    "    traded_stock_per_date = stock_prices_df['Date'].value_counts()\n",
    "    stocks_by_descending_trade_count = stock_prices_df['SecuritiesCode'].value_counts()\n",
    "    return stocks_by_descending_trade_count[stocks_by_descending_trade_count == len(traded_stock_per_date)].index.values\n",
    "\n",
    "\n",
    "def adjust_prices(df):\n",
    "    def calculate_adjusted(df):\n",
    "        \"\"\"apply AdjustmentFactor on columns\"\"\"\n",
    "        new = df.sort_index(ascending=False)\n",
    "        split_coef = new['AdjustmentFactor'].shift(1).fillna(1).cumprod()\n",
    "        new['adj_open'] = new['Open'] / split_coef\n",
    "        new['adj_close'] = new['Close'] / split_coef\n",
    "        new['adj_volume'] = split_coef * new['Volume']\n",
    "        return new.sort_index(ascending=True)\n",
    "\n",
    "    df = df.groupby('SecuritiesCode').apply(calculate_adjusted).reset_index(drop=True)\n",
    "    df.set_index('Date', inplace=True)\n",
    "\n",
    "    return df\n",
    "\n",
    "\n",
    "get_daily_change_in_price = lambda df: df.groupby('SecuritiesCode')['adj_close'].apply(lambda x: x.diff() / x)\n",
    "\n",
    "get_gap_from_market = lambda df: df['daily_change'] - df['market_change_mean']\n",
    "\n",
    "\n",
    "def get_features_for_prediction(df):\n",
    "    \"\"\"\n",
    "    Args:\n",
    "        df (pd.DataFrame)  : pd.DataFrame include stock_price\n",
    "        code (int)  : A local code for a listed company\n",
    "    Returns:\n",
    "        feats DataFrame (pd.DataFrame)\n",
    "    \"\"\"\n",
    "    result = []\n",
    "\n",
    "    for code in df['SecuritiesCode'].unique():\n",
    "        feats = df.loc[df['SecuritiesCode'] == code, ['SecuritiesCode', 'Target', 'adj_close', 'adj_volume']].copy()\n",
    "\n",
    "        for period in DAYS_PERIODS:\n",
    "            feats[f'return_{period}_days'] = feats['adj_close'].pct_change(period)\n",
    "            feats[f'volume_{period}_days'] = feats['adj_volume'].pct_change(period)\n",
    "            feats[f'ema_{period}_days'] = ta.ema(feats['adj_close'], length=period + 1)\n",
    "\n",
    "        # filling data for nan and inf\n",
    "        feats['adj_volume'] = feats['adj_volume'].fillna(0)\n",
    "        feats = feats.replace([np.inf, -np.inf], 0)\n",
    "        result.append(feats)\n",
    "\n",
    "    return pd.concat(result)\n",
    "\n",
    "\n",
    "def random_split_of_list_into_halves(l: list) -> [list, list]:\n",
    "    random.shuffle(l)\n",
    "    return l[:int(len(l) / 2)], l[int(len(l) / 2):]\n",
    "\n",
    "\n",
    "def set_rank(df):\n",
    "    \"\"\"\n",
    "    Args:\n",
    "        df (pd.DataFrame): including predict column\n",
    "    Returns:\n",
    "        df (pd.DataFrame): df with rank\n",
    "    \"\"\"\n",
    "    # set 'Rank' starting from 0\n",
    "    df.loc[:, 'Rank'] = np.arange(len(df))\n",
    "    return df\n",
    "\n",
    "\n",
    "def calc_spread_return_sharpe(df: pd.DataFrame, portfolio_size: int = 200, toprank_weight_ratio: float = 2) -> float:\n",
    "    \"\"\"\n",
    "    Args:\n",
    "        df (pd.DataFrame): predicted results\n",
    "        portfolio_size (int): # of equities to buy/sell\n",
    "        toprank_weight_ratio (float): the relative weight of the most highly ranked stock compared to the least.\n",
    "    Returns:\n",
    "        (float): sharpe ratio\n",
    "    \"\"\"\n",
    "\n",
    "    def _calc_spread_return_per_day(df, portfolio_size, toprank_weight_ratio):\n",
    "        \"\"\"\n",
    "        Args:\n",
    "            df (pd.DataFrame): predicted results\n",
    "            portfolio_size (int): # of equities to buy/sell\n",
    "            toprank_weight_ratio (float): the relative weight of the most highly ranked stock compared to the least.\n",
    "        Returns:\n",
    "            (float): spread return\n",
    "        \"\"\"\n",
    "        assert df['Rank'].min() == 0\n",
    "        assert df['Rank'].max() == len(df['Rank']) - 1\n",
    "        weights = np.linspace(start=toprank_weight_ratio, stop=1, num=portfolio_size)\n",
    "        purchase = (df.sort_values(by='Rank')['Target'][:portfolio_size] * weights).sum() / weights.mean()\n",
    "        short = (df.sort_values(by='Rank', ascending=False)['Target'][:portfolio_size] * weights).sum() / weights.mean()\n",
    "        return purchase - short\n",
    "\n",
    "    buf = df.groupby('Date').apply(_calc_spread_return_per_day, portfolio_size, toprank_weight_ratio)\n",
    "    sharpe_ratio = buf.mean() / buf.std()\n",
    "\n",
    "    return sharpe_ratio"
   ]
  },
  {
   "cell_type": "markdown",
   "id": "250afa51",
   "metadata": {
    "papermill": {
     "duration": 0.012171,
     "end_time": "2022-06-26T07:18:37.498196",
     "exception": false,
     "start_time": "2022-06-26T07:18:37.486025",
     "status": "completed"
    },
    "pycharm": {
     "name": "#%% md\n"
    },
    "tags": []
   },
   "source": [
    "# PROCESS DATA"
   ]
  },
  {
   "cell_type": "code",
   "execution_count": 69,
   "id": "786276e6",
   "metadata": {
    "collapsed": false,
    "execution": {
     "iopub.execute_input": "2022-06-26T07:18:37.524917Z",
     "iopub.status.busy": "2022-06-26T07:18:37.524372Z",
     "iopub.status.idle": "2022-06-26T07:18:43.872883Z",
     "shell.execute_reply": "2022-06-26T07:18:43.872073Z"
    },
    "jupyter": {
     "outputs_hidden": false
    },
    "papermill": {
     "duration": 6.364684,
     "end_time": "2022-06-26T07:18:43.875062",
     "exception": false,
     "start_time": "2022-06-26T07:18:37.510378",
     "status": "completed"
    },
    "pycharm": {
     "name": "#%%\n"
    },
    "tags": []
   },
   "outputs": [],
   "source": [
    "train_stock_prices = pd.read_csv(\n",
    "    os.path.join('../input/jpx-tokyo-stock-exchange-prediction/train_files', 'stock_prices.csv'))\n",
    "supplemental_stock_prices = pd.read_csv(\n",
    "    os.path.join('../input/jpx-tokyo-stock-exchange-prediction/supplemental_files', 'stock_prices.csv'))\n",
    "\n",
    "# our training data and test data concatenated\n",
    "stock_prices = pd.concat([train_stock_prices, supplemental_stock_prices])"
   ]
  },
  {
   "cell_type": "code",
   "execution_count": 70,
   "id": "461b5fd4",
   "metadata": {
    "collapsed": false,
    "execution": {
     "iopub.execute_input": "2022-06-26T07:18:43.901874Z",
     "iopub.status.busy": "2022-06-26T07:18:43.901531Z",
     "iopub.status.idle": "2022-06-26T07:18:44.361710Z",
     "shell.execute_reply": "2022-06-26T07:18:44.360910Z"
    },
    "jupyter": {
     "outputs_hidden": false
    },
    "papermill": {
     "duration": 0.475908,
     "end_time": "2022-06-26T07:18:44.363728",
     "exception": false,
     "start_time": "2022-06-26T07:18:43.887820",
     "status": "completed"
    },
    "pycharm": {
     "name": "#%%\n"
    },
    "tags": []
   },
   "outputs": [],
   "source": [
    "all_stocks_list = list(set(stock_prices['SecuritiesCode']))\n",
    "delisted_stocks = stock_prices[stock_prices['SupervisionFlag'] == True]['SecuritiesCode'].values\n",
    "daily_traded_stocks = get_stocks_traded_every_day(stock_prices)"
   ]
  },
  {
   "cell_type": "code",
   "execution_count": 71,
   "id": "cd00f4df",
   "metadata": {
    "collapsed": false,
    "execution": {
     "iopub.execute_input": "2022-06-26T07:18:44.390485Z",
     "iopub.status.busy": "2022-06-26T07:18:44.390172Z",
     "iopub.status.idle": "2022-06-26T07:18:44.406575Z",
     "shell.execute_reply": "2022-06-26T07:18:44.405823Z"
    },
    "jupyter": {
     "outputs_hidden": false
    },
    "papermill": {
     "duration": 0.03229,
     "end_time": "2022-06-26T07:18:44.409092",
     "exception": false,
     "start_time": "2022-06-26T07:18:44.376802",
     "status": "completed"
    },
    "pycharm": {
     "name": "#%%\n"
    },
    "tags": []
   },
   "outputs": [
    {
     "name": "stdout",
     "output_type": "stream",
     "text": [
      "We now have 1845 stocks which have available information in every trading day and which are NOT delisted.\n",
      "These remaining stocks are the ones we are going to analyze and \"play\" with from now on.\n"
     ]
    }
   ],
   "source": [
    "# TODO: make set and subtract\n",
    "daily_traded_stocks = [x for x in daily_traded_stocks if (x not in delisted_stocks)]\n",
    "print(\n",
    "    f'We now have {len(daily_traded_stocks)} stocks which have available information in every trading day and which are NOT delisted.\\n'\n",
    "    'These remaining stocks are the ones we are going to analyze and \"play\" with from now on.')"
   ]
  },
  {
   "cell_type": "code",
   "execution_count": 72,
   "id": "72bd1f93",
   "metadata": {
    "collapsed": false,
    "execution": {
     "iopub.execute_input": "2022-06-26T07:18:44.435257Z",
     "iopub.status.busy": "2022-06-26T07:18:44.434873Z",
     "iopub.status.idle": "2022-06-26T07:18:44.880322Z",
     "shell.execute_reply": "2022-06-26T07:18:44.879542Z"
    },
    "jupyter": {
     "outputs_hidden": false
    },
    "papermill": {
     "duration": 0.460832,
     "end_time": "2022-06-26T07:18:44.882652",
     "exception": false,
     "start_time": "2022-06-26T07:18:44.421820",
     "status": "completed"
    },
    "pycharm": {
     "name": "#%%\n"
    },
    "tags": []
   },
   "outputs": [],
   "source": [
    "listed_stock_prices = stock_prices.loc[\n",
    "    stock_prices['SecuritiesCode'].isin(daily_traded_stocks), ['Date', 'SecuritiesCode', 'Open', 'Close', 'Volume',\n",
    "                                                               'AdjustmentFactor', 'Target']]\n",
    "\n",
    "# x daily-traded & listed stocks * 1202 trading days = y rows\n",
    "assert len(listed_stock_prices) == len(daily_traded_stocks) * len(stock_prices['Date'].unique())"
   ]
  },
  {
   "cell_type": "code",
   "execution_count": 73,
   "id": "daccbe5e",
   "metadata": {
    "collapsed": false,
    "execution": {
     "iopub.execute_input": "2022-06-26T07:18:44.912415Z",
     "iopub.status.busy": "2022-06-26T07:18:44.911972Z",
     "iopub.status.idle": "2022-06-26T07:18:54.727628Z",
     "shell.execute_reply": "2022-06-26T07:18:54.726671Z"
    },
    "jupyter": {
     "outputs_hidden": false
    },
    "papermill": {
     "duration": 9.832151,
     "end_time": "2022-06-26T07:18:54.729794",
     "exception": false,
     "start_time": "2022-06-26T07:18:44.897643",
     "status": "completed"
    },
    "pycharm": {
     "name": "#%%\n"
    },
    "tags": []
   },
   "outputs": [],
   "source": [
    "adjusted_prices_df = adjust_prices(listed_stock_prices)\n",
    "adjusted_prices_df = adjusted_prices_df.sort_values(['SecuritiesCode', 'Date'], ascending=[True, True])\n",
    "adjusted_prices_df['daily_change'] = get_daily_change_in_price(adjusted_prices_df)"
   ]
  },
  {
   "cell_type": "code",
   "execution_count": 74,
   "id": "68d88b46",
   "metadata": {
    "collapsed": false,
    "execution": {
     "iopub.execute_input": "2022-06-26T07:18:54.757446Z",
     "iopub.status.busy": "2022-06-26T07:18:54.757102Z",
     "iopub.status.idle": "2022-06-26T07:18:54.945608Z",
     "shell.execute_reply": "2022-06-26T07:18:54.944909Z"
    },
    "jupyter": {
     "outputs_hidden": false
    },
    "papermill": {
     "duration": 0.204857,
     "end_time": "2022-06-26T07:18:54.947842",
     "exception": false,
     "start_time": "2022-06-26T07:18:54.742985",
     "status": "completed"
    },
    "pycharm": {
     "name": "#%%\n"
    },
    "tags": []
   },
   "outputs": [],
   "source": [
    "market_change_mean = adjusted_prices_df.groupby('Date')['daily_change'].mean()\n",
    "market_change_mean = market_change_mean.rename('market_change_mean')"
   ]
  },
  {
   "cell_type": "code",
   "execution_count": 75,
   "id": "362ad1b9",
   "metadata": {
    "collapsed": false,
    "execution": {
     "iopub.execute_input": "2022-06-26T07:18:54.974654Z",
     "iopub.status.busy": "2022-06-26T07:18:54.974366Z",
     "iopub.status.idle": "2022-06-26T07:18:55.353096Z",
     "shell.execute_reply": "2022-06-26T07:18:55.352405Z"
    },
    "jupyter": {
     "outputs_hidden": false
    },
    "papermill": {
     "duration": 0.394103,
     "end_time": "2022-06-26T07:18:55.355196",
     "exception": false,
     "start_time": "2022-06-26T07:18:54.961093",
     "status": "completed"
    },
    "pycharm": {
     "name": "#%%\n"
    },
    "tags": []
   },
   "outputs": [],
   "source": [
    "all_stocks_df = adjusted_prices_df.join(market_change_mean, on='Date')\n",
    "all_stocks_df['market_gap'] = get_gap_from_market(all_stocks_df)"
   ]
  },
  {
   "cell_type": "code",
   "execution_count": 76,
   "id": "e5d6f1be",
   "metadata": {
    "collapsed": false,
    "execution": {
     "iopub.execute_input": "2022-06-26T07:18:55.382178Z",
     "iopub.status.busy": "2022-06-26T07:18:55.381853Z",
     "iopub.status.idle": "2022-06-26T07:18:55.513297Z",
     "shell.execute_reply": "2022-06-26T07:18:55.512551Z"
    },
    "jupyter": {
     "outputs_hidden": false
    },
    "papermill": {
     "duration": 0.147161,
     "end_time": "2022-06-26T07:18:55.515492",
     "exception": false,
     "start_time": "2022-06-26T07:18:55.368331",
     "status": "completed"
    },
    "pycharm": {
     "name": "#%%\n"
    },
    "tags": []
   },
   "outputs": [],
   "source": [
    "statistics_df = all_stocks_df.groupby(by='SecuritiesCode')['market_gap'].agg(['mean', 'median', 'std'])\n",
    "statistics_df['abs_mean'] = np.abs(statistics_df['mean'])\n",
    "statistics_df.sort_values(by=['abs_mean', 'std'], ascending=True, inplace=True)"
   ]
  },
  {
   "cell_type": "code",
   "execution_count": 77,
   "id": "b4007d20",
   "metadata": {
    "collapsed": false,
    "execution": {
     "iopub.execute_input": "2022-06-26T07:18:55.543522Z",
     "iopub.status.busy": "2022-06-26T07:18:55.542879Z",
     "iopub.status.idle": "2022-06-26T07:18:55.545964Z",
     "shell.execute_reply": "2022-06-26T07:18:55.545440Z"
    },
    "jupyter": {
     "outputs_hidden": false
    },
    "papermill": {
     "duration": 0.018602,
     "end_time": "2022-06-26T07:18:55.547515",
     "exception": false,
     "start_time": "2022-06-26T07:18:55.528913",
     "status": "completed"
    },
    "pycharm": {
     "name": "#%%\n"
    },
    "tags": []
   },
   "outputs": [],
   "source": [
    "# print(statistics_df.head())\n",
    "# statistics_df['std'].hist()"
   ]
  },
  {
   "cell_type": "markdown",
   "id": "50976962",
   "metadata": {
    "papermill": {
     "duration": 0.01262,
     "end_time": "2022-06-26T07:18:55.572357",
     "exception": false,
     "start_time": "2022-06-26T07:18:55.559737",
     "status": "completed"
    },
    "pycharm": {
     "name": "#%% md\n"
    },
    "tags": []
   },
   "source": [
    "The stocks with std around 0 (+-) are those that behave LIKE THE MARKET.\n",
    "We want them to be part of our prediction because they are the least-noisy stocks.\n",
    "\n",
    "Also, get all non-stable stocks (\"extreme\" stocks):\n",
    "These are the stocks from which we want to get the ones which are better/worse than the market"
   ]
  },
  {
   "cell_type": "code",
   "execution_count": 78,
   "id": "252f887e",
   "metadata": {
    "collapsed": false,
    "execution": {
     "iopub.execute_input": "2022-06-26T07:18:55.599432Z",
     "iopub.status.busy": "2022-06-26T07:18:55.598785Z",
     "iopub.status.idle": "2022-06-26T07:18:55.602410Z",
     "shell.execute_reply": "2022-06-26T07:18:55.601846Z"
    },
    "jupyter": {
     "outputs_hidden": false
    },
    "papermill": {
     "duration": 0.018554,
     "end_time": "2022-06-26T07:18:55.604033",
     "exception": false,
     "start_time": "2022-06-26T07:18:55.585479",
     "status": "completed"
    },
    "pycharm": {
     "name": "#%%\n"
    },
    "tags": []
   },
   "outputs": [],
   "source": [
    "stable_stocks_statistics_df = statistics_df[:NUMBER_OF_STABLE_STOCKS]\n",
    "extreme_stocks_statistics_df = statistics_df[NUMBER_OF_STABLE_STOCKS:]"
   ]
  },
  {
   "cell_type": "code",
   "execution_count": 79,
   "id": "c426d6e0",
   "metadata": {
    "collapsed": false,
    "execution": {
     "iopub.execute_input": "2022-06-26T07:18:55.630106Z",
     "iopub.status.busy": "2022-06-26T07:18:55.629642Z",
     "iopub.status.idle": "2022-06-26T07:18:55.844366Z",
     "shell.execute_reply": "2022-06-26T07:18:55.843464Z"
    },
    "jupyter": {
     "outputs_hidden": false
    },
    "papermill": {
     "duration": 0.230684,
     "end_time": "2022-06-26T07:18:55.846879",
     "exception": false,
     "start_time": "2022-06-26T07:18:55.616195",
     "status": "completed"
    },
    "pycharm": {
     "name": "#%%\n"
    },
    "tags": []
   },
   "outputs": [],
   "source": [
    "stable_stocks_df = all_stocks_df[all_stocks_df['SecuritiesCode'].isin(stable_stocks_statistics_df.index)]"
   ]
  },
  {
   "cell_type": "markdown",
   "id": "83b716fe",
   "metadata": {
    "papermill": {
     "duration": 0.012333,
     "end_time": "2022-06-26T07:18:55.872085",
     "exception": false,
     "start_time": "2022-06-26T07:18:55.859752",
     "status": "completed"
    },
    "pycharm": {
     "name": "#%% md\n"
    },
    "tags": []
   },
   "source": [
    "\"Top\": the stocks which are usually \"better\" then the market in terms of daily_change (on average)\n",
    "\"Bottom\": the stocks which are usually \"worse\" then the market in terms of daily_change (on average)"
   ]
  },
  {
   "cell_type": "code",
   "execution_count": 80,
   "id": "61f15158",
   "metadata": {
    "collapsed": false,
    "execution": {
     "iopub.execute_input": "2022-06-26T07:18:55.898182Z",
     "iopub.status.busy": "2022-06-26T07:18:55.897746Z",
     "iopub.status.idle": "2022-06-26T07:18:55.904076Z",
     "shell.execute_reply": "2022-06-26T07:18:55.903213Z"
    },
    "jupyter": {
     "outputs_hidden": false
    },
    "papermill": {
     "duration": 0.021737,
     "end_time": "2022-06-26T07:18:55.906328",
     "exception": false,
     "start_time": "2022-06-26T07:18:55.884591",
     "status": "completed"
    },
    "pycharm": {
     "name": "#%%\n"
    },
    "tags": []
   },
   "outputs": [
    {
     "name": "stdout",
     "output_type": "stream",
     "text": [
      "There are 1086 top_stocks and 389 bottom_stocks\n"
     ]
    }
   ],
   "source": [
    "print(\n",
    "    f\"There are {len(extreme_stocks_statistics_df[extreme_stocks_statistics_df['mean'] > 0])} top_stocks and {len(extreme_stocks_statistics_df[extreme_stocks_statistics_df['mean'] < 0])} bottom_stocks\")"
   ]
  },
  {
   "cell_type": "markdown",
   "id": "c4fcad36",
   "metadata": {
    "papermill": {
     "duration": 0.012859,
     "end_time": "2022-06-26T07:18:55.933231",
     "exception": false,
     "start_time": "2022-06-26T07:18:55.920372",
     "status": "completed"
    },
    "pycharm": {
     "name": "#%% md\n"
    },
    "tags": []
   },
   "source": [
    "## Generate features:"
   ]
  },
  {
   "cell_type": "code",
   "execution_count": 81,
   "id": "e3d0a3dc",
   "metadata": {
    "collapsed": false,
    "execution": {
     "iopub.execute_input": "2022-06-26T07:18:55.959833Z",
     "iopub.status.busy": "2022-06-26T07:18:55.959079Z",
     "iopub.status.idle": "2022-06-26T07:18:55.962485Z",
     "shell.execute_reply": "2022-06-26T07:18:55.961880Z"
    },
    "jupyter": {
     "outputs_hidden": false
    },
    "papermill": {
     "duration": 0.018007,
     "end_time": "2022-06-26T07:18:55.964036",
     "exception": false,
     "start_time": "2022-06-26T07:18:55.946029",
     "status": "completed"
    },
    "pycharm": {
     "name": "#%%\n"
    },
    "tags": []
   },
   "outputs": [],
   "source": [
    "# len(set(extreme_stocks_statistics_df.index)) + len(set(stable_stocks_statistics_df.index))"
   ]
  },
  {
   "cell_type": "code",
   "execution_count": 82,
   "id": "29163d96",
   "metadata": {
    "collapsed": false,
    "execution": {
     "iopub.execute_input": "2022-06-26T07:18:55.989842Z",
     "iopub.status.busy": "2022-06-26T07:18:55.989352Z",
     "iopub.status.idle": "2022-06-26T07:18:56.104596Z",
     "shell.execute_reply": "2022-06-26T07:18:56.103969Z"
    },
    "jupyter": {
     "outputs_hidden": false
    },
    "papermill": {
     "duration": 0.130537,
     "end_time": "2022-06-26T07:18:56.106621",
     "exception": false,
     "start_time": "2022-06-26T07:18:55.976084",
     "status": "completed"
    },
    "pycharm": {
     "name": "#%%\n"
    },
    "tags": []
   },
   "outputs": [],
   "source": [
    "extreme_stocks_df = all_stocks_df[all_stocks_df['SecuritiesCode'].isin(set(extreme_stocks_statistics_df.index))]"
   ]
  },
  {
   "cell_type": "code",
   "execution_count": 83,
   "id": "ae1d28ec",
   "metadata": {
    "collapsed": false,
    "execution": {
     "iopub.execute_input": "2022-06-26T07:18:56.134088Z",
     "iopub.status.busy": "2022-06-26T07:18:56.133650Z",
     "iopub.status.idle": "2022-06-26T07:19:13.235517Z",
     "shell.execute_reply": "2022-06-26T07:19:13.234398Z"
    },
    "jupyter": {
     "outputs_hidden": false
    },
    "papermill": {
     "duration": 17.117844,
     "end_time": "2022-06-26T07:19:13.237455",
     "exception": false,
     "start_time": "2022-06-26T07:18:56.119611",
     "status": "completed"
    },
    "pycharm": {
     "name": "#%%\n"
    },
    "tags": []
   },
   "outputs": [],
   "source": [
    "extreme_stocks_features_df = get_features_for_prediction(extreme_stocks_df)\n",
    "extreme_stocks_features_df = extreme_stocks_features_df.sort_values(by=['SecuritiesCode', 'Date'])"
   ]
  },
  {
   "cell_type": "code",
   "execution_count": 84,
   "id": "9b49653a",
   "metadata": {
    "collapsed": false,
    "execution": {
     "iopub.execute_input": "2022-06-26T07:19:13.264366Z",
     "iopub.status.busy": "2022-06-26T07:19:13.264042Z",
     "iopub.status.idle": "2022-06-26T07:19:13.287367Z",
     "shell.execute_reply": "2022-06-26T07:19:13.286641Z"
    },
    "jupyter": {
     "outputs_hidden": false
    },
    "papermill": {
     "duration": 0.038689,
     "end_time": "2022-06-26T07:19:13.289051",
     "exception": false,
     "start_time": "2022-06-26T07:19:13.250362",
     "status": "completed"
    },
    "pycharm": {
     "name": "#%%\n"
    },
    "tags": []
   },
   "outputs": [],
   "source": [
    "# extreme_stocks_features_df"
   ]
  },
  {
   "cell_type": "markdown",
   "id": "4faf6bd9",
   "metadata": {
    "papermill": {
     "duration": 0.012636,
     "end_time": "2022-06-26T07:19:13.314916",
     "exception": false,
     "start_time": "2022-06-26T07:19:13.302280",
     "status": "completed"
    },
    "pycharm": {
     "name": "#%% md\n"
    },
    "tags": []
   },
   "source": [
    "# MODEL"
   ]
  },
  {
   "cell_type": "code",
   "execution_count": 85,
   "id": "e80a2d6f",
   "metadata": {
    "collapsed": false,
    "execution": {
     "iopub.execute_input": "2022-06-26T07:19:13.342906Z",
     "iopub.status.busy": "2022-06-26T07:19:13.342450Z",
     "iopub.status.idle": "2022-06-26T07:19:13.346900Z",
     "shell.execute_reply": "2022-06-26T07:19:13.346198Z"
    },
    "jupyter": {
     "outputs_hidden": false
    },
    "papermill": {
     "duration": 0.020178,
     "end_time": "2022-06-26T07:19:13.348789",
     "exception": false,
     "start_time": "2022-06-26T07:19:13.328611",
     "status": "completed"
    },
    "pycharm": {
     "name": "#%%\n"
    },
    "tags": []
   },
   "outputs": [],
   "source": [
    "LGBM_PARAMS = {\n",
    "    'seed': 42,\n",
    "    'n_jobs': -1,\n",
    "}\n",
    "\n",
    "FEATURE_COLUMNS = [\n",
    "    'return_10_days',\n",
    "    'volume_10_days',\n",
    "    'ema_10_days',\n",
    "    'return_21_days',\n",
    "    'volume_21_days',\n",
    "    'ema_21_days',\n",
    "    'return_63_days',\n",
    "    'volume_63_days',\n",
    "    'ema_63_days'\n",
    "]"
   ]
  },
  {
   "cell_type": "code",
   "execution_count": 86,
   "id": "fb0697cc",
   "metadata": {
    "collapsed": false,
    "execution": {
     "iopub.execute_input": "2022-06-26T07:19:13.376242Z",
     "iopub.status.busy": "2022-06-26T07:19:13.375950Z",
     "iopub.status.idle": "2022-06-26T07:19:13.390405Z",
     "shell.execute_reply": "2022-06-26T07:19:13.389794Z"
    },
    "jupyter": {
     "outputs_hidden": false
    },
    "papermill": {
     "duration": 0.030412,
     "end_time": "2022-06-26T07:19:13.391988",
     "exception": false,
     "start_time": "2022-06-26T07:19:13.361576",
     "status": "completed"
    },
    "pycharm": {
     "name": "#%%\n"
    },
    "tags": []
   },
   "outputs": [],
   "source": [
    "def get_features_and_label(df):\n",
    "    \"\"\"\n",
    "    Args:\n",
    "        df (pd.DataFrame): loaded price data with features\n",
    "    Returns:\n",
    "        train_X (pd.DataFrame): training data\n",
    "        train_y (pd.DataFrame): label for train_X\n",
    "        test_X (pd.DataFrame): test data\n",
    "        test_y (pd.DataFrame): label for test_X\n",
    "    \"\"\"\n",
    "    # split data into TRAIN and TEST\n",
    "    TRAIN_END = \"2021-12-03\"\n",
    "    # We put a week gap between TRAIN_END and TEST_START\n",
    "    # to avoid leakage of test data information from label\n",
    "    TEST_START = \"2021-12-06\"\n",
    "\n",
    "    # to store splited data\n",
    "    trains_X, tests_X = [], []\n",
    "    trains_y, tests_y = [], []\n",
    "\n",
    "    # generate feature one by one\n",
    "    for code in df['SecuritiesCode'].unique():\n",
    "        feats = df[df['SecuritiesCode'] == code].dropna().drop(columns='Target')\n",
    "        labels = df.loc[df['SecuritiesCode'] == code, ['SecuritiesCode', 'Target']].dropna()\n",
    "\n",
    "        if feats.shape[0] > 0 and labels.shape[0] > 0:\n",
    "            # align label and feature indexes\n",
    "            labels = labels.loc[labels.index.isin(feats.index)]\n",
    "            feats = feats.loc[feats.index.isin(labels.index)]\n",
    "\n",
    "            assert (labels.loc[:, 'SecuritiesCode'] == feats.loc[:, 'SecuritiesCode']).all()\n",
    "            labels = labels['Target']\n",
    "\n",
    "            # split data into TRAIN and TEST\n",
    "            _train_X = feats[:TRAIN_END]\n",
    "            _test_X = feats[TEST_START:]\n",
    "\n",
    "            _train_y = labels[:TRAIN_END]\n",
    "            _test_y = labels[TEST_START:]\n",
    "\n",
    "            assert len(_train_X) == len(_train_y)\n",
    "            assert len(_test_X) == len(_test_y)\n",
    "\n",
    "            # store features\n",
    "            trains_X.append(_train_X)\n",
    "            tests_X.append(_test_X)\n",
    "            # store labels\n",
    "            trains_y.append(_train_y)\n",
    "            tests_y.append(_test_y)\n",
    "\n",
    "    # combine features for each codes\n",
    "    train_X = pd.concat(trains_X)\n",
    "    test_X = pd.concat(tests_X)\n",
    "    # combine label for each codes\n",
    "    train_y = pd.concat(trains_y)\n",
    "    test_y = pd.concat(tests_y)\n",
    "\n",
    "    return train_X, train_y, test_X, test_y\n",
    "\n",
    "\n",
    "def get_daily_ranked_results(df: pd.DataFrame) -> [pd.DataFrame, pd.DataFrame]:\n",
    "    # generate feature/label\n",
    "    train_X, train_y, test_X, test_y = get_features_and_label(df)\n",
    "    # initialize model\n",
    "    pred_model = LGBMRegressor(**LGBM_PARAMS)\n",
    "    # train\n",
    "    pred_model.fit(train_X[FEATURE_COLUMNS].values, train_y)\n",
    "    # prepare result data\n",
    "    result = test_X[['SecuritiesCode']].copy()\n",
    "    # predict\n",
    "    result.loc[:, 'predict'] = pred_model.predict(test_X[FEATURE_COLUMNS])\n",
    "    # actual result\n",
    "    result.loc[:, 'Target'] = test_y.values\n",
    "    # sort results by date and ascending/descending \"predict\", depending on which group we want:\n",
    "    # the higher the \"predict\" the more likely to BUY the stock\n",
    "    # the lower the \"predict\" the more likely to SELL the stock\n",
    "    result = result.sort_values(['Date', 'predict'], ascending=[True, False])\n",
    "    # set_rank\n",
    "    ranked_results = result.groupby('Date').apply(set_rank)\n",
    "    # Drop unnecessary columns. Keep only those which are relevant for submission:\n",
    "    ranked_results_no_labels_df = ranked_results.drop(columns=['predict'])\n",
    "\n",
    "    group = ranked_results_no_labels_df.groupby('Date')\n",
    "    return [group.head(NUMBER_OF_DAILY_CHOSEN_STOCKS), group.tail(NUMBER_OF_DAILY_CHOSEN_STOCKS)]"
   ]
  },
  {
   "cell_type": "code",
   "execution_count": 87,
   "id": "f55638ac",
   "metadata": {
    "collapsed": false,
    "execution": {
     "iopub.execute_input": "2022-06-26T07:19:13.419505Z",
     "iopub.status.busy": "2022-06-26T07:19:13.419238Z",
     "iopub.status.idle": "2022-06-26T07:19:31.508163Z",
     "shell.execute_reply": "2022-06-26T07:19:31.507314Z"
    },
    "jupyter": {
     "outputs_hidden": false
    },
    "papermill": {
     "duration": 18.105454,
     "end_time": "2022-06-26T07:19:31.510475",
     "exception": false,
     "start_time": "2022-06-26T07:19:13.405021",
     "status": "completed"
    },
    "pycharm": {
     "name": "#%%\n"
    },
    "tags": []
   },
   "outputs": [],
   "source": [
    "top_daily_chosen_stocks_df, bottom_daily_chosen_stocks_df = get_daily_ranked_results(extreme_stocks_features_df)"
   ]
  },
  {
   "cell_type": "code",
   "execution_count": 88,
   "id": "ff2da221",
   "metadata": {
    "collapsed": false,
    "execution": {
     "iopub.execute_input": "2022-06-26T07:19:31.538953Z",
     "iopub.status.busy": "2022-06-26T07:19:31.538610Z",
     "iopub.status.idle": "2022-06-26T07:19:48.554204Z",
     "shell.execute_reply": "2022-06-26T07:19:48.553243Z"
    },
    "jupyter": {
     "outputs_hidden": false
    },
    "papermill": {
     "duration": 17.031855,
     "end_time": "2022-06-26T07:19:48.556531",
     "exception": false,
     "start_time": "2022-06-26T07:19:31.524676",
     "status": "completed"
    },
    "pycharm": {
     "name": "#%%\n"
    },
    "tags": []
   },
   "outputs": [],
   "source": [
    "def get_final_ranks_df(top_df: pd.DataFrame, stable_df: pd.DataFrame,\n",
    "                       bottom_df: pd.DataFrame) -> pd.DataFrame:\n",
    "    result_df = pd.DataFrame()\n",
    "    stable_stock_list = list(set(stable_df['SecuritiesCode']))\n",
    "\n",
    "    for d in top_df.index.unique():\n",
    "        first_half, second_half = random_split_of_list_into_halves(stable_stock_list)\n",
    "        top_stocks = top_df.loc[top_df.index == d, ['SecuritiesCode']].values.flatten()\n",
    "        bottom_stocks = bottom_df.loc[bottom_df.index == d, ['SecuritiesCode']].values.flatten()\n",
    "        remaining_stocks = list(\n",
    "            set(all_stocks_list) - set(top_stocks) - set(bottom_stocks) - set(first_half) - set(second_half))\n",
    "\n",
    "        codes = {'SecuritiesCode': list(\n",
    "            np.concatenate((top_stocks, first_half, remaining_stocks, second_half, bottom_stocks)))}\n",
    "        daily_df = pd.DataFrame(data=codes)\n",
    "        daily_df['Date'] = d\n",
    "        daily_df = daily_df.set_index('Date')\n",
    "        result_df = pd.concat([result_df, daily_df])\n",
    "\n",
    "    return result_df\n",
    "\n",
    "\n",
    "final_ranks_df = get_final_ranks_df(top_daily_chosen_stocks_df, stable_stocks_df, bottom_daily_chosen_stocks_df)"
   ]
  },
  {
   "cell_type": "code",
   "execution_count": null,
   "outputs": [
    {
     "data": {
      "text/plain": "            SecuritiesCode\nDate                      \n2021-12-06            1821\n2021-12-06            8558\n2021-12-06            6310\n2021-12-06            2288\n2021-12-06            8061\n...                    ...\n2022-05-27            2002\n2022-05-27            2475\n2022-05-27            1885\n2022-05-27            2395\n2022-05-27            5726\n\n[230000 rows x 1 columns]",
      "text/html": "<div>\n<style scoped>\n    .dataframe tbody tr th:only-of-type {\n        vertical-align: middle;\n    }\n\n    .dataframe tbody tr th {\n        vertical-align: top;\n    }\n\n    .dataframe thead th {\n        text-align: right;\n    }\n</style>\n<table border=\"1\" class=\"dataframe\">\n  <thead>\n    <tr style=\"text-align: right;\">\n      <th></th>\n      <th>SecuritiesCode</th>\n    </tr>\n    <tr>\n      <th>Date</th>\n      <th></th>\n    </tr>\n  </thead>\n  <tbody>\n    <tr>\n      <th>2021-12-06</th>\n      <td>1821</td>\n    </tr>\n    <tr>\n      <th>2021-12-06</th>\n      <td>8558</td>\n    </tr>\n    <tr>\n      <th>2021-12-06</th>\n      <td>6310</td>\n    </tr>\n    <tr>\n      <th>2021-12-06</th>\n      <td>2288</td>\n    </tr>\n    <tr>\n      <th>2021-12-06</th>\n      <td>8061</td>\n    </tr>\n    <tr>\n      <th>...</th>\n      <td>...</td>\n    </tr>\n    <tr>\n      <th>2022-05-27</th>\n      <td>2002</td>\n    </tr>\n    <tr>\n      <th>2022-05-27</th>\n      <td>2475</td>\n    </tr>\n    <tr>\n      <th>2022-05-27</th>\n      <td>1885</td>\n    </tr>\n    <tr>\n      <th>2022-05-27</th>\n      <td>2395</td>\n    </tr>\n    <tr>\n      <th>2022-05-27</th>\n      <td>5726</td>\n    </tr>\n  </tbody>\n</table>\n<p>230000 rows × 1 columns</p>\n</div>"
     },
     "execution_count": 89,
     "metadata": {},
     "output_type": "execute_result"
    }
   ],
   "source": [
    "# final_ranks_df"
   ],
   "metadata": {
    "collapsed": false,
    "pycharm": {
     "name": "#%%\n"
    }
   }
  },
  {
   "cell_type": "markdown",
   "source": [
    "## re-rank concatenated daily"
   ],
   "metadata": {
    "collapsed": false,
    "pycharm": {
     "name": "#%% md\n"
    }
   }
  },
  {
   "cell_type": "code",
   "execution_count": 90,
   "id": "192fe542",
   "metadata": {
    "collapsed": false,
    "execution": {
     "iopub.execute_input": "2022-06-26T07:19:48.611316Z",
     "iopub.status.busy": "2022-06-26T07:19:48.610787Z",
     "iopub.status.idle": "2022-06-26T07:19:48.689679Z",
     "shell.execute_reply": "2022-06-26T07:19:48.689071Z"
    },
    "jupyter": {
     "outputs_hidden": false
    },
    "papermill": {
     "duration": 0.094949,
     "end_time": "2022-06-26T07:19:48.691471",
     "exception": false,
     "start_time": "2022-06-26T07:19:48.596522",
     "status": "completed"
    },
    "pycharm": {
     "name": "#%%\n"
    },
    "tags": []
   },
   "outputs": [],
   "source": [
    "submission_df = final_ranks_df.groupby('Date').apply(set_rank).reset_index(drop=False)"
   ]
  },
  {
   "cell_type": "code",
   "execution_count": 91,
   "outputs": [],
   "source": [
    "# submission_df"
   ],
   "metadata": {
    "collapsed": false,
    "pycharm": {
     "name": "#%%\n"
    }
   }
  },
  {
   "cell_type": "code",
   "execution_count": 92,
   "id": "d66778fa",
   "metadata": {
    "collapsed": false,
    "execution": {
     "iopub.execute_input": "2022-06-26T07:19:48.719142Z",
     "iopub.status.busy": "2022-06-26T07:19:48.718819Z",
     "iopub.status.idle": "2022-06-26T07:19:48.722305Z",
     "shell.execute_reply": "2022-06-26T07:19:48.721591Z"
    },
    "jupyter": {
     "outputs_hidden": false
    },
    "papermill": {
     "duration": 0.019429,
     "end_time": "2022-06-26T07:19:48.724226",
     "exception": false,
     "start_time": "2022-06-26T07:19:48.704797",
     "status": "completed"
    },
    "pycharm": {
     "name": "#%%\n"
    },
    "tags": []
   },
   "outputs": [],
   "source": [
    "# submission_df.Date.value_counts().unique()  # 2000 every day"
   ]
  },
  {
   "cell_type": "code",
   "execution_count": 93,
   "id": "43c099ca",
   "metadata": {
    "collapsed": false,
    "execution": {
     "iopub.execute_input": "2022-06-26T07:19:48.750559Z",
     "iopub.status.busy": "2022-06-26T07:19:48.750288Z",
     "iopub.status.idle": "2022-06-26T07:19:48.753412Z",
     "shell.execute_reply": "2022-06-26T07:19:48.752631Z"
    },
    "jupyter": {
     "outputs_hidden": false
    },
    "papermill": {
     "duration": 0.018241,
     "end_time": "2022-06-26T07:19:48.755021",
     "exception": false,
     "start_time": "2022-06-26T07:19:48.736780",
     "status": "completed"
    },
    "pycharm": {
     "name": "#%%\n"
    },
    "tags": []
   },
   "outputs": [],
   "source": [
    "# submission_df.to_csv('submission.csv', index=False)"
   ]
  },
  {
   "cell_type": "code",
   "execution_count": 94,
   "id": "e6893b50",
   "metadata": {
    "execution": {
     "iopub.execute_input": "2022-06-26T07:19:48.782870Z",
     "iopub.status.busy": "2022-06-26T07:19:48.782348Z",
     "iopub.status.idle": "2022-06-26T07:19:48.785443Z",
     "shell.execute_reply": "2022-06-26T07:19:48.784956Z"
    },
    "papermill": {
     "duration": 0.018487,
     "end_time": "2022-06-26T07:19:48.786827",
     "exception": false,
     "start_time": "2022-06-26T07:19:48.768340",
     "status": "completed"
    },
    "tags": [],
    "pycharm": {
     "name": "#%%\n"
    }
   },
   "outputs": [],
   "source": [
    "# submission_df = pd.read_csv('submission.csv')"
   ]
  },
  {
   "cell_type": "markdown",
   "id": "233719db",
   "metadata": {
    "papermill": {
     "duration": 0.013389,
     "end_time": "2022-06-26T07:19:48.812949",
     "exception": false,
     "start_time": "2022-06-26T07:19:48.799560",
     "status": "completed"
    },
    "pycharm": {
     "name": "#%% md\n"
    },
    "tags": []
   },
   "source": [
    "# SUBMIT\n",
    "Will not work on local run!\n",
    "Must be run through Kaggle's Kernel - open a notebook there and copy this notebook\n",
    "\n",
    "You will get an error if you:\n",
    "- Use ranks that are below zero or greater than or equal to the number of stocks for a given date.\n",
    "- Submit any duplicated ranks.\n",
    "- Change the order of the rows."
   ]
  },
  {
   "cell_type": "code",
   "execution_count": 95,
   "id": "a4b6ce41",
   "metadata": {
    "collapsed": false,
    "execution": {
     "iopub.execute_input": "2022-06-26T07:19:48.840112Z",
     "iopub.status.busy": "2022-06-26T07:19:48.839649Z",
     "iopub.status.idle": "2022-06-26T07:19:48.845427Z",
     "shell.execute_reply": "2022-06-26T07:19:48.844963Z"
    },
    "jupyter": {
     "outputs_hidden": false
    },
    "papermill": {
     "duration": 0.021278,
     "end_time": "2022-06-26T07:19:48.846874",
     "exception": false,
     "start_time": "2022-06-26T07:19:48.825596",
     "status": "completed"
    },
    "pycharm": {
     "name": "#%%\n"
    },
    "tags": []
   },
   "outputs": [],
   "source": [
    "def predict(df, prices, sample):\n",
    "    \"\"\"DONT SORT BY RANK\"\"\"\n",
    "    ff = df[df['Date'] == prices['Date'].iloc[0]]\n",
    "    ff = ff[ff['SecuritiesCode'].isin(df['SecuritiesCode'].unique())]\n",
    "    mp = ff.set_index('SecuritiesCode')['Rank']\n",
    "    sample = sample[sample['SecuritiesCode'].isin(ff['SecuritiesCode'].unique())].copy()\n",
    "    sample['Rank'] = sample.SecuritiesCode.map(mp)\n",
    "    sample = sample.reset_index(drop=True)\n",
    "    # assert sample['Rank'].min() == 0\n",
    "    # assert sample['Rank'].max() == 1999\n",
    "\n",
    "    return sample"
   ]
  },
  {
   "cell_type": "code",
   "execution_count": 96,
   "id": "308999b9",
   "metadata": {
    "collapsed": false,
    "execution": {
     "iopub.execute_input": "2022-06-26T07:19:48.873990Z",
     "iopub.status.busy": "2022-06-26T07:19:48.873403Z",
     "iopub.status.idle": "2022-06-26T07:19:48.876222Z",
     "shell.execute_reply": "2022-06-26T07:19:48.875677Z"
    },
    "jupyter": {
     "outputs_hidden": false
    },
    "papermill": {
     "duration": 0.018058,
     "end_time": "2022-06-26T07:19:48.877745",
     "exception": false,
     "start_time": "2022-06-26T07:19:48.859687",
     "status": "completed"
    },
    "pycharm": {
     "name": "#%%\n"
    },
    "tags": []
   },
   "outputs": [],
   "source": [
    "# test_prices = pd.read_csv('../prices_1.csv')\n",
    "# sample_prediction = pd.read_csv('../sample_prediction_1.csv')"
   ]
  },
  {
   "cell_type": "code",
   "execution_count": 97,
   "outputs": [],
   "source": [
    "# test_prices"
   ],
   "metadata": {
    "collapsed": false,
    "pycharm": {
     "name": "#%%\n"
    }
   }
  },
  {
   "cell_type": "code",
   "execution_count": 98,
   "outputs": [],
   "source": [
    "# sample_prediction = predict(submission_df, test_prices, sample_prediction)"
   ],
   "metadata": {
    "collapsed": false,
    "pycharm": {
     "name": "#%%\n"
    }
   }
  },
  {
   "cell_type": "code",
   "execution_count": 99,
   "outputs": [],
   "source": [
    "# sample_prediction"
   ],
   "metadata": {
    "collapsed": false,
    "pycharm": {
     "name": "#%%\n"
    }
   }
  },
  {
   "cell_type": "code",
   "execution_count": 100,
   "id": "f034572e",
   "metadata": {
    "collapsed": false,
    "execution": {
     "iopub.execute_input": "2022-06-26T07:19:48.904417Z",
     "iopub.status.busy": "2022-06-26T07:19:48.904081Z",
     "iopub.status.idle": "2022-06-26T07:19:48.925693Z",
     "shell.execute_reply": "2022-06-26T07:19:48.925170Z"
    },
    "jupyter": {
     "outputs_hidden": false
    },
    "papermill": {
     "duration": 0.036988,
     "end_time": "2022-06-26T07:19:48.927233",
     "exception": false,
     "start_time": "2022-06-26T07:19:48.890245",
     "status": "completed"
    },
    "pycharm": {
     "name": "#%%\n"
    },
    "tags": []
   },
   "outputs": [
    {
     "ename": "ModuleNotFoundError",
     "evalue": "No module named 'jpx_tokyo_market_prediction'",
     "output_type": "error",
     "traceback": [
      "\u001B[1;31m---------------------------------------------------------------------------\u001B[0m",
      "\u001B[1;31mModuleNotFoundError\u001B[0m                       Traceback (most recent call last)",
      "\u001B[1;32m~\\AppData\\Local\\Temp/ipykernel_15356/3904038219.py\u001B[0m in \u001B[0;36m<module>\u001B[1;34m\u001B[0m\n\u001B[1;32m----> 1\u001B[1;33m \u001B[1;32mimport\u001B[0m \u001B[0mjpx_tokyo_market_prediction\u001B[0m\u001B[1;33m\u001B[0m\u001B[1;33m\u001B[0m\u001B[0m\n\u001B[0m\u001B[0;32m      2\u001B[0m \u001B[1;33m\u001B[0m\u001B[0m\n\u001B[0;32m      3\u001B[0m \u001B[0menv\u001B[0m \u001B[1;33m=\u001B[0m \u001B[0mjpx_tokyo_market_prediction\u001B[0m\u001B[1;33m.\u001B[0m\u001B[0mmake_env\u001B[0m\u001B[1;33m(\u001B[0m\u001B[1;33m)\u001B[0m  \u001B[1;31m# initialize the environment\u001B[0m\u001B[1;33m\u001B[0m\u001B[1;33m\u001B[0m\u001B[0m\n\u001B[0;32m      4\u001B[0m \u001B[0miter_test\u001B[0m \u001B[1;33m=\u001B[0m \u001B[0menv\u001B[0m\u001B[1;33m.\u001B[0m\u001B[0miter_test\u001B[0m\u001B[1;33m(\u001B[0m\u001B[1;33m)\u001B[0m  \u001B[1;31m# an iterator which loops over the test files\u001B[0m\u001B[1;33m\u001B[0m\u001B[1;33m\u001B[0m\u001B[0m\n",
      "\u001B[1;31mModuleNotFoundError\u001B[0m: No module named 'jpx_tokyo_market_prediction'"
     ]
    }
   ],
   "source": [
    "import jpx_tokyo_market_prediction\n",
    "\n",
    "env = jpx_tokyo_market_prediction.make_env()  # initialize the environment\n",
    "iter_test = env.iter_test()  # an iterator which loops over the test files"
   ]
  },
  {
   "cell_type": "code",
   "execution_count": null,
   "id": "0031c3b5",
   "metadata": {
    "collapsed": false,
    "execution": {
     "iopub.execute_input": "2022-06-26T07:19:48.954737Z",
     "iopub.status.busy": "2022-06-26T07:19:48.954463Z",
     "iopub.status.idle": "2022-06-26T07:19:49.172457Z",
     "shell.execute_reply": "2022-06-26T07:19:49.171607Z"
    },
    "jupyter": {
     "outputs_hidden": false
    },
    "papermill": {
     "duration": 0.233964,
     "end_time": "2022-06-26T07:19:49.174622",
     "exception": false,
     "start_time": "2022-06-26T07:19:48.940658",
     "status": "completed"
    },
    "pycharm": {
     "name": "#%%\n"
    },
    "tags": []
   },
   "outputs": [],
   "source": [
    "for prices, _, _, _, _, sample_prediction in iter_test:\n",
    "    # prices is a single-day DataFrame with columns 'Date', 'SecuritiesCode', 'Open', 'Close', 'Volume'\n",
    "    # sample_prediction is a single-day DataFrame with columns 'Date', 'SecuritiesCode', 'Rank'\n",
    "    sample_prediction = predict(submission_df, prices, sample_prediction)\n",
    "    env.predict(sample_prediction)"
   ]
  },
  {
   "cell_type": "code",
   "execution_count": null,
   "id": "1bec7b76",
   "metadata": {
    "collapsed": false,
    "execution": {
     "iopub.execute_input": "2022-06-26T07:19:49.204946Z",
     "iopub.status.busy": "2022-06-26T07:19:49.204567Z",
     "iopub.status.idle": "2022-06-26T07:19:49.895194Z",
     "shell.execute_reply": "2022-06-26T07:19:49.894212Z"
    },
    "jupyter": {
     "outputs_hidden": false
    },
    "papermill": {
     "duration": 0.708223,
     "end_time": "2022-06-26T07:19:49.897254",
     "exception": false,
     "start_time": "2022-06-26T07:19:49.189031",
     "status": "completed"
    },
    "pycharm": {
     "name": "#%%\n"
    },
    "tags": []
   },
   "outputs": [],
   "source": [
    "! head submission.csv"
   ]
  }
 ],
 "metadata": {
  "kernelspec": {
   "display_name": "Python 3",
   "language": "python",
   "name": "python3"
  },
  "language_info": {
   "codemirror_mode": {
    "name": "ipython",
    "version": 3
   },
   "file_extension": ".py",
   "mimetype": "text/x-python",
   "name": "python",
   "nbconvert_exporter": "python",
   "pygments_lexer": "ipython3",
   "version": "3.7.12"
  },
  "papermill": {
   "default_parameters": {},
   "duration": 125.23349,
   "end_time": "2022-06-26T07:19:50.731075",
   "environment_variables": {},
   "exception": null,
   "input_path": "__notebook__.ipynb",
   "output_path": "__notebook__.ipynb",
   "parameters": {},
   "start_time": "2022-06-26T07:17:45.497585",
   "version": "2.3.4"
  }
 },
 "nbformat": 4,
 "nbformat_minor": 5
}