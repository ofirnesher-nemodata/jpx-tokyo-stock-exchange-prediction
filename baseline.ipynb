{
 "cells": [
  {
   "cell_type": "markdown",
   "source": [
    "# IMPORTS"
   ],
   "metadata": {
    "collapsed": false,
    "pycharm": {
     "name": "#%% md\n"
    }
   }
  },
  {
   "cell_type": "code",
   "execution_count": 105,
   "outputs": [],
   "source": [
    "import re\n",
    "import pandas as pd\n",
    "import numpy as np\n",
    "import matplotlib.pyplot as plt"
   ],
   "metadata": {
    "collapsed": false,
    "pycharm": {
     "name": "#%%\n"
    }
   }
  },
  {
   "cell_type": "markdown",
   "source": [
    "# CONSTANTS"
   ],
   "metadata": {
    "collapsed": false,
    "pycharm": {
     "name": "#%% md\n"
    }
   }
  },
  {
   "cell_type": "code",
   "execution_count": 106,
   "outputs": [],
   "source": [
    "TRAIN_FILES_PATH = 'jpx-tokyo-stock-exchange-prediction/train_files'\n",
    "NUMBER_OF_STABLE_STOCKS = 370"
   ],
   "metadata": {
    "collapsed": false,
    "pycharm": {
     "name": "#%%\n"
    }
   }
  },
  {
   "cell_type": "code",
   "execution_count": 106,
   "outputs": [],
   "source": [],
   "metadata": {
    "collapsed": false,
    "pycharm": {
     "name": "#%%\n"
    }
   }
  },
  {
   "cell_type": "code",
   "execution_count": 107,
   "id": "3158ae76-4dc2-466d-a7fa-e7caebac672b",
   "metadata": {
    "pycharm": {
     "name": "#%%\n"
    }
   },
   "outputs": [
    {
     "data": {
      "text/plain": "          row_id        date  securities_code    open    high     low   close  \\\n0  20170104_1301  2017-01-04             1301  2734.0  2755.0  2730.0  2742.0   \n1  20170104_1332  2017-01-04             1332   568.0   576.0   563.0   571.0   \n2  20170104_1333  2017-01-04             1333  3150.0  3210.0  3140.0  3210.0   \n3  20170104_1376  2017-01-04             1376  1510.0  1550.0  1510.0  1550.0   \n4  20170104_1377  2017-01-04             1377  3270.0  3350.0  3270.0  3330.0   \n\n    volume  adjustment_factor  expected_dividend  supervision_flag    target  \n0    31400                1.0                NaN             False  0.000730  \n1  2798500                1.0                NaN             False  0.012324  \n2   270800                1.0                NaN             False  0.006154  \n3    11300                1.0                NaN             False  0.011053  \n4   150800                1.0                NaN             False  0.003026  ",
      "text/html": "<div>\n<style scoped>\n    .dataframe tbody tr th:only-of-type {\n        vertical-align: middle;\n    }\n\n    .dataframe tbody tr th {\n        vertical-align: top;\n    }\n\n    .dataframe thead th {\n        text-align: right;\n    }\n</style>\n<table border=\"1\" class=\"dataframe\">\n  <thead>\n    <tr style=\"text-align: right;\">\n      <th></th>\n      <th>row_id</th>\n      <th>date</th>\n      <th>securities_code</th>\n      <th>open</th>\n      <th>high</th>\n      <th>low</th>\n      <th>close</th>\n      <th>volume</th>\n      <th>adjustment_factor</th>\n      <th>expected_dividend</th>\n      <th>supervision_flag</th>\n      <th>target</th>\n    </tr>\n  </thead>\n  <tbody>\n    <tr>\n      <th>0</th>\n      <td>20170104_1301</td>\n      <td>2017-01-04</td>\n      <td>1301</td>\n      <td>2734.0</td>\n      <td>2755.0</td>\n      <td>2730.0</td>\n      <td>2742.0</td>\n      <td>31400</td>\n      <td>1.0</td>\n      <td>NaN</td>\n      <td>False</td>\n      <td>0.000730</td>\n    </tr>\n    <tr>\n      <th>1</th>\n      <td>20170104_1332</td>\n      <td>2017-01-04</td>\n      <td>1332</td>\n      <td>568.0</td>\n      <td>576.0</td>\n      <td>563.0</td>\n      <td>571.0</td>\n      <td>2798500</td>\n      <td>1.0</td>\n      <td>NaN</td>\n      <td>False</td>\n      <td>0.012324</td>\n    </tr>\n    <tr>\n      <th>2</th>\n      <td>20170104_1333</td>\n      <td>2017-01-04</td>\n      <td>1333</td>\n      <td>3150.0</td>\n      <td>3210.0</td>\n      <td>3140.0</td>\n      <td>3210.0</td>\n      <td>270800</td>\n      <td>1.0</td>\n      <td>NaN</td>\n      <td>False</td>\n      <td>0.006154</td>\n    </tr>\n    <tr>\n      <th>3</th>\n      <td>20170104_1376</td>\n      <td>2017-01-04</td>\n      <td>1376</td>\n      <td>1510.0</td>\n      <td>1550.0</td>\n      <td>1510.0</td>\n      <td>1550.0</td>\n      <td>11300</td>\n      <td>1.0</td>\n      <td>NaN</td>\n      <td>False</td>\n      <td>0.011053</td>\n    </tr>\n    <tr>\n      <th>4</th>\n      <td>20170104_1377</td>\n      <td>2017-01-04</td>\n      <td>1377</td>\n      <td>3270.0</td>\n      <td>3350.0</td>\n      <td>3270.0</td>\n      <td>3330.0</td>\n      <td>150800</td>\n      <td>1.0</td>\n      <td>NaN</td>\n      <td>False</td>\n      <td>0.003026</td>\n    </tr>\n  </tbody>\n</table>\n</div>"
     },
     "execution_count": 107,
     "metadata": {},
     "output_type": "execute_result"
    }
   ],
   "source": [
    "stock_prices = pd.read_csv(f'{TRAIN_FILES_PATH}/stock_prices.csv')\n",
    "stock_prices.columns = [re.sub(r'(?<!^)(?=[A-Z])', '_', x).lower() for x in stock_prices.columns]\n",
    "stock_prices.head()"
   ]
  },
  {
   "cell_type": "code",
   "execution_count": 108,
   "id": "2100cea6-2e6a-4790-9f8e-d3b8089d43be",
   "metadata": {
    "pycharm": {
     "name": "#%%\n"
    }
   },
   "outputs": [],
   "source": [
    "delisted_stocks = stock_prices[stock_prices['supervision_flag'] == True]['securities_code'].values"
   ]
  },
  {
   "cell_type": "code",
   "execution_count": 109,
   "id": "119b1b95-4dc4-435d-9822-2af68a7ad4e1",
   "metadata": {
    "pycharm": {
     "name": "#%%\n"
    }
   },
   "outputs": [],
   "source": [
    "def get_stocks_traded_every_day(stock_prices_df):\n",
    "    \"\"\"Return stocks that are traded in every trading day in data and remove others\"\"\"\n",
    "    traded_stock_per_date = stock_prices_df['date'].value_counts()\n",
    "    stocks_by_descending_trade_count = stock_prices_df['securities_code'].value_counts()\n",
    "    return stocks_by_descending_trade_count[stocks_by_descending_trade_count == len(traded_stock_per_date)].index.values\n",
    "\n",
    "\n",
    "daily_traded_stocks = get_stocks_traded_every_day(stock_prices)"
   ]
  },
  {
   "cell_type": "code",
   "execution_count": 110,
   "id": "1ee7fba3-d570-427b-85b1-377e144bb489",
   "metadata": {
    "pycharm": {
     "name": "#%%\n"
    }
   },
   "outputs": [
    {
     "name": "stdout",
     "output_type": "stream",
     "text": [
      "We now have 1850 stocks which have available information in every trading day and which are NOT delisted.\n",
      "These remaining stocks are the ones we are going to analyze and \"play\" with from now on.\n"
     ]
    }
   ],
   "source": [
    "daily_traded_stocks = [x for x in daily_traded_stocks if (x not in delisted_stocks)]\n",
    "print(\n",
    "    f'We now have {len(daily_traded_stocks)} stocks which have available information in every trading day and which are NOT delisted.\\n'\n",
    "    'These remaining stocks are the ones we are going to analyze and \"play\" with from now on.')"
   ]
  },
  {
   "cell_type": "code",
   "execution_count": 111,
   "id": "83788457-d677-4af7-9e3e-f5d1aa3ed63c",
   "metadata": {
    "pycharm": {
     "name": "#%%\n"
    }
   },
   "outputs": [],
   "source": [
    "listed_stock_prices = stock_prices.loc[\n",
    "    stock_prices['securities_code'].isin(daily_traded_stocks), ['date', 'securities_code', 'open', 'close', 'volume',\n",
    "                                                                'adjustment_factor', 'target']]\n",
    "\n",
    "# 1850 daily-traded & listed stocks * 1202 trading days == 2223700 rows\n",
    "assert len(listed_stock_prices) == len(daily_traded_stocks) * len(stock_prices['date'].unique())"
   ]
  },
  {
   "cell_type": "code",
   "execution_count": 112,
   "id": "aa0f38a5-0d83-48ab-b5b0-ecf531f4dd77",
   "metadata": {
    "pycharm": {
     "name": "#%%\n"
    }
   },
   "outputs": [],
   "source": [
    "def adjust_price(price):\n",
    "    def calculate_adjusted(df):\n",
    "        \"\"\"apply AdjustmentFactor on columns\"\"\"\n",
    "        new = df.sort_index(ascending=False)\n",
    "        split_coef = new['adjustment_factor'].shift(1).fillna(1).cumprod()\n",
    "        new['adj_open'] = new['open'] / split_coef\n",
    "        new['adj_close'] = new['close'] / split_coef\n",
    "        new['adj_volume'] = split_coef * new['volume']\n",
    "        return new.sort_index(ascending=True)\n",
    "\n",
    "    price = price.groupby('securities_code').apply(calculate_adjusted).reset_index(drop=True)\n",
    "    price.set_index(\"date\", inplace=True)\n",
    "\n",
    "    return price"
   ]
  },
  {
   "cell_type": "code",
   "execution_count": 114,
   "id": "4a4c7329-b400-4eb6-a26b-25823f0f0271",
   "metadata": {
    "pycharm": {
     "name": "#%%\n"
    }
   },
   "outputs": [
    {
     "data": {
      "text/plain": "            securities_code    open   close   volume  adjustment_factor  \\\ndate                                                                      \n2017-01-04             1301  2734.0  2742.0    31400                1.0   \n2017-01-04             1332   568.0   571.0  2798500                1.0   \n2017-01-04             1333  3150.0  3210.0   270800                1.0   \n2017-01-04             1376  1510.0  1550.0    11300                1.0   \n2017-01-04             1377  3270.0  3330.0   150800                1.0   \n...                     ...     ...     ...      ...                ...   \n2021-12-03             9990   514.0   528.0    44200                1.0   \n2021-12-03             9991   782.0   794.0    35900                1.0   \n2021-12-03             9993  1690.0  1645.0     7200                1.0   \n2021-12-03             9994  2388.0  2389.0     6500                1.0   \n2021-12-03             9997   690.0   696.0   381100                1.0   \n\n              target  adj_open  adj_close  adj_volume  daily_change  \ndate                                                                 \n2017-01-04  0.000730    2734.0     2742.0     31400.0      0.002918  \n2017-01-04  0.012324     568.0      571.0   2798500.0      0.005254  \n2017-01-04  0.006154    3150.0     3210.0    270800.0      0.018692  \n2017-01-04  0.011053    1510.0     1550.0     11300.0      0.025806  \n2017-01-04  0.003026    3270.0     3330.0    150800.0      0.018018  \n...              ...       ...        ...         ...           ...  \n2021-12-03  0.034816     514.0      528.0     44200.0      0.026515  \n2021-12-03  0.025478     782.0      794.0     35900.0      0.015113  \n2021-12-03 -0.004302    1690.0     1645.0      7200.0     -0.027356  \n2021-12-03  0.009098    2388.0     2389.0      6500.0      0.000419  \n2021-12-03  0.018414     690.0      696.0    381100.0      0.008621  \n\n[2223700 rows x 10 columns]",
      "text/html": "<div>\n<style scoped>\n    .dataframe tbody tr th:only-of-type {\n        vertical-align: middle;\n    }\n\n    .dataframe tbody tr th {\n        vertical-align: top;\n    }\n\n    .dataframe thead th {\n        text-align: right;\n    }\n</style>\n<table border=\"1\" class=\"dataframe\">\n  <thead>\n    <tr style=\"text-align: right;\">\n      <th></th>\n      <th>securities_code</th>\n      <th>open</th>\n      <th>close</th>\n      <th>volume</th>\n      <th>adjustment_factor</th>\n      <th>target</th>\n      <th>adj_open</th>\n      <th>adj_close</th>\n      <th>adj_volume</th>\n      <th>daily_change</th>\n    </tr>\n    <tr>\n      <th>date</th>\n      <th></th>\n      <th></th>\n      <th></th>\n      <th></th>\n      <th></th>\n      <th></th>\n      <th></th>\n      <th></th>\n      <th></th>\n      <th></th>\n    </tr>\n  </thead>\n  <tbody>\n    <tr>\n      <th>2017-01-04</th>\n      <td>1301</td>\n      <td>2734.0</td>\n      <td>2742.0</td>\n      <td>31400</td>\n      <td>1.0</td>\n      <td>0.000730</td>\n      <td>2734.0</td>\n      <td>2742.0</td>\n      <td>31400.0</td>\n      <td>0.002918</td>\n    </tr>\n    <tr>\n      <th>2017-01-04</th>\n      <td>1332</td>\n      <td>568.0</td>\n      <td>571.0</td>\n      <td>2798500</td>\n      <td>1.0</td>\n      <td>0.012324</td>\n      <td>568.0</td>\n      <td>571.0</td>\n      <td>2798500.0</td>\n      <td>0.005254</td>\n    </tr>\n    <tr>\n      <th>2017-01-04</th>\n      <td>1333</td>\n      <td>3150.0</td>\n      <td>3210.0</td>\n      <td>270800</td>\n      <td>1.0</td>\n      <td>0.006154</td>\n      <td>3150.0</td>\n      <td>3210.0</td>\n      <td>270800.0</td>\n      <td>0.018692</td>\n    </tr>\n    <tr>\n      <th>2017-01-04</th>\n      <td>1376</td>\n      <td>1510.0</td>\n      <td>1550.0</td>\n      <td>11300</td>\n      <td>1.0</td>\n      <td>0.011053</td>\n      <td>1510.0</td>\n      <td>1550.0</td>\n      <td>11300.0</td>\n      <td>0.025806</td>\n    </tr>\n    <tr>\n      <th>2017-01-04</th>\n      <td>1377</td>\n      <td>3270.0</td>\n      <td>3330.0</td>\n      <td>150800</td>\n      <td>1.0</td>\n      <td>0.003026</td>\n      <td>3270.0</td>\n      <td>3330.0</td>\n      <td>150800.0</td>\n      <td>0.018018</td>\n    </tr>\n    <tr>\n      <th>...</th>\n      <td>...</td>\n      <td>...</td>\n      <td>...</td>\n      <td>...</td>\n      <td>...</td>\n      <td>...</td>\n      <td>...</td>\n      <td>...</td>\n      <td>...</td>\n      <td>...</td>\n    </tr>\n    <tr>\n      <th>2021-12-03</th>\n      <td>9990</td>\n      <td>514.0</td>\n      <td>528.0</td>\n      <td>44200</td>\n      <td>1.0</td>\n      <td>0.034816</td>\n      <td>514.0</td>\n      <td>528.0</td>\n      <td>44200.0</td>\n      <td>0.026515</td>\n    </tr>\n    <tr>\n      <th>2021-12-03</th>\n      <td>9991</td>\n      <td>782.0</td>\n      <td>794.0</td>\n      <td>35900</td>\n      <td>1.0</td>\n      <td>0.025478</td>\n      <td>782.0</td>\n      <td>794.0</td>\n      <td>35900.0</td>\n      <td>0.015113</td>\n    </tr>\n    <tr>\n      <th>2021-12-03</th>\n      <td>9993</td>\n      <td>1690.0</td>\n      <td>1645.0</td>\n      <td>7200</td>\n      <td>1.0</td>\n      <td>-0.004302</td>\n      <td>1690.0</td>\n      <td>1645.0</td>\n      <td>7200.0</td>\n      <td>-0.027356</td>\n    </tr>\n    <tr>\n      <th>2021-12-03</th>\n      <td>9994</td>\n      <td>2388.0</td>\n      <td>2389.0</td>\n      <td>6500</td>\n      <td>1.0</td>\n      <td>0.009098</td>\n      <td>2388.0</td>\n      <td>2389.0</td>\n      <td>6500.0</td>\n      <td>0.000419</td>\n    </tr>\n    <tr>\n      <th>2021-12-03</th>\n      <td>9997</td>\n      <td>690.0</td>\n      <td>696.0</td>\n      <td>381100</td>\n      <td>1.0</td>\n      <td>0.018414</td>\n      <td>690.0</td>\n      <td>696.0</td>\n      <td>381100.0</td>\n      <td>0.008621</td>\n    </tr>\n  </tbody>\n</table>\n<p>2223700 rows × 10 columns</p>\n</div>"
     },
     "execution_count": 114,
     "metadata": {},
     "output_type": "execute_result"
    }
   ],
   "source": [
    "adj_prices_df = adjust_price(listed_stock_prices)\n",
    "adj_prices_df['daily_change'] = (adj_prices_df['adj_close'] - adj_prices_df['adj_open']) / adj_prices_df['adj_close']\n",
    "adj_prices_df"
   ]
  },
  {
   "cell_type": "code",
   "execution_count": 104,
   "id": "aa274053-1de0-46ca-a275-a5ea4f79faa7",
   "metadata": {
    "pycharm": {
     "name": "#%%\n"
    }
   },
   "outputs": [
    {
     "data": {
      "text/plain": "            date  market_change_mean\n0     2017-01-04            0.013817\n1     2017-01-05            0.001241\n2     2017-01-06            0.006505\n3     2017-01-10           -0.001976\n4     2017-01-11           -0.001404\n...          ...                 ...\n1197  2021-11-29           -0.008025\n1198  2021-11-30           -0.017962\n1199  2021-12-01            0.005028\n1200  2021-12-02           -0.001521\n1201  2021-12-03            0.014824\n\n[1202 rows x 2 columns]",
      "text/html": "<div>\n<style scoped>\n    .dataframe tbody tr th:only-of-type {\n        vertical-align: middle;\n    }\n\n    .dataframe tbody tr th {\n        vertical-align: top;\n    }\n\n    .dataframe thead th {\n        text-align: right;\n    }\n</style>\n<table border=\"1\" class=\"dataframe\">\n  <thead>\n    <tr style=\"text-align: right;\">\n      <th></th>\n      <th>date</th>\n      <th>market_change_mean</th>\n    </tr>\n  </thead>\n  <tbody>\n    <tr>\n      <th>0</th>\n      <td>2017-01-04</td>\n      <td>0.013817</td>\n    </tr>\n    <tr>\n      <th>1</th>\n      <td>2017-01-05</td>\n      <td>0.001241</td>\n    </tr>\n    <tr>\n      <th>2</th>\n      <td>2017-01-06</td>\n      <td>0.006505</td>\n    </tr>\n    <tr>\n      <th>3</th>\n      <td>2017-01-10</td>\n      <td>-0.001976</td>\n    </tr>\n    <tr>\n      <th>4</th>\n      <td>2017-01-11</td>\n      <td>-0.001404</td>\n    </tr>\n    <tr>\n      <th>...</th>\n      <td>...</td>\n      <td>...</td>\n    </tr>\n    <tr>\n      <th>1197</th>\n      <td>2021-11-29</td>\n      <td>-0.008025</td>\n    </tr>\n    <tr>\n      <th>1198</th>\n      <td>2021-11-30</td>\n      <td>-0.017962</td>\n    </tr>\n    <tr>\n      <th>1199</th>\n      <td>2021-12-01</td>\n      <td>0.005028</td>\n    </tr>\n    <tr>\n      <th>1200</th>\n      <td>2021-12-02</td>\n      <td>-0.001521</td>\n    </tr>\n    <tr>\n      <th>1201</th>\n      <td>2021-12-03</td>\n      <td>0.014824</td>\n    </tr>\n  </tbody>\n</table>\n<p>1202 rows × 2 columns</p>\n</div>"
     },
     "execution_count": 104,
     "metadata": {},
     "output_type": "execute_result"
    }
   ],
   "source": [
    "grouped_df = adj_prices_df.groupby(adj_prices_df.index, observed=True)['daily_change'].mean()\n",
    "grouped_df = pd.DataFrame(grouped_df)\n",
    "grouped_df.columns = ['market_change_mean']\n",
    "grouped_df.reset_index()"
   ]
  },
  {
   "cell_type": "code",
   "execution_count": 88,
   "id": "c133df31-77e6-40f2-a91a-2899dc6c6dea",
   "metadata": {
    "pycharm": {
     "name": "#%%\n"
    }
   },
   "outputs": [
    {
     "ename": "TypeError",
     "evalue": "'NoneType' object is not subscriptable",
     "output_type": "error",
     "traceback": [
      "\u001B[1;31m---------------------------------------------------------------------------\u001B[0m",
      "\u001B[1;31mTypeError\u001B[0m                                 Traceback (most recent call last)",
      "\u001B[1;32m~\\AppData\\Local\\Temp/ipykernel_12376/2428916236.py\u001B[0m in \u001B[0;36m<module>\u001B[1;34m\u001B[0m\n\u001B[0;32m      1\u001B[0m \u001B[0mall_stocks_df\u001B[0m \u001B[1;33m=\u001B[0m \u001B[0madj_prices_df\u001B[0m\u001B[1;33m.\u001B[0m\u001B[0mjoin\u001B[0m\u001B[1;33m(\u001B[0m\u001B[0mgrouped_df\u001B[0m\u001B[1;33m,\u001B[0m \u001B[0mon\u001B[0m\u001B[1;33m=\u001B[0m\u001B[1;34m'date'\u001B[0m\u001B[1;33m)\u001B[0m\u001B[1;33m.\u001B[0m\u001B[0msort_index\u001B[0m\u001B[1;33m(\u001B[0m\u001B[0minplace\u001B[0m\u001B[1;33m=\u001B[0m\u001B[1;32mTrue\u001B[0m\u001B[1;33m)\u001B[0m\u001B[1;33m\u001B[0m\u001B[1;33m\u001B[0m\u001B[0m\n\u001B[1;32m----> 2\u001B[1;33m \u001B[0mall_stocks_df\u001B[0m\u001B[1;33m[\u001B[0m\u001B[1;34m'market_gap'\u001B[0m\u001B[1;33m]\u001B[0m \u001B[1;33m=\u001B[0m \u001B[0mall_stocks_df\u001B[0m\u001B[1;33m[\u001B[0m\u001B[1;34m'daily_change'\u001B[0m\u001B[1;33m]\u001B[0m \u001B[1;33m-\u001B[0m \u001B[0mall_stocks_df\u001B[0m\u001B[1;33m[\u001B[0m\u001B[1;34m'market_change_mean'\u001B[0m\u001B[1;33m]\u001B[0m\u001B[1;33m\u001B[0m\u001B[1;33m\u001B[0m\u001B[0m\n\u001B[0m\u001B[0;32m      3\u001B[0m \u001B[0mall_stocks_df\u001B[0m\u001B[1;33m.\u001B[0m\u001B[0mhead\u001B[0m\u001B[1;33m(\u001B[0m\u001B[1;33m)\u001B[0m\u001B[1;33m\u001B[0m\u001B[1;33m\u001B[0m\u001B[0m\n",
      "\u001B[1;31mTypeError\u001B[0m: 'NoneType' object is not subscriptable"
     ]
    }
   ],
   "source": [
    "all_stocks_df = adj_prices_df.join(grouped_df, on='date').sort_index(inplace=True)\n",
    "all_stocks_df['market_gap'] = all_stocks_df['daily_change'] - all_stocks_df['market_change_mean']\n",
    "all_stocks_df.head()"
   ]
  },
  {
   "cell_type": "code",
   "execution_count": null,
   "id": "85030f42-79ee-4a1b-b0c6-e259bc18f6bb",
   "metadata": {
    "pycharm": {
     "name": "#%%\n"
    }
   },
   "outputs": [],
   "source": [
    "all_stocks_df[all_stocks_df['securities_code'] == 1301]['market_gap'].std()"
   ]
  },
  {
   "cell_type": "code",
   "execution_count": null,
   "id": "0e652daf-3311-4a70-883d-f881702c5b9e",
   "metadata": {
    "pycharm": {
     "name": "#%%\n"
    }
   },
   "outputs": [],
   "source": [
    "all_stocks_df[all_stocks_df['securities_code'] == 1301].reset_index().plot(x='date',\n",
    "                                                                           y=[\"daily_change\", \"market_change_mean\"],\n",
    "                                                                           kind=\"line\", figsize=(9, 18))"
   ]
  },
  {
   "cell_type": "code",
   "execution_count": null,
   "id": "7f2fa7f5-1ba3-49c5-a4e9-86bc8ff00883",
   "metadata": {
    "pycharm": {
     "name": "#%%\n"
    }
   },
   "outputs": [],
   "source": [
    "std_df = all_stocks_df.groupby(by='securities_code')['market_gap'].agg(['mean', 'median', 'std'])"
   ]
  },
  {
   "cell_type": "code",
   "execution_count": null,
   "id": "2fbf6e0f-6ca0-421a-8995-30898e54f110",
   "metadata": {
    "pycharm": {
     "name": "#%%\n"
    }
   },
   "outputs": [],
   "source": [
    "std_df['std'].hist()"
   ]
  },
  {
   "cell_type": "code",
   "execution_count": null,
   "id": "423d8b84-85c2-4f0c-89f2-ac7e20c64ec8",
   "metadata": {
    "pycharm": {
     "name": "#%%\n"
    }
   },
   "outputs": [],
   "source": [
    "std_df.sort_values(by='std', inplace=True)"
   ]
  },
  {
   "cell_type": "code",
   "execution_count": null,
   "id": "d5e186a9-cc56-4e92-84bb-d7ba17628935",
   "metadata": {
    "pycharm": {
     "name": "#%%\n"
    }
   },
   "outputs": [],
   "source": [
    "stable_stocks_df = std_df[:NUMBER_OF_STABLE_STOCKS]\n",
    "stable_stocks_df"
   ]
  },
  {
   "cell_type": "markdown",
   "source": [
    "Get all non-stable stocks:\n",
    "These are the stocks from which we want to get the ones which are better/worse than the market"
   ],
   "metadata": {
    "collapsed": false,
    "pycharm": {
     "name": "#%% md\n"
    }
   }
  },
  {
   "cell_type": "code",
   "execution_count": null,
   "id": "29afbdf3-c8d3-46d1-9c4b-63034dacde44",
   "metadata": {
    "pycharm": {
     "name": "#%%\n"
    }
   },
   "outputs": [],
   "source": [
    "extreme_stocks = std_df[(NUMBER_OF_STABLE_STOCKS + 1):]"
   ]
  },
  {
   "cell_type": "code",
   "execution_count": null,
   "id": "ab2ddac5-3872-4707-8b91-9cb34b16a96f",
   "metadata": {
    "pycharm": {
     "name": "#%%\n"
    }
   },
   "outputs": [],
   "source": [
    "top_df = extreme_stocks[extreme_stocks['mean'] > 0].sort_values(by=['std'])\n",
    "bottom_df = extreme_stocks[extreme_stocks['mean'] < 0].sort_values(by=['std'])"
   ]
  },
  {
   "cell_type": "code",
   "execution_count": null,
   "id": "ae6d9870-4e36-485b-a13f-f1012930f58a",
   "metadata": {
    "pycharm": {
     "name": "#%%\n"
    }
   },
   "outputs": [],
   "source": [
    "top_stocks = top_df.index.unique()\n",
    "bottom_stocks = bottom_df.index.unique()"
   ]
  },
  {
   "cell_type": "code",
   "execution_count": null,
   "id": "efb71cde-37d7-4711-a11f-80fb681d0dfe",
   "metadata": {
    "pycharm": {
     "name": "#%%\n"
    }
   },
   "outputs": [],
   "source": [
    "top_df = all_stocks_df[all_stocks_df['securities_code'].isin(top_stocks)]\n",
    "top_df"
   ]
  },
  {
   "cell_type": "code",
   "execution_count": null,
   "id": "d2a79180-cffa-4276-8024-f52dfccc544d",
   "metadata": {
    "pycharm": {
     "name": "#%%\n"
    }
   },
   "outputs": [],
   "source": [
    "bottom_df = all_stocks_df[all_stocks_df['securities_code'].isin(bottom_stocks)]\n",
    "bottom_df"
   ]
  },
  {
   "cell_type": "code",
   "execution_count": null,
   "id": "f87bb1f7-6340-40a3-839a-fab0b3ca4b9f",
   "metadata": {
    "pycharm": {
     "name": "#%%\n"
    }
   },
   "outputs": [],
   "source": [
    "import sys\n",
    "!{sys.executable} -m pip install pandas_ta"
   ]
  },
  {
   "cell_type": "code",
   "execution_count": null,
   "id": "ce9b40b7-3fd2-477c-92d5-50466af96d76",
   "metadata": {
    "pycharm": {
     "name": "#%%\n"
    }
   },
   "outputs": [],
   "source": [
    "import pandas_ta as ta\n",
    "\n",
    "\n",
    "def get_features_for_prediction(df, code):\n",
    "    \"\"\"\n",
    "    Args:\n",
    "        df (pd.DataFrame)  : pd.DataFrame include stock_price\n",
    "        code (int)  : A local code for a listed company\n",
    "    Returns:\n",
    "        feats DataFrame (pd.DataFrame)\n",
    "    \"\"\"\n",
    "    # close_col = \"adj_close\"\n",
    "    feats = df.loc[df['securities_code'] == code, ['securities_code', 'target', 'adj_close', 'adj_volume']].copy()\n",
    "\n",
    "    periods = [10, 21, 63]\n",
    "\n",
    "    for period in periods:\n",
    "        feats[f'return_{period}_days'] = feats['adj_close'].pct_change(period)\n",
    "        feats[f'volume_{period}_days'] = feats['adj_volume'].pct_change(period)\n",
    "        feats[f'ema_{period}_days'] = ta.ema(feats['adj_close'], length=period)\n",
    "\n",
    "    # drop Close column\n",
    "    #feats = feats.drop(['adj_close'], axis=1)\n",
    "\n",
    "    # filling data for nan and inf\n",
    "    feats['adj_volume'] = feats['adj_volume'].fillna(0)\n",
    "    feats = feats.replace([np.inf, -np.inf], 0)\n",
    "\n",
    "    return feats"
   ]
  },
  {
   "cell_type": "code",
   "execution_count": null,
   "id": "2c6a722f-3464-4677-82af-6bd5cb0931ed",
   "metadata": {
    "pycharm": {
     "name": "#%%\n"
    }
   },
   "outputs": [],
   "source": [
    "# generate features\n",
    "feature_list = []\n",
    "\n",
    "for code in top_df['securities_code'].unique():\n",
    "    top_feature = get_features_for_prediction(top_df, code)\n",
    "    feature_list.append(top_feature)\n",
    "\n",
    "top_features = pd.concat(feature_list)"
   ]
  },
  {
   "cell_type": "code",
   "execution_count": null,
   "id": "330ccb3e-1258-46fa-8430-50a7860872fd",
   "metadata": {
    "pycharm": {
     "name": "#%%\n"
    }
   },
   "outputs": [],
   "source": [
    "top_features"
   ]
  },
  {
   "cell_type": "code",
   "execution_count": null,
   "id": "1a517874-2277-4f0d-ab9b-3c9f1330b452",
   "metadata": {
    "pycharm": {
     "name": "#%%\n"
    }
   },
   "outputs": [],
   "source": [
    "# generate features\n",
    "feature_list = []\n",
    "\n",
    "for code in bottom_df['securities_code'].unique():\n",
    "    bottom_feature = get_features_for_prediction(bottom_df, code)\n",
    "    feature_list.append(bottom_feature)\n",
    "\n",
    "bottom_features = pd.concat(feature_list)"
   ]
  },
  {
   "cell_type": "code",
   "execution_count": null,
   "id": "ce56cc6f-73d4-428a-8696-4409ac604e7d",
   "metadata": {
    "pycharm": {
     "name": "#%%\n"
    }
   },
   "outputs": [],
   "source": [
    "bottom_features['securities_code'].nunique()"
   ]
  },
  {
   "cell_type": "code",
   "execution_count": null,
   "id": "88c955c8-c946-4e9c-a70e-17290a66b7ee",
   "metadata": {
    "pycharm": {
     "name": "#%%\n"
    }
   },
   "outputs": [],
   "source": [
    "for i in [top_features, bottom_features]:\n",
    "    i.reset_index().sort_values(by=['date', 'securities_code'], inplace=True)"
   ]
  },
  {
   "cell_type": "code",
   "execution_count": null,
   "id": "2d178a1f-4fef-4b9b-96c1-d7cef6d4f5f7",
   "metadata": {
    "pycharm": {
     "name": "#%%\n"
    }
   },
   "outputs": [],
   "source": [
    "top_features"
   ]
  },
  {
   "cell_type": "code",
   "execution_count": null,
   "id": "4bd57e25-e31a-4205-a58e-35463c040f18",
   "metadata": {
    "pycharm": {
     "name": "#%%\n"
    }
   },
   "outputs": [],
   "source": [
    "bottom_features"
   ]
  },
  {
   "cell_type": "code",
   "execution_count": null,
   "id": "28678ad2-8ff3-4683-91ed-198ba3cc1995",
   "metadata": {
    "pycharm": {
     "name": "#%%\n"
    }
   },
   "outputs": [],
   "source": [
    "# split data into TRAIN and TEST\n",
    "TRAIN_END = \"2019-12-31\"\n",
    "# We put a week gap between TRAIN_END and TEST_START\n",
    "# to avoid leakage of test data information from label\n",
    "TEST_START = \"2020-01-06\"\n",
    "\n",
    "\n",
    "def get_features_and_label(df):\n",
    "    \"\"\"\n",
    "    Args:\n",
    "        price (pd.DataFrame): loaded price data\n",
    "        codes  (array) : target codes\n",
    "        feature (pd.DataFrame): features\n",
    "    Returns:\n",
    "        train_X (pd.DataFrame): training data\n",
    "        train_y (pd.DataFrame): label for train_X\n",
    "        test_X (pd.DataFrame): test data\n",
    "        test_y (pd.DataFrame): label for test_X\n",
    "    \"\"\"\n",
    "    # to store splited data\n",
    "    trains_X, tests_X = [], []\n",
    "    trains_y, tests_y = [], []\n",
    "\n",
    "    # generate feature one by one\n",
    "    for code in df['securities_code'].unique():\n",
    "        feats = df[df['securities_code'] == code].dropna().drop(columns='target')\n",
    "        labels = df.loc[df['securities_code'] == code, ['securities_code', 'target']].dropna()\n",
    "\n",
    "        if feats.shape[0] > 0 and labels.shape[0] > 0:\n",
    "            # align label and feature indexes\n",
    "            labels = labels.loc[labels.index.isin(feats.index)]\n",
    "            feats = feats.loc[feats.index.isin(labels.index)]\n",
    "\n",
    "            assert (labels.loc[:, 'securities_code'] == feats.loc[:, 'securities_code']).all()\n",
    "            labels = labels[\"target\"]\n",
    "\n",
    "            # split data into TRAIN and TEST\n",
    "            _train_X = feats[: TRAIN_END]\n",
    "            _test_X = feats[TEST_START:]\n",
    "\n",
    "            _train_y = labels[: TRAIN_END]\n",
    "            _test_y = labels[TEST_START:]\n",
    "\n",
    "            assert len(_train_X) == len(_train_y)\n",
    "            assert len(_test_X) == len(_test_y)\n",
    "\n",
    "            # store features\n",
    "            trains_X.append(_train_X)\n",
    "            tests_X.append(_test_X)\n",
    "            # store labels\n",
    "            trains_y.append(_train_y)\n",
    "            tests_y.append(_test_y)\n",
    "\n",
    "    # combine features for each codes\n",
    "    train_X = pd.concat(trains_X)\n",
    "    test_X = pd.concat(tests_X)\n",
    "    # combine label for each codes\n",
    "    train_y = pd.concat(trains_y)\n",
    "    test_y = pd.concat(tests_y)\n",
    "\n",
    "    return train_X, train_y, test_X, test_y"
   ]
  },
  {
   "cell_type": "code",
   "execution_count": null,
   "id": "9f57e445-9488-420d-95de-41e061a633f5",
   "metadata": {
    "pycharm": {
     "name": "#%%\n"
    }
   },
   "outputs": [],
   "source": [
    "# generate feature/label\n",
    "train_X, train_y, test_X, test_y = get_features_and_label(top_features)"
   ]
  },
  {
   "cell_type": "code",
   "execution_count": null,
   "id": "9962148e-aed2-4013-80c8-e80ef28286de",
   "metadata": {
    "pycharm": {
     "name": "#%%\n"
    }
   },
   "outputs": [],
   "source": [
    "train_X.tail(2)"
   ]
  },
  {
   "cell_type": "code",
   "execution_count": null,
   "id": "b3dc08a8-796e-45a2-b6c1-dbda5c251dde",
   "metadata": {
    "pycharm": {
     "name": "#%%\n"
    }
   },
   "outputs": [],
   "source": [
    "test_X.head(2)"
   ]
  },
  {
   "cell_type": "code",
   "execution_count": null,
   "id": "d424d13e-dd26-4e1a-84cf-8dd172357418",
   "metadata": {
    "pycharm": {
     "name": "#%%\n"
    }
   },
   "outputs": [],
   "source": [
    "lgbm_params = {\n",
    "    'seed': 42,\n",
    "    'n_jobs': -1,\n",
    "}\n",
    "\n",
    "feat_cols = [\n",
    "    'return_10_days',\n",
    "    'volume_10_days',\n",
    "    'return_21_days',\n",
    "    'volume_21_days',\n",
    "    'return_63_days',\n",
    "    'volume_63_days'\n",
    "]"
   ]
  },
  {
   "cell_type": "code",
   "execution_count": null,
   "id": "5ddc735c-5d3b-4cfd-9d03-6ec207295b48",
   "metadata": {
    "pycharm": {
     "name": "#%%\n"
    }
   },
   "outputs": [],
   "source": [
    "import sys\n",
    "!{sys.executable} -m pip install lightgbm"
   ]
  },
  {
   "cell_type": "code",
   "execution_count": null,
   "id": "936bd541-7421-4270-b6ef-c1487572cdf1",
   "metadata": {
    "pycharm": {
     "name": "#%%\n"
    }
   },
   "outputs": [],
   "source": [
    "import seaborn as sns\n",
    "import matplotlib.pyplot as plt\n",
    "from ipywidgets import HTML\n",
    "from io import BytesIO\n",
    "import base64\n",
    "from lightgbm import LGBMRegressor"
   ]
  },
  {
   "cell_type": "code",
   "execution_count": null,
   "id": "42cb57aa-22ae-455c-b309-ff91ac0b7583",
   "metadata": {
    "pycharm": {
     "name": "#%%\n"
    }
   },
   "outputs": [],
   "source": [
    "# initialize model\n",
    "pred_model = LGBMRegressor(**lgbm_params)\n",
    "# train\n",
    "pred_model.fit(train_X[feat_cols].values, train_y)\n",
    "# prepare result data\n",
    "result = test_X[['securities_code']].copy()\n",
    "# predict\n",
    "result.loc[:, \"predict\"] = pred_model.predict(test_X[feat_cols])\n",
    "# actual result\n",
    "result.loc[:, \"target\"] = test_y.values"
   ]
  },
  {
   "cell_type": "code",
   "execution_count": null,
   "id": "2db641bb-937d-4a40-a8c9-46cc9a15dc84",
   "metadata": {
    "pycharm": {
     "name": "#%%\n"
    }
   },
   "outputs": [],
   "source": [
    "result"
   ]
  },
  {
   "cell_type": "code",
   "execution_count": null,
   "id": "ab23c3ed-252d-425c-9538-dbb6331521dd",
   "metadata": {
    "pycharm": {
     "name": "#%%\n"
    }
   },
   "outputs": [],
   "source": [
    "def set_rank(df):\n",
    "    \"\"\"\n",
    "    Args:\n",
    "        df (pd.DataFrame): including predict column\n",
    "    Returns:\n",
    "        df (pd.DataFrame): df with rank\n",
    "    \"\"\"\n",
    "\n",
    "    # set rank starting from 0\n",
    "    df.loc[:, \"rank\"] = np.arange(len(df[\"predict\"]))\n",
    "    return df\n",
    "\n",
    "\n",
    "result = result.reset_index().sort_values([\"date\", \"predict\"], ascending=[True, False])"
   ]
  },
  {
   "cell_type": "code",
   "execution_count": null,
   "id": "4faeb13d-0d2f-42df-801a-b096806727ef",
   "metadata": {
    "pycharm": {
     "name": "#%%\n"
    }
   },
   "outputs": [],
   "source": [
    "result2 = result.reset_index().groupby(\"date\").apply(set_rank)"
   ]
  },
  {
   "cell_type": "code",
   "execution_count": null,
   "id": "765d4bee-ba4e-4da2-b77c-c445a74f90a7",
   "metadata": {
    "pycharm": {
     "name": "#%%\n"
    }
   },
   "outputs": [],
   "source": [
    "result2 = result2.reset_index(drop=True).drop(columns=['index', 'predict', 'target'])"
   ]
  },
  {
   "cell_type": "code",
   "execution_count": null,
   "id": "593629cf-c5ad-4c66-8751-09a376ffc72c",
   "metadata": {
    "pycharm": {
     "name": "#%%\n"
    }
   },
   "outputs": [],
   "source": [
    "top_15 = result2.head(15)"
   ]
  },
  {
   "cell_type": "code",
   "execution_count": null,
   "id": "eaa062ec-50fd-44df-a484-86b0f6b8c3b8",
   "metadata": {
    "pycharm": {
     "name": "#%%\n"
    }
   },
   "outputs": [],
   "source": [
    "top_15"
   ]
  },
  {
   "cell_type": "code",
   "execution_count": null,
   "id": "a622321f-b2b5-4ad3-9fc5-48a35925641e",
   "metadata": {
    "pycharm": {
     "name": "#%%\n"
    }
   },
   "outputs": [],
   "source": [
    "# Add LGBM for bottom_features"
   ]
  },
  {
   "cell_type": "code",
   "execution_count": null,
   "id": "3cd83a9b-83fe-4208-b8a3-a42c34766e42",
   "metadata": {
    "pycharm": {
     "name": "#%%\n"
    }
   },
   "outputs": [],
   "source": [
    "# Create bottom_15 df"
   ]
  },
  {
   "cell_type": "code",
   "execution_count": null,
   "id": "ceecfd09-5f4a-4cc9-a0e5-0dca1f59b3ea",
   "metadata": {
    "pycharm": {
     "name": "#%%\n"
    }
   },
   "outputs": [],
   "source": [
    "# Split Stable randomly to 2 groups each with 185 stocks"
   ]
  },
  {
   "cell_type": "code",
   "execution_count": null,
   "id": "3c0fdb99-a0db-4809-ac78-ef2b82910d5a",
   "metadata": {
    "pycharm": {
     "name": "#%%\n"
    }
   },
   "outputs": [],
   "source": [
    "# Concat top15 + stable half\n",
    "# Concat bottom15 + stable half"
   ]
  },
  {
   "cell_type": "code",
   "execution_count": null,
   "id": "1e698101-e381-48bd-b5d3-6f3e7c7d4c6a",
   "metadata": {
    "pycharm": {
     "name": "#%%\n"
    }
   },
   "outputs": [],
   "source": [
    "# Add artifical ranking"
   ]
  }
 ],
 "metadata": {
  "kernelspec": {
   "display_name": "Python 3",
   "language": "python",
   "name": "python3"
  },
  "language_info": {
   "codemirror_mode": {
    "name": "ipython",
    "version": 3
   },
   "file_extension": ".py",
   "mimetype": "text/x-python",
   "name": "python",
   "nbconvert_exporter": "python",
   "pygments_lexer": "ipython3",
   "version": "3.8.8"
  }
 },
 "nbformat": 4,
 "nbformat_minor": 5
}